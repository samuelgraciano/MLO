{
 "cells": [
  {
   "cell_type": "markdown",
   "metadata": {},
   "source": [
    "## **El \"Por Qué\" del Seguimiento de Experimentos**\n",
    "\n",
    "En ML, a menudo realizamos muchos experimentos para encontrar el mejor modelo para una tarea dada. Un experimento puede involucrar:\n",
    "\n",
    "*   Probar diferentes arquitecturas de modelos (por ejemplo, RandomForest, GradientBoosting).\n",
    "*   Ajustar hiperparámetros (por ejemplo, `max_depth`, `n_estimators`).\n",
    "*   Usar diferentes conjuntos de características (features).\n",
    "*   Variar las técnicas de preprocesamiento.\n",
    "\n",
    "Llevar un registro de todos estos experimentos puede volverse rápidamente un proceso desordenado y propenso a errores. Aquí es donde entra en juego el seguimiento de experimentos."
   ]
  },
  {
   "cell_type": "markdown",
   "metadata": {},
   "source": [
    "## **¿Qué es el Experiment Tracking?**\n",
    "\n",
    "El experiment tracking es el proceso de registrar y organizar de manera sistemática toda la información relacionada con tus experimentos de machine learning. Esto incluye:\n",
    "*\tCódigo: La versión exacta del código utilizada para ejecutar el experimento.\n",
    "*\tDatos: La versión del dataset empleado.\n",
    "*\tParámetros: Los hiperparámetros y otras configuraciones.\n",
    "*\tMétricas: Las métricas de desempeño del modelo (por ejemplo, RMSE, accuracy).\n",
    "*\tArtefactos: El modelo entrenado, las visualizaciones y otros archivos generados.\n"
   ]
  },
  {
   "cell_type": "markdown",
   "metadata": {},
   "source": [
    "## **¿Por qué es Importante?**\n",
    "\n",
    "Reproducibilidad: Reproducir fácilmente resultados anteriores, lo cual es crucial para depuración (debugging) y para construir sobre trabajos previos.\n",
    "\n",
    "* Organización: Mantener tus experimentos organizados y evitar perder el rastro de lo que ya has probado.\n",
    "* Colaboración: Compartir tus resultados con colegas y colaborar de manera más efectiva.\n",
    "* Comparación: Comparar fácilmente el desempeño de diferentes modelos y experimentos.\n",
    "* Deployment: Hacer seguimiento de los modelos que se despliegan en producción y de su rendimiento."
   ]
  },
  {
   "cell_type": "markdown",
   "metadata": {},
   "source": [
    "## **Herramientas para Experiment Tracking**\n",
    "\n",
    "Existen varias herramientas disponibles para experiment tracking, tanto de código abierto como comerciales. Algunas de las más populares incluyen:\n",
    "* MLflow: Una plataforma open-source para el ciclo de vida de machine learning, incluyendo experiment tracking.\n",
    "* Weights & Biases: Una plataforma comercial para experiment tracking y colaboración.\n",
    "* Comet: Otra plataforma comercial con foco en experiment tracking y monitoreo de modelos.\n",
    "* TensorBoard: Un kit de visualización para TensorFlow que también incluye funcionalidades de experiment tracking.\n",
    "\n",
    "En este curso, nos enfocaremos en MLflow."
   ]
  },
  {
   "cell_type": "markdown",
   "metadata": {},
   "source": [
    "## **Training con MLFlow**"
   ]
  },
  {
   "cell_type": "code",
   "execution_count": 1,
   "metadata": {},
   "outputs": [],
   "source": [
    "import os\n",
    "import pandas as pd\n",
    "from sklearn.feature_extraction import DictVectorizer\n",
    "import pickle"
   ]
  },
  {
   "cell_type": "markdown",
   "metadata": {},
   "source": [
    "## **Cargamos datos \"procesados\"**"
   ]
  },
  {
   "cell_type": "code",
   "execution_count": 2,
   "metadata": {},
   "outputs": [],
   "source": [
    "df_jan = pd.read_parquet(\"data/processed/jan.parquet\")\n",
    "df_feb = pd.read_parquet(\"data/processed/feb.parquet\")\n"
   ]
  },
  {
   "cell_type": "markdown",
   "metadata": {},
   "source": [
    "## **Definir columnas a modelar**"
   ]
  },
  {
   "cell_type": "code",
   "execution_count": 3,
   "metadata": {},
   "outputs": [],
   "source": [
    "categorical = ['PULocationID', 'DOLocationID']\n",
    "numerical = [\"trip_distance\"]"
   ]
  },
  {
   "cell_type": "markdown",
   "metadata": {},
   "source": [
    "## Definir set de train y test"
   ]
  },
  {
   "cell_type": "code",
   "execution_count": 4,
   "metadata": {},
   "outputs": [],
   "source": [
    "df_train = df_jan\n",
    "df_val = df_feb"
   ]
  },
  {
   "cell_type": "markdown",
   "metadata": {},
   "source": [
    "## **Preprocesar**"
   ]
  },
  {
   "cell_type": "code",
   "execution_count": 5,
   "metadata": {},
   "outputs": [],
   "source": [
    "from sklearn.feature_extraction import DictVectorizer\n",
    "from sklearn.compose import ColumnTransformer\n",
    "from sklearn.preprocessing import StandardScaler\n",
    "from sklearn.impute import SimpleImputer\n",
    "from sklearn.pipeline import Pipeline\n",
    "\n",
    "df_train = df_train.copy()\n",
    "df_val   = df_val.copy()\n",
    "df_train[\"categorical_dict\"] = df_train[categorical].to_dict(orient=\"records\")\n",
    "df_val[\"categorical_dict\"]   = df_val[categorical].to_dict(orient=\"records\")\n",
    "\n",
    "preprocessor = ColumnTransformer(\n",
    "    transformers=[\n",
    "        (\"cat\", DictVectorizer(), \"categorical_dict\"),\n",
    "        (\"num\", Pipeline([(\"imputer\", SimpleImputer(strategy=\"median\")),\n",
    "                          (\"scaler\", StandardScaler())]), numerical),\n",
    "    ]\n",
    ")\n",
    "\n",
    "X_train = preprocessor.fit_transform(df_train)\n",
    "y_train = df_train[\"duration\"].values\n",
    "X_val   = preprocessor.transform(df_val)\n",
    "y_val   = df_val[\"duration\"].values"
   ]
  },
  {
   "cell_type": "markdown",
   "metadata": {},
   "source": [
    "## **Entrenar**"
   ]
  },
  {
   "cell_type": "markdown",
   "metadata": {},
   "source": [
    "Antes de ejecutar lo siguiente correr en la terminal en la misma carpeta donde esta el notebook:\n",
    "\n",
    "`mlflow server --backend-store-uri sqlite:///backend.db`\n",
    "\n"
   ]
  },
  {
   "cell_type": "code",
   "execution_count": 6,
   "metadata": {},
   "outputs": [],
   "source": [
    "import mlflow\n",
    "\n",
    "mlflow.set_tracking_uri(\"http://127.0.0.1:5000\")"
   ]
  },
  {
   "cell_type": "code",
   "execution_count": 7,
   "metadata": {},
   "outputs": [
    {
     "name": "stdout",
     "output_type": "stream",
     "text": [
      "tracking URI: 'http://127.0.0.1:5000'\n"
     ]
    }
   ],
   "source": [
    "print(f\"tracking URI: '{mlflow.get_tracking_uri()}'\")"
   ]
  },
  {
   "cell_type": "code",
   "execution_count": 8,
   "metadata": {},
   "outputs": [
    {
     "data": {
      "text/plain": [
       "[<Experiment: artifact_location='mlflow-artifacts:/0', creation_time=1761786041422, experiment_id='0', last_update_time=1761786041422, lifecycle_stage='active', name='Default', tags={}>]"
      ]
     },
     "execution_count": 8,
     "metadata": {},
     "output_type": "execute_result"
    }
   ],
   "source": [
    "mlflow.search_experiments()"
   ]
  },
  {
   "cell_type": "code",
   "execution_count": 12,
   "metadata": {},
   "outputs": [
    {
     "name": "stdout",
     "output_type": "stream",
     "text": [
      "🏃 View run random_forest_regressor at: http://127.0.0.1:5000/#/experiments/1/runs/80c6356d909f40b78fcd9b4087c4e95f\n",
      "🧪 View experiment at: http://127.0.0.1:5000/#/experiments/1\n"
     ]
    }
   ],
   "source": [
    "from sklearn.ensemble import RandomForestRegressor\n",
    "from sklearn.metrics import mean_squared_error\n",
    "import numpy as np\n",
    "\n",
    "experiment_name = \"rf-nyc-taxi\"\n",
    "mlflow.set_experiment(experiment_name)\n",
    "\n",
    "with mlflow.start_run(run_name=\"random_forest_regressor\"):\n",
    "    rf = RandomForestRegressor(n_estimators=100, random_state=0, max_depth=10)\n",
    "    rf.fit(X_train, y_train)\n",
    "    y_pred = rf.predict(X_val)\n",
    "    mlflow.log_param(\"n_estimators\", 100)\n",
    "    mlflow.log_param(\"max_depth\", 10)\n",
    "\n",
    "    rmse = np.sqrt(mean_squared_error(y_val, y_pred))\n",
    "    mlflow.log_metric(\"rmse\", rmse)"
   ]
  },
  {
   "cell_type": "markdown",
   "metadata": {},
   "source": [
    "## **Probando otro modelo**"
   ]
  },
  {
   "cell_type": "code",
   "execution_count": 13,
   "metadata": {},
   "outputs": [
    {
     "name": "stdout",
     "output_type": "stream",
     "text": [
      "🏃 View run unique-wasp-692 at: http://127.0.0.1:5000/#/experiments/1/runs/7ce60270a60a40ddb6b88c24704a8876\n",
      "🧪 View experiment at: http://127.0.0.1:5000/#/experiments/1\n"
     ]
    }
   ],
   "source": [
    "import xgboost as xgb\n",
    "\n",
    "with mlflow.start_run():\n",
    "    xgb_reg = xgb.XGBRegressor(objective='reg:squarederror', random_state=42)\n",
    "    xgb_reg.fit(X_train, y_train)\n",
    "    y_pred = xgb_reg.predict(X_val)\n",
    "    rmse = np.sqrt(mean_squared_error(y_val, y_pred))\n",
    "    mlflow.log_metric(\"rmse\", rmse)"
   ]
  },
  {
   "cell_type": "markdown",
   "metadata": {},
   "source": [
    "Nota: si te da error, debes instalar libomp con bre en caso de tener mac, para windows reinstala xgboost y vuelve a añadirlo con uv add. "
   ]
  },
  {
   "cell_type": "markdown",
   "metadata": {},
   "source": [
    "## **Probando autologgin**"
   ]
  },
  {
   "cell_type": "code",
   "execution_count": 14,
   "metadata": {},
   "outputs": [
    {
     "name": "stderr",
     "output_type": "stream",
     "text": [
      "2025/10/29 20:25:07 INFO mlflow.tracking.fluent: Experiment with name 'rf-nyc-taxi-autolog' does not exist. Creating a new experiment.\n",
      "2025/10/29 20:25:09 INFO mlflow.tracking.fluent: Autologging successfully enabled for sklearn.\n",
      "2025/10/29 20:25:09 INFO mlflow.tracking.fluent: Autologging successfully enabled for xgboost.\n",
      "2025/10/29 20:25:14 WARNING mlflow.utils.environment: Failed to resolve installed pip version. ``pip`` will be added to conda.yaml environment spec without a version specifier.\n"
     ]
    },
    {
     "name": "stdout",
     "output_type": "stream",
     "text": [
      "🏃 View run bustling-koi-484 at: http://127.0.0.1:5000/#/experiments/2/runs/c45cc027e96645cc85b0b5df58ea58e5\n",
      "🧪 View experiment at: http://127.0.0.1:5000/#/experiments/2\n"
     ]
    }
   ],
   "source": [
    "import mlflow\n",
    "\n",
    "experiment_name = \"rf-nyc-taxi-autolog\"\n",
    "mlflow.set_experiment(experiment_name)\n",
    "mlflow.autolog()\n",
    "\n",
    "with mlflow.start_run():\n",
    "    rf = RandomForestRegressor(n_estimators=100, random_state=0, max_depth=10)\n",
    "    rf.fit(X_train, y_train)\n",
    "    y_pred = rf.predict(X_val)\n",
    "    mlflow.log_param(\"n_estimators\", 100)\n",
    "    mlflow.log_param(\"max_depth\", 10)\n",
    "\n",
    "    rmse = np.sqrt(mean_squared_error(y_val, y_pred))\n",
    "    mlflow.log_metric(\"rmse\", rmse)\n"
   ]
  },
  {
   "cell_type": "code",
   "execution_count": null,
   "metadata": {},
   "outputs": [],
   "source": []
  }
 ],
 "metadata": {
  "kernelspec": {
   "display_name": ".venv",
   "language": "python",
   "name": "python3"
  },
  "language_info": {
   "codemirror_mode": {
    "name": "ipython",
    "version": 3
   },
   "file_extension": ".py",
   "mimetype": "text/x-python",
   "name": "python",
   "nbconvert_exporter": "python",
   "pygments_lexer": "ipython3",
   "version": "3.11.14"
  }
 },
 "nbformat": 4,
 "nbformat_minor": 4
}
