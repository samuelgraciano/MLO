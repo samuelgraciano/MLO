{
 "cells": [
  {
   "cell_type": "markdown",
   "metadata": {},
   "source": [
    "# MLflow avanzado: Optimización de hiperparámetros y registro de modelos\n",
    " \n",
    "En este notebook, exploraremos algunas de las funciones más avanzadas de MLflow, incluyendo:\n",
    "\n",
    "-   **Optimización de hiperparámetros:** Usar Optuna para encontrar los mejores hiperparámetros para nuestro modelo y registrar los resultados en MLflow.\n",
    "-   **Registro de modelos:** Registrar el mejor modelo en el Registro de Modelos de MLflow para versionado y despliegue."
   ]
  },
  {
   "cell_type": "code",
   "execution_count": 2,
   "metadata": {},
   "outputs": [],
   "source": [
    "import os \n",
    "import pandas as pd\n",
    "from sklearn.feature_extraction import DictVectorizer\n",
    "import pickle"
   ]
  },
  {
   "cell_type": "markdown",
   "metadata": {},
   "source": [
    "## **Cargamos datos \"procesados\"**"
   ]
  },
  {
   "cell_type": "code",
   "execution_count": 3,
   "metadata": {},
   "outputs": [],
   "source": [
    "df_jan = pd.read_parquet(\"data/processed/jan.parquet\")\n",
    "df_feb = pd.read_parquet(\"data/processed/feb.parquet\")\n"
   ]
  },
  {
   "cell_type": "markdown",
   "metadata": {},
   "source": [
    "## **Definir columnas a modelar**"
   ]
  },
  {
   "cell_type": "code",
   "execution_count": 4,
   "metadata": {},
   "outputs": [],
   "source": [
    "categorical = ['PULocationID', 'DOLocationID']\n",
    "numerical = [\"trip_distance\"]"
   ]
  },
  {
   "cell_type": "markdown",
   "metadata": {},
   "source": [
    "## Definir set de train y test"
   ]
  },
  {
   "cell_type": "code",
   "execution_count": 5,
   "metadata": {},
   "outputs": [],
   "source": [
    "df_train = df_jan\n",
    "df_val = df_feb"
   ]
  },
  {
   "cell_type": "markdown",
   "metadata": {},
   "source": [
    "## **Preprocesar**"
   ]
  },
  {
   "cell_type": "code",
   "execution_count": 6,
   "metadata": {},
   "outputs": [],
   "source": [
    "from sklearn.feature_extraction import DictVectorizer\n",
    "from sklearn.compose import ColumnTransformer\n",
    "from sklearn.preprocessing import StandardScaler\n",
    "from sklearn.impute import SimpleImputer\n",
    "from sklearn.pipeline import Pipeline\n",
    "\n",
    "df_train = df_train.copy()\n",
    "df_val   = df_val.copy()\n",
    "df_train[\"categorical_dict\"] = df_train[categorical].to_dict(orient=\"records\")\n",
    "df_val[\"categorical_dict\"]   = df_val[categorical].to_dict(orient=\"records\")\n",
    "\n",
    "preprocessor = ColumnTransformer(\n",
    "    transformers=[\n",
    "        (\"cat\", DictVectorizer(), \"categorical_dict\"),\n",
    "        (\"num\", Pipeline([(\"imputer\", SimpleImputer(strategy=\"median\")),\n",
    "                          (\"scaler\", StandardScaler())]), numerical),\n",
    "    ]\n",
    ")\n",
    "\n",
    "X_train = preprocessor.fit_transform(df_train)\n",
    "y_train = df_train[\"duration\"].values\n",
    "X_val   = preprocessor.transform(df_val)\n",
    "y_val   = df_val[\"duration\"].values"
   ]
  },
  {
   "cell_type": "markdown",
   "metadata": {},
   "source": [
    "## **Entrenar**"
   ]
  },
  {
   "cell_type": "markdown",
   "metadata": {},
   "source": [
    "Antes de ejecutar lo siguiente correr en la terminal en la misma carpeta donde esta el notebook:\n",
    "\n",
    "`mlflow server --backend-store-uri sqlite:///backend.db`\n",
    "\n"
   ]
  },
  {
   "cell_type": "code",
   "execution_count": 7,
   "metadata": {},
   "outputs": [],
   "source": [
    "import mlflow\n",
    "\n",
    "mlflow.set_tracking_uri(\"http://127.0.0.1:5000\")"
   ]
  },
  {
   "cell_type": "code",
   "execution_count": 8,
   "metadata": {},
   "outputs": [
    {
     "name": "stdout",
     "output_type": "stream",
     "text": [
      "tracking URI: 'http://127.0.0.1:5000'\n"
     ]
    }
   ],
   "source": [
    "print(f\"tracking URI: '{mlflow.get_tracking_uri()}'\")"
   ]
  },
  {
   "cell_type": "code",
   "execution_count": 9,
   "metadata": {},
   "outputs": [
    {
     "name": "stdout",
     "output_type": "stream",
     "text": [
      "🏃 View run powerful-flea-860 at: http://127.0.0.1:5000/#/experiments/1/runs/7c4abb44cbcb4243993f752019bb6a74\n",
      "🧪 View experiment at: http://127.0.0.1:5000/#/experiments/1\n"
     ]
    }
   ],
   "source": [
    "from sklearn.ensemble import RandomForestRegressor\n",
    "from sklearn.metrics import mean_squared_error\n",
    "import numpy as np\n",
    "\n",
    "experiment_name = \"rf-nyc-taxi\"\n",
    "mlflow.set_experiment(experiment_name)\n",
    "\n",
    "with mlflow.start_run():\n",
    "    rf = RandomForestRegressor(n_estimators=100, random_state=0, max_depth=10)\n",
    "    rf.fit(X_train, y_train)\n",
    "    y_pred = rf.predict(X_val)\n",
    "    mlflow.log_param(\"n_estimators\", 100)\n",
    "    mlflow.log_param(\"max_depth\", 10)\n",
    "\n",
    "    rmse = np.sqrt(mean_squared_error(y_val, y_pred))\n",
    "    mlflow.log_metric(\"rmse\", rmse)"
   ]
  },
  {
   "cell_type": "markdown",
   "metadata": {},
   "source": [
    "## **Probando otro modelo**"
   ]
  },
  {
   "cell_type": "code",
   "execution_count": 10,
   "metadata": {},
   "outputs": [
    {
     "name": "stdout",
     "output_type": "stream",
     "text": [
      "🏃 View run abrasive-grouse-722 at: http://127.0.0.1:5000/#/experiments/1/runs/3f716295467e40609d4dabf18e9e47fe\n",
      "🧪 View experiment at: http://127.0.0.1:5000/#/experiments/1\n"
     ]
    }
   ],
   "source": [
    "import xgboost as xgb\n",
    "\n",
    "with mlflow.start_run():\n",
    "    xgb_reg = xgb.XGBRegressor(objective='reg:squarederror', random_state=42)\n",
    "    xgb_reg.fit(X_train, y_train)\n",
    "    y_pred = xgb_reg.predict(X_val)\n",
    "    rmse = np.sqrt(mean_squared_error(y_val, y_pred))\n",
    "    mlflow.log_metric(\"rmse\", rmse)"
   ]
  },
  {
   "cell_type": "markdown",
   "metadata": {},
   "source": [
    "## **Probando autologgin**"
   ]
  },
  {
   "cell_type": "code",
   "execution_count": 11,
   "metadata": {},
   "outputs": [
    {
     "name": "stderr",
     "output_type": "stream",
     "text": [
      "2025/10/29 20:30:32 INFO mlflow.tracking.fluent: Autologging successfully enabled for sklearn.\n",
      "2025/10/29 20:30:32 INFO mlflow.tracking.fluent: Autologging successfully enabled for xgboost.\n",
      "2025/10/29 20:30:37 WARNING mlflow.utils.environment: Failed to resolve installed pip version. ``pip`` will be added to conda.yaml environment spec without a version specifier.\n"
     ]
    },
    {
     "name": "stdout",
     "output_type": "stream",
     "text": [
      "🏃 View run kindly-perch-21 at: http://127.0.0.1:5000/#/experiments/2/runs/f97123d08f604dc18919110f82cdc2fe\n",
      "🧪 View experiment at: http://127.0.0.1:5000/#/experiments/2\n"
     ]
    }
   ],
   "source": [
    "import mlflow\n",
    "\n",
    "experiment_name = \"rf-nyc-taxi-autolog\"\n",
    "mlflow.set_experiment(experiment_name)\n",
    "mlflow.autolog()\n",
    "\n",
    "with mlflow.start_run():\n",
    "    rf = RandomForestRegressor(n_estimators=100, random_state=0, max_depth=10)\n",
    "    rf.fit(X_train, y_train)\n",
    "    y_pred = rf.predict(X_val)\n",
    "    mlflow.log_param(\"n_estimators\", 100)\n",
    "    mlflow.log_param(\"max_depth\", 10)\n",
    "\n",
    "    rmse = np.sqrt(mean_squared_error(y_val, y_pred))\n",
    "    mlflow.log_metric(\"rmse\", rmse)\n"
   ]
  },
  {
   "cell_type": "markdown",
   "metadata": {},
   "source": [
    "## **Optimización de Hiperparametros**"
   ]
  },
  {
   "cell_type": "markdown",
   "metadata": {},
   "source": [
    "## **¿Por qué es importante la optimización de hiperparámetros?**\n",
    "\n",
    "En ML, los hiperparámetros son como los “ajustes” que le damos a nuestros modelos antes de entrenarlos. Cosas como la cantidad de árboles en un Random Forest, la profundidad máxima, o la tasa de aprendizaje en un modelo de boosting. Elegir bien estos valores puede marcar la diferencia entre un modelo mediocre y uno realmente bueno."
   ]
  },
  {
   "cell_type": "markdown",
   "metadata": {},
   "source": [
    "Optimizar los hiperparámetros no es solo cuestión de probar al azar: es un proceso sistemático para encontrar la mejor combinación posible, y así lograr que nuestro modelo aprenda mejor y generalice bien a datos nuevos. Si no los ajustamos, podemos quedarnos con un modelo que no aprovecha todo su potencial."
   ]
  },
  {
   "cell_type": "markdown",
   "metadata": {},
   "source": [
    "## **Usando Optuna**\n",
    "\n",
    "Para facilitar este proceso, existen herramientas como **Optuna**, que nos ayudan a buscar automáticamente los mejores hiperparámetros de manera eficiente e inteligente. Optuna prueba diferentes combinaciones, aprende de los resultados y se enfoca en las opciones más prometedoras, ahorrándonos mucho tiempo y esfuerzo.\n",
    "\n",
    "En resumen: dedicarle tiempo a la optimización de hiperparámetros, usando herramientas como Optuna, es clave para sacar el máximo provecho de nuestros modelos de ML."
   ]
  },
  {
   "cell_type": "markdown",
   "metadata": {},
   "source": [
    "<img src=\"optim.png\">"
   ]
  },
  {
   "cell_type": "code",
   "execution_count": 12,
   "metadata": {},
   "outputs": [
    {
     "name": "stderr",
     "output_type": "stream",
     "text": [
      "2025/10/29 20:30:38 INFO mlflow.tracking.fluent: Experiment with name 'nyc-taxi-experiment-optuna' does not exist. Creating a new experiment.\n",
      "[I 2025-10-29 20:30:38,698] A new study created in memory with name: no-name-41160749-f495-4ada-9706-5e4c408893ac\n",
      "/var/folders/dp/2nhmtbqj49v3st8xl2stwglw0000gn/T/ipykernel_57922/4018334785.py:8: FutureWarning: suggest_int() got {'step'} as positional arguments but they were expected to be given as keyword arguments.\n",
      "Positional arguments ['self', 'name', 'low', 'high', 'step', 'log'] in suggest_int() have been deprecated since v3.5.0. They will be replaced with the corresponding keyword arguments in v5.0.0, so please use the keyword specification instead. See https://github.com/optuna/optuna/releases/tag/v3.5.0 for details.\n",
      "  'n_estimators': trial.suggest_int('n_estimators', 10, 50, 1),\n",
      "/var/folders/dp/2nhmtbqj49v3st8xl2stwglw0000gn/T/ipykernel_57922/4018334785.py:9: FutureWarning: suggest_int() got {'step'} as positional arguments but they were expected to be given as keyword arguments.\n",
      "Positional arguments ['self', 'name', 'low', 'high', 'step', 'log'] in suggest_int() have been deprecated since v3.5.0. They will be replaced with the corresponding keyword arguments in v5.0.0, so please use the keyword specification instead. See https://github.com/optuna/optuna/releases/tag/v3.5.0 for details.\n",
      "  'max_depth': trial.suggest_int('max_depth', 1, 20, 1),\n",
      "/var/folders/dp/2nhmtbqj49v3st8xl2stwglw0000gn/T/ipykernel_57922/4018334785.py:10: FutureWarning: suggest_int() got {'step'} as positional arguments but they were expected to be given as keyword arguments.\n",
      "Positional arguments ['self', 'name', 'low', 'high', 'step', 'log'] in suggest_int() have been deprecated since v3.5.0. They will be replaced with the corresponding keyword arguments in v5.0.0, so please use the keyword specification instead. See https://github.com/optuna/optuna/releases/tag/v3.5.0 for details.\n",
      "  'min_samples_split': trial.suggest_int('min_samples_split', 2, 6, 1),\n",
      "/var/folders/dp/2nhmtbqj49v3st8xl2stwglw0000gn/T/ipykernel_57922/4018334785.py:11: FutureWarning: suggest_int() got {'step'} as positional arguments but they were expected to be given as keyword arguments.\n",
      "Positional arguments ['self', 'name', 'low', 'high', 'step', 'log'] in suggest_int() have been deprecated since v3.5.0. They will be replaced with the corresponding keyword arguments in v5.0.0, so please use the keyword specification instead. See https://github.com/optuna/optuna/releases/tag/v3.5.0 for details.\n",
      "  'min_samples_leaf': trial.suggest_int('min_samples_leaf', 1, 4, 1),\n",
      "2025/10/29 20:30:40 WARNING mlflow.utils.environment: Failed to resolve installed pip version. ``pip`` will be added to conda.yaml environment spec without a version specifier.\n",
      "[I 2025-10-29 20:30:40,778] Trial 0 finished with value: 5.080177944498654 and parameters: {'n_estimators': 25, 'max_depth': 20, 'min_samples_split': 5, 'min_samples_leaf': 3}. Best is trial 0 with value: 5.080177944498654.\n"
     ]
    },
    {
     "name": "stdout",
     "output_type": "stream",
     "text": [
      "🏃 View run bouncy-snail-205 at: http://127.0.0.1:5000/#/experiments/3/runs/9bb202d2f83944fd90e6bb093fccda71\n",
      "🧪 View experiment at: http://127.0.0.1:5000/#/experiments/3\n"
     ]
    },
    {
     "name": "stderr",
     "output_type": "stream",
     "text": [
      "/var/folders/dp/2nhmtbqj49v3st8xl2stwglw0000gn/T/ipykernel_57922/4018334785.py:8: FutureWarning: suggest_int() got {'step'} as positional arguments but they were expected to be given as keyword arguments.\n",
      "Positional arguments ['self', 'name', 'low', 'high', 'step', 'log'] in suggest_int() have been deprecated since v3.5.0. They will be replaced with the corresponding keyword arguments in v5.0.0, so please use the keyword specification instead. See https://github.com/optuna/optuna/releases/tag/v3.5.0 for details.\n",
      "  'n_estimators': trial.suggest_int('n_estimators', 10, 50, 1),\n",
      "/var/folders/dp/2nhmtbqj49v3st8xl2stwglw0000gn/T/ipykernel_57922/4018334785.py:9: FutureWarning: suggest_int() got {'step'} as positional arguments but they were expected to be given as keyword arguments.\n",
      "Positional arguments ['self', 'name', 'low', 'high', 'step', 'log'] in suggest_int() have been deprecated since v3.5.0. They will be replaced with the corresponding keyword arguments in v5.0.0, so please use the keyword specification instead. See https://github.com/optuna/optuna/releases/tag/v3.5.0 for details.\n",
      "  'max_depth': trial.suggest_int('max_depth', 1, 20, 1),\n",
      "/var/folders/dp/2nhmtbqj49v3st8xl2stwglw0000gn/T/ipykernel_57922/4018334785.py:10: FutureWarning: suggest_int() got {'step'} as positional arguments but they were expected to be given as keyword arguments.\n",
      "Positional arguments ['self', 'name', 'low', 'high', 'step', 'log'] in suggest_int() have been deprecated since v3.5.0. They will be replaced with the corresponding keyword arguments in v5.0.0, so please use the keyword specification instead. See https://github.com/optuna/optuna/releases/tag/v3.5.0 for details.\n",
      "  'min_samples_split': trial.suggest_int('min_samples_split', 2, 6, 1),\n",
      "/var/folders/dp/2nhmtbqj49v3st8xl2stwglw0000gn/T/ipykernel_57922/4018334785.py:11: FutureWarning: suggest_int() got {'step'} as positional arguments but they were expected to be given as keyword arguments.\n",
      "Positional arguments ['self', 'name', 'low', 'high', 'step', 'log'] in suggest_int() have been deprecated since v3.5.0. They will be replaced with the corresponding keyword arguments in v5.0.0, so please use the keyword specification instead. See https://github.com/optuna/optuna/releases/tag/v3.5.0 for details.\n",
      "  'min_samples_leaf': trial.suggest_int('min_samples_leaf', 1, 4, 1),\n",
      "2025/10/29 20:30:42 WARNING mlflow.utils.environment: Failed to resolve installed pip version. ``pip`` will be added to conda.yaml environment spec without a version specifier.\n",
      "[I 2025-10-29 20:30:42,248] Trial 1 finished with value: 5.625794708504083 and parameters: {'n_estimators': 16, 'max_depth': 4, 'min_samples_split': 2, 'min_samples_leaf': 4}. Best is trial 0 with value: 5.080177944498654.\n",
      "/var/folders/dp/2nhmtbqj49v3st8xl2stwglw0000gn/T/ipykernel_57922/4018334785.py:8: FutureWarning: suggest_int() got {'step'} as positional arguments but they were expected to be given as keyword arguments.\n",
      "Positional arguments ['self', 'name', 'low', 'high', 'step', 'log'] in suggest_int() have been deprecated since v3.5.0. They will be replaced with the corresponding keyword arguments in v5.0.0, so please use the keyword specification instead. See https://github.com/optuna/optuna/releases/tag/v3.5.0 for details.\n",
      "  'n_estimators': trial.suggest_int('n_estimators', 10, 50, 1),\n",
      "/var/folders/dp/2nhmtbqj49v3st8xl2stwglw0000gn/T/ipykernel_57922/4018334785.py:9: FutureWarning: suggest_int() got {'step'} as positional arguments but they were expected to be given as keyword arguments.\n",
      "Positional arguments ['self', 'name', 'low', 'high', 'step', 'log'] in suggest_int() have been deprecated since v3.5.0. They will be replaced with the corresponding keyword arguments in v5.0.0, so please use the keyword specification instead. See https://github.com/optuna/optuna/releases/tag/v3.5.0 for details.\n",
      "  'max_depth': trial.suggest_int('max_depth', 1, 20, 1),\n",
      "/var/folders/dp/2nhmtbqj49v3st8xl2stwglw0000gn/T/ipykernel_57922/4018334785.py:10: FutureWarning: suggest_int() got {'step'} as positional arguments but they were expected to be given as keyword arguments.\n",
      "Positional arguments ['self', 'name', 'low', 'high', 'step', 'log'] in suggest_int() have been deprecated since v3.5.0. They will be replaced with the corresponding keyword arguments in v5.0.0, so please use the keyword specification instead. See https://github.com/optuna/optuna/releases/tag/v3.5.0 for details.\n",
      "  'min_samples_split': trial.suggest_int('min_samples_split', 2, 6, 1),\n",
      "/var/folders/dp/2nhmtbqj49v3st8xl2stwglw0000gn/T/ipykernel_57922/4018334785.py:11: FutureWarning: suggest_int() got {'step'} as positional arguments but they were expected to be given as keyword arguments.\n",
      "Positional arguments ['self', 'name', 'low', 'high', 'step', 'log'] in suggest_int() have been deprecated since v3.5.0. They will be replaced with the corresponding keyword arguments in v5.0.0, so please use the keyword specification instead. See https://github.com/optuna/optuna/releases/tag/v3.5.0 for details.\n",
      "  'min_samples_leaf': trial.suggest_int('min_samples_leaf', 1, 4, 1),\n"
     ]
    },
    {
     "name": "stdout",
     "output_type": "stream",
     "text": [
      "🏃 View run wistful-yak-887 at: http://127.0.0.1:5000/#/experiments/3/runs/e7f07891d67b49b49c35f16604ca25de\n",
      "🧪 View experiment at: http://127.0.0.1:5000/#/experiments/3\n"
     ]
    },
    {
     "name": "stderr",
     "output_type": "stream",
     "text": [
      "2025/10/29 20:30:43 WARNING mlflow.utils.environment: Failed to resolve installed pip version. ``pip`` will be added to conda.yaml environment spec without a version specifier.\n",
      "[I 2025-10-29 20:30:44,091] Trial 2 finished with value: 5.034253440524673 and parameters: {'n_estimators': 34, 'max_depth': 15, 'min_samples_split': 2, 'min_samples_leaf': 4}. Best is trial 2 with value: 5.034253440524673.\n"
     ]
    },
    {
     "name": "stdout",
     "output_type": "stream",
     "text": [
      "🏃 View run vaunted-dove-136 at: http://127.0.0.1:5000/#/experiments/3/runs/c201a853493c4293ab1ab361efe8ea7c\n",
      "🧪 View experiment at: http://127.0.0.1:5000/#/experiments/3\n"
     ]
    },
    {
     "name": "stderr",
     "output_type": "stream",
     "text": [
      "/var/folders/dp/2nhmtbqj49v3st8xl2stwglw0000gn/T/ipykernel_57922/4018334785.py:8: FutureWarning: suggest_int() got {'step'} as positional arguments but they were expected to be given as keyword arguments.\n",
      "Positional arguments ['self', 'name', 'low', 'high', 'step', 'log'] in suggest_int() have been deprecated since v3.5.0. They will be replaced with the corresponding keyword arguments in v5.0.0, so please use the keyword specification instead. See https://github.com/optuna/optuna/releases/tag/v3.5.0 for details.\n",
      "  'n_estimators': trial.suggest_int('n_estimators', 10, 50, 1),\n",
      "/var/folders/dp/2nhmtbqj49v3st8xl2stwglw0000gn/T/ipykernel_57922/4018334785.py:9: FutureWarning: suggest_int() got {'step'} as positional arguments but they were expected to be given as keyword arguments.\n",
      "Positional arguments ['self', 'name', 'low', 'high', 'step', 'log'] in suggest_int() have been deprecated since v3.5.0. They will be replaced with the corresponding keyword arguments in v5.0.0, so please use the keyword specification instead. See https://github.com/optuna/optuna/releases/tag/v3.5.0 for details.\n",
      "  'max_depth': trial.suggest_int('max_depth', 1, 20, 1),\n",
      "/var/folders/dp/2nhmtbqj49v3st8xl2stwglw0000gn/T/ipykernel_57922/4018334785.py:10: FutureWarning: suggest_int() got {'step'} as positional arguments but they were expected to be given as keyword arguments.\n",
      "Positional arguments ['self', 'name', 'low', 'high', 'step', 'log'] in suggest_int() have been deprecated since v3.5.0. They will be replaced with the corresponding keyword arguments in v5.0.0, so please use the keyword specification instead. See https://github.com/optuna/optuna/releases/tag/v3.5.0 for details.\n",
      "  'min_samples_split': trial.suggest_int('min_samples_split', 2, 6, 1),\n",
      "/var/folders/dp/2nhmtbqj49v3st8xl2stwglw0000gn/T/ipykernel_57922/4018334785.py:11: FutureWarning: suggest_int() got {'step'} as positional arguments but they were expected to be given as keyword arguments.\n",
      "Positional arguments ['self', 'name', 'low', 'high', 'step', 'log'] in suggest_int() have been deprecated since v3.5.0. They will be replaced with the corresponding keyword arguments in v5.0.0, so please use the keyword specification instead. See https://github.com/optuna/optuna/releases/tag/v3.5.0 for details.\n",
      "  'min_samples_leaf': trial.suggest_int('min_samples_leaf', 1, 4, 1),\n",
      "2025/10/29 20:30:45 WARNING mlflow.utils.environment: Failed to resolve installed pip version. ``pip`` will be added to conda.yaml environment spec without a version specifier.\n",
      "[I 2025-10-29 20:30:45,846] Trial 3 finished with value: 5.532595440372496 and parameters: {'n_estimators': 44, 'max_depth': 5, 'min_samples_split': 2, 'min_samples_leaf': 1}. Best is trial 2 with value: 5.034253440524673.\n",
      "/var/folders/dp/2nhmtbqj49v3st8xl2stwglw0000gn/T/ipykernel_57922/4018334785.py:8: FutureWarning: suggest_int() got {'step'} as positional arguments but they were expected to be given as keyword arguments.\n",
      "Positional arguments ['self', 'name', 'low', 'high', 'step', 'log'] in suggest_int() have been deprecated since v3.5.0. They will be replaced with the corresponding keyword arguments in v5.0.0, so please use the keyword specification instead. See https://github.com/optuna/optuna/releases/tag/v3.5.0 for details.\n",
      "  'n_estimators': trial.suggest_int('n_estimators', 10, 50, 1),\n",
      "/var/folders/dp/2nhmtbqj49v3st8xl2stwglw0000gn/T/ipykernel_57922/4018334785.py:9: FutureWarning: suggest_int() got {'step'} as positional arguments but they were expected to be given as keyword arguments.\n",
      "Positional arguments ['self', 'name', 'low', 'high', 'step', 'log'] in suggest_int() have been deprecated since v3.5.0. They will be replaced with the corresponding keyword arguments in v5.0.0, so please use the keyword specification instead. See https://github.com/optuna/optuna/releases/tag/v3.5.0 for details.\n",
      "  'max_depth': trial.suggest_int('max_depth', 1, 20, 1),\n",
      "/var/folders/dp/2nhmtbqj49v3st8xl2stwglw0000gn/T/ipykernel_57922/4018334785.py:10: FutureWarning: suggest_int() got {'step'} as positional arguments but they were expected to be given as keyword arguments.\n",
      "Positional arguments ['self', 'name', 'low', 'high', 'step', 'log'] in suggest_int() have been deprecated since v3.5.0. They will be replaced with the corresponding keyword arguments in v5.0.0, so please use the keyword specification instead. See https://github.com/optuna/optuna/releases/tag/v3.5.0 for details.\n",
      "  'min_samples_split': trial.suggest_int('min_samples_split', 2, 6, 1),\n",
      "/var/folders/dp/2nhmtbqj49v3st8xl2stwglw0000gn/T/ipykernel_57922/4018334785.py:11: FutureWarning: suggest_int() got {'step'} as positional arguments but they were expected to be given as keyword arguments.\n",
      "Positional arguments ['self', 'name', 'low', 'high', 'step', 'log'] in suggest_int() have been deprecated since v3.5.0. They will be replaced with the corresponding keyword arguments in v5.0.0, so please use the keyword specification instead. See https://github.com/optuna/optuna/releases/tag/v3.5.0 for details.\n",
      "  'min_samples_leaf': trial.suggest_int('min_samples_leaf', 1, 4, 1),\n"
     ]
    },
    {
     "name": "stdout",
     "output_type": "stream",
     "text": [
      "🏃 View run thoughtful-bug-147 at: http://127.0.0.1:5000/#/experiments/3/runs/f2636851a7104697b922211e7a8008cf\n",
      "🧪 View experiment at: http://127.0.0.1:5000/#/experiments/3\n"
     ]
    },
    {
     "name": "stderr",
     "output_type": "stream",
     "text": [
      "2025/10/29 20:30:47 WARNING mlflow.utils.environment: Failed to resolve installed pip version. ``pip`` will be added to conda.yaml environment spec without a version specifier.\n",
      "[I 2025-10-29 20:30:47,517] Trial 4 finished with value: 5.103515983327105 and parameters: {'n_estimators': 22, 'max_depth': 11, 'min_samples_split': 4, 'min_samples_leaf': 2}. Best is trial 2 with value: 5.034253440524673.\n",
      "/var/folders/dp/2nhmtbqj49v3st8xl2stwglw0000gn/T/ipykernel_57922/4018334785.py:8: FutureWarning: suggest_int() got {'step'} as positional arguments but they were expected to be given as keyword arguments.\n",
      "Positional arguments ['self', 'name', 'low', 'high', 'step', 'log'] in suggest_int() have been deprecated since v3.5.0. They will be replaced with the corresponding keyword arguments in v5.0.0, so please use the keyword specification instead. See https://github.com/optuna/optuna/releases/tag/v3.5.0 for details.\n",
      "  'n_estimators': trial.suggest_int('n_estimators', 10, 50, 1),\n",
      "/var/folders/dp/2nhmtbqj49v3st8xl2stwglw0000gn/T/ipykernel_57922/4018334785.py:9: FutureWarning: suggest_int() got {'step'} as positional arguments but they were expected to be given as keyword arguments.\n",
      "Positional arguments ['self', 'name', 'low', 'high', 'step', 'log'] in suggest_int() have been deprecated since v3.5.0. They will be replaced with the corresponding keyword arguments in v5.0.0, so please use the keyword specification instead. See https://github.com/optuna/optuna/releases/tag/v3.5.0 for details.\n",
      "  'max_depth': trial.suggest_int('max_depth', 1, 20, 1),\n",
      "/var/folders/dp/2nhmtbqj49v3st8xl2stwglw0000gn/T/ipykernel_57922/4018334785.py:10: FutureWarning: suggest_int() got {'step'} as positional arguments but they were expected to be given as keyword arguments.\n",
      "Positional arguments ['self', 'name', 'low', 'high', 'step', 'log'] in suggest_int() have been deprecated since v3.5.0. They will be replaced with the corresponding keyword arguments in v5.0.0, so please use the keyword specification instead. See https://github.com/optuna/optuna/releases/tag/v3.5.0 for details.\n",
      "  'min_samples_split': trial.suggest_int('min_samples_split', 2, 6, 1),\n",
      "/var/folders/dp/2nhmtbqj49v3st8xl2stwglw0000gn/T/ipykernel_57922/4018334785.py:11: FutureWarning: suggest_int() got {'step'} as positional arguments but they were expected to be given as keyword arguments.\n",
      "Positional arguments ['self', 'name', 'low', 'high', 'step', 'log'] in suggest_int() have been deprecated since v3.5.0. They will be replaced with the corresponding keyword arguments in v5.0.0, so please use the keyword specification instead. See https://github.com/optuna/optuna/releases/tag/v3.5.0 for details.\n",
      "  'min_samples_leaf': trial.suggest_int('min_samples_leaf', 1, 4, 1),\n"
     ]
    },
    {
     "name": "stdout",
     "output_type": "stream",
     "text": [
      "🏃 View run loud-mole-172 at: http://127.0.0.1:5000/#/experiments/3/runs/7115dbb5c2a340cd9b1bed1c070fb5cf\n",
      "🧪 View experiment at: http://127.0.0.1:5000/#/experiments/3\n"
     ]
    },
    {
     "name": "stderr",
     "output_type": "stream",
     "text": [
      "2025/10/29 20:30:48 WARNING mlflow.utils.environment: Failed to resolve installed pip version. ``pip`` will be added to conda.yaml environment spec without a version specifier.\n",
      "[I 2025-10-29 20:30:48,986] Trial 5 finished with value: 5.769795066797643 and parameters: {'n_estimators': 35, 'max_depth': 3, 'min_samples_split': 3, 'min_samples_leaf': 2}. Best is trial 2 with value: 5.034253440524673.\n",
      "/var/folders/dp/2nhmtbqj49v3st8xl2stwglw0000gn/T/ipykernel_57922/4018334785.py:8: FutureWarning: suggest_int() got {'step'} as positional arguments but they were expected to be given as keyword arguments.\n",
      "Positional arguments ['self', 'name', 'low', 'high', 'step', 'log'] in suggest_int() have been deprecated since v3.5.0. They will be replaced with the corresponding keyword arguments in v5.0.0, so please use the keyword specification instead. See https://github.com/optuna/optuna/releases/tag/v3.5.0 for details.\n",
      "  'n_estimators': trial.suggest_int('n_estimators', 10, 50, 1),\n",
      "/var/folders/dp/2nhmtbqj49v3st8xl2stwglw0000gn/T/ipykernel_57922/4018334785.py:9: FutureWarning: suggest_int() got {'step'} as positional arguments but they were expected to be given as keyword arguments.\n",
      "Positional arguments ['self', 'name', 'low', 'high', 'step', 'log'] in suggest_int() have been deprecated since v3.5.0. They will be replaced with the corresponding keyword arguments in v5.0.0, so please use the keyword specification instead. See https://github.com/optuna/optuna/releases/tag/v3.5.0 for details.\n",
      "  'max_depth': trial.suggest_int('max_depth', 1, 20, 1),\n",
      "/var/folders/dp/2nhmtbqj49v3st8xl2stwglw0000gn/T/ipykernel_57922/4018334785.py:10: FutureWarning: suggest_int() got {'step'} as positional arguments but they were expected to be given as keyword arguments.\n",
      "Positional arguments ['self', 'name', 'low', 'high', 'step', 'log'] in suggest_int() have been deprecated since v3.5.0. They will be replaced with the corresponding keyword arguments in v5.0.0, so please use the keyword specification instead. See https://github.com/optuna/optuna/releases/tag/v3.5.0 for details.\n",
      "  'min_samples_split': trial.suggest_int('min_samples_split', 2, 6, 1),\n",
      "/var/folders/dp/2nhmtbqj49v3st8xl2stwglw0000gn/T/ipykernel_57922/4018334785.py:11: FutureWarning: suggest_int() got {'step'} as positional arguments but they were expected to be given as keyword arguments.\n",
      "Positional arguments ['self', 'name', 'low', 'high', 'step', 'log'] in suggest_int() have been deprecated since v3.5.0. They will be replaced with the corresponding keyword arguments in v5.0.0, so please use the keyword specification instead. See https://github.com/optuna/optuna/releases/tag/v3.5.0 for details.\n",
      "  'min_samples_leaf': trial.suggest_int('min_samples_leaf', 1, 4, 1),\n"
     ]
    },
    {
     "name": "stdout",
     "output_type": "stream",
     "text": [
      "🏃 View run abundant-loon-583 at: http://127.0.0.1:5000/#/experiments/3/runs/8e99db287fd14b279cb5bad38d13fb90\n",
      "🧪 View experiment at: http://127.0.0.1:5000/#/experiments/3\n"
     ]
    },
    {
     "name": "stderr",
     "output_type": "stream",
     "text": [
      "2025/10/29 20:30:50 WARNING mlflow.utils.environment: Failed to resolve installed pip version. ``pip`` will be added to conda.yaml environment spec without a version specifier.\n",
      "[I 2025-10-29 20:30:50,922] Trial 6 finished with value: 5.048056486763829 and parameters: {'n_estimators': 28, 'max_depth': 16, 'min_samples_split': 2, 'min_samples_leaf': 3}. Best is trial 2 with value: 5.034253440524673.\n"
     ]
    },
    {
     "name": "stdout",
     "output_type": "stream",
     "text": [
      "🏃 View run wistful-ram-99 at: http://127.0.0.1:5000/#/experiments/3/runs/e5820d91e4434a918a41f89121156bdf\n",
      "🧪 View experiment at: http://127.0.0.1:5000/#/experiments/3\n"
     ]
    },
    {
     "name": "stderr",
     "output_type": "stream",
     "text": [
      "/var/folders/dp/2nhmtbqj49v3st8xl2stwglw0000gn/T/ipykernel_57922/4018334785.py:8: FutureWarning: suggest_int() got {'step'} as positional arguments but they were expected to be given as keyword arguments.\n",
      "Positional arguments ['self', 'name', 'low', 'high', 'step', 'log'] in suggest_int() have been deprecated since v3.5.0. They will be replaced with the corresponding keyword arguments in v5.0.0, so please use the keyword specification instead. See https://github.com/optuna/optuna/releases/tag/v3.5.0 for details.\n",
      "  'n_estimators': trial.suggest_int('n_estimators', 10, 50, 1),\n",
      "/var/folders/dp/2nhmtbqj49v3st8xl2stwglw0000gn/T/ipykernel_57922/4018334785.py:9: FutureWarning: suggest_int() got {'step'} as positional arguments but they were expected to be given as keyword arguments.\n",
      "Positional arguments ['self', 'name', 'low', 'high', 'step', 'log'] in suggest_int() have been deprecated since v3.5.0. They will be replaced with the corresponding keyword arguments in v5.0.0, so please use the keyword specification instead. See https://github.com/optuna/optuna/releases/tag/v3.5.0 for details.\n",
      "  'max_depth': trial.suggest_int('max_depth', 1, 20, 1),\n",
      "/var/folders/dp/2nhmtbqj49v3st8xl2stwglw0000gn/T/ipykernel_57922/4018334785.py:10: FutureWarning: suggest_int() got {'step'} as positional arguments but they were expected to be given as keyword arguments.\n",
      "Positional arguments ['self', 'name', 'low', 'high', 'step', 'log'] in suggest_int() have been deprecated since v3.5.0. They will be replaced with the corresponding keyword arguments in v5.0.0, so please use the keyword specification instead. See https://github.com/optuna/optuna/releases/tag/v3.5.0 for details.\n",
      "  'min_samples_split': trial.suggest_int('min_samples_split', 2, 6, 1),\n",
      "/var/folders/dp/2nhmtbqj49v3st8xl2stwglw0000gn/T/ipykernel_57922/4018334785.py:11: FutureWarning: suggest_int() got {'step'} as positional arguments but they were expected to be given as keyword arguments.\n",
      "Positional arguments ['self', 'name', 'low', 'high', 'step', 'log'] in suggest_int() have been deprecated since v3.5.0. They will be replaced with the corresponding keyword arguments in v5.0.0, so please use the keyword specification instead. See https://github.com/optuna/optuna/releases/tag/v3.5.0 for details.\n",
      "  'min_samples_leaf': trial.suggest_int('min_samples_leaf', 1, 4, 1),\n",
      "2025/10/29 20:30:52 WARNING mlflow.utils.environment: Failed to resolve installed pip version. ``pip`` will be added to conda.yaml environment spec without a version specifier.\n",
      "[I 2025-10-29 20:30:52,411] Trial 7 finished with value: 7.239469939162794 and parameters: {'n_estimators': 34, 'max_depth': 1, 'min_samples_split': 5, 'min_samples_leaf': 1}. Best is trial 2 with value: 5.034253440524673.\n",
      "/var/folders/dp/2nhmtbqj49v3st8xl2stwglw0000gn/T/ipykernel_57922/4018334785.py:8: FutureWarning: suggest_int() got {'step'} as positional arguments but they were expected to be given as keyword arguments.\n",
      "Positional arguments ['self', 'name', 'low', 'high', 'step', 'log'] in suggest_int() have been deprecated since v3.5.0. They will be replaced with the corresponding keyword arguments in v5.0.0, so please use the keyword specification instead. See https://github.com/optuna/optuna/releases/tag/v3.5.0 for details.\n",
      "  'n_estimators': trial.suggest_int('n_estimators', 10, 50, 1),\n",
      "/var/folders/dp/2nhmtbqj49v3st8xl2stwglw0000gn/T/ipykernel_57922/4018334785.py:9: FutureWarning: suggest_int() got {'step'} as positional arguments but they were expected to be given as keyword arguments.\n",
      "Positional arguments ['self', 'name', 'low', 'high', 'step', 'log'] in suggest_int() have been deprecated since v3.5.0. They will be replaced with the corresponding keyword arguments in v5.0.0, so please use the keyword specification instead. See https://github.com/optuna/optuna/releases/tag/v3.5.0 for details.\n",
      "  'max_depth': trial.suggest_int('max_depth', 1, 20, 1),\n",
      "/var/folders/dp/2nhmtbqj49v3st8xl2stwglw0000gn/T/ipykernel_57922/4018334785.py:10: FutureWarning: suggest_int() got {'step'} as positional arguments but they were expected to be given as keyword arguments.\n",
      "Positional arguments ['self', 'name', 'low', 'high', 'step', 'log'] in suggest_int() have been deprecated since v3.5.0. They will be replaced with the corresponding keyword arguments in v5.0.0, so please use the keyword specification instead. See https://github.com/optuna/optuna/releases/tag/v3.5.0 for details.\n",
      "  'min_samples_split': trial.suggest_int('min_samples_split', 2, 6, 1),\n",
      "/var/folders/dp/2nhmtbqj49v3st8xl2stwglw0000gn/T/ipykernel_57922/4018334785.py:11: FutureWarning: suggest_int() got {'step'} as positional arguments but they were expected to be given as keyword arguments.\n",
      "Positional arguments ['self', 'name', 'low', 'high', 'step', 'log'] in suggest_int() have been deprecated since v3.5.0. They will be replaced with the corresponding keyword arguments in v5.0.0, so please use the keyword specification instead. See https://github.com/optuna/optuna/releases/tag/v3.5.0 for details.\n",
      "  'min_samples_leaf': trial.suggest_int('min_samples_leaf', 1, 4, 1),\n"
     ]
    },
    {
     "name": "stdout",
     "output_type": "stream",
     "text": [
      "🏃 View run adventurous-asp-590 at: http://127.0.0.1:5000/#/experiments/3/runs/664b6268796644399cd988ca96860337\n",
      "🧪 View experiment at: http://127.0.0.1:5000/#/experiments/3\n"
     ]
    },
    {
     "name": "stderr",
     "output_type": "stream",
     "text": [
      "2025/10/29 20:30:53 WARNING mlflow.utils.environment: Failed to resolve installed pip version. ``pip`` will be added to conda.yaml environment spec without a version specifier.\n",
      "[I 2025-10-29 20:30:53,986] Trial 8 finished with value: 5.094393065099152 and parameters: {'n_estimators': 12, 'max_depth': 19, 'min_samples_split': 6, 'min_samples_leaf': 4}. Best is trial 2 with value: 5.034253440524673.\n",
      "/var/folders/dp/2nhmtbqj49v3st8xl2stwglw0000gn/T/ipykernel_57922/4018334785.py:8: FutureWarning: suggest_int() got {'step'} as positional arguments but they were expected to be given as keyword arguments.\n",
      "Positional arguments ['self', 'name', 'low', 'high', 'step', 'log'] in suggest_int() have been deprecated since v3.5.0. They will be replaced with the corresponding keyword arguments in v5.0.0, so please use the keyword specification instead. See https://github.com/optuna/optuna/releases/tag/v3.5.0 for details.\n",
      "  'n_estimators': trial.suggest_int('n_estimators', 10, 50, 1),\n",
      "/var/folders/dp/2nhmtbqj49v3st8xl2stwglw0000gn/T/ipykernel_57922/4018334785.py:9: FutureWarning: suggest_int() got {'step'} as positional arguments but they were expected to be given as keyword arguments.\n",
      "Positional arguments ['self', 'name', 'low', 'high', 'step', 'log'] in suggest_int() have been deprecated since v3.5.0. They will be replaced with the corresponding keyword arguments in v5.0.0, so please use the keyword specification instead. See https://github.com/optuna/optuna/releases/tag/v3.5.0 for details.\n",
      "  'max_depth': trial.suggest_int('max_depth', 1, 20, 1),\n",
      "/var/folders/dp/2nhmtbqj49v3st8xl2stwglw0000gn/T/ipykernel_57922/4018334785.py:10: FutureWarning: suggest_int() got {'step'} as positional arguments but they were expected to be given as keyword arguments.\n",
      "Positional arguments ['self', 'name', 'low', 'high', 'step', 'log'] in suggest_int() have been deprecated since v3.5.0. They will be replaced with the corresponding keyword arguments in v5.0.0, so please use the keyword specification instead. See https://github.com/optuna/optuna/releases/tag/v3.5.0 for details.\n",
      "  'min_samples_split': trial.suggest_int('min_samples_split', 2, 6, 1),\n",
      "/var/folders/dp/2nhmtbqj49v3st8xl2stwglw0000gn/T/ipykernel_57922/4018334785.py:11: FutureWarning: suggest_int() got {'step'} as positional arguments but they were expected to be given as keyword arguments.\n",
      "Positional arguments ['self', 'name', 'low', 'high', 'step', 'log'] in suggest_int() have been deprecated since v3.5.0. They will be replaced with the corresponding keyword arguments in v5.0.0, so please use the keyword specification instead. See https://github.com/optuna/optuna/releases/tag/v3.5.0 for details.\n",
      "  'min_samples_leaf': trial.suggest_int('min_samples_leaf', 1, 4, 1),\n"
     ]
    },
    {
     "name": "stdout",
     "output_type": "stream",
     "text": [
      "🏃 View run intelligent-pug-370 at: http://127.0.0.1:5000/#/experiments/3/runs/62458e0f21a7428bb0b2aed2381da6ba\n",
      "🧪 View experiment at: http://127.0.0.1:5000/#/experiments/3\n"
     ]
    },
    {
     "name": "stderr",
     "output_type": "stream",
     "text": [
      "2025/10/29 20:30:55 WARNING mlflow.utils.environment: Failed to resolve installed pip version. ``pip`` will be added to conda.yaml environment spec without a version specifier.\n",
      "[I 2025-10-29 20:30:55,403] Trial 9 finished with value: 6.336044899923993 and parameters: {'n_estimators': 22, 'max_depth': 2, 'min_samples_split': 5, 'min_samples_leaf': 2}. Best is trial 2 with value: 5.034253440524673.\n",
      "/var/folders/dp/2nhmtbqj49v3st8xl2stwglw0000gn/T/ipykernel_57922/4018334785.py:8: FutureWarning: suggest_int() got {'step'} as positional arguments but they were expected to be given as keyword arguments.\n",
      "Positional arguments ['self', 'name', 'low', 'high', 'step', 'log'] in suggest_int() have been deprecated since v3.5.0. They will be replaced with the corresponding keyword arguments in v5.0.0, so please use the keyword specification instead. See https://github.com/optuna/optuna/releases/tag/v3.5.0 for details.\n",
      "  'n_estimators': trial.suggest_int('n_estimators', 10, 50, 1),\n",
      "/var/folders/dp/2nhmtbqj49v3st8xl2stwglw0000gn/T/ipykernel_57922/4018334785.py:9: FutureWarning: suggest_int() got {'step'} as positional arguments but they were expected to be given as keyword arguments.\n",
      "Positional arguments ['self', 'name', 'low', 'high', 'step', 'log'] in suggest_int() have been deprecated since v3.5.0. They will be replaced with the corresponding keyword arguments in v5.0.0, so please use the keyword specification instead. See https://github.com/optuna/optuna/releases/tag/v3.5.0 for details.\n",
      "  'max_depth': trial.suggest_int('max_depth', 1, 20, 1),\n",
      "/var/folders/dp/2nhmtbqj49v3st8xl2stwglw0000gn/T/ipykernel_57922/4018334785.py:10: FutureWarning: suggest_int() got {'step'} as positional arguments but they were expected to be given as keyword arguments.\n",
      "Positional arguments ['self', 'name', 'low', 'high', 'step', 'log'] in suggest_int() have been deprecated since v3.5.0. They will be replaced with the corresponding keyword arguments in v5.0.0, so please use the keyword specification instead. See https://github.com/optuna/optuna/releases/tag/v3.5.0 for details.\n",
      "  'min_samples_split': trial.suggest_int('min_samples_split', 2, 6, 1),\n",
      "/var/folders/dp/2nhmtbqj49v3st8xl2stwglw0000gn/T/ipykernel_57922/4018334785.py:11: FutureWarning: suggest_int() got {'step'} as positional arguments but they were expected to be given as keyword arguments.\n",
      "Positional arguments ['self', 'name', 'low', 'high', 'step', 'log'] in suggest_int() have been deprecated since v3.5.0. They will be replaced with the corresponding keyword arguments in v5.0.0, so please use the keyword specification instead. See https://github.com/optuna/optuna/releases/tag/v3.5.0 for details.\n",
      "  'min_samples_leaf': trial.suggest_int('min_samples_leaf', 1, 4, 1),\n"
     ]
    },
    {
     "name": "stdout",
     "output_type": "stream",
     "text": [
      "🏃 View run placid-dog-810 at: http://127.0.0.1:5000/#/experiments/3/runs/2fe55844c15e48d99b22f5778f7d2f37\n",
      "🧪 View experiment at: http://127.0.0.1:5000/#/experiments/3\n"
     ]
    },
    {
     "name": "stderr",
     "output_type": "stream",
     "text": [
      "2025/10/29 20:30:56 WARNING mlflow.utils.environment: Failed to resolve installed pip version. ``pip`` will be added to conda.yaml environment spec without a version specifier.\n",
      "[I 2025-10-29 20:30:57,202] Trial 10 finished with value: 5.064462753752107 and parameters: {'n_estimators': 49, 'max_depth': 12, 'min_samples_split': 3, 'min_samples_leaf': 4}. Best is trial 2 with value: 5.034253440524673.\n"
     ]
    },
    {
     "name": "stdout",
     "output_type": "stream",
     "text": [
      "🏃 View run overjoyed-kit-614 at: http://127.0.0.1:5000/#/experiments/3/runs/121493fc40a346299ff5627b1ce7d92f\n",
      "🧪 View experiment at: http://127.0.0.1:5000/#/experiments/3\n"
     ]
    },
    {
     "name": "stderr",
     "output_type": "stream",
     "text": [
      "/var/folders/dp/2nhmtbqj49v3st8xl2stwglw0000gn/T/ipykernel_57922/4018334785.py:8: FutureWarning: suggest_int() got {'step'} as positional arguments but they were expected to be given as keyword arguments.\n",
      "Positional arguments ['self', 'name', 'low', 'high', 'step', 'log'] in suggest_int() have been deprecated since v3.5.0. They will be replaced with the corresponding keyword arguments in v5.0.0, so please use the keyword specification instead. See https://github.com/optuna/optuna/releases/tag/v3.5.0 for details.\n",
      "  'n_estimators': trial.suggest_int('n_estimators', 10, 50, 1),\n",
      "/var/folders/dp/2nhmtbqj49v3st8xl2stwglw0000gn/T/ipykernel_57922/4018334785.py:9: FutureWarning: suggest_int() got {'step'} as positional arguments but they were expected to be given as keyword arguments.\n",
      "Positional arguments ['self', 'name', 'low', 'high', 'step', 'log'] in suggest_int() have been deprecated since v3.5.0. They will be replaced with the corresponding keyword arguments in v5.0.0, so please use the keyword specification instead. See https://github.com/optuna/optuna/releases/tag/v3.5.0 for details.\n",
      "  'max_depth': trial.suggest_int('max_depth', 1, 20, 1),\n",
      "/var/folders/dp/2nhmtbqj49v3st8xl2stwglw0000gn/T/ipykernel_57922/4018334785.py:10: FutureWarning: suggest_int() got {'step'} as positional arguments but they were expected to be given as keyword arguments.\n",
      "Positional arguments ['self', 'name', 'low', 'high', 'step', 'log'] in suggest_int() have been deprecated since v3.5.0. They will be replaced with the corresponding keyword arguments in v5.0.0, so please use the keyword specification instead. See https://github.com/optuna/optuna/releases/tag/v3.5.0 for details.\n",
      "  'min_samples_split': trial.suggest_int('min_samples_split', 2, 6, 1),\n",
      "/var/folders/dp/2nhmtbqj49v3st8xl2stwglw0000gn/T/ipykernel_57922/4018334785.py:11: FutureWarning: suggest_int() got {'step'} as positional arguments but they were expected to be given as keyword arguments.\n",
      "Positional arguments ['self', 'name', 'low', 'high', 'step', 'log'] in suggest_int() have been deprecated since v3.5.0. They will be replaced with the corresponding keyword arguments in v5.0.0, so please use the keyword specification instead. See https://github.com/optuna/optuna/releases/tag/v3.5.0 for details.\n",
      "  'min_samples_leaf': trial.suggest_int('min_samples_leaf', 1, 4, 1),\n",
      "2025/10/29 20:30:58 WARNING mlflow.utils.environment: Failed to resolve installed pip version. ``pip`` will be added to conda.yaml environment spec without a version specifier.\n",
      "[I 2025-10-29 20:30:59,184] Trial 11 finished with value: 5.033635769877937 and parameters: {'n_estimators': 39, 'max_depth': 15, 'min_samples_split': 2, 'min_samples_leaf': 3}. Best is trial 11 with value: 5.033635769877937.\n"
     ]
    },
    {
     "name": "stdout",
     "output_type": "stream",
     "text": [
      "🏃 View run resilient-lark-446 at: http://127.0.0.1:5000/#/experiments/3/runs/47ebb47872f44d58b8d7232e54d3cffc\n",
      "🧪 View experiment at: http://127.0.0.1:5000/#/experiments/3\n"
     ]
    },
    {
     "name": "stderr",
     "output_type": "stream",
     "text": [
      "/var/folders/dp/2nhmtbqj49v3st8xl2stwglw0000gn/T/ipykernel_57922/4018334785.py:8: FutureWarning: suggest_int() got {'step'} as positional arguments but they were expected to be given as keyword arguments.\n",
      "Positional arguments ['self', 'name', 'low', 'high', 'step', 'log'] in suggest_int() have been deprecated since v3.5.0. They will be replaced with the corresponding keyword arguments in v5.0.0, so please use the keyword specification instead. See https://github.com/optuna/optuna/releases/tag/v3.5.0 for details.\n",
      "  'n_estimators': trial.suggest_int('n_estimators', 10, 50, 1),\n",
      "/var/folders/dp/2nhmtbqj49v3st8xl2stwglw0000gn/T/ipykernel_57922/4018334785.py:9: FutureWarning: suggest_int() got {'step'} as positional arguments but they were expected to be given as keyword arguments.\n",
      "Positional arguments ['self', 'name', 'low', 'high', 'step', 'log'] in suggest_int() have been deprecated since v3.5.0. They will be replaced with the corresponding keyword arguments in v5.0.0, so please use the keyword specification instead. See https://github.com/optuna/optuna/releases/tag/v3.5.0 for details.\n",
      "  'max_depth': trial.suggest_int('max_depth', 1, 20, 1),\n",
      "/var/folders/dp/2nhmtbqj49v3st8xl2stwglw0000gn/T/ipykernel_57922/4018334785.py:10: FutureWarning: suggest_int() got {'step'} as positional arguments but they were expected to be given as keyword arguments.\n",
      "Positional arguments ['self', 'name', 'low', 'high', 'step', 'log'] in suggest_int() have been deprecated since v3.5.0. They will be replaced with the corresponding keyword arguments in v5.0.0, so please use the keyword specification instead. See https://github.com/optuna/optuna/releases/tag/v3.5.0 for details.\n",
      "  'min_samples_split': trial.suggest_int('min_samples_split', 2, 6, 1),\n",
      "/var/folders/dp/2nhmtbqj49v3st8xl2stwglw0000gn/T/ipykernel_57922/4018334785.py:11: FutureWarning: suggest_int() got {'step'} as positional arguments but they were expected to be given as keyword arguments.\n",
      "Positional arguments ['self', 'name', 'low', 'high', 'step', 'log'] in suggest_int() have been deprecated since v3.5.0. They will be replaced with the corresponding keyword arguments in v5.0.0, so please use the keyword specification instead. See https://github.com/optuna/optuna/releases/tag/v3.5.0 for details.\n",
      "  'min_samples_leaf': trial.suggest_int('min_samples_leaf', 1, 4, 1),\n",
      "2025/10/29 20:31:00 WARNING mlflow.utils.environment: Failed to resolve installed pip version. ``pip`` will be added to conda.yaml environment spec without a version specifier.\n",
      "[I 2025-10-29 20:31:01,248] Trial 12 finished with value: 5.033684444059398 and parameters: {'n_estimators': 40, 'max_depth': 15, 'min_samples_split': 3, 'min_samples_leaf': 3}. Best is trial 11 with value: 5.033635769877937.\n"
     ]
    },
    {
     "name": "stdout",
     "output_type": "stream",
     "text": [
      "🏃 View run bold-owl-184 at: http://127.0.0.1:5000/#/experiments/3/runs/258ba3608022459ea680f0273bee3312\n",
      "🧪 View experiment at: http://127.0.0.1:5000/#/experiments/3\n"
     ]
    },
    {
     "name": "stderr",
     "output_type": "stream",
     "text": [
      "/var/folders/dp/2nhmtbqj49v3st8xl2stwglw0000gn/T/ipykernel_57922/4018334785.py:8: FutureWarning: suggest_int() got {'step'} as positional arguments but they were expected to be given as keyword arguments.\n",
      "Positional arguments ['self', 'name', 'low', 'high', 'step', 'log'] in suggest_int() have been deprecated since v3.5.0. They will be replaced with the corresponding keyword arguments in v5.0.0, so please use the keyword specification instead. See https://github.com/optuna/optuna/releases/tag/v3.5.0 for details.\n",
      "  'n_estimators': trial.suggest_int('n_estimators', 10, 50, 1),\n",
      "/var/folders/dp/2nhmtbqj49v3st8xl2stwglw0000gn/T/ipykernel_57922/4018334785.py:9: FutureWarning: suggest_int() got {'step'} as positional arguments but they were expected to be given as keyword arguments.\n",
      "Positional arguments ['self', 'name', 'low', 'high', 'step', 'log'] in suggest_int() have been deprecated since v3.5.0. They will be replaced with the corresponding keyword arguments in v5.0.0, so please use the keyword specification instead. See https://github.com/optuna/optuna/releases/tag/v3.5.0 for details.\n",
      "  'max_depth': trial.suggest_int('max_depth', 1, 20, 1),\n",
      "/var/folders/dp/2nhmtbqj49v3st8xl2stwglw0000gn/T/ipykernel_57922/4018334785.py:10: FutureWarning: suggest_int() got {'step'} as positional arguments but they were expected to be given as keyword arguments.\n",
      "Positional arguments ['self', 'name', 'low', 'high', 'step', 'log'] in suggest_int() have been deprecated since v3.5.0. They will be replaced with the corresponding keyword arguments in v5.0.0, so please use the keyword specification instead. See https://github.com/optuna/optuna/releases/tag/v3.5.0 for details.\n",
      "  'min_samples_split': trial.suggest_int('min_samples_split', 2, 6, 1),\n",
      "/var/folders/dp/2nhmtbqj49v3st8xl2stwglw0000gn/T/ipykernel_57922/4018334785.py:11: FutureWarning: suggest_int() got {'step'} as positional arguments but they were expected to be given as keyword arguments.\n",
      "Positional arguments ['self', 'name', 'low', 'high', 'step', 'log'] in suggest_int() have been deprecated since v3.5.0. They will be replaced with the corresponding keyword arguments in v5.0.0, so please use the keyword specification instead. See https://github.com/optuna/optuna/releases/tag/v3.5.0 for details.\n",
      "  'min_samples_leaf': trial.suggest_int('min_samples_leaf', 1, 4, 1),\n",
      "2025/10/29 20:31:02 WARNING mlflow.utils.environment: Failed to resolve installed pip version. ``pip`` will be added to conda.yaml environment spec without a version specifier.\n",
      "[I 2025-10-29 20:31:02,842] Trial 13 finished with value: 5.281923842463105 and parameters: {'n_estimators': 42, 'max_depth': 8, 'min_samples_split': 3, 'min_samples_leaf': 3}. Best is trial 11 with value: 5.033635769877937.\n",
      "/var/folders/dp/2nhmtbqj49v3st8xl2stwglw0000gn/T/ipykernel_57922/4018334785.py:8: FutureWarning: suggest_int() got {'step'} as positional arguments but they were expected to be given as keyword arguments.\n",
      "Positional arguments ['self', 'name', 'low', 'high', 'step', 'log'] in suggest_int() have been deprecated since v3.5.0. They will be replaced with the corresponding keyword arguments in v5.0.0, so please use the keyword specification instead. See https://github.com/optuna/optuna/releases/tag/v3.5.0 for details.\n",
      "  'n_estimators': trial.suggest_int('n_estimators', 10, 50, 1),\n",
      "/var/folders/dp/2nhmtbqj49v3st8xl2stwglw0000gn/T/ipykernel_57922/4018334785.py:9: FutureWarning: suggest_int() got {'step'} as positional arguments but they were expected to be given as keyword arguments.\n",
      "Positional arguments ['self', 'name', 'low', 'high', 'step', 'log'] in suggest_int() have been deprecated since v3.5.0. They will be replaced with the corresponding keyword arguments in v5.0.0, so please use the keyword specification instead. See https://github.com/optuna/optuna/releases/tag/v3.5.0 for details.\n",
      "  'max_depth': trial.suggest_int('max_depth', 1, 20, 1),\n",
      "/var/folders/dp/2nhmtbqj49v3st8xl2stwglw0000gn/T/ipykernel_57922/4018334785.py:10: FutureWarning: suggest_int() got {'step'} as positional arguments but they were expected to be given as keyword arguments.\n",
      "Positional arguments ['self', 'name', 'low', 'high', 'step', 'log'] in suggest_int() have been deprecated since v3.5.0. They will be replaced with the corresponding keyword arguments in v5.0.0, so please use the keyword specification instead. See https://github.com/optuna/optuna/releases/tag/v3.5.0 for details.\n",
      "  'min_samples_split': trial.suggest_int('min_samples_split', 2, 6, 1),\n",
      "/var/folders/dp/2nhmtbqj49v3st8xl2stwglw0000gn/T/ipykernel_57922/4018334785.py:11: FutureWarning: suggest_int() got {'step'} as positional arguments but they were expected to be given as keyword arguments.\n",
      "Positional arguments ['self', 'name', 'low', 'high', 'step', 'log'] in suggest_int() have been deprecated since v3.5.0. They will be replaced with the corresponding keyword arguments in v5.0.0, so please use the keyword specification instead. See https://github.com/optuna/optuna/releases/tag/v3.5.0 for details.\n",
      "  'min_samples_leaf': trial.suggest_int('min_samples_leaf', 1, 4, 1),\n"
     ]
    },
    {
     "name": "stdout",
     "output_type": "stream",
     "text": [
      "🏃 View run skillful-swan-848 at: http://127.0.0.1:5000/#/experiments/3/runs/37a67bcf671b405dafd99afcfd9d0862\n",
      "🧪 View experiment at: http://127.0.0.1:5000/#/experiments/3\n"
     ]
    },
    {
     "name": "stderr",
     "output_type": "stream",
     "text": [
      "2025/10/29 20:31:04 WARNING mlflow.utils.environment: Failed to resolve installed pip version. ``pip`` will be added to conda.yaml environment spec without a version specifier.\n",
      "[I 2025-10-29 20:31:04,855] Trial 14 finished with value: 5.033684444059398 and parameters: {'n_estimators': 40, 'max_depth': 15, 'min_samples_split': 3, 'min_samples_leaf': 3}. Best is trial 11 with value: 5.033635769877937.\n"
     ]
    },
    {
     "name": "stdout",
     "output_type": "stream",
     "text": [
      "🏃 View run silent-crow-252 at: http://127.0.0.1:5000/#/experiments/3/runs/24d804d5df864e8b9efae59935945f16\n",
      "🧪 View experiment at: http://127.0.0.1:5000/#/experiments/3\n"
     ]
    },
    {
     "name": "stderr",
     "output_type": "stream",
     "text": [
      "/var/folders/dp/2nhmtbqj49v3st8xl2stwglw0000gn/T/ipykernel_57922/4018334785.py:8: FutureWarning: suggest_int() got {'step'} as positional arguments but they were expected to be given as keyword arguments.\n",
      "Positional arguments ['self', 'name', 'low', 'high', 'step', 'log'] in suggest_int() have been deprecated since v3.5.0. They will be replaced with the corresponding keyword arguments in v5.0.0, so please use the keyword specification instead. See https://github.com/optuna/optuna/releases/tag/v3.5.0 for details.\n",
      "  'n_estimators': trial.suggest_int('n_estimators', 10, 50, 1),\n",
      "/var/folders/dp/2nhmtbqj49v3st8xl2stwglw0000gn/T/ipykernel_57922/4018334785.py:9: FutureWarning: suggest_int() got {'step'} as positional arguments but they were expected to be given as keyword arguments.\n",
      "Positional arguments ['self', 'name', 'low', 'high', 'step', 'log'] in suggest_int() have been deprecated since v3.5.0. They will be replaced with the corresponding keyword arguments in v5.0.0, so please use the keyword specification instead. See https://github.com/optuna/optuna/releases/tag/v3.5.0 for details.\n",
      "  'max_depth': trial.suggest_int('max_depth', 1, 20, 1),\n",
      "/var/folders/dp/2nhmtbqj49v3st8xl2stwglw0000gn/T/ipykernel_57922/4018334785.py:10: FutureWarning: suggest_int() got {'step'} as positional arguments but they were expected to be given as keyword arguments.\n",
      "Positional arguments ['self', 'name', 'low', 'high', 'step', 'log'] in suggest_int() have been deprecated since v3.5.0. They will be replaced with the corresponding keyword arguments in v5.0.0, so please use the keyword specification instead. See https://github.com/optuna/optuna/releases/tag/v3.5.0 for details.\n",
      "  'min_samples_split': trial.suggest_int('min_samples_split', 2, 6, 1),\n",
      "/var/folders/dp/2nhmtbqj49v3st8xl2stwglw0000gn/T/ipykernel_57922/4018334785.py:11: FutureWarning: suggest_int() got {'step'} as positional arguments but they were expected to be given as keyword arguments.\n",
      "Positional arguments ['self', 'name', 'low', 'high', 'step', 'log'] in suggest_int() have been deprecated since v3.5.0. They will be replaced with the corresponding keyword arguments in v5.0.0, so please use the keyword specification instead. See https://github.com/optuna/optuna/releases/tag/v3.5.0 for details.\n",
      "  'min_samples_leaf': trial.suggest_int('min_samples_leaf', 1, 4, 1),\n",
      "2025/10/29 20:31:06 WARNING mlflow.utils.environment: Failed to resolve installed pip version. ``pip`` will be added to conda.yaml environment spec without a version specifier.\n",
      "[I 2025-10-29 20:31:07,451] Trial 15 finished with value: 5.039452112224246 and parameters: {'n_estimators': 49, 'max_depth': 17, 'min_samples_split': 4, 'min_samples_leaf': 3}. Best is trial 11 with value: 5.033635769877937.\n"
     ]
    },
    {
     "name": "stdout",
     "output_type": "stream",
     "text": [
      "🏃 View run hilarious-bass-585 at: http://127.0.0.1:5000/#/experiments/3/runs/6c403250b7b9408ea2256bf2f61a6240\n",
      "🧪 View experiment at: http://127.0.0.1:5000/#/experiments/3\n"
     ]
    },
    {
     "name": "stderr",
     "output_type": "stream",
     "text": [
      "/var/folders/dp/2nhmtbqj49v3st8xl2stwglw0000gn/T/ipykernel_57922/4018334785.py:8: FutureWarning: suggest_int() got {'step'} as positional arguments but they were expected to be given as keyword arguments.\n",
      "Positional arguments ['self', 'name', 'low', 'high', 'step', 'log'] in suggest_int() have been deprecated since v3.5.0. They will be replaced with the corresponding keyword arguments in v5.0.0, so please use the keyword specification instead. See https://github.com/optuna/optuna/releases/tag/v3.5.0 for details.\n",
      "  'n_estimators': trial.suggest_int('n_estimators', 10, 50, 1),\n",
      "/var/folders/dp/2nhmtbqj49v3st8xl2stwglw0000gn/T/ipykernel_57922/4018334785.py:9: FutureWarning: suggest_int() got {'step'} as positional arguments but they were expected to be given as keyword arguments.\n",
      "Positional arguments ['self', 'name', 'low', 'high', 'step', 'log'] in suggest_int() have been deprecated since v3.5.0. They will be replaced with the corresponding keyword arguments in v5.0.0, so please use the keyword specification instead. See https://github.com/optuna/optuna/releases/tag/v3.5.0 for details.\n",
      "  'max_depth': trial.suggest_int('max_depth', 1, 20, 1),\n",
      "/var/folders/dp/2nhmtbqj49v3st8xl2stwglw0000gn/T/ipykernel_57922/4018334785.py:10: FutureWarning: suggest_int() got {'step'} as positional arguments but they were expected to be given as keyword arguments.\n",
      "Positional arguments ['self', 'name', 'low', 'high', 'step', 'log'] in suggest_int() have been deprecated since v3.5.0. They will be replaced with the corresponding keyword arguments in v5.0.0, so please use the keyword specification instead. See https://github.com/optuna/optuna/releases/tag/v3.5.0 for details.\n",
      "  'min_samples_split': trial.suggest_int('min_samples_split', 2, 6, 1),\n",
      "/var/folders/dp/2nhmtbqj49v3st8xl2stwglw0000gn/T/ipykernel_57922/4018334785.py:11: FutureWarning: suggest_int() got {'step'} as positional arguments but they were expected to be given as keyword arguments.\n",
      "Positional arguments ['self', 'name', 'low', 'high', 'step', 'log'] in suggest_int() have been deprecated since v3.5.0. They will be replaced with the corresponding keyword arguments in v5.0.0, so please use the keyword specification instead. See https://github.com/optuna/optuna/releases/tag/v3.5.0 for details.\n",
      "  'min_samples_leaf': trial.suggest_int('min_samples_leaf', 1, 4, 1),\n",
      "2025/10/29 20:31:09 WARNING mlflow.utils.environment: Failed to resolve installed pip version. ``pip`` will be added to conda.yaml environment spec without a version specifier.\n",
      "[I 2025-10-29 20:31:09,262] Trial 16 finished with value: 5.041868575174429 and parameters: {'n_estimators': 38, 'max_depth': 13, 'min_samples_split': 3, 'min_samples_leaf': 2}. Best is trial 11 with value: 5.033635769877937.\n"
     ]
    },
    {
     "name": "stdout",
     "output_type": "stream",
     "text": [
      "🏃 View run fearless-hog-440 at: http://127.0.0.1:5000/#/experiments/3/runs/4c8dfc98d4ee4358a0c71d2019cbb9d8\n",
      "🧪 View experiment at: http://127.0.0.1:5000/#/experiments/3\n"
     ]
    },
    {
     "name": "stderr",
     "output_type": "stream",
     "text": [
      "/var/folders/dp/2nhmtbqj49v3st8xl2stwglw0000gn/T/ipykernel_57922/4018334785.py:8: FutureWarning: suggest_int() got {'step'} as positional arguments but they were expected to be given as keyword arguments.\n",
      "Positional arguments ['self', 'name', 'low', 'high', 'step', 'log'] in suggest_int() have been deprecated since v3.5.0. They will be replaced with the corresponding keyword arguments in v5.0.0, so please use the keyword specification instead. See https://github.com/optuna/optuna/releases/tag/v3.5.0 for details.\n",
      "  'n_estimators': trial.suggest_int('n_estimators', 10, 50, 1),\n",
      "/var/folders/dp/2nhmtbqj49v3st8xl2stwglw0000gn/T/ipykernel_57922/4018334785.py:9: FutureWarning: suggest_int() got {'step'} as positional arguments but they were expected to be given as keyword arguments.\n",
      "Positional arguments ['self', 'name', 'low', 'high', 'step', 'log'] in suggest_int() have been deprecated since v3.5.0. They will be replaced with the corresponding keyword arguments in v5.0.0, so please use the keyword specification instead. See https://github.com/optuna/optuna/releases/tag/v3.5.0 for details.\n",
      "  'max_depth': trial.suggest_int('max_depth', 1, 20, 1),\n",
      "/var/folders/dp/2nhmtbqj49v3st8xl2stwglw0000gn/T/ipykernel_57922/4018334785.py:10: FutureWarning: suggest_int() got {'step'} as positional arguments but they were expected to be given as keyword arguments.\n",
      "Positional arguments ['self', 'name', 'low', 'high', 'step', 'log'] in suggest_int() have been deprecated since v3.5.0. They will be replaced with the corresponding keyword arguments in v5.0.0, so please use the keyword specification instead. See https://github.com/optuna/optuna/releases/tag/v3.5.0 for details.\n",
      "  'min_samples_split': trial.suggest_int('min_samples_split', 2, 6, 1),\n",
      "/var/folders/dp/2nhmtbqj49v3st8xl2stwglw0000gn/T/ipykernel_57922/4018334785.py:11: FutureWarning: suggest_int() got {'step'} as positional arguments but they were expected to be given as keyword arguments.\n",
      "Positional arguments ['self', 'name', 'low', 'high', 'step', 'log'] in suggest_int() have been deprecated since v3.5.0. They will be replaced with the corresponding keyword arguments in v5.0.0, so please use the keyword specification instead. See https://github.com/optuna/optuna/releases/tag/v3.5.0 for details.\n",
      "  'min_samples_leaf': trial.suggest_int('min_samples_leaf', 1, 4, 1),\n",
      "2025/10/29 20:31:10 WARNING mlflow.utils.environment: Failed to resolve installed pip version. ``pip`` will be added to conda.yaml environment spec without a version specifier.\n",
      "[I 2025-10-29 20:31:11,001] Trial 17 finished with value: 5.205312767332672 and parameters: {'n_estimators': 44, 'max_depth': 9, 'min_samples_split': 2, 'min_samples_leaf': 3}. Best is trial 11 with value: 5.033635769877937.\n",
      "/var/folders/dp/2nhmtbqj49v3st8xl2stwglw0000gn/T/ipykernel_57922/4018334785.py:8: FutureWarning: suggest_int() got {'step'} as positional arguments but they were expected to be given as keyword arguments.\n",
      "Positional arguments ['self', 'name', 'low', 'high', 'step', 'log'] in suggest_int() have been deprecated since v3.5.0. They will be replaced with the corresponding keyword arguments in v5.0.0, so please use the keyword specification instead. See https://github.com/optuna/optuna/releases/tag/v3.5.0 for details.\n",
      "  'n_estimators': trial.suggest_int('n_estimators', 10, 50, 1),\n",
      "/var/folders/dp/2nhmtbqj49v3st8xl2stwglw0000gn/T/ipykernel_57922/4018334785.py:9: FutureWarning: suggest_int() got {'step'} as positional arguments but they were expected to be given as keyword arguments.\n",
      "Positional arguments ['self', 'name', 'low', 'high', 'step', 'log'] in suggest_int() have been deprecated since v3.5.0. They will be replaced with the corresponding keyword arguments in v5.0.0, so please use the keyword specification instead. See https://github.com/optuna/optuna/releases/tag/v3.5.0 for details.\n",
      "  'max_depth': trial.suggest_int('max_depth', 1, 20, 1),\n",
      "/var/folders/dp/2nhmtbqj49v3st8xl2stwglw0000gn/T/ipykernel_57922/4018334785.py:10: FutureWarning: suggest_int() got {'step'} as positional arguments but they were expected to be given as keyword arguments.\n",
      "Positional arguments ['self', 'name', 'low', 'high', 'step', 'log'] in suggest_int() have been deprecated since v3.5.0. They will be replaced with the corresponding keyword arguments in v5.0.0, so please use the keyword specification instead. See https://github.com/optuna/optuna/releases/tag/v3.5.0 for details.\n",
      "  'min_samples_split': trial.suggest_int('min_samples_split', 2, 6, 1),\n",
      "/var/folders/dp/2nhmtbqj49v3st8xl2stwglw0000gn/T/ipykernel_57922/4018334785.py:11: FutureWarning: suggest_int() got {'step'} as positional arguments but they were expected to be given as keyword arguments.\n",
      "Positional arguments ['self', 'name', 'low', 'high', 'step', 'log'] in suggest_int() have been deprecated since v3.5.0. They will be replaced with the corresponding keyword arguments in v5.0.0, so please use the keyword specification instead. See https://github.com/optuna/optuna/releases/tag/v3.5.0 for details.\n",
      "  'min_samples_leaf': trial.suggest_int('min_samples_leaf', 1, 4, 1),\n"
     ]
    },
    {
     "name": "stdout",
     "output_type": "stream",
     "text": [
      "🏃 View run exultant-owl-438 at: http://127.0.0.1:5000/#/experiments/3/runs/290031096a8d4029abe6b584eef3726d\n",
      "🧪 View experiment at: http://127.0.0.1:5000/#/experiments/3\n"
     ]
    },
    {
     "name": "stderr",
     "output_type": "stream",
     "text": [
      "2025/10/29 20:31:12 WARNING mlflow.utils.environment: Failed to resolve installed pip version. ``pip`` will be added to conda.yaml environment spec without a version specifier.\n",
      "[I 2025-10-29 20:31:13,222] Trial 18 finished with value: 5.081236476207649 and parameters: {'n_estimators': 30, 'max_depth': 18, 'min_samples_split': 4, 'min_samples_leaf': 2}. Best is trial 11 with value: 5.033635769877937.\n"
     ]
    },
    {
     "name": "stdout",
     "output_type": "stream",
     "text": [
      "🏃 View run crawling-perch-92 at: http://127.0.0.1:5000/#/experiments/3/runs/5b8995d1125f487cac0593859a6acbb5\n",
      "🧪 View experiment at: http://127.0.0.1:5000/#/experiments/3\n"
     ]
    },
    {
     "name": "stderr",
     "output_type": "stream",
     "text": [
      "/var/folders/dp/2nhmtbqj49v3st8xl2stwglw0000gn/T/ipykernel_57922/4018334785.py:8: FutureWarning: suggest_int() got {'step'} as positional arguments but they were expected to be given as keyword arguments.\n",
      "Positional arguments ['self', 'name', 'low', 'high', 'step', 'log'] in suggest_int() have been deprecated since v3.5.0. They will be replaced with the corresponding keyword arguments in v5.0.0, so please use the keyword specification instead. See https://github.com/optuna/optuna/releases/tag/v3.5.0 for details.\n",
      "  'n_estimators': trial.suggest_int('n_estimators', 10, 50, 1),\n",
      "/var/folders/dp/2nhmtbqj49v3st8xl2stwglw0000gn/T/ipykernel_57922/4018334785.py:9: FutureWarning: suggest_int() got {'step'} as positional arguments but they were expected to be given as keyword arguments.\n",
      "Positional arguments ['self', 'name', 'low', 'high', 'step', 'log'] in suggest_int() have been deprecated since v3.5.0. They will be replaced with the corresponding keyword arguments in v5.0.0, so please use the keyword specification instead. See https://github.com/optuna/optuna/releases/tag/v3.5.0 for details.\n",
      "  'max_depth': trial.suggest_int('max_depth', 1, 20, 1),\n",
      "/var/folders/dp/2nhmtbqj49v3st8xl2stwglw0000gn/T/ipykernel_57922/4018334785.py:10: FutureWarning: suggest_int() got {'step'} as positional arguments but they were expected to be given as keyword arguments.\n",
      "Positional arguments ['self', 'name', 'low', 'high', 'step', 'log'] in suggest_int() have been deprecated since v3.5.0. They will be replaced with the corresponding keyword arguments in v5.0.0, so please use the keyword specification instead. See https://github.com/optuna/optuna/releases/tag/v3.5.0 for details.\n",
      "  'min_samples_split': trial.suggest_int('min_samples_split', 2, 6, 1),\n",
      "/var/folders/dp/2nhmtbqj49v3st8xl2stwglw0000gn/T/ipykernel_57922/4018334785.py:11: FutureWarning: suggest_int() got {'step'} as positional arguments but they were expected to be given as keyword arguments.\n",
      "Positional arguments ['self', 'name', 'low', 'high', 'step', 'log'] in suggest_int() have been deprecated since v3.5.0. They will be replaced with the corresponding keyword arguments in v5.0.0, so please use the keyword specification instead. See https://github.com/optuna/optuna/releases/tag/v3.5.0 for details.\n",
      "  'min_samples_leaf': trial.suggest_int('min_samples_leaf', 1, 4, 1),\n",
      "2025/10/29 20:31:14 WARNING mlflow.utils.environment: Failed to resolve installed pip version. ``pip`` will be added to conda.yaml environment spec without a version specifier.\n",
      "[I 2025-10-29 20:31:14,945] Trial 19 finished with value: 5.044615244765136 and parameters: {'n_estimators': 37, 'max_depth': 13, 'min_samples_split': 3, 'min_samples_leaf': 4}. Best is trial 11 with value: 5.033635769877937.\n"
     ]
    },
    {
     "name": "stdout",
     "output_type": "stream",
     "text": [
      "🏃 View run redolent-kite-554 at: http://127.0.0.1:5000/#/experiments/3/runs/dabf2cf7d77646ca9f919c3a2261b4ac\n",
      "🧪 View experiment at: http://127.0.0.1:5000/#/experiments/3\n"
     ]
    },
    {
     "name": "stderr",
     "output_type": "stream",
     "text": [
      "/var/folders/dp/2nhmtbqj49v3st8xl2stwglw0000gn/T/ipykernel_57922/4018334785.py:8: FutureWarning: suggest_int() got {'step'} as positional arguments but they were expected to be given as keyword arguments.\n",
      "Positional arguments ['self', 'name', 'low', 'high', 'step', 'log'] in suggest_int() have been deprecated since v3.5.0. They will be replaced with the corresponding keyword arguments in v5.0.0, so please use the keyword specification instead. See https://github.com/optuna/optuna/releases/tag/v3.5.0 for details.\n",
      "  'n_estimators': trial.suggest_int('n_estimators', 10, 50, 1),\n",
      "/var/folders/dp/2nhmtbqj49v3st8xl2stwglw0000gn/T/ipykernel_57922/4018334785.py:9: FutureWarning: suggest_int() got {'step'} as positional arguments but they were expected to be given as keyword arguments.\n",
      "Positional arguments ['self', 'name', 'low', 'high', 'step', 'log'] in suggest_int() have been deprecated since v3.5.0. They will be replaced with the corresponding keyword arguments in v5.0.0, so please use the keyword specification instead. See https://github.com/optuna/optuna/releases/tag/v3.5.0 for details.\n",
      "  'max_depth': trial.suggest_int('max_depth', 1, 20, 1),\n",
      "/var/folders/dp/2nhmtbqj49v3st8xl2stwglw0000gn/T/ipykernel_57922/4018334785.py:10: FutureWarning: suggest_int() got {'step'} as positional arguments but they were expected to be given as keyword arguments.\n",
      "Positional arguments ['self', 'name', 'low', 'high', 'step', 'log'] in suggest_int() have been deprecated since v3.5.0. They will be replaced with the corresponding keyword arguments in v5.0.0, so please use the keyword specification instead. See https://github.com/optuna/optuna/releases/tag/v3.5.0 for details.\n",
      "  'min_samples_split': trial.suggest_int('min_samples_split', 2, 6, 1),\n",
      "/var/folders/dp/2nhmtbqj49v3st8xl2stwglw0000gn/T/ipykernel_57922/4018334785.py:11: FutureWarning: suggest_int() got {'step'} as positional arguments but they were expected to be given as keyword arguments.\n",
      "Positional arguments ['self', 'name', 'low', 'high', 'step', 'log'] in suggest_int() have been deprecated since v3.5.0. They will be replaced with the corresponding keyword arguments in v5.0.0, so please use the keyword specification instead. See https://github.com/optuna/optuna/releases/tag/v3.5.0 for details.\n",
      "  'min_samples_leaf': trial.suggest_int('min_samples_leaf', 1, 4, 1),\n",
      "2025/10/29 20:31:16 WARNING mlflow.utils.environment: Failed to resolve installed pip version. ``pip`` will be added to conda.yaml environment spec without a version specifier.\n",
      "[I 2025-10-29 20:31:16,584] Trial 20 finished with value: 5.361083070887944 and parameters: {'n_estimators': 46, 'max_depth': 7, 'min_samples_split': 2, 'min_samples_leaf': 3}. Best is trial 11 with value: 5.033635769877937.\n",
      "/var/folders/dp/2nhmtbqj49v3st8xl2stwglw0000gn/T/ipykernel_57922/4018334785.py:8: FutureWarning: suggest_int() got {'step'} as positional arguments but they were expected to be given as keyword arguments.\n",
      "Positional arguments ['self', 'name', 'low', 'high', 'step', 'log'] in suggest_int() have been deprecated since v3.5.0. They will be replaced with the corresponding keyword arguments in v5.0.0, so please use the keyword specification instead. See https://github.com/optuna/optuna/releases/tag/v3.5.0 for details.\n",
      "  'n_estimators': trial.suggest_int('n_estimators', 10, 50, 1),\n",
      "/var/folders/dp/2nhmtbqj49v3st8xl2stwglw0000gn/T/ipykernel_57922/4018334785.py:9: FutureWarning: suggest_int() got {'step'} as positional arguments but they were expected to be given as keyword arguments.\n",
      "Positional arguments ['self', 'name', 'low', 'high', 'step', 'log'] in suggest_int() have been deprecated since v3.5.0. They will be replaced with the corresponding keyword arguments in v5.0.0, so please use the keyword specification instead. See https://github.com/optuna/optuna/releases/tag/v3.5.0 for details.\n",
      "  'max_depth': trial.suggest_int('max_depth', 1, 20, 1),\n",
      "/var/folders/dp/2nhmtbqj49v3st8xl2stwglw0000gn/T/ipykernel_57922/4018334785.py:10: FutureWarning: suggest_int() got {'step'} as positional arguments but they were expected to be given as keyword arguments.\n",
      "Positional arguments ['self', 'name', 'low', 'high', 'step', 'log'] in suggest_int() have been deprecated since v3.5.0. They will be replaced with the corresponding keyword arguments in v5.0.0, so please use the keyword specification instead. See https://github.com/optuna/optuna/releases/tag/v3.5.0 for details.\n",
      "  'min_samples_split': trial.suggest_int('min_samples_split', 2, 6, 1),\n",
      "/var/folders/dp/2nhmtbqj49v3st8xl2stwglw0000gn/T/ipykernel_57922/4018334785.py:11: FutureWarning: suggest_int() got {'step'} as positional arguments but they were expected to be given as keyword arguments.\n",
      "Positional arguments ['self', 'name', 'low', 'high', 'step', 'log'] in suggest_int() have been deprecated since v3.5.0. They will be replaced with the corresponding keyword arguments in v5.0.0, so please use the keyword specification instead. See https://github.com/optuna/optuna/releases/tag/v3.5.0 for details.\n",
      "  'min_samples_leaf': trial.suggest_int('min_samples_leaf', 1, 4, 1),\n"
     ]
    },
    {
     "name": "stdout",
     "output_type": "stream",
     "text": [
      "🏃 View run suave-panda-602 at: http://127.0.0.1:5000/#/experiments/3/runs/f6cf238d09f34e278270cf1fa86b76b1\n",
      "🧪 View experiment at: http://127.0.0.1:5000/#/experiments/3\n"
     ]
    },
    {
     "name": "stderr",
     "output_type": "stream",
     "text": [
      "2025/10/29 20:31:18 WARNING mlflow.utils.environment: Failed to resolve installed pip version. ``pip`` will be added to conda.yaml environment spec without a version specifier.\n",
      "[I 2025-10-29 20:31:18,557] Trial 21 finished with value: 5.033684444059398 and parameters: {'n_estimators': 40, 'max_depth': 15, 'min_samples_split': 3, 'min_samples_leaf': 3}. Best is trial 11 with value: 5.033635769877937.\n"
     ]
    },
    {
     "name": "stdout",
     "output_type": "stream",
     "text": [
      "🏃 View run salty-bird-554 at: http://127.0.0.1:5000/#/experiments/3/runs/71672460bde44204ab3ba75665a8244e\n",
      "🧪 View experiment at: http://127.0.0.1:5000/#/experiments/3\n"
     ]
    },
    {
     "name": "stderr",
     "output_type": "stream",
     "text": [
      "/var/folders/dp/2nhmtbqj49v3st8xl2stwglw0000gn/T/ipykernel_57922/4018334785.py:8: FutureWarning: suggest_int() got {'step'} as positional arguments but they were expected to be given as keyword arguments.\n",
      "Positional arguments ['self', 'name', 'low', 'high', 'step', 'log'] in suggest_int() have been deprecated since v3.5.0. They will be replaced with the corresponding keyword arguments in v5.0.0, so please use the keyword specification instead. See https://github.com/optuna/optuna/releases/tag/v3.5.0 for details.\n",
      "  'n_estimators': trial.suggest_int('n_estimators', 10, 50, 1),\n",
      "/var/folders/dp/2nhmtbqj49v3st8xl2stwglw0000gn/T/ipykernel_57922/4018334785.py:9: FutureWarning: suggest_int() got {'step'} as positional arguments but they were expected to be given as keyword arguments.\n",
      "Positional arguments ['self', 'name', 'low', 'high', 'step', 'log'] in suggest_int() have been deprecated since v3.5.0. They will be replaced with the corresponding keyword arguments in v5.0.0, so please use the keyword specification instead. See https://github.com/optuna/optuna/releases/tag/v3.5.0 for details.\n",
      "  'max_depth': trial.suggest_int('max_depth', 1, 20, 1),\n",
      "/var/folders/dp/2nhmtbqj49v3st8xl2stwglw0000gn/T/ipykernel_57922/4018334785.py:10: FutureWarning: suggest_int() got {'step'} as positional arguments but they were expected to be given as keyword arguments.\n",
      "Positional arguments ['self', 'name', 'low', 'high', 'step', 'log'] in suggest_int() have been deprecated since v3.5.0. They will be replaced with the corresponding keyword arguments in v5.0.0, so please use the keyword specification instead. See https://github.com/optuna/optuna/releases/tag/v3.5.0 for details.\n",
      "  'min_samples_split': trial.suggest_int('min_samples_split', 2, 6, 1),\n",
      "/var/folders/dp/2nhmtbqj49v3st8xl2stwglw0000gn/T/ipykernel_57922/4018334785.py:11: FutureWarning: suggest_int() got {'step'} as positional arguments but they were expected to be given as keyword arguments.\n",
      "Positional arguments ['self', 'name', 'low', 'high', 'step', 'log'] in suggest_int() have been deprecated since v3.5.0. They will be replaced with the corresponding keyword arguments in v5.0.0, so please use the keyword specification instead. See https://github.com/optuna/optuna/releases/tag/v3.5.0 for details.\n",
      "  'min_samples_leaf': trial.suggest_int('min_samples_leaf', 1, 4, 1),\n",
      "2025/10/29 20:31:20 WARNING mlflow.utils.environment: Failed to resolve installed pip version. ``pip`` will be added to conda.yaml environment spec without a version specifier.\n",
      "[I 2025-10-29 20:31:20,485] Trial 22 finished with value: 5.035135890573541 and parameters: {'n_estimators': 40, 'max_depth': 14, 'min_samples_split': 3, 'min_samples_leaf': 3}. Best is trial 11 with value: 5.033635769877937.\n"
     ]
    },
    {
     "name": "stdout",
     "output_type": "stream",
     "text": [
      "🏃 View run sophisticated-jay-76 at: http://127.0.0.1:5000/#/experiments/3/runs/ef931e3901894abd978bb0cca080f922\n",
      "🧪 View experiment at: http://127.0.0.1:5000/#/experiments/3\n"
     ]
    },
    {
     "name": "stderr",
     "output_type": "stream",
     "text": [
      "/var/folders/dp/2nhmtbqj49v3st8xl2stwglw0000gn/T/ipykernel_57922/4018334785.py:8: FutureWarning: suggest_int() got {'step'} as positional arguments but they were expected to be given as keyword arguments.\n",
      "Positional arguments ['self', 'name', 'low', 'high', 'step', 'log'] in suggest_int() have been deprecated since v3.5.0. They will be replaced with the corresponding keyword arguments in v5.0.0, so please use the keyword specification instead. See https://github.com/optuna/optuna/releases/tag/v3.5.0 for details.\n",
      "  'n_estimators': trial.suggest_int('n_estimators', 10, 50, 1),\n",
      "/var/folders/dp/2nhmtbqj49v3st8xl2stwglw0000gn/T/ipykernel_57922/4018334785.py:9: FutureWarning: suggest_int() got {'step'} as positional arguments but they were expected to be given as keyword arguments.\n",
      "Positional arguments ['self', 'name', 'low', 'high', 'step', 'log'] in suggest_int() have been deprecated since v3.5.0. They will be replaced with the corresponding keyword arguments in v5.0.0, so please use the keyword specification instead. See https://github.com/optuna/optuna/releases/tag/v3.5.0 for details.\n",
      "  'max_depth': trial.suggest_int('max_depth', 1, 20, 1),\n",
      "/var/folders/dp/2nhmtbqj49v3st8xl2stwglw0000gn/T/ipykernel_57922/4018334785.py:10: FutureWarning: suggest_int() got {'step'} as positional arguments but they were expected to be given as keyword arguments.\n",
      "Positional arguments ['self', 'name', 'low', 'high', 'step', 'log'] in suggest_int() have been deprecated since v3.5.0. They will be replaced with the corresponding keyword arguments in v5.0.0, so please use the keyword specification instead. See https://github.com/optuna/optuna/releases/tag/v3.5.0 for details.\n",
      "  'min_samples_split': trial.suggest_int('min_samples_split', 2, 6, 1),\n",
      "/var/folders/dp/2nhmtbqj49v3st8xl2stwglw0000gn/T/ipykernel_57922/4018334785.py:11: FutureWarning: suggest_int() got {'step'} as positional arguments but they were expected to be given as keyword arguments.\n",
      "Positional arguments ['self', 'name', 'low', 'high', 'step', 'log'] in suggest_int() have been deprecated since v3.5.0. They will be replaced with the corresponding keyword arguments in v5.0.0, so please use the keyword specification instead. See https://github.com/optuna/optuna/releases/tag/v3.5.0 for details.\n",
      "  'min_samples_leaf': trial.suggest_int('min_samples_leaf', 1, 4, 1),\n",
      "2025/10/29 20:31:22 WARNING mlflow.utils.environment: Failed to resolve installed pip version. ``pip`` will be added to conda.yaml environment spec without a version specifier.\n",
      "[I 2025-10-29 20:31:22,551] Trial 23 finished with value: 5.046682247166786 and parameters: {'n_estimators': 33, 'max_depth': 17, 'min_samples_split': 4, 'min_samples_leaf': 3}. Best is trial 11 with value: 5.033635769877937.\n"
     ]
    },
    {
     "name": "stdout",
     "output_type": "stream",
     "text": [
      "🏃 View run gregarious-moose-666 at: http://127.0.0.1:5000/#/experiments/3/runs/ec42958183f7416d84c2f9c7e3b11ce0\n",
      "🧪 View experiment at: http://127.0.0.1:5000/#/experiments/3\n"
     ]
    },
    {
     "name": "stderr",
     "output_type": "stream",
     "text": [
      "/var/folders/dp/2nhmtbqj49v3st8xl2stwglw0000gn/T/ipykernel_57922/4018334785.py:8: FutureWarning: suggest_int() got {'step'} as positional arguments but they were expected to be given as keyword arguments.\n",
      "Positional arguments ['self', 'name', 'low', 'high', 'step', 'log'] in suggest_int() have been deprecated since v3.5.0. They will be replaced with the corresponding keyword arguments in v5.0.0, so please use the keyword specification instead. See https://github.com/optuna/optuna/releases/tag/v3.5.0 for details.\n",
      "  'n_estimators': trial.suggest_int('n_estimators', 10, 50, 1),\n",
      "/var/folders/dp/2nhmtbqj49v3st8xl2stwglw0000gn/T/ipykernel_57922/4018334785.py:9: FutureWarning: suggest_int() got {'step'} as positional arguments but they were expected to be given as keyword arguments.\n",
      "Positional arguments ['self', 'name', 'low', 'high', 'step', 'log'] in suggest_int() have been deprecated since v3.5.0. They will be replaced with the corresponding keyword arguments in v5.0.0, so please use the keyword specification instead. See https://github.com/optuna/optuna/releases/tag/v3.5.0 for details.\n",
      "  'max_depth': trial.suggest_int('max_depth', 1, 20, 1),\n",
      "/var/folders/dp/2nhmtbqj49v3st8xl2stwglw0000gn/T/ipykernel_57922/4018334785.py:10: FutureWarning: suggest_int() got {'step'} as positional arguments but they were expected to be given as keyword arguments.\n",
      "Positional arguments ['self', 'name', 'low', 'high', 'step', 'log'] in suggest_int() have been deprecated since v3.5.0. They will be replaced with the corresponding keyword arguments in v5.0.0, so please use the keyword specification instead. See https://github.com/optuna/optuna/releases/tag/v3.5.0 for details.\n",
      "  'min_samples_split': trial.suggest_int('min_samples_split', 2, 6, 1),\n",
      "/var/folders/dp/2nhmtbqj49v3st8xl2stwglw0000gn/T/ipykernel_57922/4018334785.py:11: FutureWarning: suggest_int() got {'step'} as positional arguments but they were expected to be given as keyword arguments.\n",
      "Positional arguments ['self', 'name', 'low', 'high', 'step', 'log'] in suggest_int() have been deprecated since v3.5.0. They will be replaced with the corresponding keyword arguments in v5.0.0, so please use the keyword specification instead. See https://github.com/optuna/optuna/releases/tag/v3.5.0 for details.\n",
      "  'min_samples_leaf': trial.suggest_int('min_samples_leaf', 1, 4, 1),\n",
      "2025/10/29 20:31:24 WARNING mlflow.utils.environment: Failed to resolve installed pip version. ``pip`` will be added to conda.yaml environment spec without a version specifier.\n",
      "[I 2025-10-29 20:31:24,267] Trial 24 finished with value: 5.145575154183366 and parameters: {'n_estimators': 38, 'max_depth': 10, 'min_samples_split': 2, 'min_samples_leaf': 2}. Best is trial 11 with value: 5.033635769877937.\n",
      "/var/folders/dp/2nhmtbqj49v3st8xl2stwglw0000gn/T/ipykernel_57922/4018334785.py:8: FutureWarning: suggest_int() got {'step'} as positional arguments but they were expected to be given as keyword arguments.\n",
      "Positional arguments ['self', 'name', 'low', 'high', 'step', 'log'] in suggest_int() have been deprecated since v3.5.0. They will be replaced with the corresponding keyword arguments in v5.0.0, so please use the keyword specification instead. See https://github.com/optuna/optuna/releases/tag/v3.5.0 for details.\n",
      "  'n_estimators': trial.suggest_int('n_estimators', 10, 50, 1),\n",
      "/var/folders/dp/2nhmtbqj49v3st8xl2stwglw0000gn/T/ipykernel_57922/4018334785.py:9: FutureWarning: suggest_int() got {'step'} as positional arguments but they were expected to be given as keyword arguments.\n",
      "Positional arguments ['self', 'name', 'low', 'high', 'step', 'log'] in suggest_int() have been deprecated since v3.5.0. They will be replaced with the corresponding keyword arguments in v5.0.0, so please use the keyword specification instead. See https://github.com/optuna/optuna/releases/tag/v3.5.0 for details.\n",
      "  'max_depth': trial.suggest_int('max_depth', 1, 20, 1),\n",
      "/var/folders/dp/2nhmtbqj49v3st8xl2stwglw0000gn/T/ipykernel_57922/4018334785.py:10: FutureWarning: suggest_int() got {'step'} as positional arguments but they were expected to be given as keyword arguments.\n",
      "Positional arguments ['self', 'name', 'low', 'high', 'step', 'log'] in suggest_int() have been deprecated since v3.5.0. They will be replaced with the corresponding keyword arguments in v5.0.0, so please use the keyword specification instead. See https://github.com/optuna/optuna/releases/tag/v3.5.0 for details.\n",
      "  'min_samples_split': trial.suggest_int('min_samples_split', 2, 6, 1),\n",
      "/var/folders/dp/2nhmtbqj49v3st8xl2stwglw0000gn/T/ipykernel_57922/4018334785.py:11: FutureWarning: suggest_int() got {'step'} as positional arguments but they were expected to be given as keyword arguments.\n",
      "Positional arguments ['self', 'name', 'low', 'high', 'step', 'log'] in suggest_int() have been deprecated since v3.5.0. They will be replaced with the corresponding keyword arguments in v5.0.0, so please use the keyword specification instead. See https://github.com/optuna/optuna/releases/tag/v3.5.0 for details.\n",
      "  'min_samples_leaf': trial.suggest_int('min_samples_leaf', 1, 4, 1),\n"
     ]
    },
    {
     "name": "stdout",
     "output_type": "stream",
     "text": [
      "🏃 View run popular-moose-26 at: http://127.0.0.1:5000/#/experiments/3/runs/e452e13443da44f2af3628dfac2cff4d\n",
      "🧪 View experiment at: http://127.0.0.1:5000/#/experiments/3\n"
     ]
    },
    {
     "name": "stderr",
     "output_type": "stream",
     "text": [
      "2025/10/29 20:31:25 WARNING mlflow.utils.environment: Failed to resolve installed pip version. ``pip`` will be added to conda.yaml environment spec without a version specifier.\n",
      "[I 2025-10-29 20:31:26,327] Trial 25 finished with value: 5.031991632644575 and parameters: {'n_estimators': 46, 'max_depth': 15, 'min_samples_split': 3, 'min_samples_leaf': 3}. Best is trial 25 with value: 5.031991632644575.\n"
     ]
    },
    {
     "name": "stdout",
     "output_type": "stream",
     "text": [
      "🏃 View run selective-deer-44 at: http://127.0.0.1:5000/#/experiments/3/runs/7c64d06985294fe2af297168e4e5970a\n",
      "🧪 View experiment at: http://127.0.0.1:5000/#/experiments/3\n"
     ]
    },
    {
     "name": "stderr",
     "output_type": "stream",
     "text": [
      "/var/folders/dp/2nhmtbqj49v3st8xl2stwglw0000gn/T/ipykernel_57922/4018334785.py:8: FutureWarning: suggest_int() got {'step'} as positional arguments but they were expected to be given as keyword arguments.\n",
      "Positional arguments ['self', 'name', 'low', 'high', 'step', 'log'] in suggest_int() have been deprecated since v3.5.0. They will be replaced with the corresponding keyword arguments in v5.0.0, so please use the keyword specification instead. See https://github.com/optuna/optuna/releases/tag/v3.5.0 for details.\n",
      "  'n_estimators': trial.suggest_int('n_estimators', 10, 50, 1),\n",
      "/var/folders/dp/2nhmtbqj49v3st8xl2stwglw0000gn/T/ipykernel_57922/4018334785.py:9: FutureWarning: suggest_int() got {'step'} as positional arguments but they were expected to be given as keyword arguments.\n",
      "Positional arguments ['self', 'name', 'low', 'high', 'step', 'log'] in suggest_int() have been deprecated since v3.5.0. They will be replaced with the corresponding keyword arguments in v5.0.0, so please use the keyword specification instead. See https://github.com/optuna/optuna/releases/tag/v3.5.0 for details.\n",
      "  'max_depth': trial.suggest_int('max_depth', 1, 20, 1),\n",
      "/var/folders/dp/2nhmtbqj49v3st8xl2stwglw0000gn/T/ipykernel_57922/4018334785.py:10: FutureWarning: suggest_int() got {'step'} as positional arguments but they were expected to be given as keyword arguments.\n",
      "Positional arguments ['self', 'name', 'low', 'high', 'step', 'log'] in suggest_int() have been deprecated since v3.5.0. They will be replaced with the corresponding keyword arguments in v5.0.0, so please use the keyword specification instead. See https://github.com/optuna/optuna/releases/tag/v3.5.0 for details.\n",
      "  'min_samples_split': trial.suggest_int('min_samples_split', 2, 6, 1),\n",
      "/var/folders/dp/2nhmtbqj49v3st8xl2stwglw0000gn/T/ipykernel_57922/4018334785.py:11: FutureWarning: suggest_int() got {'step'} as positional arguments but they were expected to be given as keyword arguments.\n",
      "Positional arguments ['self', 'name', 'low', 'high', 'step', 'log'] in suggest_int() have been deprecated since v3.5.0. They will be replaced with the corresponding keyword arguments in v5.0.0, so please use the keyword specification instead. See https://github.com/optuna/optuna/releases/tag/v3.5.0 for details.\n",
      "  'min_samples_leaf': trial.suggest_int('min_samples_leaf', 1, 4, 1),\n",
      "2025/10/29 20:31:27 WARNING mlflow.utils.environment: Failed to resolve installed pip version. ``pip`` will be added to conda.yaml environment spec without a version specifier.\n",
      "[I 2025-10-29 20:31:28,114] Trial 26 finished with value: 5.064588597181657 and parameters: {'n_estimators': 46, 'max_depth': 12, 'min_samples_split': 4, 'min_samples_leaf': 4}. Best is trial 25 with value: 5.031991632644575.\n"
     ]
    },
    {
     "name": "stdout",
     "output_type": "stream",
     "text": [
      "🏃 View run intrigued-crow-52 at: http://127.0.0.1:5000/#/experiments/3/runs/c43ddc12445a48dfb7a20c6a992b45fc\n",
      "🧪 View experiment at: http://127.0.0.1:5000/#/experiments/3\n"
     ]
    },
    {
     "name": "stderr",
     "output_type": "stream",
     "text": [
      "/var/folders/dp/2nhmtbqj49v3st8xl2stwglw0000gn/T/ipykernel_57922/4018334785.py:8: FutureWarning: suggest_int() got {'step'} as positional arguments but they were expected to be given as keyword arguments.\n",
      "Positional arguments ['self', 'name', 'low', 'high', 'step', 'log'] in suggest_int() have been deprecated since v3.5.0. They will be replaced with the corresponding keyword arguments in v5.0.0, so please use the keyword specification instead. See https://github.com/optuna/optuna/releases/tag/v3.5.0 for details.\n",
      "  'n_estimators': trial.suggest_int('n_estimators', 10, 50, 1),\n",
      "/var/folders/dp/2nhmtbqj49v3st8xl2stwglw0000gn/T/ipykernel_57922/4018334785.py:9: FutureWarning: suggest_int() got {'step'} as positional arguments but they were expected to be given as keyword arguments.\n",
      "Positional arguments ['self', 'name', 'low', 'high', 'step', 'log'] in suggest_int() have been deprecated since v3.5.0. They will be replaced with the corresponding keyword arguments in v5.0.0, so please use the keyword specification instead. See https://github.com/optuna/optuna/releases/tag/v3.5.0 for details.\n",
      "  'max_depth': trial.suggest_int('max_depth', 1, 20, 1),\n",
      "/var/folders/dp/2nhmtbqj49v3st8xl2stwglw0000gn/T/ipykernel_57922/4018334785.py:10: FutureWarning: suggest_int() got {'step'} as positional arguments but they were expected to be given as keyword arguments.\n",
      "Positional arguments ['self', 'name', 'low', 'high', 'step', 'log'] in suggest_int() have been deprecated since v3.5.0. They will be replaced with the corresponding keyword arguments in v5.0.0, so please use the keyword specification instead. See https://github.com/optuna/optuna/releases/tag/v3.5.0 for details.\n",
      "  'min_samples_split': trial.suggest_int('min_samples_split', 2, 6, 1),\n",
      "/var/folders/dp/2nhmtbqj49v3st8xl2stwglw0000gn/T/ipykernel_57922/4018334785.py:11: FutureWarning: suggest_int() got {'step'} as positional arguments but they were expected to be given as keyword arguments.\n",
      "Positional arguments ['self', 'name', 'low', 'high', 'step', 'log'] in suggest_int() have been deprecated since v3.5.0. They will be replaced with the corresponding keyword arguments in v5.0.0, so please use the keyword specification instead. See https://github.com/optuna/optuna/releases/tag/v3.5.0 for details.\n",
      "  'min_samples_leaf': trial.suggest_int('min_samples_leaf', 1, 4, 1),\n",
      "2025/10/29 20:31:29 WARNING mlflow.utils.environment: Failed to resolve installed pip version. ``pip`` will be added to conda.yaml environment spec without a version specifier.\n",
      "[I 2025-10-29 20:31:30,659] Trial 27 finished with value: 5.0391328289376 and parameters: {'n_estimators': 50, 'max_depth': 17, 'min_samples_split': 3, 'min_samples_leaf': 3}. Best is trial 25 with value: 5.031991632644575.\n"
     ]
    },
    {
     "name": "stdout",
     "output_type": "stream",
     "text": [
      "🏃 View run thoughtful-moose-104 at: http://127.0.0.1:5000/#/experiments/3/runs/c45d825bcf10422284218fd171db9cad\n",
      "🧪 View experiment at: http://127.0.0.1:5000/#/experiments/3\n"
     ]
    },
    {
     "name": "stderr",
     "output_type": "stream",
     "text": [
      "/var/folders/dp/2nhmtbqj49v3st8xl2stwglw0000gn/T/ipykernel_57922/4018334785.py:8: FutureWarning: suggest_int() got {'step'} as positional arguments but they were expected to be given as keyword arguments.\n",
      "Positional arguments ['self', 'name', 'low', 'high', 'step', 'log'] in suggest_int() have been deprecated since v3.5.0. They will be replaced with the corresponding keyword arguments in v5.0.0, so please use the keyword specification instead. See https://github.com/optuna/optuna/releases/tag/v3.5.0 for details.\n",
      "  'n_estimators': trial.suggest_int('n_estimators', 10, 50, 1),\n",
      "/var/folders/dp/2nhmtbqj49v3st8xl2stwglw0000gn/T/ipykernel_57922/4018334785.py:9: FutureWarning: suggest_int() got {'step'} as positional arguments but they were expected to be given as keyword arguments.\n",
      "Positional arguments ['self', 'name', 'low', 'high', 'step', 'log'] in suggest_int() have been deprecated since v3.5.0. They will be replaced with the corresponding keyword arguments in v5.0.0, so please use the keyword specification instead. See https://github.com/optuna/optuna/releases/tag/v3.5.0 for details.\n",
      "  'max_depth': trial.suggest_int('max_depth', 1, 20, 1),\n",
      "/var/folders/dp/2nhmtbqj49v3st8xl2stwglw0000gn/T/ipykernel_57922/4018334785.py:10: FutureWarning: suggest_int() got {'step'} as positional arguments but they were expected to be given as keyword arguments.\n",
      "Positional arguments ['self', 'name', 'low', 'high', 'step', 'log'] in suggest_int() have been deprecated since v3.5.0. They will be replaced with the corresponding keyword arguments in v5.0.0, so please use the keyword specification instead. See https://github.com/optuna/optuna/releases/tag/v3.5.0 for details.\n",
      "  'min_samples_split': trial.suggest_int('min_samples_split', 2, 6, 1),\n",
      "/var/folders/dp/2nhmtbqj49v3st8xl2stwglw0000gn/T/ipykernel_57922/4018334785.py:11: FutureWarning: suggest_int() got {'step'} as positional arguments but they were expected to be given as keyword arguments.\n",
      "Positional arguments ['self', 'name', 'low', 'high', 'step', 'log'] in suggest_int() have been deprecated since v3.5.0. They will be replaced with the corresponding keyword arguments in v5.0.0, so please use the keyword specification instead. See https://github.com/optuna/optuna/releases/tag/v3.5.0 for details.\n",
      "  'min_samples_leaf': trial.suggest_int('min_samples_leaf', 1, 4, 1),\n",
      "2025/10/29 20:31:32 WARNING mlflow.utils.environment: Failed to resolve installed pip version. ``pip`` will be added to conda.yaml environment spec without a version specifier.\n",
      "[I 2025-10-29 20:31:34,327] Trial 28 finished with value: 5.087094087804545 and parameters: {'n_estimators': 46, 'max_depth': 20, 'min_samples_split': 2, 'min_samples_leaf': 2}. Best is trial 25 with value: 5.031991632644575.\n"
     ]
    },
    {
     "name": "stdout",
     "output_type": "stream",
     "text": [
      "🏃 View run melodic-mouse-404 at: http://127.0.0.1:5000/#/experiments/3/runs/3c9a9f9e2d364abda8439167c3e90c8b\n",
      "🧪 View experiment at: http://127.0.0.1:5000/#/experiments/3\n"
     ]
    },
    {
     "name": "stderr",
     "output_type": "stream",
     "text": [
      "/var/folders/dp/2nhmtbqj49v3st8xl2stwglw0000gn/T/ipykernel_57922/4018334785.py:8: FutureWarning: suggest_int() got {'step'} as positional arguments but they were expected to be given as keyword arguments.\n",
      "Positional arguments ['self', 'name', 'low', 'high', 'step', 'log'] in suggest_int() have been deprecated since v3.5.0. They will be replaced with the corresponding keyword arguments in v5.0.0, so please use the keyword specification instead. See https://github.com/optuna/optuna/releases/tag/v3.5.0 for details.\n",
      "  'n_estimators': trial.suggest_int('n_estimators', 10, 50, 1),\n",
      "/var/folders/dp/2nhmtbqj49v3st8xl2stwglw0000gn/T/ipykernel_57922/4018334785.py:9: FutureWarning: suggest_int() got {'step'} as positional arguments but they were expected to be given as keyword arguments.\n",
      "Positional arguments ['self', 'name', 'low', 'high', 'step', 'log'] in suggest_int() have been deprecated since v3.5.0. They will be replaced with the corresponding keyword arguments in v5.0.0, so please use the keyword specification instead. See https://github.com/optuna/optuna/releases/tag/v3.5.0 for details.\n",
      "  'max_depth': trial.suggest_int('max_depth', 1, 20, 1),\n",
      "/var/folders/dp/2nhmtbqj49v3st8xl2stwglw0000gn/T/ipykernel_57922/4018334785.py:10: FutureWarning: suggest_int() got {'step'} as positional arguments but they were expected to be given as keyword arguments.\n",
      "Positional arguments ['self', 'name', 'low', 'high', 'step', 'log'] in suggest_int() have been deprecated since v3.5.0. They will be replaced with the corresponding keyword arguments in v5.0.0, so please use the keyword specification instead. See https://github.com/optuna/optuna/releases/tag/v3.5.0 for details.\n",
      "  'min_samples_split': trial.suggest_int('min_samples_split', 2, 6, 1),\n",
      "/var/folders/dp/2nhmtbqj49v3st8xl2stwglw0000gn/T/ipykernel_57922/4018334785.py:11: FutureWarning: suggest_int() got {'step'} as positional arguments but they were expected to be given as keyword arguments.\n",
      "Positional arguments ['self', 'name', 'low', 'high', 'step', 'log'] in suggest_int() have been deprecated since v3.5.0. They will be replaced with the corresponding keyword arguments in v5.0.0, so please use the keyword specification instead. See https://github.com/optuna/optuna/releases/tag/v3.5.0 for details.\n",
      "  'min_samples_leaf': trial.suggest_int('min_samples_leaf', 1, 4, 1),\n",
      "2025/10/29 20:31:35 WARNING mlflow.utils.environment: Failed to resolve installed pip version. ``pip`` will be added to conda.yaml environment spec without a version specifier.\n",
      "[I 2025-10-29 20:31:36,977] Trial 29 finished with value: 5.063937094615542 and parameters: {'n_estimators': 43, 'max_depth': 20, 'min_samples_split': 6, 'min_samples_leaf': 3}. Best is trial 25 with value: 5.031991632644575.\n"
     ]
    },
    {
     "name": "stdout",
     "output_type": "stream",
     "text": [
      "🏃 View run capricious-hog-172 at: http://127.0.0.1:5000/#/experiments/3/runs/050bf2cbe9554c14bbde0856654b8a2c\n",
      "🧪 View experiment at: http://127.0.0.1:5000/#/experiments/3\n"
     ]
    },
    {
     "name": "stderr",
     "output_type": "stream",
     "text": [
      "/var/folders/dp/2nhmtbqj49v3st8xl2stwglw0000gn/T/ipykernel_57922/4018334785.py:8: FutureWarning: suggest_int() got {'step'} as positional arguments but they were expected to be given as keyword arguments.\n",
      "Positional arguments ['self', 'name', 'low', 'high', 'step', 'log'] in suggest_int() have been deprecated since v3.5.0. They will be replaced with the corresponding keyword arguments in v5.0.0, so please use the keyword specification instead. See https://github.com/optuna/optuna/releases/tag/v3.5.0 for details.\n",
      "  'n_estimators': trial.suggest_int('n_estimators', 10, 50, 1),\n",
      "/var/folders/dp/2nhmtbqj49v3st8xl2stwglw0000gn/T/ipykernel_57922/4018334785.py:9: FutureWarning: suggest_int() got {'step'} as positional arguments but they were expected to be given as keyword arguments.\n",
      "Positional arguments ['self', 'name', 'low', 'high', 'step', 'log'] in suggest_int() have been deprecated since v3.5.0. They will be replaced with the corresponding keyword arguments in v5.0.0, so please use the keyword specification instead. See https://github.com/optuna/optuna/releases/tag/v3.5.0 for details.\n",
      "  'max_depth': trial.suggest_int('max_depth', 1, 20, 1),\n",
      "/var/folders/dp/2nhmtbqj49v3st8xl2stwglw0000gn/T/ipykernel_57922/4018334785.py:10: FutureWarning: suggest_int() got {'step'} as positional arguments but they were expected to be given as keyword arguments.\n",
      "Positional arguments ['self', 'name', 'low', 'high', 'step', 'log'] in suggest_int() have been deprecated since v3.5.0. They will be replaced with the corresponding keyword arguments in v5.0.0, so please use the keyword specification instead. See https://github.com/optuna/optuna/releases/tag/v3.5.0 for details.\n",
      "  'min_samples_split': trial.suggest_int('min_samples_split', 2, 6, 1),\n",
      "/var/folders/dp/2nhmtbqj49v3st8xl2stwglw0000gn/T/ipykernel_57922/4018334785.py:11: FutureWarning: suggest_int() got {'step'} as positional arguments but they were expected to be given as keyword arguments.\n",
      "Positional arguments ['self', 'name', 'low', 'high', 'step', 'log'] in suggest_int() have been deprecated since v3.5.0. They will be replaced with the corresponding keyword arguments in v5.0.0, so please use the keyword specification instead. See https://github.com/optuna/optuna/releases/tag/v3.5.0 for details.\n",
      "  'min_samples_leaf': trial.suggest_int('min_samples_leaf', 1, 4, 1),\n",
      "2025/10/29 20:31:38 WARNING mlflow.utils.environment: Failed to resolve installed pip version. ``pip`` will be added to conda.yaml environment spec without a version specifier.\n",
      "[I 2025-10-29 20:31:38,681] Trial 30 finished with value: 5.043745090424208 and parameters: {'n_estimators': 26, 'max_depth': 14, 'min_samples_split': 4, 'min_samples_leaf': 4}. Best is trial 25 with value: 5.031991632644575.\n",
      "/var/folders/dp/2nhmtbqj49v3st8xl2stwglw0000gn/T/ipykernel_57922/4018334785.py:8: FutureWarning: suggest_int() got {'step'} as positional arguments but they were expected to be given as keyword arguments.\n",
      "Positional arguments ['self', 'name', 'low', 'high', 'step', 'log'] in suggest_int() have been deprecated since v3.5.0. They will be replaced with the corresponding keyword arguments in v5.0.0, so please use the keyword specification instead. See https://github.com/optuna/optuna/releases/tag/v3.5.0 for details.\n",
      "  'n_estimators': trial.suggest_int('n_estimators', 10, 50, 1),\n",
      "/var/folders/dp/2nhmtbqj49v3st8xl2stwglw0000gn/T/ipykernel_57922/4018334785.py:9: FutureWarning: suggest_int() got {'step'} as positional arguments but they were expected to be given as keyword arguments.\n",
      "Positional arguments ['self', 'name', 'low', 'high', 'step', 'log'] in suggest_int() have been deprecated since v3.5.0. They will be replaced with the corresponding keyword arguments in v5.0.0, so please use the keyword specification instead. See https://github.com/optuna/optuna/releases/tag/v3.5.0 for details.\n",
      "  'max_depth': trial.suggest_int('max_depth', 1, 20, 1),\n",
      "/var/folders/dp/2nhmtbqj49v3st8xl2stwglw0000gn/T/ipykernel_57922/4018334785.py:10: FutureWarning: suggest_int() got {'step'} as positional arguments but they were expected to be given as keyword arguments.\n",
      "Positional arguments ['self', 'name', 'low', 'high', 'step', 'log'] in suggest_int() have been deprecated since v3.5.0. They will be replaced with the corresponding keyword arguments in v5.0.0, so please use the keyword specification instead. See https://github.com/optuna/optuna/releases/tag/v3.5.0 for details.\n",
      "  'min_samples_split': trial.suggest_int('min_samples_split', 2, 6, 1),\n",
      "/var/folders/dp/2nhmtbqj49v3st8xl2stwglw0000gn/T/ipykernel_57922/4018334785.py:11: FutureWarning: suggest_int() got {'step'} as positional arguments but they were expected to be given as keyword arguments.\n",
      "Positional arguments ['self', 'name', 'low', 'high', 'step', 'log'] in suggest_int() have been deprecated since v3.5.0. They will be replaced with the corresponding keyword arguments in v5.0.0, so please use the keyword specification instead. See https://github.com/optuna/optuna/releases/tag/v3.5.0 for details.\n",
      "  'min_samples_leaf': trial.suggest_int('min_samples_leaf', 1, 4, 1),\n"
     ]
    },
    {
     "name": "stdout",
     "output_type": "stream",
     "text": [
      "🏃 View run righteous-yak-46 at: http://127.0.0.1:5000/#/experiments/3/runs/fd464626f8414c2a80be421237f0a22c\n",
      "🧪 View experiment at: http://127.0.0.1:5000/#/experiments/3\n"
     ]
    },
    {
     "name": "stderr",
     "output_type": "stream",
     "text": [
      "2025/10/29 20:31:40 WARNING mlflow.utils.environment: Failed to resolve installed pip version. ``pip`` will be added to conda.yaml environment spec without a version specifier.\n",
      "[I 2025-10-29 20:31:40,675] Trial 31 finished with value: 5.0339608624169685 and parameters: {'n_estimators': 41, 'max_depth': 15, 'min_samples_split': 3, 'min_samples_leaf': 3}. Best is trial 25 with value: 5.031991632644575.\n"
     ]
    },
    {
     "name": "stdout",
     "output_type": "stream",
     "text": [
      "🏃 View run fortunate-colt-637 at: http://127.0.0.1:5000/#/experiments/3/runs/d6a23d2a7fd4489abe0d5bb04c9a3afc\n",
      "🧪 View experiment at: http://127.0.0.1:5000/#/experiments/3\n"
     ]
    },
    {
     "name": "stderr",
     "output_type": "stream",
     "text": [
      "/var/folders/dp/2nhmtbqj49v3st8xl2stwglw0000gn/T/ipykernel_57922/4018334785.py:8: FutureWarning: suggest_int() got {'step'} as positional arguments but they were expected to be given as keyword arguments.\n",
      "Positional arguments ['self', 'name', 'low', 'high', 'step', 'log'] in suggest_int() have been deprecated since v3.5.0. They will be replaced with the corresponding keyword arguments in v5.0.0, so please use the keyword specification instead. See https://github.com/optuna/optuna/releases/tag/v3.5.0 for details.\n",
      "  'n_estimators': trial.suggest_int('n_estimators', 10, 50, 1),\n",
      "/var/folders/dp/2nhmtbqj49v3st8xl2stwglw0000gn/T/ipykernel_57922/4018334785.py:9: FutureWarning: suggest_int() got {'step'} as positional arguments but they were expected to be given as keyword arguments.\n",
      "Positional arguments ['self', 'name', 'low', 'high', 'step', 'log'] in suggest_int() have been deprecated since v3.5.0. They will be replaced with the corresponding keyword arguments in v5.0.0, so please use the keyword specification instead. See https://github.com/optuna/optuna/releases/tag/v3.5.0 for details.\n",
      "  'max_depth': trial.suggest_int('max_depth', 1, 20, 1),\n",
      "/var/folders/dp/2nhmtbqj49v3st8xl2stwglw0000gn/T/ipykernel_57922/4018334785.py:10: FutureWarning: suggest_int() got {'step'} as positional arguments but they were expected to be given as keyword arguments.\n",
      "Positional arguments ['self', 'name', 'low', 'high', 'step', 'log'] in suggest_int() have been deprecated since v3.5.0. They will be replaced with the corresponding keyword arguments in v5.0.0, so please use the keyword specification instead. See https://github.com/optuna/optuna/releases/tag/v3.5.0 for details.\n",
      "  'min_samples_split': trial.suggest_int('min_samples_split', 2, 6, 1),\n",
      "/var/folders/dp/2nhmtbqj49v3st8xl2stwglw0000gn/T/ipykernel_57922/4018334785.py:11: FutureWarning: suggest_int() got {'step'} as positional arguments but they were expected to be given as keyword arguments.\n",
      "Positional arguments ['self', 'name', 'low', 'high', 'step', 'log'] in suggest_int() have been deprecated since v3.5.0. They will be replaced with the corresponding keyword arguments in v5.0.0, so please use the keyword specification instead. See https://github.com/optuna/optuna/releases/tag/v3.5.0 for details.\n",
      "  'min_samples_leaf': trial.suggest_int('min_samples_leaf', 1, 4, 1),\n",
      "2025/10/29 20:31:42 WARNING mlflow.utils.environment: Failed to resolve installed pip version. ``pip`` will be added to conda.yaml environment spec without a version specifier.\n",
      "[I 2025-10-29 20:31:42,689] Trial 32 finished with value: 5.038190112297814 and parameters: {'n_estimators': 37, 'max_depth': 16, 'min_samples_split': 3, 'min_samples_leaf': 3}. Best is trial 25 with value: 5.031991632644575.\n"
     ]
    },
    {
     "name": "stdout",
     "output_type": "stream",
     "text": [
      "🏃 View run worried-trout-650 at: http://127.0.0.1:5000/#/experiments/3/runs/e53dc759a293476a969ee671e4af08a9\n",
      "🧪 View experiment at: http://127.0.0.1:5000/#/experiments/3\n"
     ]
    },
    {
     "name": "stderr",
     "output_type": "stream",
     "text": [
      "/var/folders/dp/2nhmtbqj49v3st8xl2stwglw0000gn/T/ipykernel_57922/4018334785.py:8: FutureWarning: suggest_int() got {'step'} as positional arguments but they were expected to be given as keyword arguments.\n",
      "Positional arguments ['self', 'name', 'low', 'high', 'step', 'log'] in suggest_int() have been deprecated since v3.5.0. They will be replaced with the corresponding keyword arguments in v5.0.0, so please use the keyword specification instead. See https://github.com/optuna/optuna/releases/tag/v3.5.0 for details.\n",
      "  'n_estimators': trial.suggest_int('n_estimators', 10, 50, 1),\n",
      "/var/folders/dp/2nhmtbqj49v3st8xl2stwglw0000gn/T/ipykernel_57922/4018334785.py:9: FutureWarning: suggest_int() got {'step'} as positional arguments but they were expected to be given as keyword arguments.\n",
      "Positional arguments ['self', 'name', 'low', 'high', 'step', 'log'] in suggest_int() have been deprecated since v3.5.0. They will be replaced with the corresponding keyword arguments in v5.0.0, so please use the keyword specification instead. See https://github.com/optuna/optuna/releases/tag/v3.5.0 for details.\n",
      "  'max_depth': trial.suggest_int('max_depth', 1, 20, 1),\n",
      "/var/folders/dp/2nhmtbqj49v3st8xl2stwglw0000gn/T/ipykernel_57922/4018334785.py:10: FutureWarning: suggest_int() got {'step'} as positional arguments but they were expected to be given as keyword arguments.\n",
      "Positional arguments ['self', 'name', 'low', 'high', 'step', 'log'] in suggest_int() have been deprecated since v3.5.0. They will be replaced with the corresponding keyword arguments in v5.0.0, so please use the keyword specification instead. See https://github.com/optuna/optuna/releases/tag/v3.5.0 for details.\n",
      "  'min_samples_split': trial.suggest_int('min_samples_split', 2, 6, 1),\n",
      "/var/folders/dp/2nhmtbqj49v3st8xl2stwglw0000gn/T/ipykernel_57922/4018334785.py:11: FutureWarning: suggest_int() got {'step'} as positional arguments but they were expected to be given as keyword arguments.\n",
      "Positional arguments ['self', 'name', 'low', 'high', 'step', 'log'] in suggest_int() have been deprecated since v3.5.0. They will be replaced with the corresponding keyword arguments in v5.0.0, so please use the keyword specification instead. See https://github.com/optuna/optuna/releases/tag/v3.5.0 for details.\n",
      "  'min_samples_leaf': trial.suggest_int('min_samples_leaf', 1, 4, 1),\n",
      "2025/10/29 20:31:44 WARNING mlflow.utils.environment: Failed to resolve installed pip version. ``pip`` will be added to conda.yaml environment spec without a version specifier.\n",
      "[I 2025-10-29 20:31:44,445] Trial 33 finished with value: 5.034545153525478 and parameters: {'n_estimators': 32, 'max_depth': 14, 'min_samples_split': 2, 'min_samples_leaf': 3}. Best is trial 25 with value: 5.031991632644575.\n"
     ]
    },
    {
     "name": "stdout",
     "output_type": "stream",
     "text": [
      "🏃 View run classy-vole-570 at: http://127.0.0.1:5000/#/experiments/3/runs/7c10b62f96744bd3a653f9f34067741f\n",
      "🧪 View experiment at: http://127.0.0.1:5000/#/experiments/3\n"
     ]
    },
    {
     "name": "stderr",
     "output_type": "stream",
     "text": [
      "/var/folders/dp/2nhmtbqj49v3st8xl2stwglw0000gn/T/ipykernel_57922/4018334785.py:8: FutureWarning: suggest_int() got {'step'} as positional arguments but they were expected to be given as keyword arguments.\n",
      "Positional arguments ['self', 'name', 'low', 'high', 'step', 'log'] in suggest_int() have been deprecated since v3.5.0. They will be replaced with the corresponding keyword arguments in v5.0.0, so please use the keyword specification instead. See https://github.com/optuna/optuna/releases/tag/v3.5.0 for details.\n",
      "  'n_estimators': trial.suggest_int('n_estimators', 10, 50, 1),\n",
      "/var/folders/dp/2nhmtbqj49v3st8xl2stwglw0000gn/T/ipykernel_57922/4018334785.py:9: FutureWarning: suggest_int() got {'step'} as positional arguments but they were expected to be given as keyword arguments.\n",
      "Positional arguments ['self', 'name', 'low', 'high', 'step', 'log'] in suggest_int() have been deprecated since v3.5.0. They will be replaced with the corresponding keyword arguments in v5.0.0, so please use the keyword specification instead. See https://github.com/optuna/optuna/releases/tag/v3.5.0 for details.\n",
      "  'max_depth': trial.suggest_int('max_depth', 1, 20, 1),\n",
      "/var/folders/dp/2nhmtbqj49v3st8xl2stwglw0000gn/T/ipykernel_57922/4018334785.py:10: FutureWarning: suggest_int() got {'step'} as positional arguments but they were expected to be given as keyword arguments.\n",
      "Positional arguments ['self', 'name', 'low', 'high', 'step', 'log'] in suggest_int() have been deprecated since v3.5.0. They will be replaced with the corresponding keyword arguments in v5.0.0, so please use the keyword specification instead. See https://github.com/optuna/optuna/releases/tag/v3.5.0 for details.\n",
      "  'min_samples_split': trial.suggest_int('min_samples_split', 2, 6, 1),\n",
      "/var/folders/dp/2nhmtbqj49v3st8xl2stwglw0000gn/T/ipykernel_57922/4018334785.py:11: FutureWarning: suggest_int() got {'step'} as positional arguments but they were expected to be given as keyword arguments.\n",
      "Positional arguments ['self', 'name', 'low', 'high', 'step', 'log'] in suggest_int() have been deprecated since v3.5.0. They will be replaced with the corresponding keyword arguments in v5.0.0, so please use the keyword specification instead. See https://github.com/optuna/optuna/releases/tag/v3.5.0 for details.\n",
      "  'min_samples_leaf': trial.suggest_int('min_samples_leaf', 1, 4, 1),\n",
      "2025/10/29 20:31:46 WARNING mlflow.utils.environment: Failed to resolve installed pip version. ``pip`` will be added to conda.yaml environment spec without a version specifier.\n",
      "[I 2025-10-29 20:31:47,056] Trial 34 finished with value: 5.049884285352723 and parameters: {'n_estimators': 47, 'max_depth': 18, 'min_samples_split': 2, 'min_samples_leaf': 3}. Best is trial 25 with value: 5.031991632644575.\n"
     ]
    },
    {
     "name": "stdout",
     "output_type": "stream",
     "text": [
      "🏃 View run adorable-stork-70 at: http://127.0.0.1:5000/#/experiments/3/runs/277b9adc46c24adfa582d0b5f5f0fca9\n",
      "🧪 View experiment at: http://127.0.0.1:5000/#/experiments/3\n"
     ]
    },
    {
     "name": "stderr",
     "output_type": "stream",
     "text": [
      "/var/folders/dp/2nhmtbqj49v3st8xl2stwglw0000gn/T/ipykernel_57922/4018334785.py:8: FutureWarning: suggest_int() got {'step'} as positional arguments but they were expected to be given as keyword arguments.\n",
      "Positional arguments ['self', 'name', 'low', 'high', 'step', 'log'] in suggest_int() have been deprecated since v3.5.0. They will be replaced with the corresponding keyword arguments in v5.0.0, so please use the keyword specification instead. See https://github.com/optuna/optuna/releases/tag/v3.5.0 for details.\n",
      "  'n_estimators': trial.suggest_int('n_estimators', 10, 50, 1),\n",
      "/var/folders/dp/2nhmtbqj49v3st8xl2stwglw0000gn/T/ipykernel_57922/4018334785.py:9: FutureWarning: suggest_int() got {'step'} as positional arguments but they were expected to be given as keyword arguments.\n",
      "Positional arguments ['self', 'name', 'low', 'high', 'step', 'log'] in suggest_int() have been deprecated since v3.5.0. They will be replaced with the corresponding keyword arguments in v5.0.0, so please use the keyword specification instead. See https://github.com/optuna/optuna/releases/tag/v3.5.0 for details.\n",
      "  'max_depth': trial.suggest_int('max_depth', 1, 20, 1),\n",
      "/var/folders/dp/2nhmtbqj49v3st8xl2stwglw0000gn/T/ipykernel_57922/4018334785.py:10: FutureWarning: suggest_int() got {'step'} as positional arguments but they were expected to be given as keyword arguments.\n",
      "Positional arguments ['self', 'name', 'low', 'high', 'step', 'log'] in suggest_int() have been deprecated since v3.5.0. They will be replaced with the corresponding keyword arguments in v5.0.0, so please use the keyword specification instead. See https://github.com/optuna/optuna/releases/tag/v3.5.0 for details.\n",
      "  'min_samples_split': trial.suggest_int('min_samples_split', 2, 6, 1),\n",
      "/var/folders/dp/2nhmtbqj49v3st8xl2stwglw0000gn/T/ipykernel_57922/4018334785.py:11: FutureWarning: suggest_int() got {'step'} as positional arguments but they were expected to be given as keyword arguments.\n",
      "Positional arguments ['self', 'name', 'low', 'high', 'step', 'log'] in suggest_int() have been deprecated since v3.5.0. They will be replaced with the corresponding keyword arguments in v5.0.0, so please use the keyword specification instead. See https://github.com/optuna/optuna/releases/tag/v3.5.0 for details.\n",
      "  'min_samples_leaf': trial.suggest_int('min_samples_leaf', 1, 4, 1),\n",
      "2025/10/29 20:31:48 WARNING mlflow.utils.environment: Failed to resolve installed pip version. ``pip`` will be added to conda.yaml environment spec without a version specifier.\n",
      "[I 2025-10-29 20:31:48,777] Trial 35 finished with value: 5.09841087164492 and parameters: {'n_estimators': 44, 'max_depth': 11, 'min_samples_split': 3, 'min_samples_leaf': 4}. Best is trial 25 with value: 5.031991632644575.\n",
      "/var/folders/dp/2nhmtbqj49v3st8xl2stwglw0000gn/T/ipykernel_57922/4018334785.py:8: FutureWarning: suggest_int() got {'step'} as positional arguments but they were expected to be given as keyword arguments.\n",
      "Positional arguments ['self', 'name', 'low', 'high', 'step', 'log'] in suggest_int() have been deprecated since v3.5.0. They will be replaced with the corresponding keyword arguments in v5.0.0, so please use the keyword specification instead. See https://github.com/optuna/optuna/releases/tag/v3.5.0 for details.\n",
      "  'n_estimators': trial.suggest_int('n_estimators', 10, 50, 1),\n",
      "/var/folders/dp/2nhmtbqj49v3st8xl2stwglw0000gn/T/ipykernel_57922/4018334785.py:9: FutureWarning: suggest_int() got {'step'} as positional arguments but they were expected to be given as keyword arguments.\n",
      "Positional arguments ['self', 'name', 'low', 'high', 'step', 'log'] in suggest_int() have been deprecated since v3.5.0. They will be replaced with the corresponding keyword arguments in v5.0.0, so please use the keyword specification instead. See https://github.com/optuna/optuna/releases/tag/v3.5.0 for details.\n",
      "  'max_depth': trial.suggest_int('max_depth', 1, 20, 1),\n",
      "/var/folders/dp/2nhmtbqj49v3st8xl2stwglw0000gn/T/ipykernel_57922/4018334785.py:10: FutureWarning: suggest_int() got {'step'} as positional arguments but they were expected to be given as keyword arguments.\n",
      "Positional arguments ['self', 'name', 'low', 'high', 'step', 'log'] in suggest_int() have been deprecated since v3.5.0. They will be replaced with the corresponding keyword arguments in v5.0.0, so please use the keyword specification instead. See https://github.com/optuna/optuna/releases/tag/v3.5.0 for details.\n",
      "  'min_samples_split': trial.suggest_int('min_samples_split', 2, 6, 1),\n",
      "/var/folders/dp/2nhmtbqj49v3st8xl2stwglw0000gn/T/ipykernel_57922/4018334785.py:11: FutureWarning: suggest_int() got {'step'} as positional arguments but they were expected to be given as keyword arguments.\n",
      "Positional arguments ['self', 'name', 'low', 'high', 'step', 'log'] in suggest_int() have been deprecated since v3.5.0. They will be replaced with the corresponding keyword arguments in v5.0.0, so please use the keyword specification instead. See https://github.com/optuna/optuna/releases/tag/v3.5.0 for details.\n",
      "  'min_samples_leaf': trial.suggest_int('min_samples_leaf', 1, 4, 1),\n"
     ]
    },
    {
     "name": "stdout",
     "output_type": "stream",
     "text": [
      "🏃 View run adaptable-worm-70 at: http://127.0.0.1:5000/#/experiments/3/runs/5a952e1258eb4165879c4d882864d33c\n",
      "🧪 View experiment at: http://127.0.0.1:5000/#/experiments/3\n"
     ]
    },
    {
     "name": "stderr",
     "output_type": "stream",
     "text": [
      "2025/10/29 20:31:50 WARNING mlflow.utils.environment: Failed to resolve installed pip version. ``pip`` will be added to conda.yaml environment spec without a version specifier.\n",
      "[I 2025-10-29 20:31:50,925] Trial 36 finished with value: 5.038167697003057 and parameters: {'n_estimators': 40, 'max_depth': 16, 'min_samples_split': 4, 'min_samples_leaf': 3}. Best is trial 25 with value: 5.031991632644575.\n"
     ]
    },
    {
     "name": "stdout",
     "output_type": "stream",
     "text": [
      "🏃 View run chill-mare-990 at: http://127.0.0.1:5000/#/experiments/3/runs/f19696642df14240b603c4dd902c75a7\n",
      "🧪 View experiment at: http://127.0.0.1:5000/#/experiments/3\n"
     ]
    },
    {
     "name": "stderr",
     "output_type": "stream",
     "text": [
      "/var/folders/dp/2nhmtbqj49v3st8xl2stwglw0000gn/T/ipykernel_57922/4018334785.py:8: FutureWarning: suggest_int() got {'step'} as positional arguments but they were expected to be given as keyword arguments.\n",
      "Positional arguments ['self', 'name', 'low', 'high', 'step', 'log'] in suggest_int() have been deprecated since v3.5.0. They will be replaced with the corresponding keyword arguments in v5.0.0, so please use the keyword specification instead. See https://github.com/optuna/optuna/releases/tag/v3.5.0 for details.\n",
      "  'n_estimators': trial.suggest_int('n_estimators', 10, 50, 1),\n",
      "/var/folders/dp/2nhmtbqj49v3st8xl2stwglw0000gn/T/ipykernel_57922/4018334785.py:9: FutureWarning: suggest_int() got {'step'} as positional arguments but they were expected to be given as keyword arguments.\n",
      "Positional arguments ['self', 'name', 'low', 'high', 'step', 'log'] in suggest_int() have been deprecated since v3.5.0. They will be replaced with the corresponding keyword arguments in v5.0.0, so please use the keyword specification instead. See https://github.com/optuna/optuna/releases/tag/v3.5.0 for details.\n",
      "  'max_depth': trial.suggest_int('max_depth', 1, 20, 1),\n",
      "/var/folders/dp/2nhmtbqj49v3st8xl2stwglw0000gn/T/ipykernel_57922/4018334785.py:10: FutureWarning: suggest_int() got {'step'} as positional arguments but they were expected to be given as keyword arguments.\n",
      "Positional arguments ['self', 'name', 'low', 'high', 'step', 'log'] in suggest_int() have been deprecated since v3.5.0. They will be replaced with the corresponding keyword arguments in v5.0.0, so please use the keyword specification instead. See https://github.com/optuna/optuna/releases/tag/v3.5.0 for details.\n",
      "  'min_samples_split': trial.suggest_int('min_samples_split', 2, 6, 1),\n",
      "/var/folders/dp/2nhmtbqj49v3st8xl2stwglw0000gn/T/ipykernel_57922/4018334785.py:11: FutureWarning: suggest_int() got {'step'} as positional arguments but they were expected to be given as keyword arguments.\n",
      "Positional arguments ['self', 'name', 'low', 'high', 'step', 'log'] in suggest_int() have been deprecated since v3.5.0. They will be replaced with the corresponding keyword arguments in v5.0.0, so please use the keyword specification instead. See https://github.com/optuna/optuna/releases/tag/v3.5.0 for details.\n",
      "  'min_samples_leaf': trial.suggest_int('min_samples_leaf', 1, 4, 1),\n",
      "2025/10/29 20:31:52 WARNING mlflow.utils.environment: Failed to resolve installed pip version. ``pip`` will be added to conda.yaml environment spec without a version specifier.\n",
      "[I 2025-10-29 20:31:52,724] Trial 37 finished with value: 5.0429196992944725 and parameters: {'n_estimators': 35, 'max_depth': 13, 'min_samples_split': 2, 'min_samples_leaf': 2}. Best is trial 25 with value: 5.031991632644575.\n"
     ]
    },
    {
     "name": "stdout",
     "output_type": "stream",
     "text": [
      "🏃 View run abundant-boar-618 at: http://127.0.0.1:5000/#/experiments/3/runs/07a28b0f56c949ce8caa859b7525ee42\n",
      "🧪 View experiment at: http://127.0.0.1:5000/#/experiments/3\n"
     ]
    },
    {
     "name": "stderr",
     "output_type": "stream",
     "text": [
      "/var/folders/dp/2nhmtbqj49v3st8xl2stwglw0000gn/T/ipykernel_57922/4018334785.py:8: FutureWarning: suggest_int() got {'step'} as positional arguments but they were expected to be given as keyword arguments.\n",
      "Positional arguments ['self', 'name', 'low', 'high', 'step', 'log'] in suggest_int() have been deprecated since v3.5.0. They will be replaced with the corresponding keyword arguments in v5.0.0, so please use the keyword specification instead. See https://github.com/optuna/optuna/releases/tag/v3.5.0 for details.\n",
      "  'n_estimators': trial.suggest_int('n_estimators', 10, 50, 1),\n",
      "/var/folders/dp/2nhmtbqj49v3st8xl2stwglw0000gn/T/ipykernel_57922/4018334785.py:9: FutureWarning: suggest_int() got {'step'} as positional arguments but they were expected to be given as keyword arguments.\n",
      "Positional arguments ['self', 'name', 'low', 'high', 'step', 'log'] in suggest_int() have been deprecated since v3.5.0. They will be replaced with the corresponding keyword arguments in v5.0.0, so please use the keyword specification instead. See https://github.com/optuna/optuna/releases/tag/v3.5.0 for details.\n",
      "  'max_depth': trial.suggest_int('max_depth', 1, 20, 1),\n",
      "/var/folders/dp/2nhmtbqj49v3st8xl2stwglw0000gn/T/ipykernel_57922/4018334785.py:10: FutureWarning: suggest_int() got {'step'} as positional arguments but they were expected to be given as keyword arguments.\n",
      "Positional arguments ['self', 'name', 'low', 'high', 'step', 'log'] in suggest_int() have been deprecated since v3.5.0. They will be replaced with the corresponding keyword arguments in v5.0.0, so please use the keyword specification instead. See https://github.com/optuna/optuna/releases/tag/v3.5.0 for details.\n",
      "  'min_samples_split': trial.suggest_int('min_samples_split', 2, 6, 1),\n",
      "/var/folders/dp/2nhmtbqj49v3st8xl2stwglw0000gn/T/ipykernel_57922/4018334785.py:11: FutureWarning: suggest_int() got {'step'} as positional arguments but they were expected to be given as keyword arguments.\n",
      "Positional arguments ['self', 'name', 'low', 'high', 'step', 'log'] in suggest_int() have been deprecated since v3.5.0. They will be replaced with the corresponding keyword arguments in v5.0.0, so please use the keyword specification instead. See https://github.com/optuna/optuna/releases/tag/v3.5.0 for details.\n",
      "  'min_samples_leaf': trial.suggest_int('min_samples_leaf', 1, 4, 1),\n",
      "2025/10/29 20:31:54 WARNING mlflow.utils.environment: Failed to resolve installed pip version. ``pip`` will be added to conda.yaml environment spec without a version specifier.\n",
      "[I 2025-10-29 20:31:54,510] Trial 38 finished with value: 5.036626840498505 and parameters: {'n_estimators': 31, 'max_depth': 15, 'min_samples_split': 3, 'min_samples_leaf': 4}. Best is trial 25 with value: 5.031991632644575.\n"
     ]
    },
    {
     "name": "stdout",
     "output_type": "stream",
     "text": [
      "🏃 View run wistful-bear-244 at: http://127.0.0.1:5000/#/experiments/3/runs/862cece920de41618d9480e0dbbb6c97\n",
      "🧪 View experiment at: http://127.0.0.1:5000/#/experiments/3\n"
     ]
    },
    {
     "name": "stderr",
     "output_type": "stream",
     "text": [
      "/var/folders/dp/2nhmtbqj49v3st8xl2stwglw0000gn/T/ipykernel_57922/4018334785.py:8: FutureWarning: suggest_int() got {'step'} as positional arguments but they were expected to be given as keyword arguments.\n",
      "Positional arguments ['self', 'name', 'low', 'high', 'step', 'log'] in suggest_int() have been deprecated since v3.5.0. They will be replaced with the corresponding keyword arguments in v5.0.0, so please use the keyword specification instead. See https://github.com/optuna/optuna/releases/tag/v3.5.0 for details.\n",
      "  'n_estimators': trial.suggest_int('n_estimators', 10, 50, 1),\n",
      "/var/folders/dp/2nhmtbqj49v3st8xl2stwglw0000gn/T/ipykernel_57922/4018334785.py:9: FutureWarning: suggest_int() got {'step'} as positional arguments but they were expected to be given as keyword arguments.\n",
      "Positional arguments ['self', 'name', 'low', 'high', 'step', 'log'] in suggest_int() have been deprecated since v3.5.0. They will be replaced with the corresponding keyword arguments in v5.0.0, so please use the keyword specification instead. See https://github.com/optuna/optuna/releases/tag/v3.5.0 for details.\n",
      "  'max_depth': trial.suggest_int('max_depth', 1, 20, 1),\n",
      "/var/folders/dp/2nhmtbqj49v3st8xl2stwglw0000gn/T/ipykernel_57922/4018334785.py:10: FutureWarning: suggest_int() got {'step'} as positional arguments but they were expected to be given as keyword arguments.\n",
      "Positional arguments ['self', 'name', 'low', 'high', 'step', 'log'] in suggest_int() have been deprecated since v3.5.0. They will be replaced with the corresponding keyword arguments in v5.0.0, so please use the keyword specification instead. See https://github.com/optuna/optuna/releases/tag/v3.5.0 for details.\n",
      "  'min_samples_split': trial.suggest_int('min_samples_split', 2, 6, 1),\n",
      "/var/folders/dp/2nhmtbqj49v3st8xl2stwglw0000gn/T/ipykernel_57922/4018334785.py:11: FutureWarning: suggest_int() got {'step'} as positional arguments but they were expected to be given as keyword arguments.\n",
      "Positional arguments ['self', 'name', 'low', 'high', 'step', 'log'] in suggest_int() have been deprecated since v3.5.0. They will be replaced with the corresponding keyword arguments in v5.0.0, so please use the keyword specification instead. See https://github.com/optuna/optuna/releases/tag/v3.5.0 for details.\n",
      "  'min_samples_leaf': trial.suggest_int('min_samples_leaf', 1, 4, 1),\n",
      "2025/10/29 20:31:55 WARNING mlflow.utils.environment: Failed to resolve installed pip version. ``pip`` will be added to conda.yaml environment spec without a version specifier.\n",
      "[I 2025-10-29 20:31:56,079] Trial 39 finished with value: 5.436247903312631 and parameters: {'n_estimators': 43, 'max_depth': 6, 'min_samples_split': 5, 'min_samples_leaf': 3}. Best is trial 25 with value: 5.031991632644575.\n",
      "/var/folders/dp/2nhmtbqj49v3st8xl2stwglw0000gn/T/ipykernel_57922/4018334785.py:8: FutureWarning: suggest_int() got {'step'} as positional arguments but they were expected to be given as keyword arguments.\n",
      "Positional arguments ['self', 'name', 'low', 'high', 'step', 'log'] in suggest_int() have been deprecated since v3.5.0. They will be replaced with the corresponding keyword arguments in v5.0.0, so please use the keyword specification instead. See https://github.com/optuna/optuna/releases/tag/v3.5.0 for details.\n",
      "  'n_estimators': trial.suggest_int('n_estimators', 10, 50, 1),\n",
      "/var/folders/dp/2nhmtbqj49v3st8xl2stwglw0000gn/T/ipykernel_57922/4018334785.py:9: FutureWarning: suggest_int() got {'step'} as positional arguments but they were expected to be given as keyword arguments.\n",
      "Positional arguments ['self', 'name', 'low', 'high', 'step', 'log'] in suggest_int() have been deprecated since v3.5.0. They will be replaced with the corresponding keyword arguments in v5.0.0, so please use the keyword specification instead. See https://github.com/optuna/optuna/releases/tag/v3.5.0 for details.\n",
      "  'max_depth': trial.suggest_int('max_depth', 1, 20, 1),\n",
      "/var/folders/dp/2nhmtbqj49v3st8xl2stwglw0000gn/T/ipykernel_57922/4018334785.py:10: FutureWarning: suggest_int() got {'step'} as positional arguments but they were expected to be given as keyword arguments.\n",
      "Positional arguments ['self', 'name', 'low', 'high', 'step', 'log'] in suggest_int() have been deprecated since v3.5.0. They will be replaced with the corresponding keyword arguments in v5.0.0, so please use the keyword specification instead. See https://github.com/optuna/optuna/releases/tag/v3.5.0 for details.\n",
      "  'min_samples_split': trial.suggest_int('min_samples_split', 2, 6, 1),\n",
      "/var/folders/dp/2nhmtbqj49v3st8xl2stwglw0000gn/T/ipykernel_57922/4018334785.py:11: FutureWarning: suggest_int() got {'step'} as positional arguments but they were expected to be given as keyword arguments.\n",
      "Positional arguments ['self', 'name', 'low', 'high', 'step', 'log'] in suggest_int() have been deprecated since v3.5.0. They will be replaced with the corresponding keyword arguments in v5.0.0, so please use the keyword specification instead. See https://github.com/optuna/optuna/releases/tag/v3.5.0 for details.\n",
      "  'min_samples_leaf': trial.suggest_int('min_samples_leaf', 1, 4, 1),\n"
     ]
    },
    {
     "name": "stdout",
     "output_type": "stream",
     "text": [
      "🏃 View run clumsy-dog-68 at: http://127.0.0.1:5000/#/experiments/3/runs/5a2bfd061a2e4b6494db1211c079672c\n",
      "🧪 View experiment at: http://127.0.0.1:5000/#/experiments/3\n"
     ]
    },
    {
     "name": "stderr",
     "output_type": "stream",
     "text": [
      "2025/10/29 20:31:57 WARNING mlflow.utils.environment: Failed to resolve installed pip version. ``pip`` will be added to conda.yaml environment spec without a version specifier.\n",
      "[I 2025-10-29 20:31:59,742] Trial 40 finished with value: 5.125938466636847 and parameters: {'n_estimators': 35, 'max_depth': 18, 'min_samples_split': 2, 'min_samples_leaf': 1}. Best is trial 25 with value: 5.031991632644575.\n"
     ]
    },
    {
     "name": "stdout",
     "output_type": "stream",
     "text": [
      "🏃 View run clean-colt-705 at: http://127.0.0.1:5000/#/experiments/3/runs/9e03d35355d84ef2aff7b04e61666f15\n",
      "🧪 View experiment at: http://127.0.0.1:5000/#/experiments/3\n"
     ]
    },
    {
     "name": "stderr",
     "output_type": "stream",
     "text": [
      "/var/folders/dp/2nhmtbqj49v3st8xl2stwglw0000gn/T/ipykernel_57922/4018334785.py:8: FutureWarning: suggest_int() got {'step'} as positional arguments but they were expected to be given as keyword arguments.\n",
      "Positional arguments ['self', 'name', 'low', 'high', 'step', 'log'] in suggest_int() have been deprecated since v3.5.0. They will be replaced with the corresponding keyword arguments in v5.0.0, so please use the keyword specification instead. See https://github.com/optuna/optuna/releases/tag/v3.5.0 for details.\n",
      "  'n_estimators': trial.suggest_int('n_estimators', 10, 50, 1),\n",
      "/var/folders/dp/2nhmtbqj49v3st8xl2stwglw0000gn/T/ipykernel_57922/4018334785.py:9: FutureWarning: suggest_int() got {'step'} as positional arguments but they were expected to be given as keyword arguments.\n",
      "Positional arguments ['self', 'name', 'low', 'high', 'step', 'log'] in suggest_int() have been deprecated since v3.5.0. They will be replaced with the corresponding keyword arguments in v5.0.0, so please use the keyword specification instead. See https://github.com/optuna/optuna/releases/tag/v3.5.0 for details.\n",
      "  'max_depth': trial.suggest_int('max_depth', 1, 20, 1),\n",
      "/var/folders/dp/2nhmtbqj49v3st8xl2stwglw0000gn/T/ipykernel_57922/4018334785.py:10: FutureWarning: suggest_int() got {'step'} as positional arguments but they were expected to be given as keyword arguments.\n",
      "Positional arguments ['self', 'name', 'low', 'high', 'step', 'log'] in suggest_int() have been deprecated since v3.5.0. They will be replaced with the corresponding keyword arguments in v5.0.0, so please use the keyword specification instead. See https://github.com/optuna/optuna/releases/tag/v3.5.0 for details.\n",
      "  'min_samples_split': trial.suggest_int('min_samples_split', 2, 6, 1),\n",
      "/var/folders/dp/2nhmtbqj49v3st8xl2stwglw0000gn/T/ipykernel_57922/4018334785.py:11: FutureWarning: suggest_int() got {'step'} as positional arguments but they were expected to be given as keyword arguments.\n",
      "Positional arguments ['self', 'name', 'low', 'high', 'step', 'log'] in suggest_int() have been deprecated since v3.5.0. They will be replaced with the corresponding keyword arguments in v5.0.0, so please use the keyword specification instead. See https://github.com/optuna/optuna/releases/tag/v3.5.0 for details.\n",
      "  'min_samples_leaf': trial.suggest_int('min_samples_leaf', 1, 4, 1),\n",
      "2025/10/29 20:32:01 WARNING mlflow.utils.environment: Failed to resolve installed pip version. ``pip`` will be added to conda.yaml environment spec without a version specifier.\n",
      "[I 2025-10-29 20:32:01,715] Trial 41 finished with value: 5.033635769877937 and parameters: {'n_estimators': 39, 'max_depth': 15, 'min_samples_split': 3, 'min_samples_leaf': 3}. Best is trial 25 with value: 5.031991632644575.\n"
     ]
    },
    {
     "name": "stdout",
     "output_type": "stream",
     "text": [
      "🏃 View run rogue-ram-316 at: http://127.0.0.1:5000/#/experiments/3/runs/433a6716b18744518e33bf8718084664\n",
      "🧪 View experiment at: http://127.0.0.1:5000/#/experiments/3\n"
     ]
    },
    {
     "name": "stderr",
     "output_type": "stream",
     "text": [
      "/var/folders/dp/2nhmtbqj49v3st8xl2stwglw0000gn/T/ipykernel_57922/4018334785.py:8: FutureWarning: suggest_int() got {'step'} as positional arguments but they were expected to be given as keyword arguments.\n",
      "Positional arguments ['self', 'name', 'low', 'high', 'step', 'log'] in suggest_int() have been deprecated since v3.5.0. They will be replaced with the corresponding keyword arguments in v5.0.0, so please use the keyword specification instead. See https://github.com/optuna/optuna/releases/tag/v3.5.0 for details.\n",
      "  'n_estimators': trial.suggest_int('n_estimators', 10, 50, 1),\n",
      "/var/folders/dp/2nhmtbqj49v3st8xl2stwglw0000gn/T/ipykernel_57922/4018334785.py:9: FutureWarning: suggest_int() got {'step'} as positional arguments but they were expected to be given as keyword arguments.\n",
      "Positional arguments ['self', 'name', 'low', 'high', 'step', 'log'] in suggest_int() have been deprecated since v3.5.0. They will be replaced with the corresponding keyword arguments in v5.0.0, so please use the keyword specification instead. See https://github.com/optuna/optuna/releases/tag/v3.5.0 for details.\n",
      "  'max_depth': trial.suggest_int('max_depth', 1, 20, 1),\n",
      "/var/folders/dp/2nhmtbqj49v3st8xl2stwglw0000gn/T/ipykernel_57922/4018334785.py:10: FutureWarning: suggest_int() got {'step'} as positional arguments but they were expected to be given as keyword arguments.\n",
      "Positional arguments ['self', 'name', 'low', 'high', 'step', 'log'] in suggest_int() have been deprecated since v3.5.0. They will be replaced with the corresponding keyword arguments in v5.0.0, so please use the keyword specification instead. See https://github.com/optuna/optuna/releases/tag/v3.5.0 for details.\n",
      "  'min_samples_split': trial.suggest_int('min_samples_split', 2, 6, 1),\n",
      "/var/folders/dp/2nhmtbqj49v3st8xl2stwglw0000gn/T/ipykernel_57922/4018334785.py:11: FutureWarning: suggest_int() got {'step'} as positional arguments but they were expected to be given as keyword arguments.\n",
      "Positional arguments ['self', 'name', 'low', 'high', 'step', 'log'] in suggest_int() have been deprecated since v3.5.0. They will be replaced with the corresponding keyword arguments in v5.0.0, so please use the keyword specification instead. See https://github.com/optuna/optuna/releases/tag/v3.5.0 for details.\n",
      "  'min_samples_leaf': trial.suggest_int('min_samples_leaf', 1, 4, 1),\n",
      "2025/10/29 20:32:03 WARNING mlflow.utils.environment: Failed to resolve installed pip version. ``pip`` will be added to conda.yaml environment spec without a version specifier.\n",
      "[I 2025-10-29 20:32:03,406] Trial 42 finished with value: 5.0669201548658656 and parameters: {'n_estimators': 39, 'max_depth': 12, 'min_samples_split': 3, 'min_samples_leaf': 3}. Best is trial 25 with value: 5.031991632644575.\n",
      "/var/folders/dp/2nhmtbqj49v3st8xl2stwglw0000gn/T/ipykernel_57922/4018334785.py:8: FutureWarning: suggest_int() got {'step'} as positional arguments but they were expected to be given as keyword arguments.\n",
      "Positional arguments ['self', 'name', 'low', 'high', 'step', 'log'] in suggest_int() have been deprecated since v3.5.0. They will be replaced with the corresponding keyword arguments in v5.0.0, so please use the keyword specification instead. See https://github.com/optuna/optuna/releases/tag/v3.5.0 for details.\n",
      "  'n_estimators': trial.suggest_int('n_estimators', 10, 50, 1),\n",
      "/var/folders/dp/2nhmtbqj49v3st8xl2stwglw0000gn/T/ipykernel_57922/4018334785.py:9: FutureWarning: suggest_int() got {'step'} as positional arguments but they were expected to be given as keyword arguments.\n",
      "Positional arguments ['self', 'name', 'low', 'high', 'step', 'log'] in suggest_int() have been deprecated since v3.5.0. They will be replaced with the corresponding keyword arguments in v5.0.0, so please use the keyword specification instead. See https://github.com/optuna/optuna/releases/tag/v3.5.0 for details.\n",
      "  'max_depth': trial.suggest_int('max_depth', 1, 20, 1),\n",
      "/var/folders/dp/2nhmtbqj49v3st8xl2stwglw0000gn/T/ipykernel_57922/4018334785.py:10: FutureWarning: suggest_int() got {'step'} as positional arguments but they were expected to be given as keyword arguments.\n",
      "Positional arguments ['self', 'name', 'low', 'high', 'step', 'log'] in suggest_int() have been deprecated since v3.5.0. They will be replaced with the corresponding keyword arguments in v5.0.0, so please use the keyword specification instead. See https://github.com/optuna/optuna/releases/tag/v3.5.0 for details.\n",
      "  'min_samples_split': trial.suggest_int('min_samples_split', 2, 6, 1),\n",
      "/var/folders/dp/2nhmtbqj49v3st8xl2stwglw0000gn/T/ipykernel_57922/4018334785.py:11: FutureWarning: suggest_int() got {'step'} as positional arguments but they were expected to be given as keyword arguments.\n",
      "Positional arguments ['self', 'name', 'low', 'high', 'step', 'log'] in suggest_int() have been deprecated since v3.5.0. They will be replaced with the corresponding keyword arguments in v5.0.0, so please use the keyword specification instead. See https://github.com/optuna/optuna/releases/tag/v3.5.0 for details.\n",
      "  'min_samples_leaf': trial.suggest_int('min_samples_leaf', 1, 4, 1),\n"
     ]
    },
    {
     "name": "stdout",
     "output_type": "stream",
     "text": [
      "🏃 View run efficient-cod-503 at: http://127.0.0.1:5000/#/experiments/3/runs/9e5c255442cd43ebb40ceb2b5c24c1be\n",
      "🧪 View experiment at: http://127.0.0.1:5000/#/experiments/3\n"
     ]
    },
    {
     "name": "stderr",
     "output_type": "stream",
     "text": [
      "2025/10/29 20:32:04 WARNING mlflow.utils.environment: Failed to resolve installed pip version. ``pip`` will be added to conda.yaml environment spec without a version specifier.\n",
      "[I 2025-10-29 20:32:05,357] Trial 43 finished with value: 5.038522342372137 and parameters: {'n_estimators': 36, 'max_depth': 16, 'min_samples_split': 4, 'min_samples_leaf': 3}. Best is trial 25 with value: 5.031991632644575.\n"
     ]
    },
    {
     "name": "stdout",
     "output_type": "stream",
     "text": [
      "🏃 View run stylish-rat-111 at: http://127.0.0.1:5000/#/experiments/3/runs/7bb3202f2ca44dfaa29033b5e610ffb3\n",
      "🧪 View experiment at: http://127.0.0.1:5000/#/experiments/3\n"
     ]
    },
    {
     "name": "stderr",
     "output_type": "stream",
     "text": [
      "/var/folders/dp/2nhmtbqj49v3st8xl2stwglw0000gn/T/ipykernel_57922/4018334785.py:8: FutureWarning: suggest_int() got {'step'} as positional arguments but they were expected to be given as keyword arguments.\n",
      "Positional arguments ['self', 'name', 'low', 'high', 'step', 'log'] in suggest_int() have been deprecated since v3.5.0. They will be replaced with the corresponding keyword arguments in v5.0.0, so please use the keyword specification instead. See https://github.com/optuna/optuna/releases/tag/v3.5.0 for details.\n",
      "  'n_estimators': trial.suggest_int('n_estimators', 10, 50, 1),\n",
      "/var/folders/dp/2nhmtbqj49v3st8xl2stwglw0000gn/T/ipykernel_57922/4018334785.py:9: FutureWarning: suggest_int() got {'step'} as positional arguments but they were expected to be given as keyword arguments.\n",
      "Positional arguments ['self', 'name', 'low', 'high', 'step', 'log'] in suggest_int() have been deprecated since v3.5.0. They will be replaced with the corresponding keyword arguments in v5.0.0, so please use the keyword specification instead. See https://github.com/optuna/optuna/releases/tag/v3.5.0 for details.\n",
      "  'max_depth': trial.suggest_int('max_depth', 1, 20, 1),\n",
      "/var/folders/dp/2nhmtbqj49v3st8xl2stwglw0000gn/T/ipykernel_57922/4018334785.py:10: FutureWarning: suggest_int() got {'step'} as positional arguments but they were expected to be given as keyword arguments.\n",
      "Positional arguments ['self', 'name', 'low', 'high', 'step', 'log'] in suggest_int() have been deprecated since v3.5.0. They will be replaced with the corresponding keyword arguments in v5.0.0, so please use the keyword specification instead. See https://github.com/optuna/optuna/releases/tag/v3.5.0 for details.\n",
      "  'min_samples_split': trial.suggest_int('min_samples_split', 2, 6, 1),\n",
      "/var/folders/dp/2nhmtbqj49v3st8xl2stwglw0000gn/T/ipykernel_57922/4018334785.py:11: FutureWarning: suggest_int() got {'step'} as positional arguments but they were expected to be given as keyword arguments.\n",
      "Positional arguments ['self', 'name', 'low', 'high', 'step', 'log'] in suggest_int() have been deprecated since v3.5.0. They will be replaced with the corresponding keyword arguments in v5.0.0, so please use the keyword specification instead. See https://github.com/optuna/optuna/releases/tag/v3.5.0 for details.\n",
      "  'min_samples_leaf': trial.suggest_int('min_samples_leaf', 1, 4, 1),\n",
      "2025/10/29 20:32:06 WARNING mlflow.utils.environment: Failed to resolve installed pip version. ``pip`` will be added to conda.yaml environment spec without a version specifier.\n",
      "[I 2025-10-29 20:32:07,289] Trial 44 finished with value: 5.0317832907827595 and parameters: {'n_estimators': 48, 'max_depth': 14, 'min_samples_split': 3, 'min_samples_leaf': 3}. Best is trial 44 with value: 5.0317832907827595.\n"
     ]
    },
    {
     "name": "stdout",
     "output_type": "stream",
     "text": [
      "🏃 View run nosy-frog-433 at: http://127.0.0.1:5000/#/experiments/3/runs/0274a6981e71455e8268e116ec3db6ae\n",
      "🧪 View experiment at: http://127.0.0.1:5000/#/experiments/3\n"
     ]
    },
    {
     "name": "stderr",
     "output_type": "stream",
     "text": [
      "/var/folders/dp/2nhmtbqj49v3st8xl2stwglw0000gn/T/ipykernel_57922/4018334785.py:8: FutureWarning: suggest_int() got {'step'} as positional arguments but they were expected to be given as keyword arguments.\n",
      "Positional arguments ['self', 'name', 'low', 'high', 'step', 'log'] in suggest_int() have been deprecated since v3.5.0. They will be replaced with the corresponding keyword arguments in v5.0.0, so please use the keyword specification instead. See https://github.com/optuna/optuna/releases/tag/v3.5.0 for details.\n",
      "  'n_estimators': trial.suggest_int('n_estimators', 10, 50, 1),\n",
      "/var/folders/dp/2nhmtbqj49v3st8xl2stwglw0000gn/T/ipykernel_57922/4018334785.py:9: FutureWarning: suggest_int() got {'step'} as positional arguments but they were expected to be given as keyword arguments.\n",
      "Positional arguments ['self', 'name', 'low', 'high', 'step', 'log'] in suggest_int() have been deprecated since v3.5.0. They will be replaced with the corresponding keyword arguments in v5.0.0, so please use the keyword specification instead. See https://github.com/optuna/optuna/releases/tag/v3.5.0 for details.\n",
      "  'max_depth': trial.suggest_int('max_depth', 1, 20, 1),\n",
      "/var/folders/dp/2nhmtbqj49v3st8xl2stwglw0000gn/T/ipykernel_57922/4018334785.py:10: FutureWarning: suggest_int() got {'step'} as positional arguments but they were expected to be given as keyword arguments.\n",
      "Positional arguments ['self', 'name', 'low', 'high', 'step', 'log'] in suggest_int() have been deprecated since v3.5.0. They will be replaced with the corresponding keyword arguments in v5.0.0, so please use the keyword specification instead. See https://github.com/optuna/optuna/releases/tag/v3.5.0 for details.\n",
      "  'min_samples_split': trial.suggest_int('min_samples_split', 2, 6, 1),\n",
      "/var/folders/dp/2nhmtbqj49v3st8xl2stwglw0000gn/T/ipykernel_57922/4018334785.py:11: FutureWarning: suggest_int() got {'step'} as positional arguments but they were expected to be given as keyword arguments.\n",
      "Positional arguments ['self', 'name', 'low', 'high', 'step', 'log'] in suggest_int() have been deprecated since v3.5.0. They will be replaced with the corresponding keyword arguments in v5.0.0, so please use the keyword specification instead. See https://github.com/optuna/optuna/releases/tag/v3.5.0 for details.\n",
      "  'min_samples_leaf': trial.suggest_int('min_samples_leaf', 1, 4, 1),\n",
      "2025/10/29 20:32:08 WARNING mlflow.utils.environment: Failed to resolve installed pip version. ``pip`` will be added to conda.yaml environment spec without a version specifier.\n",
      "[I 2025-10-29 20:32:09,283] Trial 45 finished with value: 5.031553590810261 and parameters: {'n_estimators': 47, 'max_depth': 14, 'min_samples_split': 3, 'min_samples_leaf': 2}. Best is trial 45 with value: 5.031553590810261.\n"
     ]
    },
    {
     "name": "stdout",
     "output_type": "stream",
     "text": [
      "🏃 View run adaptable-crane-570 at: http://127.0.0.1:5000/#/experiments/3/runs/cd606477c4c14d5cb4fb7e0659b86bec\n",
      "🧪 View experiment at: http://127.0.0.1:5000/#/experiments/3\n"
     ]
    },
    {
     "name": "stderr",
     "output_type": "stream",
     "text": [
      "/var/folders/dp/2nhmtbqj49v3st8xl2stwglw0000gn/T/ipykernel_57922/4018334785.py:8: FutureWarning: suggest_int() got {'step'} as positional arguments but they were expected to be given as keyword arguments.\n",
      "Positional arguments ['self', 'name', 'low', 'high', 'step', 'log'] in suggest_int() have been deprecated since v3.5.0. They will be replaced with the corresponding keyword arguments in v5.0.0, so please use the keyword specification instead. See https://github.com/optuna/optuna/releases/tag/v3.5.0 for details.\n",
      "  'n_estimators': trial.suggest_int('n_estimators', 10, 50, 1),\n",
      "/var/folders/dp/2nhmtbqj49v3st8xl2stwglw0000gn/T/ipykernel_57922/4018334785.py:9: FutureWarning: suggest_int() got {'step'} as positional arguments but they were expected to be given as keyword arguments.\n",
      "Positional arguments ['self', 'name', 'low', 'high', 'step', 'log'] in suggest_int() have been deprecated since v3.5.0. They will be replaced with the corresponding keyword arguments in v5.0.0, so please use the keyword specification instead. See https://github.com/optuna/optuna/releases/tag/v3.5.0 for details.\n",
      "  'max_depth': trial.suggest_int('max_depth', 1, 20, 1),\n",
      "/var/folders/dp/2nhmtbqj49v3st8xl2stwglw0000gn/T/ipykernel_57922/4018334785.py:10: FutureWarning: suggest_int() got {'step'} as positional arguments but they were expected to be given as keyword arguments.\n",
      "Positional arguments ['self', 'name', 'low', 'high', 'step', 'log'] in suggest_int() have been deprecated since v3.5.0. They will be replaced with the corresponding keyword arguments in v5.0.0, so please use the keyword specification instead. See https://github.com/optuna/optuna/releases/tag/v3.5.0 for details.\n",
      "  'min_samples_split': trial.suggest_int('min_samples_split', 2, 6, 1),\n",
      "/var/folders/dp/2nhmtbqj49v3st8xl2stwglw0000gn/T/ipykernel_57922/4018334785.py:11: FutureWarning: suggest_int() got {'step'} as positional arguments but they were expected to be given as keyword arguments.\n",
      "Positional arguments ['self', 'name', 'low', 'high', 'step', 'log'] in suggest_int() have been deprecated since v3.5.0. They will be replaced with the corresponding keyword arguments in v5.0.0, so please use the keyword specification instead. See https://github.com/optuna/optuna/releases/tag/v3.5.0 for details.\n",
      "  'min_samples_leaf': trial.suggest_int('min_samples_leaf', 1, 4, 1),\n",
      "2025/10/29 20:32:10 WARNING mlflow.utils.environment: Failed to resolve installed pip version. ``pip`` will be added to conda.yaml environment spec without a version specifier.\n",
      "[I 2025-10-29 20:32:10,962] Trial 46 finished with value: 5.141031066162859 and parameters: {'n_estimators': 48, 'max_depth': 10, 'min_samples_split': 3, 'min_samples_leaf': 2}. Best is trial 45 with value: 5.031553590810261.\n",
      "/var/folders/dp/2nhmtbqj49v3st8xl2stwglw0000gn/T/ipykernel_57922/4018334785.py:8: FutureWarning: suggest_int() got {'step'} as positional arguments but they were expected to be given as keyword arguments.\n",
      "Positional arguments ['self', 'name', 'low', 'high', 'step', 'log'] in suggest_int() have been deprecated since v3.5.0. They will be replaced with the corresponding keyword arguments in v5.0.0, so please use the keyword specification instead. See https://github.com/optuna/optuna/releases/tag/v3.5.0 for details.\n",
      "  'n_estimators': trial.suggest_int('n_estimators', 10, 50, 1),\n",
      "/var/folders/dp/2nhmtbqj49v3st8xl2stwglw0000gn/T/ipykernel_57922/4018334785.py:9: FutureWarning: suggest_int() got {'step'} as positional arguments but they were expected to be given as keyword arguments.\n",
      "Positional arguments ['self', 'name', 'low', 'high', 'step', 'log'] in suggest_int() have been deprecated since v3.5.0. They will be replaced with the corresponding keyword arguments in v5.0.0, so please use the keyword specification instead. See https://github.com/optuna/optuna/releases/tag/v3.5.0 for details.\n",
      "  'max_depth': trial.suggest_int('max_depth', 1, 20, 1),\n",
      "/var/folders/dp/2nhmtbqj49v3st8xl2stwglw0000gn/T/ipykernel_57922/4018334785.py:10: FutureWarning: suggest_int() got {'step'} as positional arguments but they were expected to be given as keyword arguments.\n",
      "Positional arguments ['self', 'name', 'low', 'high', 'step', 'log'] in suggest_int() have been deprecated since v3.5.0. They will be replaced with the corresponding keyword arguments in v5.0.0, so please use the keyword specification instead. See https://github.com/optuna/optuna/releases/tag/v3.5.0 for details.\n",
      "  'min_samples_split': trial.suggest_int('min_samples_split', 2, 6, 1),\n",
      "/var/folders/dp/2nhmtbqj49v3st8xl2stwglw0000gn/T/ipykernel_57922/4018334785.py:11: FutureWarning: suggest_int() got {'step'} as positional arguments but they were expected to be given as keyword arguments.\n",
      "Positional arguments ['self', 'name', 'low', 'high', 'step', 'log'] in suggest_int() have been deprecated since v3.5.0. They will be replaced with the corresponding keyword arguments in v5.0.0, so please use the keyword specification instead. See https://github.com/optuna/optuna/releases/tag/v3.5.0 for details.\n",
      "  'min_samples_leaf': trial.suggest_int('min_samples_leaf', 1, 4, 1),\n"
     ]
    },
    {
     "name": "stdout",
     "output_type": "stream",
     "text": [
      "🏃 View run traveling-doe-288 at: http://127.0.0.1:5000/#/experiments/3/runs/b1c96791f1b4435d9330b24cf9d5a7f7\n",
      "🧪 View experiment at: http://127.0.0.1:5000/#/experiments/3\n"
     ]
    },
    {
     "name": "stderr",
     "output_type": "stream",
     "text": [
      "2025/10/29 20:32:12 WARNING mlflow.utils.environment: Failed to resolve installed pip version. ``pip`` will be added to conda.yaml environment spec without a version specifier.\n",
      "[I 2025-10-29 20:32:13,038] Trial 47 finished with value: 5.031188551665347 and parameters: {'n_estimators': 50, 'max_depth': 14, 'min_samples_split': 2, 'min_samples_leaf': 2}. Best is trial 47 with value: 5.031188551665347.\n"
     ]
    },
    {
     "name": "stdout",
     "output_type": "stream",
     "text": [
      "🏃 View run lyrical-slug-710 at: http://127.0.0.1:5000/#/experiments/3/runs/3f74694bd3c5426bb0a6848b0035795b\n",
      "🧪 View experiment at: http://127.0.0.1:5000/#/experiments/3\n"
     ]
    },
    {
     "name": "stderr",
     "output_type": "stream",
     "text": [
      "/var/folders/dp/2nhmtbqj49v3st8xl2stwglw0000gn/T/ipykernel_57922/4018334785.py:8: FutureWarning: suggest_int() got {'step'} as positional arguments but they were expected to be given as keyword arguments.\n",
      "Positional arguments ['self', 'name', 'low', 'high', 'step', 'log'] in suggest_int() have been deprecated since v3.5.0. They will be replaced with the corresponding keyword arguments in v5.0.0, so please use the keyword specification instead. See https://github.com/optuna/optuna/releases/tag/v3.5.0 for details.\n",
      "  'n_estimators': trial.suggest_int('n_estimators', 10, 50, 1),\n",
      "/var/folders/dp/2nhmtbqj49v3st8xl2stwglw0000gn/T/ipykernel_57922/4018334785.py:9: FutureWarning: suggest_int() got {'step'} as positional arguments but they were expected to be given as keyword arguments.\n",
      "Positional arguments ['self', 'name', 'low', 'high', 'step', 'log'] in suggest_int() have been deprecated since v3.5.0. They will be replaced with the corresponding keyword arguments in v5.0.0, so please use the keyword specification instead. See https://github.com/optuna/optuna/releases/tag/v3.5.0 for details.\n",
      "  'max_depth': trial.suggest_int('max_depth', 1, 20, 1),\n",
      "/var/folders/dp/2nhmtbqj49v3st8xl2stwglw0000gn/T/ipykernel_57922/4018334785.py:10: FutureWarning: suggest_int() got {'step'} as positional arguments but they were expected to be given as keyword arguments.\n",
      "Positional arguments ['self', 'name', 'low', 'high', 'step', 'log'] in suggest_int() have been deprecated since v3.5.0. They will be replaced with the corresponding keyword arguments in v5.0.0, so please use the keyword specification instead. See https://github.com/optuna/optuna/releases/tag/v3.5.0 for details.\n",
      "  'min_samples_split': trial.suggest_int('min_samples_split', 2, 6, 1),\n",
      "/var/folders/dp/2nhmtbqj49v3st8xl2stwglw0000gn/T/ipykernel_57922/4018334785.py:11: FutureWarning: suggest_int() got {'step'} as positional arguments but they were expected to be given as keyword arguments.\n",
      "Positional arguments ['self', 'name', 'low', 'high', 'step', 'log'] in suggest_int() have been deprecated since v3.5.0. They will be replaced with the corresponding keyword arguments in v5.0.0, so please use the keyword specification instead. See https://github.com/optuna/optuna/releases/tag/v3.5.0 for details.\n",
      "  'min_samples_leaf': trial.suggest_int('min_samples_leaf', 1, 4, 1),\n",
      "2025/10/29 20:32:14 WARNING mlflow.utils.environment: Failed to resolve installed pip version. ``pip`` will be added to conda.yaml environment spec without a version specifier.\n",
      "[I 2025-10-29 20:32:14,774] Trial 48 finished with value: 5.095518982073932 and parameters: {'n_estimators': 50, 'max_depth': 11, 'min_samples_split': 2, 'min_samples_leaf': 1}. Best is trial 47 with value: 5.031188551665347.\n"
     ]
    },
    {
     "name": "stdout",
     "output_type": "stream",
     "text": [
      "🏃 View run skillful-dove-518 at: http://127.0.0.1:5000/#/experiments/3/runs/fb3d4661afd849c5bb7f0a6d8beed611\n",
      "🧪 View experiment at: http://127.0.0.1:5000/#/experiments/3\n"
     ]
    },
    {
     "name": "stderr",
     "output_type": "stream",
     "text": [
      "/var/folders/dp/2nhmtbqj49v3st8xl2stwglw0000gn/T/ipykernel_57922/4018334785.py:8: FutureWarning: suggest_int() got {'step'} as positional arguments but they were expected to be given as keyword arguments.\n",
      "Positional arguments ['self', 'name', 'low', 'high', 'step', 'log'] in suggest_int() have been deprecated since v3.5.0. They will be replaced with the corresponding keyword arguments in v5.0.0, so please use the keyword specification instead. See https://github.com/optuna/optuna/releases/tag/v3.5.0 for details.\n",
      "  'n_estimators': trial.suggest_int('n_estimators', 10, 50, 1),\n",
      "/var/folders/dp/2nhmtbqj49v3st8xl2stwglw0000gn/T/ipykernel_57922/4018334785.py:9: FutureWarning: suggest_int() got {'step'} as positional arguments but they were expected to be given as keyword arguments.\n",
      "Positional arguments ['self', 'name', 'low', 'high', 'step', 'log'] in suggest_int() have been deprecated since v3.5.0. They will be replaced with the corresponding keyword arguments in v5.0.0, so please use the keyword specification instead. See https://github.com/optuna/optuna/releases/tag/v3.5.0 for details.\n",
      "  'max_depth': trial.suggest_int('max_depth', 1, 20, 1),\n",
      "/var/folders/dp/2nhmtbqj49v3st8xl2stwglw0000gn/T/ipykernel_57922/4018334785.py:10: FutureWarning: suggest_int() got {'step'} as positional arguments but they were expected to be given as keyword arguments.\n",
      "Positional arguments ['self', 'name', 'low', 'high', 'step', 'log'] in suggest_int() have been deprecated since v3.5.0. They will be replaced with the corresponding keyword arguments in v5.0.0, so please use the keyword specification instead. See https://github.com/optuna/optuna/releases/tag/v3.5.0 for details.\n",
      "  'min_samples_split': trial.suggest_int('min_samples_split', 2, 6, 1),\n",
      "/var/folders/dp/2nhmtbqj49v3st8xl2stwglw0000gn/T/ipykernel_57922/4018334785.py:11: FutureWarning: suggest_int() got {'step'} as positional arguments but they were expected to be given as keyword arguments.\n",
      "Positional arguments ['self', 'name', 'low', 'high', 'step', 'log'] in suggest_int() have been deprecated since v3.5.0. They will be replaced with the corresponding keyword arguments in v5.0.0, so please use the keyword specification instead. See https://github.com/optuna/optuna/releases/tag/v3.5.0 for details.\n",
      "  'min_samples_leaf': trial.suggest_int('min_samples_leaf', 1, 4, 1),\n",
      "2025/10/29 20:32:16 WARNING mlflow.utils.environment: Failed to resolve installed pip version. ``pip`` will be added to conda.yaml environment spec without a version specifier.\n",
      "[I 2025-10-29 20:32:16,711] Trial 49 finished with value: 5.039264172057583 and parameters: {'n_estimators': 48, 'max_depth': 13, 'min_samples_split': 2, 'min_samples_leaf': 2}. Best is trial 47 with value: 5.031188551665347.\n"
     ]
    },
    {
     "name": "stdout",
     "output_type": "stream",
     "text": [
      "🏃 View run unique-cow-284 at: http://127.0.0.1:5000/#/experiments/3/runs/91ee0bc3aef3411dbf648a4f5a0324ec\n",
      "🧪 View experiment at: http://127.0.0.1:5000/#/experiments/3\n"
     ]
    },
    {
     "name": "stderr",
     "output_type": "stream",
     "text": [
      "/var/folders/dp/2nhmtbqj49v3st8xl2stwglw0000gn/T/ipykernel_57922/4018334785.py:8: FutureWarning: suggest_int() got {'step'} as positional arguments but they were expected to be given as keyword arguments.\n",
      "Positional arguments ['self', 'name', 'low', 'high', 'step', 'log'] in suggest_int() have been deprecated since v3.5.0. They will be replaced with the corresponding keyword arguments in v5.0.0, so please use the keyword specification instead. See https://github.com/optuna/optuna/releases/tag/v3.5.0 for details.\n",
      "  'n_estimators': trial.suggest_int('n_estimators', 10, 50, 1),\n",
      "/var/folders/dp/2nhmtbqj49v3st8xl2stwglw0000gn/T/ipykernel_57922/4018334785.py:9: FutureWarning: suggest_int() got {'step'} as positional arguments but they were expected to be given as keyword arguments.\n",
      "Positional arguments ['self', 'name', 'low', 'high', 'step', 'log'] in suggest_int() have been deprecated since v3.5.0. They will be replaced with the corresponding keyword arguments in v5.0.0, so please use the keyword specification instead. See https://github.com/optuna/optuna/releases/tag/v3.5.0 for details.\n",
      "  'max_depth': trial.suggest_int('max_depth', 1, 20, 1),\n",
      "/var/folders/dp/2nhmtbqj49v3st8xl2stwglw0000gn/T/ipykernel_57922/4018334785.py:10: FutureWarning: suggest_int() got {'step'} as positional arguments but they were expected to be given as keyword arguments.\n",
      "Positional arguments ['self', 'name', 'low', 'high', 'step', 'log'] in suggest_int() have been deprecated since v3.5.0. They will be replaced with the corresponding keyword arguments in v5.0.0, so please use the keyword specification instead. See https://github.com/optuna/optuna/releases/tag/v3.5.0 for details.\n",
      "  'min_samples_split': trial.suggest_int('min_samples_split', 2, 6, 1),\n",
      "/var/folders/dp/2nhmtbqj49v3st8xl2stwglw0000gn/T/ipykernel_57922/4018334785.py:11: FutureWarning: suggest_int() got {'step'} as positional arguments but they were expected to be given as keyword arguments.\n",
      "Positional arguments ['self', 'name', 'low', 'high', 'step', 'log'] in suggest_int() have been deprecated since v3.5.0. They will be replaced with the corresponding keyword arguments in v5.0.0, so please use the keyword specification instead. See https://github.com/optuna/optuna/releases/tag/v3.5.0 for details.\n",
      "  'min_samples_leaf': trial.suggest_int('min_samples_leaf', 1, 4, 1),\n",
      "2025/10/29 20:32:18 WARNING mlflow.utils.environment: Failed to resolve installed pip version. ``pip`` will be added to conda.yaml environment spec without a version specifier.\n",
      "[I 2025-10-29 20:32:18,646] Trial 50 finished with value: 5.033765953934092 and parameters: {'n_estimators': 45, 'max_depth': 14, 'min_samples_split': 2, 'min_samples_leaf': 2}. Best is trial 47 with value: 5.031188551665347.\n"
     ]
    },
    {
     "name": "stdout",
     "output_type": "stream",
     "text": [
      "🏃 View run blushing-dog-584 at: http://127.0.0.1:5000/#/experiments/3/runs/527b960437f445a591330440fc698e89\n",
      "🧪 View experiment at: http://127.0.0.1:5000/#/experiments/3\n"
     ]
    },
    {
     "name": "stderr",
     "output_type": "stream",
     "text": [
      "/var/folders/dp/2nhmtbqj49v3st8xl2stwglw0000gn/T/ipykernel_57922/4018334785.py:8: FutureWarning: suggest_int() got {'step'} as positional arguments but they were expected to be given as keyword arguments.\n",
      "Positional arguments ['self', 'name', 'low', 'high', 'step', 'log'] in suggest_int() have been deprecated since v3.5.0. They will be replaced with the corresponding keyword arguments in v5.0.0, so please use the keyword specification instead. See https://github.com/optuna/optuna/releases/tag/v3.5.0 for details.\n",
      "  'n_estimators': trial.suggest_int('n_estimators', 10, 50, 1),\n",
      "/var/folders/dp/2nhmtbqj49v3st8xl2stwglw0000gn/T/ipykernel_57922/4018334785.py:9: FutureWarning: suggest_int() got {'step'} as positional arguments but they were expected to be given as keyword arguments.\n",
      "Positional arguments ['self', 'name', 'low', 'high', 'step', 'log'] in suggest_int() have been deprecated since v3.5.0. They will be replaced with the corresponding keyword arguments in v5.0.0, so please use the keyword specification instead. See https://github.com/optuna/optuna/releases/tag/v3.5.0 for details.\n",
      "  'max_depth': trial.suggest_int('max_depth', 1, 20, 1),\n",
      "/var/folders/dp/2nhmtbqj49v3st8xl2stwglw0000gn/T/ipykernel_57922/4018334785.py:10: FutureWarning: suggest_int() got {'step'} as positional arguments but they were expected to be given as keyword arguments.\n",
      "Positional arguments ['self', 'name', 'low', 'high', 'step', 'log'] in suggest_int() have been deprecated since v3.5.0. They will be replaced with the corresponding keyword arguments in v5.0.0, so please use the keyword specification instead. See https://github.com/optuna/optuna/releases/tag/v3.5.0 for details.\n",
      "  'min_samples_split': trial.suggest_int('min_samples_split', 2, 6, 1),\n",
      "/var/folders/dp/2nhmtbqj49v3st8xl2stwglw0000gn/T/ipykernel_57922/4018334785.py:11: FutureWarning: suggest_int() got {'step'} as positional arguments but they were expected to be given as keyword arguments.\n",
      "Positional arguments ['self', 'name', 'low', 'high', 'step', 'log'] in suggest_int() have been deprecated since v3.5.0. They will be replaced with the corresponding keyword arguments in v5.0.0, so please use the keyword specification instead. See https://github.com/optuna/optuna/releases/tag/v3.5.0 for details.\n",
      "  'min_samples_leaf': trial.suggest_int('min_samples_leaf', 1, 4, 1),\n",
      "2025/10/29 20:32:20 WARNING mlflow.utils.environment: Failed to resolve installed pip version. ``pip`` will be added to conda.yaml environment spec without a version specifier.\n",
      "[I 2025-10-29 20:32:20,716] Trial 51 finished with value: 5.031102834148256 and parameters: {'n_estimators': 48, 'max_depth': 14, 'min_samples_split': 3, 'min_samples_leaf': 2}. Best is trial 51 with value: 5.031102834148256.\n"
     ]
    },
    {
     "name": "stdout",
     "output_type": "stream",
     "text": [
      "🏃 View run magnificent-mule-550 at: http://127.0.0.1:5000/#/experiments/3/runs/c54ce5ee41184daeba8d87ba9feee0f3\n",
      "🧪 View experiment at: http://127.0.0.1:5000/#/experiments/3\n"
     ]
    },
    {
     "name": "stderr",
     "output_type": "stream",
     "text": [
      "/var/folders/dp/2nhmtbqj49v3st8xl2stwglw0000gn/T/ipykernel_57922/4018334785.py:8: FutureWarning: suggest_int() got {'step'} as positional arguments but they were expected to be given as keyword arguments.\n",
      "Positional arguments ['self', 'name', 'low', 'high', 'step', 'log'] in suggest_int() have been deprecated since v3.5.0. They will be replaced with the corresponding keyword arguments in v5.0.0, so please use the keyword specification instead. See https://github.com/optuna/optuna/releases/tag/v3.5.0 for details.\n",
      "  'n_estimators': trial.suggest_int('n_estimators', 10, 50, 1),\n",
      "/var/folders/dp/2nhmtbqj49v3st8xl2stwglw0000gn/T/ipykernel_57922/4018334785.py:9: FutureWarning: suggest_int() got {'step'} as positional arguments but they were expected to be given as keyword arguments.\n",
      "Positional arguments ['self', 'name', 'low', 'high', 'step', 'log'] in suggest_int() have been deprecated since v3.5.0. They will be replaced with the corresponding keyword arguments in v5.0.0, so please use the keyword specification instead. See https://github.com/optuna/optuna/releases/tag/v3.5.0 for details.\n",
      "  'max_depth': trial.suggest_int('max_depth', 1, 20, 1),\n",
      "/var/folders/dp/2nhmtbqj49v3st8xl2stwglw0000gn/T/ipykernel_57922/4018334785.py:10: FutureWarning: suggest_int() got {'step'} as positional arguments but they were expected to be given as keyword arguments.\n",
      "Positional arguments ['self', 'name', 'low', 'high', 'step', 'log'] in suggest_int() have been deprecated since v3.5.0. They will be replaced with the corresponding keyword arguments in v5.0.0, so please use the keyword specification instead. See https://github.com/optuna/optuna/releases/tag/v3.5.0 for details.\n",
      "  'min_samples_split': trial.suggest_int('min_samples_split', 2, 6, 1),\n",
      "/var/folders/dp/2nhmtbqj49v3st8xl2stwglw0000gn/T/ipykernel_57922/4018334785.py:11: FutureWarning: suggest_int() got {'step'} as positional arguments but they were expected to be given as keyword arguments.\n",
      "Positional arguments ['self', 'name', 'low', 'high', 'step', 'log'] in suggest_int() have been deprecated since v3.5.0. They will be replaced with the corresponding keyword arguments in v5.0.0, so please use the keyword specification instead. See https://github.com/optuna/optuna/releases/tag/v3.5.0 for details.\n",
      "  'min_samples_leaf': trial.suggest_int('min_samples_leaf', 1, 4, 1),\n",
      "2025/10/29 20:32:22 WARNING mlflow.utils.environment: Failed to resolve installed pip version. ``pip`` will be added to conda.yaml environment spec without a version specifier.\n",
      "[I 2025-10-29 20:32:22,563] Trial 52 finished with value: 5.060899866657002 and parameters: {'n_estimators': 50, 'max_depth': 12, 'min_samples_split': 3, 'min_samples_leaf': 2}. Best is trial 51 with value: 5.031102834148256.\n"
     ]
    },
    {
     "name": "stdout",
     "output_type": "stream",
     "text": [
      "🏃 View run thundering-bird-793 at: http://127.0.0.1:5000/#/experiments/3/runs/68404ce5e7b948f0a927c1010d569033\n",
      "🧪 View experiment at: http://127.0.0.1:5000/#/experiments/3\n"
     ]
    },
    {
     "name": "stderr",
     "output_type": "stream",
     "text": [
      "/var/folders/dp/2nhmtbqj49v3st8xl2stwglw0000gn/T/ipykernel_57922/4018334785.py:8: FutureWarning: suggest_int() got {'step'} as positional arguments but they were expected to be given as keyword arguments.\n",
      "Positional arguments ['self', 'name', 'low', 'high', 'step', 'log'] in suggest_int() have been deprecated since v3.5.0. They will be replaced with the corresponding keyword arguments in v5.0.0, so please use the keyword specification instead. See https://github.com/optuna/optuna/releases/tag/v3.5.0 for details.\n",
      "  'n_estimators': trial.suggest_int('n_estimators', 10, 50, 1),\n",
      "/var/folders/dp/2nhmtbqj49v3st8xl2stwglw0000gn/T/ipykernel_57922/4018334785.py:9: FutureWarning: suggest_int() got {'step'} as positional arguments but they were expected to be given as keyword arguments.\n",
      "Positional arguments ['self', 'name', 'low', 'high', 'step', 'log'] in suggest_int() have been deprecated since v3.5.0. They will be replaced with the corresponding keyword arguments in v5.0.0, so please use the keyword specification instead. See https://github.com/optuna/optuna/releases/tag/v3.5.0 for details.\n",
      "  'max_depth': trial.suggest_int('max_depth', 1, 20, 1),\n",
      "/var/folders/dp/2nhmtbqj49v3st8xl2stwglw0000gn/T/ipykernel_57922/4018334785.py:10: FutureWarning: suggest_int() got {'step'} as positional arguments but they were expected to be given as keyword arguments.\n",
      "Positional arguments ['self', 'name', 'low', 'high', 'step', 'log'] in suggest_int() have been deprecated since v3.5.0. They will be replaced with the corresponding keyword arguments in v5.0.0, so please use the keyword specification instead. See https://github.com/optuna/optuna/releases/tag/v3.5.0 for details.\n",
      "  'min_samples_split': trial.suggest_int('min_samples_split', 2, 6, 1),\n",
      "/var/folders/dp/2nhmtbqj49v3st8xl2stwglw0000gn/T/ipykernel_57922/4018334785.py:11: FutureWarning: suggest_int() got {'step'} as positional arguments but they were expected to be given as keyword arguments.\n",
      "Positional arguments ['self', 'name', 'low', 'high', 'step', 'log'] in suggest_int() have been deprecated since v3.5.0. They will be replaced with the corresponding keyword arguments in v5.0.0, so please use the keyword specification instead. See https://github.com/optuna/optuna/releases/tag/v3.5.0 for details.\n",
      "  'min_samples_leaf': trial.suggest_int('min_samples_leaf', 1, 4, 1),\n",
      "2025/10/29 20:32:24 WARNING mlflow.utils.environment: Failed to resolve installed pip version. ``pip`` will be added to conda.yaml environment spec without a version specifier.\n",
      "[I 2025-10-29 20:32:24,589] Trial 53 finished with value: 5.031102834148256 and parameters: {'n_estimators': 48, 'max_depth': 14, 'min_samples_split': 2, 'min_samples_leaf': 2}. Best is trial 51 with value: 5.031102834148256.\n"
     ]
    },
    {
     "name": "stdout",
     "output_type": "stream",
     "text": [
      "🏃 View run unequaled-ram-958 at: http://127.0.0.1:5000/#/experiments/3/runs/b55fda21c51845a7870506afb6341b2a\n",
      "🧪 View experiment at: http://127.0.0.1:5000/#/experiments/3\n"
     ]
    },
    {
     "name": "stderr",
     "output_type": "stream",
     "text": [
      "/var/folders/dp/2nhmtbqj49v3st8xl2stwglw0000gn/T/ipykernel_57922/4018334785.py:8: FutureWarning: suggest_int() got {'step'} as positional arguments but they were expected to be given as keyword arguments.\n",
      "Positional arguments ['self', 'name', 'low', 'high', 'step', 'log'] in suggest_int() have been deprecated since v3.5.0. They will be replaced with the corresponding keyword arguments in v5.0.0, so please use the keyword specification instead. See https://github.com/optuna/optuna/releases/tag/v3.5.0 for details.\n",
      "  'n_estimators': trial.suggest_int('n_estimators', 10, 50, 1),\n",
      "/var/folders/dp/2nhmtbqj49v3st8xl2stwglw0000gn/T/ipykernel_57922/4018334785.py:9: FutureWarning: suggest_int() got {'step'} as positional arguments but they were expected to be given as keyword arguments.\n",
      "Positional arguments ['self', 'name', 'low', 'high', 'step', 'log'] in suggest_int() have been deprecated since v3.5.0. They will be replaced with the corresponding keyword arguments in v5.0.0, so please use the keyword specification instead. See https://github.com/optuna/optuna/releases/tag/v3.5.0 for details.\n",
      "  'max_depth': trial.suggest_int('max_depth', 1, 20, 1),\n",
      "/var/folders/dp/2nhmtbqj49v3st8xl2stwglw0000gn/T/ipykernel_57922/4018334785.py:10: FutureWarning: suggest_int() got {'step'} as positional arguments but they were expected to be given as keyword arguments.\n",
      "Positional arguments ['self', 'name', 'low', 'high', 'step', 'log'] in suggest_int() have been deprecated since v3.5.0. They will be replaced with the corresponding keyword arguments in v5.0.0, so please use the keyword specification instead. See https://github.com/optuna/optuna/releases/tag/v3.5.0 for details.\n",
      "  'min_samples_split': trial.suggest_int('min_samples_split', 2, 6, 1),\n",
      "/var/folders/dp/2nhmtbqj49v3st8xl2stwglw0000gn/T/ipykernel_57922/4018334785.py:11: FutureWarning: suggest_int() got {'step'} as positional arguments but they were expected to be given as keyword arguments.\n",
      "Positional arguments ['self', 'name', 'low', 'high', 'step', 'log'] in suggest_int() have been deprecated since v3.5.0. They will be replaced with the corresponding keyword arguments in v5.0.0, so please use the keyword specification instead. See https://github.com/optuna/optuna/releases/tag/v3.5.0 for details.\n",
      "  'min_samples_leaf': trial.suggest_int('min_samples_leaf', 1, 4, 1),\n",
      "2025/10/29 20:32:26 WARNING mlflow.utils.environment: Failed to resolve installed pip version. ``pip`` will be added to conda.yaml environment spec without a version specifier.\n",
      "[I 2025-10-29 20:32:26,189] Trial 54 finished with value: 5.061614361225782 and parameters: {'n_estimators': 19, 'max_depth': 13, 'min_samples_split': 2, 'min_samples_leaf': 2}. Best is trial 51 with value: 5.031102834148256.\n",
      "/var/folders/dp/2nhmtbqj49v3st8xl2stwglw0000gn/T/ipykernel_57922/4018334785.py:8: FutureWarning: suggest_int() got {'step'} as positional arguments but they were expected to be given as keyword arguments.\n",
      "Positional arguments ['self', 'name', 'low', 'high', 'step', 'log'] in suggest_int() have been deprecated since v3.5.0. They will be replaced with the corresponding keyword arguments in v5.0.0, so please use the keyword specification instead. See https://github.com/optuna/optuna/releases/tag/v3.5.0 for details.\n",
      "  'n_estimators': trial.suggest_int('n_estimators', 10, 50, 1),\n",
      "/var/folders/dp/2nhmtbqj49v3st8xl2stwglw0000gn/T/ipykernel_57922/4018334785.py:9: FutureWarning: suggest_int() got {'step'} as positional arguments but they were expected to be given as keyword arguments.\n",
      "Positional arguments ['self', 'name', 'low', 'high', 'step', 'log'] in suggest_int() have been deprecated since v3.5.0. They will be replaced with the corresponding keyword arguments in v5.0.0, so please use the keyword specification instead. See https://github.com/optuna/optuna/releases/tag/v3.5.0 for details.\n",
      "  'max_depth': trial.suggest_int('max_depth', 1, 20, 1),\n",
      "/var/folders/dp/2nhmtbqj49v3st8xl2stwglw0000gn/T/ipykernel_57922/4018334785.py:10: FutureWarning: suggest_int() got {'step'} as positional arguments but they were expected to be given as keyword arguments.\n",
      "Positional arguments ['self', 'name', 'low', 'high', 'step', 'log'] in suggest_int() have been deprecated since v3.5.0. They will be replaced with the corresponding keyword arguments in v5.0.0, so please use the keyword specification instead. See https://github.com/optuna/optuna/releases/tag/v3.5.0 for details.\n",
      "  'min_samples_split': trial.suggest_int('min_samples_split', 2, 6, 1),\n",
      "/var/folders/dp/2nhmtbqj49v3st8xl2stwglw0000gn/T/ipykernel_57922/4018334785.py:11: FutureWarning: suggest_int() got {'step'} as positional arguments but they were expected to be given as keyword arguments.\n",
      "Positional arguments ['self', 'name', 'low', 'high', 'step', 'log'] in suggest_int() have been deprecated since v3.5.0. They will be replaced with the corresponding keyword arguments in v5.0.0, so please use the keyword specification instead. See https://github.com/optuna/optuna/releases/tag/v3.5.0 for details.\n",
      "  'min_samples_leaf': trial.suggest_int('min_samples_leaf', 1, 4, 1),\n"
     ]
    },
    {
     "name": "stdout",
     "output_type": "stream",
     "text": [
      "🏃 View run chill-fowl-974 at: http://127.0.0.1:5000/#/experiments/3/runs/553d822e6bc647679cb8666eed3a72a3\n",
      "🧪 View experiment at: http://127.0.0.1:5000/#/experiments/3\n"
     ]
    },
    {
     "name": "stderr",
     "output_type": "stream",
     "text": [
      "2025/10/29 20:32:27 WARNING mlflow.utils.environment: Failed to resolve installed pip version. ``pip`` will be added to conda.yaml environment spec without a version specifier.\n",
      "[I 2025-10-29 20:32:28,226] Trial 55 finished with value: 5.031102834148256 and parameters: {'n_estimators': 48, 'max_depth': 14, 'min_samples_split': 3, 'min_samples_leaf': 2}. Best is trial 51 with value: 5.031102834148256.\n"
     ]
    },
    {
     "name": "stdout",
     "output_type": "stream",
     "text": [
      "🏃 View run polite-ox-115 at: http://127.0.0.1:5000/#/experiments/3/runs/8d454dc7ef8c40698f9a0f820e433df0\n",
      "🧪 View experiment at: http://127.0.0.1:5000/#/experiments/3\n"
     ]
    },
    {
     "name": "stderr",
     "output_type": "stream",
     "text": [
      "/var/folders/dp/2nhmtbqj49v3st8xl2stwglw0000gn/T/ipykernel_57922/4018334785.py:8: FutureWarning: suggest_int() got {'step'} as positional arguments but they were expected to be given as keyword arguments.\n",
      "Positional arguments ['self', 'name', 'low', 'high', 'step', 'log'] in suggest_int() have been deprecated since v3.5.0. They will be replaced with the corresponding keyword arguments in v5.0.0, so please use the keyword specification instead. See https://github.com/optuna/optuna/releases/tag/v3.5.0 for details.\n",
      "  'n_estimators': trial.suggest_int('n_estimators', 10, 50, 1),\n",
      "/var/folders/dp/2nhmtbqj49v3st8xl2stwglw0000gn/T/ipykernel_57922/4018334785.py:9: FutureWarning: suggest_int() got {'step'} as positional arguments but they were expected to be given as keyword arguments.\n",
      "Positional arguments ['self', 'name', 'low', 'high', 'step', 'log'] in suggest_int() have been deprecated since v3.5.0. They will be replaced with the corresponding keyword arguments in v5.0.0, so please use the keyword specification instead. See https://github.com/optuna/optuna/releases/tag/v3.5.0 for details.\n",
      "  'max_depth': trial.suggest_int('max_depth', 1, 20, 1),\n",
      "/var/folders/dp/2nhmtbqj49v3st8xl2stwglw0000gn/T/ipykernel_57922/4018334785.py:10: FutureWarning: suggest_int() got {'step'} as positional arguments but they were expected to be given as keyword arguments.\n",
      "Positional arguments ['self', 'name', 'low', 'high', 'step', 'log'] in suggest_int() have been deprecated since v3.5.0. They will be replaced with the corresponding keyword arguments in v5.0.0, so please use the keyword specification instead. See https://github.com/optuna/optuna/releases/tag/v3.5.0 for details.\n",
      "  'min_samples_split': trial.suggest_int('min_samples_split', 2, 6, 1),\n",
      "/var/folders/dp/2nhmtbqj49v3st8xl2stwglw0000gn/T/ipykernel_57922/4018334785.py:11: FutureWarning: suggest_int() got {'step'} as positional arguments but they were expected to be given as keyword arguments.\n",
      "Positional arguments ['self', 'name', 'low', 'high', 'step', 'log'] in suggest_int() have been deprecated since v3.5.0. They will be replaced with the corresponding keyword arguments in v5.0.0, so please use the keyword specification instead. See https://github.com/optuna/optuna/releases/tag/v3.5.0 for details.\n",
      "  'min_samples_leaf': trial.suggest_int('min_samples_leaf', 1, 4, 1),\n",
      "2025/10/29 20:32:29 WARNING mlflow.utils.environment: Failed to resolve installed pip version. ``pip`` will be added to conda.yaml environment spec without a version specifier.\n",
      "[I 2025-10-29 20:32:30,283] Trial 56 finished with value: 5.031102834148256 and parameters: {'n_estimators': 48, 'max_depth': 14, 'min_samples_split': 4, 'min_samples_leaf': 2}. Best is trial 51 with value: 5.031102834148256.\n"
     ]
    },
    {
     "name": "stdout",
     "output_type": "stream",
     "text": [
      "🏃 View run tasteful-mouse-201 at: http://127.0.0.1:5000/#/experiments/3/runs/b1702c41e0d04237b06965115b03f61c\n",
      "🧪 View experiment at: http://127.0.0.1:5000/#/experiments/3\n"
     ]
    },
    {
     "name": "stderr",
     "output_type": "stream",
     "text": [
      "/var/folders/dp/2nhmtbqj49v3st8xl2stwglw0000gn/T/ipykernel_57922/4018334785.py:8: FutureWarning: suggest_int() got {'step'} as positional arguments but they were expected to be given as keyword arguments.\n",
      "Positional arguments ['self', 'name', 'low', 'high', 'step', 'log'] in suggest_int() have been deprecated since v3.5.0. They will be replaced with the corresponding keyword arguments in v5.0.0, so please use the keyword specification instead. See https://github.com/optuna/optuna/releases/tag/v3.5.0 for details.\n",
      "  'n_estimators': trial.suggest_int('n_estimators', 10, 50, 1),\n",
      "/var/folders/dp/2nhmtbqj49v3st8xl2stwglw0000gn/T/ipykernel_57922/4018334785.py:9: FutureWarning: suggest_int() got {'step'} as positional arguments but they were expected to be given as keyword arguments.\n",
      "Positional arguments ['self', 'name', 'low', 'high', 'step', 'log'] in suggest_int() have been deprecated since v3.5.0. They will be replaced with the corresponding keyword arguments in v5.0.0, so please use the keyword specification instead. See https://github.com/optuna/optuna/releases/tag/v3.5.0 for details.\n",
      "  'max_depth': trial.suggest_int('max_depth', 1, 20, 1),\n",
      "/var/folders/dp/2nhmtbqj49v3st8xl2stwglw0000gn/T/ipykernel_57922/4018334785.py:10: FutureWarning: suggest_int() got {'step'} as positional arguments but they were expected to be given as keyword arguments.\n",
      "Positional arguments ['self', 'name', 'low', 'high', 'step', 'log'] in suggest_int() have been deprecated since v3.5.0. They will be replaced with the corresponding keyword arguments in v5.0.0, so please use the keyword specification instead. See https://github.com/optuna/optuna/releases/tag/v3.5.0 for details.\n",
      "  'min_samples_split': trial.suggest_int('min_samples_split', 2, 6, 1),\n",
      "/var/folders/dp/2nhmtbqj49v3st8xl2stwglw0000gn/T/ipykernel_57922/4018334785.py:11: FutureWarning: suggest_int() got {'step'} as positional arguments but they were expected to be given as keyword arguments.\n",
      "Positional arguments ['self', 'name', 'low', 'high', 'step', 'log'] in suggest_int() have been deprecated since v3.5.0. They will be replaced with the corresponding keyword arguments in v5.0.0, so please use the keyword specification instead. See https://github.com/optuna/optuna/releases/tag/v3.5.0 for details.\n",
      "  'min_samples_leaf': trial.suggest_int('min_samples_leaf', 1, 4, 1),\n",
      "2025/10/29 20:32:31 WARNING mlflow.utils.environment: Failed to resolve installed pip version. ``pip`` will be added to conda.yaml environment spec without a version specifier.\n",
      "[I 2025-10-29 20:32:31,773] Trial 57 finished with value: 5.118379997772487 and parameters: {'n_estimators': 11, 'max_depth': 12, 'min_samples_split': 5, 'min_samples_leaf': 1}. Best is trial 51 with value: 5.031102834148256.\n",
      "/var/folders/dp/2nhmtbqj49v3st8xl2stwglw0000gn/T/ipykernel_57922/4018334785.py:8: FutureWarning: suggest_int() got {'step'} as positional arguments but they were expected to be given as keyword arguments.\n",
      "Positional arguments ['self', 'name', 'low', 'high', 'step', 'log'] in suggest_int() have been deprecated since v3.5.0. They will be replaced with the corresponding keyword arguments in v5.0.0, so please use the keyword specification instead. See https://github.com/optuna/optuna/releases/tag/v3.5.0 for details.\n",
      "  'n_estimators': trial.suggest_int('n_estimators', 10, 50, 1),\n",
      "/var/folders/dp/2nhmtbqj49v3st8xl2stwglw0000gn/T/ipykernel_57922/4018334785.py:9: FutureWarning: suggest_int() got {'step'} as positional arguments but they were expected to be given as keyword arguments.\n",
      "Positional arguments ['self', 'name', 'low', 'high', 'step', 'log'] in suggest_int() have been deprecated since v3.5.0. They will be replaced with the corresponding keyword arguments in v5.0.0, so please use the keyword specification instead. See https://github.com/optuna/optuna/releases/tag/v3.5.0 for details.\n",
      "  'max_depth': trial.suggest_int('max_depth', 1, 20, 1),\n",
      "/var/folders/dp/2nhmtbqj49v3st8xl2stwglw0000gn/T/ipykernel_57922/4018334785.py:10: FutureWarning: suggest_int() got {'step'} as positional arguments but they were expected to be given as keyword arguments.\n",
      "Positional arguments ['self', 'name', 'low', 'high', 'step', 'log'] in suggest_int() have been deprecated since v3.5.0. They will be replaced with the corresponding keyword arguments in v5.0.0, so please use the keyword specification instead. See https://github.com/optuna/optuna/releases/tag/v3.5.0 for details.\n",
      "  'min_samples_split': trial.suggest_int('min_samples_split', 2, 6, 1),\n",
      "/var/folders/dp/2nhmtbqj49v3st8xl2stwglw0000gn/T/ipykernel_57922/4018334785.py:11: FutureWarning: suggest_int() got {'step'} as positional arguments but they were expected to be given as keyword arguments.\n",
      "Positional arguments ['self', 'name', 'low', 'high', 'step', 'log'] in suggest_int() have been deprecated since v3.5.0. They will be replaced with the corresponding keyword arguments in v5.0.0, so please use the keyword specification instead. See https://github.com/optuna/optuna/releases/tag/v3.5.0 for details.\n",
      "  'min_samples_leaf': trial.suggest_int('min_samples_leaf', 1, 4, 1),\n"
     ]
    },
    {
     "name": "stdout",
     "output_type": "stream",
     "text": [
      "🏃 View run gaudy-stoat-84 at: http://127.0.0.1:5000/#/experiments/3/runs/72aa0e0fcbac451e9bca173ca2ca3467\n",
      "🧪 View experiment at: http://127.0.0.1:5000/#/experiments/3\n"
     ]
    },
    {
     "name": "stderr",
     "output_type": "stream",
     "text": [
      "2025/10/29 20:32:33 WARNING mlflow.utils.environment: Failed to resolve installed pip version. ``pip`` will be added to conda.yaml environment spec without a version specifier.\n",
      "[I 2025-10-29 20:32:34,713] Trial 58 finished with value: 5.05034681638265 and parameters: {'n_estimators': 48, 'max_depth': 17, 'min_samples_split': 4, 'min_samples_leaf': 2}. Best is trial 51 with value: 5.031102834148256.\n"
     ]
    },
    {
     "name": "stdout",
     "output_type": "stream",
     "text": [
      "🏃 View run blushing-gnat-520 at: http://127.0.0.1:5000/#/experiments/3/runs/a8e3ed33b9bf455fb9660e44dcb19830\n",
      "🧪 View experiment at: http://127.0.0.1:5000/#/experiments/3\n"
     ]
    },
    {
     "name": "stderr",
     "output_type": "stream",
     "text": [
      "/var/folders/dp/2nhmtbqj49v3st8xl2stwglw0000gn/T/ipykernel_57922/4018334785.py:8: FutureWarning: suggest_int() got {'step'} as positional arguments but they were expected to be given as keyword arguments.\n",
      "Positional arguments ['self', 'name', 'low', 'high', 'step', 'log'] in suggest_int() have been deprecated since v3.5.0. They will be replaced with the corresponding keyword arguments in v5.0.0, so please use the keyword specification instead. See https://github.com/optuna/optuna/releases/tag/v3.5.0 for details.\n",
      "  'n_estimators': trial.suggest_int('n_estimators', 10, 50, 1),\n",
      "/var/folders/dp/2nhmtbqj49v3st8xl2stwglw0000gn/T/ipykernel_57922/4018334785.py:9: FutureWarning: suggest_int() got {'step'} as positional arguments but they were expected to be given as keyword arguments.\n",
      "Positional arguments ['self', 'name', 'low', 'high', 'step', 'log'] in suggest_int() have been deprecated since v3.5.0. They will be replaced with the corresponding keyword arguments in v5.0.0, so please use the keyword specification instead. See https://github.com/optuna/optuna/releases/tag/v3.5.0 for details.\n",
      "  'max_depth': trial.suggest_int('max_depth', 1, 20, 1),\n",
      "/var/folders/dp/2nhmtbqj49v3st8xl2stwglw0000gn/T/ipykernel_57922/4018334785.py:10: FutureWarning: suggest_int() got {'step'} as positional arguments but they were expected to be given as keyword arguments.\n",
      "Positional arguments ['self', 'name', 'low', 'high', 'step', 'log'] in suggest_int() have been deprecated since v3.5.0. They will be replaced with the corresponding keyword arguments in v5.0.0, so please use the keyword specification instead. See https://github.com/optuna/optuna/releases/tag/v3.5.0 for details.\n",
      "  'min_samples_split': trial.suggest_int('min_samples_split', 2, 6, 1),\n",
      "/var/folders/dp/2nhmtbqj49v3st8xl2stwglw0000gn/T/ipykernel_57922/4018334785.py:11: FutureWarning: suggest_int() got {'step'} as positional arguments but they were expected to be given as keyword arguments.\n",
      "Positional arguments ['self', 'name', 'low', 'high', 'step', 'log'] in suggest_int() have been deprecated since v3.5.0. They will be replaced with the corresponding keyword arguments in v5.0.0, so please use the keyword specification instead. See https://github.com/optuna/optuna/releases/tag/v3.5.0 for details.\n",
      "  'min_samples_leaf': trial.suggest_int('min_samples_leaf', 1, 4, 1),\n",
      "2025/10/29 20:32:36 WARNING mlflow.utils.environment: Failed to resolve installed pip version. ``pip`` will be added to conda.yaml environment spec without a version specifier.\n",
      "[I 2025-10-29 20:32:36,449] Trial 59 finished with value: 5.095073724652653 and parameters: {'n_estimators': 44, 'max_depth': 11, 'min_samples_split': 4, 'min_samples_leaf': 2}. Best is trial 51 with value: 5.031102834148256.\n",
      "/var/folders/dp/2nhmtbqj49v3st8xl2stwglw0000gn/T/ipykernel_57922/4018334785.py:8: FutureWarning: suggest_int() got {'step'} as positional arguments but they were expected to be given as keyword arguments.\n",
      "Positional arguments ['self', 'name', 'low', 'high', 'step', 'log'] in suggest_int() have been deprecated since v3.5.0. They will be replaced with the corresponding keyword arguments in v5.0.0, so please use the keyword specification instead. See https://github.com/optuna/optuna/releases/tag/v3.5.0 for details.\n",
      "  'n_estimators': trial.suggest_int('n_estimators', 10, 50, 1),\n",
      "/var/folders/dp/2nhmtbqj49v3st8xl2stwglw0000gn/T/ipykernel_57922/4018334785.py:9: FutureWarning: suggest_int() got {'step'} as positional arguments but they were expected to be given as keyword arguments.\n",
      "Positional arguments ['self', 'name', 'low', 'high', 'step', 'log'] in suggest_int() have been deprecated since v3.5.0. They will be replaced with the corresponding keyword arguments in v5.0.0, so please use the keyword specification instead. See https://github.com/optuna/optuna/releases/tag/v3.5.0 for details.\n",
      "  'max_depth': trial.suggest_int('max_depth', 1, 20, 1),\n",
      "/var/folders/dp/2nhmtbqj49v3st8xl2stwglw0000gn/T/ipykernel_57922/4018334785.py:10: FutureWarning: suggest_int() got {'step'} as positional arguments but they were expected to be given as keyword arguments.\n",
      "Positional arguments ['self', 'name', 'low', 'high', 'step', 'log'] in suggest_int() have been deprecated since v3.5.0. They will be replaced with the corresponding keyword arguments in v5.0.0, so please use the keyword specification instead. See https://github.com/optuna/optuna/releases/tag/v3.5.0 for details.\n",
      "  'min_samples_split': trial.suggest_int('min_samples_split', 2, 6, 1),\n",
      "/var/folders/dp/2nhmtbqj49v3st8xl2stwglw0000gn/T/ipykernel_57922/4018334785.py:11: FutureWarning: suggest_int() got {'step'} as positional arguments but they were expected to be given as keyword arguments.\n",
      "Positional arguments ['self', 'name', 'low', 'high', 'step', 'log'] in suggest_int() have been deprecated since v3.5.0. They will be replaced with the corresponding keyword arguments in v5.0.0, so please use the keyword specification instead. See https://github.com/optuna/optuna/releases/tag/v3.5.0 for details.\n",
      "  'min_samples_leaf': trial.suggest_int('min_samples_leaf', 1, 4, 1),\n"
     ]
    },
    {
     "name": "stdout",
     "output_type": "stream",
     "text": [
      "🏃 View run painted-quail-748 at: http://127.0.0.1:5000/#/experiments/3/runs/3b95dc5d3346439c9a4ae853fd45d2b5\n",
      "🧪 View experiment at: http://127.0.0.1:5000/#/experiments/3\n"
     ]
    },
    {
     "name": "stderr",
     "output_type": "stream",
     "text": [
      "2025/10/29 20:32:37 WARNING mlflow.utils.environment: Failed to resolve installed pip version. ``pip`` will be added to conda.yaml environment spec without a version specifier.\n",
      "[I 2025-10-29 20:32:38,070] Trial 60 finished with value: 5.2042021612056315 and parameters: {'n_estimators': 42, 'max_depth': 9, 'min_samples_split': 2, 'min_samples_leaf': 2}. Best is trial 51 with value: 5.031102834148256.\n",
      "/var/folders/dp/2nhmtbqj49v3st8xl2stwglw0000gn/T/ipykernel_57922/4018334785.py:8: FutureWarning: suggest_int() got {'step'} as positional arguments but they were expected to be given as keyword arguments.\n",
      "Positional arguments ['self', 'name', 'low', 'high', 'step', 'log'] in suggest_int() have been deprecated since v3.5.0. They will be replaced with the corresponding keyword arguments in v5.0.0, so please use the keyword specification instead. See https://github.com/optuna/optuna/releases/tag/v3.5.0 for details.\n",
      "  'n_estimators': trial.suggest_int('n_estimators', 10, 50, 1),\n",
      "/var/folders/dp/2nhmtbqj49v3st8xl2stwglw0000gn/T/ipykernel_57922/4018334785.py:9: FutureWarning: suggest_int() got {'step'} as positional arguments but they were expected to be given as keyword arguments.\n",
      "Positional arguments ['self', 'name', 'low', 'high', 'step', 'log'] in suggest_int() have been deprecated since v3.5.0. They will be replaced with the corresponding keyword arguments in v5.0.0, so please use the keyword specification instead. See https://github.com/optuna/optuna/releases/tag/v3.5.0 for details.\n",
      "  'max_depth': trial.suggest_int('max_depth', 1, 20, 1),\n",
      "/var/folders/dp/2nhmtbqj49v3st8xl2stwglw0000gn/T/ipykernel_57922/4018334785.py:10: FutureWarning: suggest_int() got {'step'} as positional arguments but they were expected to be given as keyword arguments.\n",
      "Positional arguments ['self', 'name', 'low', 'high', 'step', 'log'] in suggest_int() have been deprecated since v3.5.0. They will be replaced with the corresponding keyword arguments in v5.0.0, so please use the keyword specification instead. See https://github.com/optuna/optuna/releases/tag/v3.5.0 for details.\n",
      "  'min_samples_split': trial.suggest_int('min_samples_split', 2, 6, 1),\n",
      "/var/folders/dp/2nhmtbqj49v3st8xl2stwglw0000gn/T/ipykernel_57922/4018334785.py:11: FutureWarning: suggest_int() got {'step'} as positional arguments but they were expected to be given as keyword arguments.\n",
      "Positional arguments ['self', 'name', 'low', 'high', 'step', 'log'] in suggest_int() have been deprecated since v3.5.0. They will be replaced with the corresponding keyword arguments in v5.0.0, so please use the keyword specification instead. See https://github.com/optuna/optuna/releases/tag/v3.5.0 for details.\n",
      "  'min_samples_leaf': trial.suggest_int('min_samples_leaf', 1, 4, 1),\n"
     ]
    },
    {
     "name": "stdout",
     "output_type": "stream",
     "text": [
      "🏃 View run overjoyed-finch-844 at: http://127.0.0.1:5000/#/experiments/3/runs/888be7f73c74403bbe3253dd97a7b73f\n",
      "🧪 View experiment at: http://127.0.0.1:5000/#/experiments/3\n"
     ]
    },
    {
     "name": "stderr",
     "output_type": "stream",
     "text": [
      "2025/10/29 20:32:39 WARNING mlflow.utils.environment: Failed to resolve installed pip version. ``pip`` will be added to conda.yaml environment spec without a version specifier.\n",
      "[I 2025-10-29 20:32:40,110] Trial 61 finished with value: 5.028538954717857 and parameters: {'n_estimators': 48, 'max_depth': 14, 'min_samples_split': 6, 'min_samples_leaf': 2}. Best is trial 61 with value: 5.028538954717857.\n"
     ]
    },
    {
     "name": "stdout",
     "output_type": "stream",
     "text": [
      "🏃 View run gentle-crow-879 at: http://127.0.0.1:5000/#/experiments/3/runs/27ff3c40712140ab8449d2778f852d5d\n",
      "🧪 View experiment at: http://127.0.0.1:5000/#/experiments/3\n"
     ]
    },
    {
     "name": "stderr",
     "output_type": "stream",
     "text": [
      "/var/folders/dp/2nhmtbqj49v3st8xl2stwglw0000gn/T/ipykernel_57922/4018334785.py:8: FutureWarning: suggest_int() got {'step'} as positional arguments but they were expected to be given as keyword arguments.\n",
      "Positional arguments ['self', 'name', 'low', 'high', 'step', 'log'] in suggest_int() have been deprecated since v3.5.0. They will be replaced with the corresponding keyword arguments in v5.0.0, so please use the keyword specification instead. See https://github.com/optuna/optuna/releases/tag/v3.5.0 for details.\n",
      "  'n_estimators': trial.suggest_int('n_estimators', 10, 50, 1),\n",
      "/var/folders/dp/2nhmtbqj49v3st8xl2stwglw0000gn/T/ipykernel_57922/4018334785.py:9: FutureWarning: suggest_int() got {'step'} as positional arguments but they were expected to be given as keyword arguments.\n",
      "Positional arguments ['self', 'name', 'low', 'high', 'step', 'log'] in suggest_int() have been deprecated since v3.5.0. They will be replaced with the corresponding keyword arguments in v5.0.0, so please use the keyword specification instead. See https://github.com/optuna/optuna/releases/tag/v3.5.0 for details.\n",
      "  'max_depth': trial.suggest_int('max_depth', 1, 20, 1),\n",
      "/var/folders/dp/2nhmtbqj49v3st8xl2stwglw0000gn/T/ipykernel_57922/4018334785.py:10: FutureWarning: suggest_int() got {'step'} as positional arguments but they were expected to be given as keyword arguments.\n",
      "Positional arguments ['self', 'name', 'low', 'high', 'step', 'log'] in suggest_int() have been deprecated since v3.5.0. They will be replaced with the corresponding keyword arguments in v5.0.0, so please use the keyword specification instead. See https://github.com/optuna/optuna/releases/tag/v3.5.0 for details.\n",
      "  'min_samples_split': trial.suggest_int('min_samples_split', 2, 6, 1),\n",
      "/var/folders/dp/2nhmtbqj49v3st8xl2stwglw0000gn/T/ipykernel_57922/4018334785.py:11: FutureWarning: suggest_int() got {'step'} as positional arguments but they were expected to be given as keyword arguments.\n",
      "Positional arguments ['self', 'name', 'low', 'high', 'step', 'log'] in suggest_int() have been deprecated since v3.5.0. They will be replaced with the corresponding keyword arguments in v5.0.0, so please use the keyword specification instead. See https://github.com/optuna/optuna/releases/tag/v3.5.0 for details.\n",
      "  'min_samples_leaf': trial.suggest_int('min_samples_leaf', 1, 4, 1),\n",
      "2025/10/29 20:32:41 WARNING mlflow.utils.environment: Failed to resolve installed pip version. ``pip`` will be added to conda.yaml environment spec without a version specifier.\n",
      "[I 2025-10-29 20:32:41,994] Trial 62 finished with value: 5.038887501179215 and parameters: {'n_estimators': 49, 'max_depth': 13, 'min_samples_split': 6, 'min_samples_leaf': 2}. Best is trial 61 with value: 5.028538954717857.\n"
     ]
    },
    {
     "name": "stdout",
     "output_type": "stream",
     "text": [
      "🏃 View run victorious-whale-22 at: http://127.0.0.1:5000/#/experiments/3/runs/2e6b9a313ae04b269c2c822180c4f35e\n",
      "🧪 View experiment at: http://127.0.0.1:5000/#/experiments/3\n"
     ]
    },
    {
     "name": "stderr",
     "output_type": "stream",
     "text": [
      "/var/folders/dp/2nhmtbqj49v3st8xl2stwglw0000gn/T/ipykernel_57922/4018334785.py:8: FutureWarning: suggest_int() got {'step'} as positional arguments but they were expected to be given as keyword arguments.\n",
      "Positional arguments ['self', 'name', 'low', 'high', 'step', 'log'] in suggest_int() have been deprecated since v3.5.0. They will be replaced with the corresponding keyword arguments in v5.0.0, so please use the keyword specification instead. See https://github.com/optuna/optuna/releases/tag/v3.5.0 for details.\n",
      "  'n_estimators': trial.suggest_int('n_estimators', 10, 50, 1),\n",
      "/var/folders/dp/2nhmtbqj49v3st8xl2stwglw0000gn/T/ipykernel_57922/4018334785.py:9: FutureWarning: suggest_int() got {'step'} as positional arguments but they were expected to be given as keyword arguments.\n",
      "Positional arguments ['self', 'name', 'low', 'high', 'step', 'log'] in suggest_int() have been deprecated since v3.5.0. They will be replaced with the corresponding keyword arguments in v5.0.0, so please use the keyword specification instead. See https://github.com/optuna/optuna/releases/tag/v3.5.0 for details.\n",
      "  'max_depth': trial.suggest_int('max_depth', 1, 20, 1),\n",
      "/var/folders/dp/2nhmtbqj49v3st8xl2stwglw0000gn/T/ipykernel_57922/4018334785.py:10: FutureWarning: suggest_int() got {'step'} as positional arguments but they were expected to be given as keyword arguments.\n",
      "Positional arguments ['self', 'name', 'low', 'high', 'step', 'log'] in suggest_int() have been deprecated since v3.5.0. They will be replaced with the corresponding keyword arguments in v5.0.0, so please use the keyword specification instead. See https://github.com/optuna/optuna/releases/tag/v3.5.0 for details.\n",
      "  'min_samples_split': trial.suggest_int('min_samples_split', 2, 6, 1),\n",
      "/var/folders/dp/2nhmtbqj49v3st8xl2stwglw0000gn/T/ipykernel_57922/4018334785.py:11: FutureWarning: suggest_int() got {'step'} as positional arguments but they were expected to be given as keyword arguments.\n",
      "Positional arguments ['self', 'name', 'low', 'high', 'step', 'log'] in suggest_int() have been deprecated since v3.5.0. They will be replaced with the corresponding keyword arguments in v5.0.0, so please use the keyword specification instead. See https://github.com/optuna/optuna/releases/tag/v3.5.0 for details.\n",
      "  'min_samples_leaf': trial.suggest_int('min_samples_leaf', 1, 4, 1),\n",
      "2025/10/29 20:32:43 WARNING mlflow.utils.environment: Failed to resolve installed pip version. ``pip`` will be added to conda.yaml environment spec without a version specifier.\n",
      "[I 2025-10-29 20:32:43,895] Trial 63 finished with value: 5.028944994183136 and parameters: {'n_estimators': 47, 'max_depth': 14, 'min_samples_split': 6, 'min_samples_leaf': 2}. Best is trial 61 with value: 5.028538954717857.\n"
     ]
    },
    {
     "name": "stdout",
     "output_type": "stream",
     "text": [
      "🏃 View run carefree-conch-507 at: http://127.0.0.1:5000/#/experiments/3/runs/3ee802e0993e4b008a979748686168e2\n",
      "🧪 View experiment at: http://127.0.0.1:5000/#/experiments/3\n"
     ]
    },
    {
     "name": "stderr",
     "output_type": "stream",
     "text": [
      "/var/folders/dp/2nhmtbqj49v3st8xl2stwglw0000gn/T/ipykernel_57922/4018334785.py:8: FutureWarning: suggest_int() got {'step'} as positional arguments but they were expected to be given as keyword arguments.\n",
      "Positional arguments ['self', 'name', 'low', 'high', 'step', 'log'] in suggest_int() have been deprecated since v3.5.0. They will be replaced with the corresponding keyword arguments in v5.0.0, so please use the keyword specification instead. See https://github.com/optuna/optuna/releases/tag/v3.5.0 for details.\n",
      "  'n_estimators': trial.suggest_int('n_estimators', 10, 50, 1),\n",
      "/var/folders/dp/2nhmtbqj49v3st8xl2stwglw0000gn/T/ipykernel_57922/4018334785.py:9: FutureWarning: suggest_int() got {'step'} as positional arguments but they were expected to be given as keyword arguments.\n",
      "Positional arguments ['self', 'name', 'low', 'high', 'step', 'log'] in suggest_int() have been deprecated since v3.5.0. They will be replaced with the corresponding keyword arguments in v5.0.0, so please use the keyword specification instead. See https://github.com/optuna/optuna/releases/tag/v3.5.0 for details.\n",
      "  'max_depth': trial.suggest_int('max_depth', 1, 20, 1),\n",
      "/var/folders/dp/2nhmtbqj49v3st8xl2stwglw0000gn/T/ipykernel_57922/4018334785.py:10: FutureWarning: suggest_int() got {'step'} as positional arguments but they were expected to be given as keyword arguments.\n",
      "Positional arguments ['self', 'name', 'low', 'high', 'step', 'log'] in suggest_int() have been deprecated since v3.5.0. They will be replaced with the corresponding keyword arguments in v5.0.0, so please use the keyword specification instead. See https://github.com/optuna/optuna/releases/tag/v3.5.0 for details.\n",
      "  'min_samples_split': trial.suggest_int('min_samples_split', 2, 6, 1),\n",
      "/var/folders/dp/2nhmtbqj49v3st8xl2stwglw0000gn/T/ipykernel_57922/4018334785.py:11: FutureWarning: suggest_int() got {'step'} as positional arguments but they were expected to be given as keyword arguments.\n",
      "Positional arguments ['self', 'name', 'low', 'high', 'step', 'log'] in suggest_int() have been deprecated since v3.5.0. They will be replaced with the corresponding keyword arguments in v5.0.0, so please use the keyword specification instead. See https://github.com/optuna/optuna/releases/tag/v3.5.0 for details.\n",
      "  'min_samples_leaf': trial.suggest_int('min_samples_leaf', 1, 4, 1),\n",
      "2025/10/29 20:32:45 WARNING mlflow.utils.environment: Failed to resolve installed pip version. ``pip`` will be added to conda.yaml environment spec without a version specifier.\n",
      "[I 2025-10-29 20:32:46,272] Trial 64 finished with value: 5.032281424881227 and parameters: {'n_estimators': 50, 'max_depth': 16, 'min_samples_split': 6, 'min_samples_leaf': 2}. Best is trial 61 with value: 5.028538954717857.\n"
     ]
    },
    {
     "name": "stdout",
     "output_type": "stream",
     "text": [
      "🏃 View run serious-yak-229 at: http://127.0.0.1:5000/#/experiments/3/runs/3e6a0bba2b9840f09a297da7026d4415\n",
      "🧪 View experiment at: http://127.0.0.1:5000/#/experiments/3\n"
     ]
    },
    {
     "name": "stderr",
     "output_type": "stream",
     "text": [
      "/var/folders/dp/2nhmtbqj49v3st8xl2stwglw0000gn/T/ipykernel_57922/4018334785.py:8: FutureWarning: suggest_int() got {'step'} as positional arguments but they were expected to be given as keyword arguments.\n",
      "Positional arguments ['self', 'name', 'low', 'high', 'step', 'log'] in suggest_int() have been deprecated since v3.5.0. They will be replaced with the corresponding keyword arguments in v5.0.0, so please use the keyword specification instead. See https://github.com/optuna/optuna/releases/tag/v3.5.0 for details.\n",
      "  'n_estimators': trial.suggest_int('n_estimators', 10, 50, 1),\n",
      "/var/folders/dp/2nhmtbqj49v3st8xl2stwglw0000gn/T/ipykernel_57922/4018334785.py:9: FutureWarning: suggest_int() got {'step'} as positional arguments but they were expected to be given as keyword arguments.\n",
      "Positional arguments ['self', 'name', 'low', 'high', 'step', 'log'] in suggest_int() have been deprecated since v3.5.0. They will be replaced with the corresponding keyword arguments in v5.0.0, so please use the keyword specification instead. See https://github.com/optuna/optuna/releases/tag/v3.5.0 for details.\n",
      "  'max_depth': trial.suggest_int('max_depth', 1, 20, 1),\n",
      "/var/folders/dp/2nhmtbqj49v3st8xl2stwglw0000gn/T/ipykernel_57922/4018334785.py:10: FutureWarning: suggest_int() got {'step'} as positional arguments but they were expected to be given as keyword arguments.\n",
      "Positional arguments ['self', 'name', 'low', 'high', 'step', 'log'] in suggest_int() have been deprecated since v3.5.0. They will be replaced with the corresponding keyword arguments in v5.0.0, so please use the keyword specification instead. See https://github.com/optuna/optuna/releases/tag/v3.5.0 for details.\n",
      "  'min_samples_split': trial.suggest_int('min_samples_split', 2, 6, 1),\n",
      "/var/folders/dp/2nhmtbqj49v3st8xl2stwglw0000gn/T/ipykernel_57922/4018334785.py:11: FutureWarning: suggest_int() got {'step'} as positional arguments but they were expected to be given as keyword arguments.\n",
      "Positional arguments ['self', 'name', 'low', 'high', 'step', 'log'] in suggest_int() have been deprecated since v3.5.0. They will be replaced with the corresponding keyword arguments in v5.0.0, so please use the keyword specification instead. See https://github.com/optuna/optuna/releases/tag/v3.5.0 for details.\n",
      "  'min_samples_leaf': trial.suggest_int('min_samples_leaf', 1, 4, 1),\n",
      "2025/10/29 20:32:47 WARNING mlflow.utils.environment: Failed to resolve installed pip version. ``pip`` will be added to conda.yaml environment spec without a version specifier.\n",
      "[I 2025-10-29 20:32:48,112] Trial 65 finished with value: 5.045050344023995 and parameters: {'n_estimators': 45, 'max_depth': 13, 'min_samples_split': 5, 'min_samples_leaf': 1}. Best is trial 61 with value: 5.028538954717857.\n"
     ]
    },
    {
     "name": "stdout",
     "output_type": "stream",
     "text": [
      "🏃 View run caring-koi-535 at: http://127.0.0.1:5000/#/experiments/3/runs/b70be882b9f74c2286c908ba2f3a6a4d\n",
      "🧪 View experiment at: http://127.0.0.1:5000/#/experiments/3\n"
     ]
    },
    {
     "name": "stderr",
     "output_type": "stream",
     "text": [
      "/var/folders/dp/2nhmtbqj49v3st8xl2stwglw0000gn/T/ipykernel_57922/4018334785.py:8: FutureWarning: suggest_int() got {'step'} as positional arguments but they were expected to be given as keyword arguments.\n",
      "Positional arguments ['self', 'name', 'low', 'high', 'step', 'log'] in suggest_int() have been deprecated since v3.5.0. They will be replaced with the corresponding keyword arguments in v5.0.0, so please use the keyword specification instead. See https://github.com/optuna/optuna/releases/tag/v3.5.0 for details.\n",
      "  'n_estimators': trial.suggest_int('n_estimators', 10, 50, 1),\n",
      "/var/folders/dp/2nhmtbqj49v3st8xl2stwglw0000gn/T/ipykernel_57922/4018334785.py:9: FutureWarning: suggest_int() got {'step'} as positional arguments but they were expected to be given as keyword arguments.\n",
      "Positional arguments ['self', 'name', 'low', 'high', 'step', 'log'] in suggest_int() have been deprecated since v3.5.0. They will be replaced with the corresponding keyword arguments in v5.0.0, so please use the keyword specification instead. See https://github.com/optuna/optuna/releases/tag/v3.5.0 for details.\n",
      "  'max_depth': trial.suggest_int('max_depth', 1, 20, 1),\n",
      "/var/folders/dp/2nhmtbqj49v3st8xl2stwglw0000gn/T/ipykernel_57922/4018334785.py:10: FutureWarning: suggest_int() got {'step'} as positional arguments but they were expected to be given as keyword arguments.\n",
      "Positional arguments ['self', 'name', 'low', 'high', 'step', 'log'] in suggest_int() have been deprecated since v3.5.0. They will be replaced with the corresponding keyword arguments in v5.0.0, so please use the keyword specification instead. See https://github.com/optuna/optuna/releases/tag/v3.5.0 for details.\n",
      "  'min_samples_split': trial.suggest_int('min_samples_split', 2, 6, 1),\n",
      "/var/folders/dp/2nhmtbqj49v3st8xl2stwglw0000gn/T/ipykernel_57922/4018334785.py:11: FutureWarning: suggest_int() got {'step'} as positional arguments but they were expected to be given as keyword arguments.\n",
      "Positional arguments ['self', 'name', 'low', 'high', 'step', 'log'] in suggest_int() have been deprecated since v3.5.0. They will be replaced with the corresponding keyword arguments in v5.0.0, so please use the keyword specification instead. See https://github.com/optuna/optuna/releases/tag/v3.5.0 for details.\n",
      "  'min_samples_leaf': trial.suggest_int('min_samples_leaf', 1, 4, 1),\n",
      "2025/10/29 20:32:49 WARNING mlflow.utils.environment: Failed to resolve installed pip version. ``pip`` will be added to conda.yaml environment spec without a version specifier.\n",
      "[I 2025-10-29 20:32:50,113] Trial 66 finished with value: 5.030875027043693 and parameters: {'n_estimators': 45, 'max_depth': 14, 'min_samples_split': 6, 'min_samples_leaf': 2}. Best is trial 61 with value: 5.028538954717857.\n"
     ]
    },
    {
     "name": "stdout",
     "output_type": "stream",
     "text": [
      "🏃 View run bustling-goat-663 at: http://127.0.0.1:5000/#/experiments/3/runs/942e756abcc34753b3246a59ed6b3763\n",
      "🧪 View experiment at: http://127.0.0.1:5000/#/experiments/3\n"
     ]
    },
    {
     "name": "stderr",
     "output_type": "stream",
     "text": [
      "/var/folders/dp/2nhmtbqj49v3st8xl2stwglw0000gn/T/ipykernel_57922/4018334785.py:8: FutureWarning: suggest_int() got {'step'} as positional arguments but they were expected to be given as keyword arguments.\n",
      "Positional arguments ['self', 'name', 'low', 'high', 'step', 'log'] in suggest_int() have been deprecated since v3.5.0. They will be replaced with the corresponding keyword arguments in v5.0.0, so please use the keyword specification instead. See https://github.com/optuna/optuna/releases/tag/v3.5.0 for details.\n",
      "  'n_estimators': trial.suggest_int('n_estimators', 10, 50, 1),\n",
      "/var/folders/dp/2nhmtbqj49v3st8xl2stwglw0000gn/T/ipykernel_57922/4018334785.py:9: FutureWarning: suggest_int() got {'step'} as positional arguments but they were expected to be given as keyword arguments.\n",
      "Positional arguments ['self', 'name', 'low', 'high', 'step', 'log'] in suggest_int() have been deprecated since v3.5.0. They will be replaced with the corresponding keyword arguments in v5.0.0, so please use the keyword specification instead. See https://github.com/optuna/optuna/releases/tag/v3.5.0 for details.\n",
      "  'max_depth': trial.suggest_int('max_depth', 1, 20, 1),\n",
      "/var/folders/dp/2nhmtbqj49v3st8xl2stwglw0000gn/T/ipykernel_57922/4018334785.py:10: FutureWarning: suggest_int() got {'step'} as positional arguments but they were expected to be given as keyword arguments.\n",
      "Positional arguments ['self', 'name', 'low', 'high', 'step', 'log'] in suggest_int() have been deprecated since v3.5.0. They will be replaced with the corresponding keyword arguments in v5.0.0, so please use the keyword specification instead. See https://github.com/optuna/optuna/releases/tag/v3.5.0 for details.\n",
      "  'min_samples_split': trial.suggest_int('min_samples_split', 2, 6, 1),\n",
      "/var/folders/dp/2nhmtbqj49v3st8xl2stwglw0000gn/T/ipykernel_57922/4018334785.py:11: FutureWarning: suggest_int() got {'step'} as positional arguments but they were expected to be given as keyword arguments.\n",
      "Positional arguments ['self', 'name', 'low', 'high', 'step', 'log'] in suggest_int() have been deprecated since v3.5.0. They will be replaced with the corresponding keyword arguments in v5.0.0, so please use the keyword specification instead. See https://github.com/optuna/optuna/releases/tag/v3.5.0 for details.\n",
      "  'min_samples_leaf': trial.suggest_int('min_samples_leaf', 1, 4, 1),\n",
      "2025/10/29 20:32:51 WARNING mlflow.utils.environment: Failed to resolve installed pip version. ``pip`` will be added to conda.yaml environment spec without a version specifier.\n",
      "[I 2025-10-29 20:32:51,899] Trial 67 finished with value: 5.061104767447031 and parameters: {'n_estimators': 47, 'max_depth': 12, 'min_samples_split': 6, 'min_samples_leaf': 2}. Best is trial 61 with value: 5.028538954717857.\n"
     ]
    },
    {
     "name": "stdout",
     "output_type": "stream",
     "text": [
      "🏃 View run trusting-dove-949 at: http://127.0.0.1:5000/#/experiments/3/runs/0624da59c0a348dcb89e60c2c0aa56ae\n",
      "🧪 View experiment at: http://127.0.0.1:5000/#/experiments/3\n"
     ]
    },
    {
     "name": "stderr",
     "output_type": "stream",
     "text": [
      "/var/folders/dp/2nhmtbqj49v3st8xl2stwglw0000gn/T/ipykernel_57922/4018334785.py:8: FutureWarning: suggest_int() got {'step'} as positional arguments but they were expected to be given as keyword arguments.\n",
      "Positional arguments ['self', 'name', 'low', 'high', 'step', 'log'] in suggest_int() have been deprecated since v3.5.0. They will be replaced with the corresponding keyword arguments in v5.0.0, so please use the keyword specification instead. See https://github.com/optuna/optuna/releases/tag/v3.5.0 for details.\n",
      "  'n_estimators': trial.suggest_int('n_estimators', 10, 50, 1),\n",
      "/var/folders/dp/2nhmtbqj49v3st8xl2stwglw0000gn/T/ipykernel_57922/4018334785.py:9: FutureWarning: suggest_int() got {'step'} as positional arguments but they were expected to be given as keyword arguments.\n",
      "Positional arguments ['self', 'name', 'low', 'high', 'step', 'log'] in suggest_int() have been deprecated since v3.5.0. They will be replaced with the corresponding keyword arguments in v5.0.0, so please use the keyword specification instead. See https://github.com/optuna/optuna/releases/tag/v3.5.0 for details.\n",
      "  'max_depth': trial.suggest_int('max_depth', 1, 20, 1),\n",
      "/var/folders/dp/2nhmtbqj49v3st8xl2stwglw0000gn/T/ipykernel_57922/4018334785.py:10: FutureWarning: suggest_int() got {'step'} as positional arguments but they were expected to be given as keyword arguments.\n",
      "Positional arguments ['self', 'name', 'low', 'high', 'step', 'log'] in suggest_int() have been deprecated since v3.5.0. They will be replaced with the corresponding keyword arguments in v5.0.0, so please use the keyword specification instead. See https://github.com/optuna/optuna/releases/tag/v3.5.0 for details.\n",
      "  'min_samples_split': trial.suggest_int('min_samples_split', 2, 6, 1),\n",
      "/var/folders/dp/2nhmtbqj49v3st8xl2stwglw0000gn/T/ipykernel_57922/4018334785.py:11: FutureWarning: suggest_int() got {'step'} as positional arguments but they were expected to be given as keyword arguments.\n",
      "Positional arguments ['self', 'name', 'low', 'high', 'step', 'log'] in suggest_int() have been deprecated since v3.5.0. They will be replaced with the corresponding keyword arguments in v5.0.0, so please use the keyword specification instead. See https://github.com/optuna/optuna/releases/tag/v3.5.0 for details.\n",
      "  'min_samples_leaf': trial.suggest_int('min_samples_leaf', 1, 4, 1),\n",
      "2025/10/29 20:32:53 WARNING mlflow.utils.environment: Failed to resolve installed pip version. ``pip`` will be added to conda.yaml environment spec without a version specifier.\n",
      "[I 2025-10-29 20:32:54,028] Trial 68 finished with value: 5.0374301832215265 and parameters: {'n_estimators': 42, 'max_depth': 16, 'min_samples_split': 6, 'min_samples_leaf': 2}. Best is trial 61 with value: 5.028538954717857.\n"
     ]
    },
    {
     "name": "stdout",
     "output_type": "stream",
     "text": [
      "🏃 View run gifted-auk-221 at: http://127.0.0.1:5000/#/experiments/3/runs/11107ee493614994916380b7073806c6\n",
      "🧪 View experiment at: http://127.0.0.1:5000/#/experiments/3\n"
     ]
    },
    {
     "name": "stderr",
     "output_type": "stream",
     "text": [
      "/var/folders/dp/2nhmtbqj49v3st8xl2stwglw0000gn/T/ipykernel_57922/4018334785.py:8: FutureWarning: suggest_int() got {'step'} as positional arguments but they were expected to be given as keyword arguments.\n",
      "Positional arguments ['self', 'name', 'low', 'high', 'step', 'log'] in suggest_int() have been deprecated since v3.5.0. They will be replaced with the corresponding keyword arguments in v5.0.0, so please use the keyword specification instead. See https://github.com/optuna/optuna/releases/tag/v3.5.0 for details.\n",
      "  'n_estimators': trial.suggest_int('n_estimators', 10, 50, 1),\n",
      "/var/folders/dp/2nhmtbqj49v3st8xl2stwglw0000gn/T/ipykernel_57922/4018334785.py:9: FutureWarning: suggest_int() got {'step'} as positional arguments but they were expected to be given as keyword arguments.\n",
      "Positional arguments ['self', 'name', 'low', 'high', 'step', 'log'] in suggest_int() have been deprecated since v3.5.0. They will be replaced with the corresponding keyword arguments in v5.0.0, so please use the keyword specification instead. See https://github.com/optuna/optuna/releases/tag/v3.5.0 for details.\n",
      "  'max_depth': trial.suggest_int('max_depth', 1, 20, 1),\n",
      "/var/folders/dp/2nhmtbqj49v3st8xl2stwglw0000gn/T/ipykernel_57922/4018334785.py:10: FutureWarning: suggest_int() got {'step'} as positional arguments but they were expected to be given as keyword arguments.\n",
      "Positional arguments ['self', 'name', 'low', 'high', 'step', 'log'] in suggest_int() have been deprecated since v3.5.0. They will be replaced with the corresponding keyword arguments in v5.0.0, so please use the keyword specification instead. See https://github.com/optuna/optuna/releases/tag/v3.5.0 for details.\n",
      "  'min_samples_split': trial.suggest_int('min_samples_split', 2, 6, 1),\n",
      "/var/folders/dp/2nhmtbqj49v3st8xl2stwglw0000gn/T/ipykernel_57922/4018334785.py:11: FutureWarning: suggest_int() got {'step'} as positional arguments but they were expected to be given as keyword arguments.\n",
      "Positional arguments ['self', 'name', 'low', 'high', 'step', 'log'] in suggest_int() have been deprecated since v3.5.0. They will be replaced with the corresponding keyword arguments in v5.0.0, so please use the keyword specification instead. See https://github.com/optuna/optuna/releases/tag/v3.5.0 for details.\n",
      "  'min_samples_leaf': trial.suggest_int('min_samples_leaf', 1, 4, 1),\n",
      "2025/10/29 20:32:55 WARNING mlflow.utils.environment: Failed to resolve installed pip version. ``pip`` will be added to conda.yaml environment spec without a version specifier.\n",
      "[I 2025-10-29 20:32:56,276] Trial 69 finished with value: 5.030274345836435 and parameters: {'n_estimators': 45, 'max_depth': 15, 'min_samples_split': 6, 'min_samples_leaf': 2}. Best is trial 61 with value: 5.028538954717857.\n"
     ]
    },
    {
     "name": "stdout",
     "output_type": "stream",
     "text": [
      "🏃 View run efficient-gnu-330 at: http://127.0.0.1:5000/#/experiments/3/runs/3b0c49ec78a14ea4998969c3bce8784c\n",
      "🧪 View experiment at: http://127.0.0.1:5000/#/experiments/3\n"
     ]
    },
    {
     "name": "stderr",
     "output_type": "stream",
     "text": [
      "/var/folders/dp/2nhmtbqj49v3st8xl2stwglw0000gn/T/ipykernel_57922/4018334785.py:8: FutureWarning: suggest_int() got {'step'} as positional arguments but they were expected to be given as keyword arguments.\n",
      "Positional arguments ['self', 'name', 'low', 'high', 'step', 'log'] in suggest_int() have been deprecated since v3.5.0. They will be replaced with the corresponding keyword arguments in v5.0.0, so please use the keyword specification instead. See https://github.com/optuna/optuna/releases/tag/v3.5.0 for details.\n",
      "  'n_estimators': trial.suggest_int('n_estimators', 10, 50, 1),\n",
      "/var/folders/dp/2nhmtbqj49v3st8xl2stwglw0000gn/T/ipykernel_57922/4018334785.py:9: FutureWarning: suggest_int() got {'step'} as positional arguments but they were expected to be given as keyword arguments.\n",
      "Positional arguments ['self', 'name', 'low', 'high', 'step', 'log'] in suggest_int() have been deprecated since v3.5.0. They will be replaced with the corresponding keyword arguments in v5.0.0, so please use the keyword specification instead. See https://github.com/optuna/optuna/releases/tag/v3.5.0 for details.\n",
      "  'max_depth': trial.suggest_int('max_depth', 1, 20, 1),\n",
      "/var/folders/dp/2nhmtbqj49v3st8xl2stwglw0000gn/T/ipykernel_57922/4018334785.py:10: FutureWarning: suggest_int() got {'step'} as positional arguments but they were expected to be given as keyword arguments.\n",
      "Positional arguments ['self', 'name', 'low', 'high', 'step', 'log'] in suggest_int() have been deprecated since v3.5.0. They will be replaced with the corresponding keyword arguments in v5.0.0, so please use the keyword specification instead. See https://github.com/optuna/optuna/releases/tag/v3.5.0 for details.\n",
      "  'min_samples_split': trial.suggest_int('min_samples_split', 2, 6, 1),\n",
      "/var/folders/dp/2nhmtbqj49v3st8xl2stwglw0000gn/T/ipykernel_57922/4018334785.py:11: FutureWarning: suggest_int() got {'step'} as positional arguments but they were expected to be given as keyword arguments.\n",
      "Positional arguments ['self', 'name', 'low', 'high', 'step', 'log'] in suggest_int() have been deprecated since v3.5.0. They will be replaced with the corresponding keyword arguments in v5.0.0, so please use the keyword specification instead. See https://github.com/optuna/optuna/releases/tag/v3.5.0 for details.\n",
      "  'min_samples_leaf': trial.suggest_int('min_samples_leaf', 1, 4, 1),\n",
      "2025/10/29 20:32:57 WARNING mlflow.utils.environment: Failed to resolve installed pip version. ``pip`` will be added to conda.yaml environment spec without a version specifier.\n",
      "[I 2025-10-29 20:32:58,752] Trial 70 finished with value: 5.045036479345547 and parameters: {'n_estimators': 45, 'max_depth': 17, 'min_samples_split': 6, 'min_samples_leaf': 2}. Best is trial 61 with value: 5.028538954717857.\n"
     ]
    },
    {
     "name": "stdout",
     "output_type": "stream",
     "text": [
      "🏃 View run unequaled-goat-683 at: http://127.0.0.1:5000/#/experiments/3/runs/560c809aa0804db1a912f139626c95fa\n",
      "🧪 View experiment at: http://127.0.0.1:5000/#/experiments/3\n"
     ]
    },
    {
     "name": "stderr",
     "output_type": "stream",
     "text": [
      "/var/folders/dp/2nhmtbqj49v3st8xl2stwglw0000gn/T/ipykernel_57922/4018334785.py:8: FutureWarning: suggest_int() got {'step'} as positional arguments but they were expected to be given as keyword arguments.\n",
      "Positional arguments ['self', 'name', 'low', 'high', 'step', 'log'] in suggest_int() have been deprecated since v3.5.0. They will be replaced with the corresponding keyword arguments in v5.0.0, so please use the keyword specification instead. See https://github.com/optuna/optuna/releases/tag/v3.5.0 for details.\n",
      "  'n_estimators': trial.suggest_int('n_estimators', 10, 50, 1),\n",
      "/var/folders/dp/2nhmtbqj49v3st8xl2stwglw0000gn/T/ipykernel_57922/4018334785.py:9: FutureWarning: suggest_int() got {'step'} as positional arguments but they were expected to be given as keyword arguments.\n",
      "Positional arguments ['self', 'name', 'low', 'high', 'step', 'log'] in suggest_int() have been deprecated since v3.5.0. They will be replaced with the corresponding keyword arguments in v5.0.0, so please use the keyword specification instead. See https://github.com/optuna/optuna/releases/tag/v3.5.0 for details.\n",
      "  'max_depth': trial.suggest_int('max_depth', 1, 20, 1),\n",
      "/var/folders/dp/2nhmtbqj49v3st8xl2stwglw0000gn/T/ipykernel_57922/4018334785.py:10: FutureWarning: suggest_int() got {'step'} as positional arguments but they were expected to be given as keyword arguments.\n",
      "Positional arguments ['self', 'name', 'low', 'high', 'step', 'log'] in suggest_int() have been deprecated since v3.5.0. They will be replaced with the corresponding keyword arguments in v5.0.0, so please use the keyword specification instead. See https://github.com/optuna/optuna/releases/tag/v3.5.0 for details.\n",
      "  'min_samples_split': trial.suggest_int('min_samples_split', 2, 6, 1),\n",
      "/var/folders/dp/2nhmtbqj49v3st8xl2stwglw0000gn/T/ipykernel_57922/4018334785.py:11: FutureWarning: suggest_int() got {'step'} as positional arguments but they were expected to be given as keyword arguments.\n",
      "Positional arguments ['self', 'name', 'low', 'high', 'step', 'log'] in suggest_int() have been deprecated since v3.5.0. They will be replaced with the corresponding keyword arguments in v5.0.0, so please use the keyword specification instead. See https://github.com/optuna/optuna/releases/tag/v3.5.0 for details.\n",
      "  'min_samples_leaf': trial.suggest_int('min_samples_leaf', 1, 4, 1),\n",
      "2025/10/29 20:33:00 WARNING mlflow.utils.environment: Failed to resolve installed pip version. ``pip`` will be added to conda.yaml environment spec without a version specifier.\n",
      "[I 2025-10-29 20:33:00,814] Trial 71 finished with value: 5.028944994183136 and parameters: {'n_estimators': 47, 'max_depth': 14, 'min_samples_split': 6, 'min_samples_leaf': 2}. Best is trial 61 with value: 5.028538954717857.\n"
     ]
    },
    {
     "name": "stdout",
     "output_type": "stream",
     "text": [
      "🏃 View run suave-shoat-273 at: http://127.0.0.1:5000/#/experiments/3/runs/51f683c286794cec89fdc44ea5f1b66b\n",
      "🧪 View experiment at: http://127.0.0.1:5000/#/experiments/3\n"
     ]
    },
    {
     "name": "stderr",
     "output_type": "stream",
     "text": [
      "/var/folders/dp/2nhmtbqj49v3st8xl2stwglw0000gn/T/ipykernel_57922/4018334785.py:8: FutureWarning: suggest_int() got {'step'} as positional arguments but they were expected to be given as keyword arguments.\n",
      "Positional arguments ['self', 'name', 'low', 'high', 'step', 'log'] in suggest_int() have been deprecated since v3.5.0. They will be replaced with the corresponding keyword arguments in v5.0.0, so please use the keyword specification instead. See https://github.com/optuna/optuna/releases/tag/v3.5.0 for details.\n",
      "  'n_estimators': trial.suggest_int('n_estimators', 10, 50, 1),\n",
      "/var/folders/dp/2nhmtbqj49v3st8xl2stwglw0000gn/T/ipykernel_57922/4018334785.py:9: FutureWarning: suggest_int() got {'step'} as positional arguments but they were expected to be given as keyword arguments.\n",
      "Positional arguments ['self', 'name', 'low', 'high', 'step', 'log'] in suggest_int() have been deprecated since v3.5.0. They will be replaced with the corresponding keyword arguments in v5.0.0, so please use the keyword specification instead. See https://github.com/optuna/optuna/releases/tag/v3.5.0 for details.\n",
      "  'max_depth': trial.suggest_int('max_depth', 1, 20, 1),\n",
      "/var/folders/dp/2nhmtbqj49v3st8xl2stwglw0000gn/T/ipykernel_57922/4018334785.py:10: FutureWarning: suggest_int() got {'step'} as positional arguments but they were expected to be given as keyword arguments.\n",
      "Positional arguments ['self', 'name', 'low', 'high', 'step', 'log'] in suggest_int() have been deprecated since v3.5.0. They will be replaced with the corresponding keyword arguments in v5.0.0, so please use the keyword specification instead. See https://github.com/optuna/optuna/releases/tag/v3.5.0 for details.\n",
      "  'min_samples_split': trial.suggest_int('min_samples_split', 2, 6, 1),\n",
      "/var/folders/dp/2nhmtbqj49v3st8xl2stwglw0000gn/T/ipykernel_57922/4018334785.py:11: FutureWarning: suggest_int() got {'step'} as positional arguments but they were expected to be given as keyword arguments.\n",
      "Positional arguments ['self', 'name', 'low', 'high', 'step', 'log'] in suggest_int() have been deprecated since v3.5.0. They will be replaced with the corresponding keyword arguments in v5.0.0, so please use the keyword specification instead. See https://github.com/optuna/optuna/releases/tag/v3.5.0 for details.\n",
      "  'min_samples_leaf': trial.suggest_int('min_samples_leaf', 1, 4, 1),\n",
      "2025/10/29 20:33:02 WARNING mlflow.utils.environment: Failed to resolve installed pip version. ``pip`` will be added to conda.yaml environment spec without a version specifier.\n",
      "[I 2025-10-29 20:33:02,231] Trial 72 finished with value: 5.789126318122208 and parameters: {'n_estimators': 14, 'max_depth': 3, 'min_samples_split': 6, 'min_samples_leaf': 2}. Best is trial 61 with value: 5.028538954717857.\n",
      "/var/folders/dp/2nhmtbqj49v3st8xl2stwglw0000gn/T/ipykernel_57922/4018334785.py:8: FutureWarning: suggest_int() got {'step'} as positional arguments but they were expected to be given as keyword arguments.\n",
      "Positional arguments ['self', 'name', 'low', 'high', 'step', 'log'] in suggest_int() have been deprecated since v3.5.0. They will be replaced with the corresponding keyword arguments in v5.0.0, so please use the keyword specification instead. See https://github.com/optuna/optuna/releases/tag/v3.5.0 for details.\n",
      "  'n_estimators': trial.suggest_int('n_estimators', 10, 50, 1),\n",
      "/var/folders/dp/2nhmtbqj49v3st8xl2stwglw0000gn/T/ipykernel_57922/4018334785.py:9: FutureWarning: suggest_int() got {'step'} as positional arguments but they were expected to be given as keyword arguments.\n",
      "Positional arguments ['self', 'name', 'low', 'high', 'step', 'log'] in suggest_int() have been deprecated since v3.5.0. They will be replaced with the corresponding keyword arguments in v5.0.0, so please use the keyword specification instead. See https://github.com/optuna/optuna/releases/tag/v3.5.0 for details.\n",
      "  'max_depth': trial.suggest_int('max_depth', 1, 20, 1),\n",
      "/var/folders/dp/2nhmtbqj49v3st8xl2stwglw0000gn/T/ipykernel_57922/4018334785.py:10: FutureWarning: suggest_int() got {'step'} as positional arguments but they were expected to be given as keyword arguments.\n",
      "Positional arguments ['self', 'name', 'low', 'high', 'step', 'log'] in suggest_int() have been deprecated since v3.5.0. They will be replaced with the corresponding keyword arguments in v5.0.0, so please use the keyword specification instead. See https://github.com/optuna/optuna/releases/tag/v3.5.0 for details.\n",
      "  'min_samples_split': trial.suggest_int('min_samples_split', 2, 6, 1),\n",
      "/var/folders/dp/2nhmtbqj49v3st8xl2stwglw0000gn/T/ipykernel_57922/4018334785.py:11: FutureWarning: suggest_int() got {'step'} as positional arguments but they were expected to be given as keyword arguments.\n",
      "Positional arguments ['self', 'name', 'low', 'high', 'step', 'log'] in suggest_int() have been deprecated since v3.5.0. They will be replaced with the corresponding keyword arguments in v5.0.0, so please use the keyword specification instead. See https://github.com/optuna/optuna/releases/tag/v3.5.0 for details.\n",
      "  'min_samples_leaf': trial.suggest_int('min_samples_leaf', 1, 4, 1),\n"
     ]
    },
    {
     "name": "stdout",
     "output_type": "stream",
     "text": [
      "🏃 View run worried-steed-961 at: http://127.0.0.1:5000/#/experiments/3/runs/c4bfd194d2ae4030888e870d242929d6\n",
      "🧪 View experiment at: http://127.0.0.1:5000/#/experiments/3\n"
     ]
    },
    {
     "name": "stderr",
     "output_type": "stream",
     "text": [
      "2025/10/29 20:33:03 WARNING mlflow.utils.environment: Failed to resolve installed pip version. ``pip`` will be added to conda.yaml environment spec without a version specifier.\n",
      "[I 2025-10-29 20:33:04,329] Trial 73 finished with value: 5.028577104592165 and parameters: {'n_estimators': 46, 'max_depth': 15, 'min_samples_split': 6, 'min_samples_leaf': 2}. Best is trial 61 with value: 5.028538954717857.\n"
     ]
    },
    {
     "name": "stdout",
     "output_type": "stream",
     "text": [
      "🏃 View run dazzling-sloth-411 at: http://127.0.0.1:5000/#/experiments/3/runs/65f9d9293aa74733bf6a422f25e83810\n",
      "🧪 View experiment at: http://127.0.0.1:5000/#/experiments/3\n"
     ]
    },
    {
     "name": "stderr",
     "output_type": "stream",
     "text": [
      "/var/folders/dp/2nhmtbqj49v3st8xl2stwglw0000gn/T/ipykernel_57922/4018334785.py:8: FutureWarning: suggest_int() got {'step'} as positional arguments but they were expected to be given as keyword arguments.\n",
      "Positional arguments ['self', 'name', 'low', 'high', 'step', 'log'] in suggest_int() have been deprecated since v3.5.0. They will be replaced with the corresponding keyword arguments in v5.0.0, so please use the keyword specification instead. See https://github.com/optuna/optuna/releases/tag/v3.5.0 for details.\n",
      "  'n_estimators': trial.suggest_int('n_estimators', 10, 50, 1),\n",
      "/var/folders/dp/2nhmtbqj49v3st8xl2stwglw0000gn/T/ipykernel_57922/4018334785.py:9: FutureWarning: suggest_int() got {'step'} as positional arguments but they were expected to be given as keyword arguments.\n",
      "Positional arguments ['self', 'name', 'low', 'high', 'step', 'log'] in suggest_int() have been deprecated since v3.5.0. They will be replaced with the corresponding keyword arguments in v5.0.0, so please use the keyword specification instead. See https://github.com/optuna/optuna/releases/tag/v3.5.0 for details.\n",
      "  'max_depth': trial.suggest_int('max_depth', 1, 20, 1),\n",
      "/var/folders/dp/2nhmtbqj49v3st8xl2stwglw0000gn/T/ipykernel_57922/4018334785.py:10: FutureWarning: suggest_int() got {'step'} as positional arguments but they were expected to be given as keyword arguments.\n",
      "Positional arguments ['self', 'name', 'low', 'high', 'step', 'log'] in suggest_int() have been deprecated since v3.5.0. They will be replaced with the corresponding keyword arguments in v5.0.0, so please use the keyword specification instead. See https://github.com/optuna/optuna/releases/tag/v3.5.0 for details.\n",
      "  'min_samples_split': trial.suggest_int('min_samples_split', 2, 6, 1),\n",
      "/var/folders/dp/2nhmtbqj49v3st8xl2stwglw0000gn/T/ipykernel_57922/4018334785.py:11: FutureWarning: suggest_int() got {'step'} as positional arguments but they were expected to be given as keyword arguments.\n",
      "Positional arguments ['self', 'name', 'low', 'high', 'step', 'log'] in suggest_int() have been deprecated since v3.5.0. They will be replaced with the corresponding keyword arguments in v5.0.0, so please use the keyword specification instead. See https://github.com/optuna/optuna/releases/tag/v3.5.0 for details.\n",
      "  'min_samples_leaf': trial.suggest_int('min_samples_leaf', 1, 4, 1),\n",
      "2025/10/29 20:33:05 WARNING mlflow.utils.environment: Failed to resolve installed pip version. ``pip`` will be added to conda.yaml environment spec without a version specifier.\n",
      "[I 2025-10-29 20:33:06,415] Trial 74 finished with value: 5.031948492728952 and parameters: {'n_estimators': 43, 'max_depth': 15, 'min_samples_split': 6, 'min_samples_leaf': 2}. Best is trial 61 with value: 5.028538954717857.\n"
     ]
    },
    {
     "name": "stdout",
     "output_type": "stream",
     "text": [
      "🏃 View run amazing-snipe-7 at: http://127.0.0.1:5000/#/experiments/3/runs/e89e0b86fe354080ac11c35052624587\n",
      "🧪 View experiment at: http://127.0.0.1:5000/#/experiments/3\n"
     ]
    },
    {
     "name": "stderr",
     "output_type": "stream",
     "text": [
      "/var/folders/dp/2nhmtbqj49v3st8xl2stwglw0000gn/T/ipykernel_57922/4018334785.py:8: FutureWarning: suggest_int() got {'step'} as positional arguments but they were expected to be given as keyword arguments.\n",
      "Positional arguments ['self', 'name', 'low', 'high', 'step', 'log'] in suggest_int() have been deprecated since v3.5.0. They will be replaced with the corresponding keyword arguments in v5.0.0, so please use the keyword specification instead. See https://github.com/optuna/optuna/releases/tag/v3.5.0 for details.\n",
      "  'n_estimators': trial.suggest_int('n_estimators', 10, 50, 1),\n",
      "/var/folders/dp/2nhmtbqj49v3st8xl2stwglw0000gn/T/ipykernel_57922/4018334785.py:9: FutureWarning: suggest_int() got {'step'} as positional arguments but they were expected to be given as keyword arguments.\n",
      "Positional arguments ['self', 'name', 'low', 'high', 'step', 'log'] in suggest_int() have been deprecated since v3.5.0. They will be replaced with the corresponding keyword arguments in v5.0.0, so please use the keyword specification instead. See https://github.com/optuna/optuna/releases/tag/v3.5.0 for details.\n",
      "  'max_depth': trial.suggest_int('max_depth', 1, 20, 1),\n",
      "/var/folders/dp/2nhmtbqj49v3st8xl2stwglw0000gn/T/ipykernel_57922/4018334785.py:10: FutureWarning: suggest_int() got {'step'} as positional arguments but they were expected to be given as keyword arguments.\n",
      "Positional arguments ['self', 'name', 'low', 'high', 'step', 'log'] in suggest_int() have been deprecated since v3.5.0. They will be replaced with the corresponding keyword arguments in v5.0.0, so please use the keyword specification instead. See https://github.com/optuna/optuna/releases/tag/v3.5.0 for details.\n",
      "  'min_samples_split': trial.suggest_int('min_samples_split', 2, 6, 1),\n",
      "/var/folders/dp/2nhmtbqj49v3st8xl2stwglw0000gn/T/ipykernel_57922/4018334785.py:11: FutureWarning: suggest_int() got {'step'} as positional arguments but they were expected to be given as keyword arguments.\n",
      "Positional arguments ['self', 'name', 'low', 'high', 'step', 'log'] in suggest_int() have been deprecated since v3.5.0. They will be replaced with the corresponding keyword arguments in v5.0.0, so please use the keyword specification instead. See https://github.com/optuna/optuna/releases/tag/v3.5.0 for details.\n",
      "  'min_samples_leaf': trial.suggest_int('min_samples_leaf', 1, 4, 1),\n",
      "2025/10/29 20:33:08 WARNING mlflow.utils.environment: Failed to resolve installed pip version. ``pip`` will be added to conda.yaml environment spec without a version specifier.\n",
      "[I 2025-10-29 20:33:08,509] Trial 75 finished with value: 5.028577104592165 and parameters: {'n_estimators': 46, 'max_depth': 15, 'min_samples_split': 6, 'min_samples_leaf': 2}. Best is trial 61 with value: 5.028538954717857.\n"
     ]
    },
    {
     "name": "stdout",
     "output_type": "stream",
     "text": [
      "🏃 View run clumsy-stork-530 at: http://127.0.0.1:5000/#/experiments/3/runs/01406f1b9ef14e3a94038f564247ee93\n",
      "🧪 View experiment at: http://127.0.0.1:5000/#/experiments/3\n"
     ]
    },
    {
     "name": "stderr",
     "output_type": "stream",
     "text": [
      "/var/folders/dp/2nhmtbqj49v3st8xl2stwglw0000gn/T/ipykernel_57922/4018334785.py:8: FutureWarning: suggest_int() got {'step'} as positional arguments but they were expected to be given as keyword arguments.\n",
      "Positional arguments ['self', 'name', 'low', 'high', 'step', 'log'] in suggest_int() have been deprecated since v3.5.0. They will be replaced with the corresponding keyword arguments in v5.0.0, so please use the keyword specification instead. See https://github.com/optuna/optuna/releases/tag/v3.5.0 for details.\n",
      "  'n_estimators': trial.suggest_int('n_estimators', 10, 50, 1),\n",
      "/var/folders/dp/2nhmtbqj49v3st8xl2stwglw0000gn/T/ipykernel_57922/4018334785.py:9: FutureWarning: suggest_int() got {'step'} as positional arguments but they were expected to be given as keyword arguments.\n",
      "Positional arguments ['self', 'name', 'low', 'high', 'step', 'log'] in suggest_int() have been deprecated since v3.5.0. They will be replaced with the corresponding keyword arguments in v5.0.0, so please use the keyword specification instead. See https://github.com/optuna/optuna/releases/tag/v3.5.0 for details.\n",
      "  'max_depth': trial.suggest_int('max_depth', 1, 20, 1),\n",
      "/var/folders/dp/2nhmtbqj49v3st8xl2stwglw0000gn/T/ipykernel_57922/4018334785.py:10: FutureWarning: suggest_int() got {'step'} as positional arguments but they were expected to be given as keyword arguments.\n",
      "Positional arguments ['self', 'name', 'low', 'high', 'step', 'log'] in suggest_int() have been deprecated since v3.5.0. They will be replaced with the corresponding keyword arguments in v5.0.0, so please use the keyword specification instead. See https://github.com/optuna/optuna/releases/tag/v3.5.0 for details.\n",
      "  'min_samples_split': trial.suggest_int('min_samples_split', 2, 6, 1),\n",
      "/var/folders/dp/2nhmtbqj49v3st8xl2stwglw0000gn/T/ipykernel_57922/4018334785.py:11: FutureWarning: suggest_int() got {'step'} as positional arguments but they were expected to be given as keyword arguments.\n",
      "Positional arguments ['self', 'name', 'low', 'high', 'step', 'log'] in suggest_int() have been deprecated since v3.5.0. They will be replaced with the corresponding keyword arguments in v5.0.0, so please use the keyword specification instead. See https://github.com/optuna/optuna/releases/tag/v3.5.0 for details.\n",
      "  'min_samples_leaf': trial.suggest_int('min_samples_leaf', 1, 4, 1),\n",
      "2025/10/29 20:33:10 WARNING mlflow.utils.environment: Failed to resolve installed pip version. ``pip`` will be added to conda.yaml environment spec without a version specifier.\n",
      "[I 2025-10-29 20:33:10,593] Trial 76 finished with value: 5.028577104592165 and parameters: {'n_estimators': 46, 'max_depth': 15, 'min_samples_split': 6, 'min_samples_leaf': 2}. Best is trial 61 with value: 5.028538954717857.\n"
     ]
    },
    {
     "name": "stdout",
     "output_type": "stream",
     "text": [
      "🏃 View run big-doe-636 at: http://127.0.0.1:5000/#/experiments/3/runs/c28504a494024eb1908d084bc9a2c85e\n",
      "🧪 View experiment at: http://127.0.0.1:5000/#/experiments/3\n"
     ]
    },
    {
     "name": "stderr",
     "output_type": "stream",
     "text": [
      "/var/folders/dp/2nhmtbqj49v3st8xl2stwglw0000gn/T/ipykernel_57922/4018334785.py:8: FutureWarning: suggest_int() got {'step'} as positional arguments but they were expected to be given as keyword arguments.\n",
      "Positional arguments ['self', 'name', 'low', 'high', 'step', 'log'] in suggest_int() have been deprecated since v3.5.0. They will be replaced with the corresponding keyword arguments in v5.0.0, so please use the keyword specification instead. See https://github.com/optuna/optuna/releases/tag/v3.5.0 for details.\n",
      "  'n_estimators': trial.suggest_int('n_estimators', 10, 50, 1),\n",
      "/var/folders/dp/2nhmtbqj49v3st8xl2stwglw0000gn/T/ipykernel_57922/4018334785.py:9: FutureWarning: suggest_int() got {'step'} as positional arguments but they were expected to be given as keyword arguments.\n",
      "Positional arguments ['self', 'name', 'low', 'high', 'step', 'log'] in suggest_int() have been deprecated since v3.5.0. They will be replaced with the corresponding keyword arguments in v5.0.0, so please use the keyword specification instead. See https://github.com/optuna/optuna/releases/tag/v3.5.0 for details.\n",
      "  'max_depth': trial.suggest_int('max_depth', 1, 20, 1),\n",
      "/var/folders/dp/2nhmtbqj49v3st8xl2stwglw0000gn/T/ipykernel_57922/4018334785.py:10: FutureWarning: suggest_int() got {'step'} as positional arguments but they were expected to be given as keyword arguments.\n",
      "Positional arguments ['self', 'name', 'low', 'high', 'step', 'log'] in suggest_int() have been deprecated since v3.5.0. They will be replaced with the corresponding keyword arguments in v5.0.0, so please use the keyword specification instead. See https://github.com/optuna/optuna/releases/tag/v3.5.0 for details.\n",
      "  'min_samples_split': trial.suggest_int('min_samples_split', 2, 6, 1),\n",
      "/var/folders/dp/2nhmtbqj49v3st8xl2stwglw0000gn/T/ipykernel_57922/4018334785.py:11: FutureWarning: suggest_int() got {'step'} as positional arguments but they were expected to be given as keyword arguments.\n",
      "Positional arguments ['self', 'name', 'low', 'high', 'step', 'log'] in suggest_int() have been deprecated since v3.5.0. They will be replaced with the corresponding keyword arguments in v5.0.0, so please use the keyword specification instead. See https://github.com/optuna/optuna/releases/tag/v3.5.0 for details.\n",
      "  'min_samples_leaf': trial.suggest_int('min_samples_leaf', 1, 4, 1),\n",
      "2025/10/29 20:33:12 WARNING mlflow.utils.environment: Failed to resolve installed pip version. ``pip`` will be added to conda.yaml environment spec without a version specifier.\n",
      "[I 2025-10-29 20:33:13,328] Trial 77 finished with value: 5.053750916214066 and parameters: {'n_estimators': 46, 'max_depth': 18, 'min_samples_split': 6, 'min_samples_leaf': 2}. Best is trial 61 with value: 5.028538954717857.\n"
     ]
    },
    {
     "name": "stdout",
     "output_type": "stream",
     "text": [
      "🏃 View run overjoyed-fish-763 at: http://127.0.0.1:5000/#/experiments/3/runs/6c20ae030d424a06a64350d922784ba1\n",
      "🧪 View experiment at: http://127.0.0.1:5000/#/experiments/3\n"
     ]
    },
    {
     "name": "stderr",
     "output_type": "stream",
     "text": [
      "/var/folders/dp/2nhmtbqj49v3st8xl2stwglw0000gn/T/ipykernel_57922/4018334785.py:8: FutureWarning: suggest_int() got {'step'} as positional arguments but they were expected to be given as keyword arguments.\n",
      "Positional arguments ['self', 'name', 'low', 'high', 'step', 'log'] in suggest_int() have been deprecated since v3.5.0. They will be replaced with the corresponding keyword arguments in v5.0.0, so please use the keyword specification instead. See https://github.com/optuna/optuna/releases/tag/v3.5.0 for details.\n",
      "  'n_estimators': trial.suggest_int('n_estimators', 10, 50, 1),\n",
      "/var/folders/dp/2nhmtbqj49v3st8xl2stwglw0000gn/T/ipykernel_57922/4018334785.py:9: FutureWarning: suggest_int() got {'step'} as positional arguments but they were expected to be given as keyword arguments.\n",
      "Positional arguments ['self', 'name', 'low', 'high', 'step', 'log'] in suggest_int() have been deprecated since v3.5.0. They will be replaced with the corresponding keyword arguments in v5.0.0, so please use the keyword specification instead. See https://github.com/optuna/optuna/releases/tag/v3.5.0 for details.\n",
      "  'max_depth': trial.suggest_int('max_depth', 1, 20, 1),\n",
      "/var/folders/dp/2nhmtbqj49v3st8xl2stwglw0000gn/T/ipykernel_57922/4018334785.py:10: FutureWarning: suggest_int() got {'step'} as positional arguments but they were expected to be given as keyword arguments.\n",
      "Positional arguments ['self', 'name', 'low', 'high', 'step', 'log'] in suggest_int() have been deprecated since v3.5.0. They will be replaced with the corresponding keyword arguments in v5.0.0, so please use the keyword specification instead. See https://github.com/optuna/optuna/releases/tag/v3.5.0 for details.\n",
      "  'min_samples_split': trial.suggest_int('min_samples_split', 2, 6, 1),\n",
      "/var/folders/dp/2nhmtbqj49v3st8xl2stwglw0000gn/T/ipykernel_57922/4018334785.py:11: FutureWarning: suggest_int() got {'step'} as positional arguments but they were expected to be given as keyword arguments.\n",
      "Positional arguments ['self', 'name', 'low', 'high', 'step', 'log'] in suggest_int() have been deprecated since v3.5.0. They will be replaced with the corresponding keyword arguments in v5.0.0, so please use the keyword specification instead. See https://github.com/optuna/optuna/releases/tag/v3.5.0 for details.\n",
      "  'min_samples_leaf': trial.suggest_int('min_samples_leaf', 1, 4, 1),\n",
      "2025/10/29 20:33:15 WARNING mlflow.utils.environment: Failed to resolve installed pip version. ``pip`` will be added to conda.yaml environment spec without a version specifier.\n",
      "[I 2025-10-29 20:33:15,812] Trial 78 finished with value: 5.045036479345547 and parameters: {'n_estimators': 45, 'max_depth': 17, 'min_samples_split': 6, 'min_samples_leaf': 2}. Best is trial 61 with value: 5.028538954717857.\n"
     ]
    },
    {
     "name": "stdout",
     "output_type": "stream",
     "text": [
      "🏃 View run intrigued-bear-105 at: http://127.0.0.1:5000/#/experiments/3/runs/76342a3ba34548c6b7aa7037e9348e5e\n",
      "🧪 View experiment at: http://127.0.0.1:5000/#/experiments/3\n"
     ]
    },
    {
     "name": "stderr",
     "output_type": "stream",
     "text": [
      "/var/folders/dp/2nhmtbqj49v3st8xl2stwglw0000gn/T/ipykernel_57922/4018334785.py:8: FutureWarning: suggest_int() got {'step'} as positional arguments but they were expected to be given as keyword arguments.\n",
      "Positional arguments ['self', 'name', 'low', 'high', 'step', 'log'] in suggest_int() have been deprecated since v3.5.0. They will be replaced with the corresponding keyword arguments in v5.0.0, so please use the keyword specification instead. See https://github.com/optuna/optuna/releases/tag/v3.5.0 for details.\n",
      "  'n_estimators': trial.suggest_int('n_estimators', 10, 50, 1),\n",
      "/var/folders/dp/2nhmtbqj49v3st8xl2stwglw0000gn/T/ipykernel_57922/4018334785.py:9: FutureWarning: suggest_int() got {'step'} as positional arguments but they were expected to be given as keyword arguments.\n",
      "Positional arguments ['self', 'name', 'low', 'high', 'step', 'log'] in suggest_int() have been deprecated since v3.5.0. They will be replaced with the corresponding keyword arguments in v5.0.0, so please use the keyword specification instead. See https://github.com/optuna/optuna/releases/tag/v3.5.0 for details.\n",
      "  'max_depth': trial.suggest_int('max_depth', 1, 20, 1),\n",
      "/var/folders/dp/2nhmtbqj49v3st8xl2stwglw0000gn/T/ipykernel_57922/4018334785.py:10: FutureWarning: suggest_int() got {'step'} as positional arguments but they were expected to be given as keyword arguments.\n",
      "Positional arguments ['self', 'name', 'low', 'high', 'step', 'log'] in suggest_int() have been deprecated since v3.5.0. They will be replaced with the corresponding keyword arguments in v5.0.0, so please use the keyword specification instead. See https://github.com/optuna/optuna/releases/tag/v3.5.0 for details.\n",
      "  'min_samples_split': trial.suggest_int('min_samples_split', 2, 6, 1),\n",
      "/var/folders/dp/2nhmtbqj49v3st8xl2stwglw0000gn/T/ipykernel_57922/4018334785.py:11: FutureWarning: suggest_int() got {'step'} as positional arguments but they were expected to be given as keyword arguments.\n",
      "Positional arguments ['self', 'name', 'low', 'high', 'step', 'log'] in suggest_int() have been deprecated since v3.5.0. They will be replaced with the corresponding keyword arguments in v5.0.0, so please use the keyword specification instead. See https://github.com/optuna/optuna/releases/tag/v3.5.0 for details.\n",
      "  'min_samples_leaf': trial.suggest_int('min_samples_leaf', 1, 4, 1),\n",
      "2025/10/29 20:33:17 WARNING mlflow.utils.environment: Failed to resolve installed pip version. ``pip`` will be added to conda.yaml environment spec without a version specifier.\n",
      "[I 2025-10-29 20:33:18,066] Trial 79 finished with value: 5.045035172231686 and parameters: {'n_estimators': 43, 'max_depth': 16, 'min_samples_split': 6, 'min_samples_leaf': 1}. Best is trial 61 with value: 5.028538954717857.\n"
     ]
    },
    {
     "name": "stdout",
     "output_type": "stream",
     "text": [
      "🏃 View run learned-perch-711 at: http://127.0.0.1:5000/#/experiments/3/runs/cb4d55772e6043e1ac3ac9d3b408bfa1\n",
      "🧪 View experiment at: http://127.0.0.1:5000/#/experiments/3\n"
     ]
    },
    {
     "name": "stderr",
     "output_type": "stream",
     "text": [
      "/var/folders/dp/2nhmtbqj49v3st8xl2stwglw0000gn/T/ipykernel_57922/4018334785.py:8: FutureWarning: suggest_int() got {'step'} as positional arguments but they were expected to be given as keyword arguments.\n",
      "Positional arguments ['self', 'name', 'low', 'high', 'step', 'log'] in suggest_int() have been deprecated since v3.5.0. They will be replaced with the corresponding keyword arguments in v5.0.0, so please use the keyword specification instead. See https://github.com/optuna/optuna/releases/tag/v3.5.0 for details.\n",
      "  'n_estimators': trial.suggest_int('n_estimators', 10, 50, 1),\n",
      "/var/folders/dp/2nhmtbqj49v3st8xl2stwglw0000gn/T/ipykernel_57922/4018334785.py:9: FutureWarning: suggest_int() got {'step'} as positional arguments but they were expected to be given as keyword arguments.\n",
      "Positional arguments ['self', 'name', 'low', 'high', 'step', 'log'] in suggest_int() have been deprecated since v3.5.0. They will be replaced with the corresponding keyword arguments in v5.0.0, so please use the keyword specification instead. See https://github.com/optuna/optuna/releases/tag/v3.5.0 for details.\n",
      "  'max_depth': trial.suggest_int('max_depth', 1, 20, 1),\n",
      "/var/folders/dp/2nhmtbqj49v3st8xl2stwglw0000gn/T/ipykernel_57922/4018334785.py:10: FutureWarning: suggest_int() got {'step'} as positional arguments but they were expected to be given as keyword arguments.\n",
      "Positional arguments ['self', 'name', 'low', 'high', 'step', 'log'] in suggest_int() have been deprecated since v3.5.0. They will be replaced with the corresponding keyword arguments in v5.0.0, so please use the keyword specification instead. See https://github.com/optuna/optuna/releases/tag/v3.5.0 for details.\n",
      "  'min_samples_split': trial.suggest_int('min_samples_split', 2, 6, 1),\n",
      "/var/folders/dp/2nhmtbqj49v3st8xl2stwglw0000gn/T/ipykernel_57922/4018334785.py:11: FutureWarning: suggest_int() got {'step'} as positional arguments but they were expected to be given as keyword arguments.\n",
      "Positional arguments ['self', 'name', 'low', 'high', 'step', 'log'] in suggest_int() have been deprecated since v3.5.0. They will be replaced with the corresponding keyword arguments in v5.0.0, so please use the keyword specification instead. See https://github.com/optuna/optuna/releases/tag/v3.5.0 for details.\n",
      "  'min_samples_leaf': trial.suggest_int('min_samples_leaf', 1, 4, 1),\n",
      "2025/10/29 20:33:19 WARNING mlflow.utils.environment: Failed to resolve installed pip version. ``pip`` will be added to conda.yaml environment spec without a version specifier.\n",
      "[I 2025-10-29 20:33:20,083] Trial 80 finished with value: 5.033128977973325 and parameters: {'n_estimators': 41, 'max_depth': 15, 'min_samples_split': 6, 'min_samples_leaf': 2}. Best is trial 61 with value: 5.028538954717857.\n"
     ]
    },
    {
     "name": "stdout",
     "output_type": "stream",
     "text": [
      "🏃 View run selective-stoat-525 at: http://127.0.0.1:5000/#/experiments/3/runs/8d01a21425e542f6ad8ccd69ab4fe73e\n",
      "🧪 View experiment at: http://127.0.0.1:5000/#/experiments/3\n"
     ]
    },
    {
     "name": "stderr",
     "output_type": "stream",
     "text": [
      "/var/folders/dp/2nhmtbqj49v3st8xl2stwglw0000gn/T/ipykernel_57922/4018334785.py:8: FutureWarning: suggest_int() got {'step'} as positional arguments but they were expected to be given as keyword arguments.\n",
      "Positional arguments ['self', 'name', 'low', 'high', 'step', 'log'] in suggest_int() have been deprecated since v3.5.0. They will be replaced with the corresponding keyword arguments in v5.0.0, so please use the keyword specification instead. See https://github.com/optuna/optuna/releases/tag/v3.5.0 for details.\n",
      "  'n_estimators': trial.suggest_int('n_estimators', 10, 50, 1),\n",
      "/var/folders/dp/2nhmtbqj49v3st8xl2stwglw0000gn/T/ipykernel_57922/4018334785.py:9: FutureWarning: suggest_int() got {'step'} as positional arguments but they were expected to be given as keyword arguments.\n",
      "Positional arguments ['self', 'name', 'low', 'high', 'step', 'log'] in suggest_int() have been deprecated since v3.5.0. They will be replaced with the corresponding keyword arguments in v5.0.0, so please use the keyword specification instead. See https://github.com/optuna/optuna/releases/tag/v3.5.0 for details.\n",
      "  'max_depth': trial.suggest_int('max_depth', 1, 20, 1),\n",
      "/var/folders/dp/2nhmtbqj49v3st8xl2stwglw0000gn/T/ipykernel_57922/4018334785.py:10: FutureWarning: suggest_int() got {'step'} as positional arguments but they were expected to be given as keyword arguments.\n",
      "Positional arguments ['self', 'name', 'low', 'high', 'step', 'log'] in suggest_int() have been deprecated since v3.5.0. They will be replaced with the corresponding keyword arguments in v5.0.0, so please use the keyword specification instead. See https://github.com/optuna/optuna/releases/tag/v3.5.0 for details.\n",
      "  'min_samples_split': trial.suggest_int('min_samples_split', 2, 6, 1),\n",
      "/var/folders/dp/2nhmtbqj49v3st8xl2stwglw0000gn/T/ipykernel_57922/4018334785.py:11: FutureWarning: suggest_int() got {'step'} as positional arguments but they were expected to be given as keyword arguments.\n",
      "Positional arguments ['self', 'name', 'low', 'high', 'step', 'log'] in suggest_int() have been deprecated since v3.5.0. They will be replaced with the corresponding keyword arguments in v5.0.0, so please use the keyword specification instead. See https://github.com/optuna/optuna/releases/tag/v3.5.0 for details.\n",
      "  'min_samples_leaf': trial.suggest_int('min_samples_leaf', 1, 4, 1),\n",
      "2025/10/29 20:33:21 WARNING mlflow.utils.environment: Failed to resolve installed pip version. ``pip`` will be added to conda.yaml environment spec without a version specifier.\n",
      "[I 2025-10-29 20:33:22,371] Trial 81 finished with value: 5.034270400571215 and parameters: {'n_estimators': 46, 'max_depth': 16, 'min_samples_split': 6, 'min_samples_leaf': 2}. Best is trial 61 with value: 5.028538954717857.\n"
     ]
    },
    {
     "name": "stdout",
     "output_type": "stream",
     "text": [
      "🏃 View run skillful-gull-202 at: http://127.0.0.1:5000/#/experiments/3/runs/772e1a9d2fd44b8989fe8125ab5a8316\n",
      "🧪 View experiment at: http://127.0.0.1:5000/#/experiments/3\n"
     ]
    },
    {
     "name": "stderr",
     "output_type": "stream",
     "text": [
      "/var/folders/dp/2nhmtbqj49v3st8xl2stwglw0000gn/T/ipykernel_57922/4018334785.py:8: FutureWarning: suggest_int() got {'step'} as positional arguments but they were expected to be given as keyword arguments.\n",
      "Positional arguments ['self', 'name', 'low', 'high', 'step', 'log'] in suggest_int() have been deprecated since v3.5.0. They will be replaced with the corresponding keyword arguments in v5.0.0, so please use the keyword specification instead. See https://github.com/optuna/optuna/releases/tag/v3.5.0 for details.\n",
      "  'n_estimators': trial.suggest_int('n_estimators', 10, 50, 1),\n",
      "/var/folders/dp/2nhmtbqj49v3st8xl2stwglw0000gn/T/ipykernel_57922/4018334785.py:9: FutureWarning: suggest_int() got {'step'} as positional arguments but they were expected to be given as keyword arguments.\n",
      "Positional arguments ['self', 'name', 'low', 'high', 'step', 'log'] in suggest_int() have been deprecated since v3.5.0. They will be replaced with the corresponding keyword arguments in v5.0.0, so please use the keyword specification instead. See https://github.com/optuna/optuna/releases/tag/v3.5.0 for details.\n",
      "  'max_depth': trial.suggest_int('max_depth', 1, 20, 1),\n",
      "/var/folders/dp/2nhmtbqj49v3st8xl2stwglw0000gn/T/ipykernel_57922/4018334785.py:10: FutureWarning: suggest_int() got {'step'} as positional arguments but they were expected to be given as keyword arguments.\n",
      "Positional arguments ['self', 'name', 'low', 'high', 'step', 'log'] in suggest_int() have been deprecated since v3.5.0. They will be replaced with the corresponding keyword arguments in v5.0.0, so please use the keyword specification instead. See https://github.com/optuna/optuna/releases/tag/v3.5.0 for details.\n",
      "  'min_samples_split': trial.suggest_int('min_samples_split', 2, 6, 1),\n",
      "/var/folders/dp/2nhmtbqj49v3st8xl2stwglw0000gn/T/ipykernel_57922/4018334785.py:11: FutureWarning: suggest_int() got {'step'} as positional arguments but they were expected to be given as keyword arguments.\n",
      "Positional arguments ['self', 'name', 'low', 'high', 'step', 'log'] in suggest_int() have been deprecated since v3.5.0. They will be replaced with the corresponding keyword arguments in v5.0.0, so please use the keyword specification instead. See https://github.com/optuna/optuna/releases/tag/v3.5.0 for details.\n",
      "  'min_samples_leaf': trial.suggest_int('min_samples_leaf', 1, 4, 1),\n",
      "2025/10/29 20:33:24 WARNING mlflow.utils.environment: Failed to resolve installed pip version. ``pip`` will be added to conda.yaml environment spec without a version specifier.\n",
      "[I 2025-10-29 20:33:24,534] Trial 82 finished with value: 5.028323238697333 and parameters: {'n_estimators': 47, 'max_depth': 15, 'min_samples_split': 6, 'min_samples_leaf': 2}. Best is trial 82 with value: 5.028323238697333.\n"
     ]
    },
    {
     "name": "stdout",
     "output_type": "stream",
     "text": [
      "🏃 View run trusting-shrew-17 at: http://127.0.0.1:5000/#/experiments/3/runs/d9416117505b4e758052d49d6d176ef1\n",
      "🧪 View experiment at: http://127.0.0.1:5000/#/experiments/3\n"
     ]
    },
    {
     "name": "stderr",
     "output_type": "stream",
     "text": [
      "/var/folders/dp/2nhmtbqj49v3st8xl2stwglw0000gn/T/ipykernel_57922/4018334785.py:8: FutureWarning: suggest_int() got {'step'} as positional arguments but they were expected to be given as keyword arguments.\n",
      "Positional arguments ['self', 'name', 'low', 'high', 'step', 'log'] in suggest_int() have been deprecated since v3.5.0. They will be replaced with the corresponding keyword arguments in v5.0.0, so please use the keyword specification instead. See https://github.com/optuna/optuna/releases/tag/v3.5.0 for details.\n",
      "  'n_estimators': trial.suggest_int('n_estimators', 10, 50, 1),\n",
      "/var/folders/dp/2nhmtbqj49v3st8xl2stwglw0000gn/T/ipykernel_57922/4018334785.py:9: FutureWarning: suggest_int() got {'step'} as positional arguments but they were expected to be given as keyword arguments.\n",
      "Positional arguments ['self', 'name', 'low', 'high', 'step', 'log'] in suggest_int() have been deprecated since v3.5.0. They will be replaced with the corresponding keyword arguments in v5.0.0, so please use the keyword specification instead. See https://github.com/optuna/optuna/releases/tag/v3.5.0 for details.\n",
      "  'max_depth': trial.suggest_int('max_depth', 1, 20, 1),\n",
      "/var/folders/dp/2nhmtbqj49v3st8xl2stwglw0000gn/T/ipykernel_57922/4018334785.py:10: FutureWarning: suggest_int() got {'step'} as positional arguments but they were expected to be given as keyword arguments.\n",
      "Positional arguments ['self', 'name', 'low', 'high', 'step', 'log'] in suggest_int() have been deprecated since v3.5.0. They will be replaced with the corresponding keyword arguments in v5.0.0, so please use the keyword specification instead. See https://github.com/optuna/optuna/releases/tag/v3.5.0 for details.\n",
      "  'min_samples_split': trial.suggest_int('min_samples_split', 2, 6, 1),\n",
      "/var/folders/dp/2nhmtbqj49v3st8xl2stwglw0000gn/T/ipykernel_57922/4018334785.py:11: FutureWarning: suggest_int() got {'step'} as positional arguments but they were expected to be given as keyword arguments.\n",
      "Positional arguments ['self', 'name', 'low', 'high', 'step', 'log'] in suggest_int() have been deprecated since v3.5.0. They will be replaced with the corresponding keyword arguments in v5.0.0, so please use the keyword specification instead. See https://github.com/optuna/optuna/releases/tag/v3.5.0 for details.\n",
      "  'min_samples_leaf': trial.suggest_int('min_samples_leaf', 1, 4, 1),\n",
      "2025/10/29 20:33:26 WARNING mlflow.utils.environment: Failed to resolve installed pip version. ``pip`` will be added to conda.yaml environment spec without a version specifier.\n",
      "[I 2025-10-29 20:33:26,673] Trial 83 finished with value: 5.032014742725788 and parameters: {'n_estimators': 44, 'max_depth': 15, 'min_samples_split': 5, 'min_samples_leaf': 2}. Best is trial 82 with value: 5.028323238697333.\n"
     ]
    },
    {
     "name": "stdout",
     "output_type": "stream",
     "text": [
      "🏃 View run luxuriant-doe-153 at: http://127.0.0.1:5000/#/experiments/3/runs/1727f2768413497698741cf5ec319e28\n",
      "🧪 View experiment at: http://127.0.0.1:5000/#/experiments/3\n"
     ]
    },
    {
     "name": "stderr",
     "output_type": "stream",
     "text": [
      "/var/folders/dp/2nhmtbqj49v3st8xl2stwglw0000gn/T/ipykernel_57922/4018334785.py:8: FutureWarning: suggest_int() got {'step'} as positional arguments but they were expected to be given as keyword arguments.\n",
      "Positional arguments ['self', 'name', 'low', 'high', 'step', 'log'] in suggest_int() have been deprecated since v3.5.0. They will be replaced with the corresponding keyword arguments in v5.0.0, so please use the keyword specification instead. See https://github.com/optuna/optuna/releases/tag/v3.5.0 for details.\n",
      "  'n_estimators': trial.suggest_int('n_estimators', 10, 50, 1),\n",
      "/var/folders/dp/2nhmtbqj49v3st8xl2stwglw0000gn/T/ipykernel_57922/4018334785.py:9: FutureWarning: suggest_int() got {'step'} as positional arguments but they were expected to be given as keyword arguments.\n",
      "Positional arguments ['self', 'name', 'low', 'high', 'step', 'log'] in suggest_int() have been deprecated since v3.5.0. They will be replaced with the corresponding keyword arguments in v5.0.0, so please use the keyword specification instead. See https://github.com/optuna/optuna/releases/tag/v3.5.0 for details.\n",
      "  'max_depth': trial.suggest_int('max_depth', 1, 20, 1),\n",
      "/var/folders/dp/2nhmtbqj49v3st8xl2stwglw0000gn/T/ipykernel_57922/4018334785.py:10: FutureWarning: suggest_int() got {'step'} as positional arguments but they were expected to be given as keyword arguments.\n",
      "Positional arguments ['self', 'name', 'low', 'high', 'step', 'log'] in suggest_int() have been deprecated since v3.5.0. They will be replaced with the corresponding keyword arguments in v5.0.0, so please use the keyword specification instead. See https://github.com/optuna/optuna/releases/tag/v3.5.0 for details.\n",
      "  'min_samples_split': trial.suggest_int('min_samples_split', 2, 6, 1),\n",
      "/var/folders/dp/2nhmtbqj49v3st8xl2stwglw0000gn/T/ipykernel_57922/4018334785.py:11: FutureWarning: suggest_int() got {'step'} as positional arguments but they were expected to be given as keyword arguments.\n",
      "Positional arguments ['self', 'name', 'low', 'high', 'step', 'log'] in suggest_int() have been deprecated since v3.5.0. They will be replaced with the corresponding keyword arguments in v5.0.0, so please use the keyword specification instead. See https://github.com/optuna/optuna/releases/tag/v3.5.0 for details.\n",
      "  'min_samples_leaf': trial.suggest_int('min_samples_leaf', 1, 4, 1),\n",
      "2025/10/29 20:33:28 WARNING mlflow.utils.environment: Failed to resolve installed pip version. ``pip`` will be added to conda.yaml environment spec without a version specifier.\n",
      "[I 2025-10-29 20:33:28,826] Trial 84 finished with value: 5.028323238697333 and parameters: {'n_estimators': 47, 'max_depth': 15, 'min_samples_split': 6, 'min_samples_leaf': 2}. Best is trial 82 with value: 5.028323238697333.\n"
     ]
    },
    {
     "name": "stdout",
     "output_type": "stream",
     "text": [
      "🏃 View run wise-hound-336 at: http://127.0.0.1:5000/#/experiments/3/runs/776d1778669b44e3aec41e6a09f840f0\n",
      "🧪 View experiment at: http://127.0.0.1:5000/#/experiments/3\n"
     ]
    },
    {
     "name": "stderr",
     "output_type": "stream",
     "text": [
      "/var/folders/dp/2nhmtbqj49v3st8xl2stwglw0000gn/T/ipykernel_57922/4018334785.py:8: FutureWarning: suggest_int() got {'step'} as positional arguments but they were expected to be given as keyword arguments.\n",
      "Positional arguments ['self', 'name', 'low', 'high', 'step', 'log'] in suggest_int() have been deprecated since v3.5.0. They will be replaced with the corresponding keyword arguments in v5.0.0, so please use the keyword specification instead. See https://github.com/optuna/optuna/releases/tag/v3.5.0 for details.\n",
      "  'n_estimators': trial.suggest_int('n_estimators', 10, 50, 1),\n",
      "/var/folders/dp/2nhmtbqj49v3st8xl2stwglw0000gn/T/ipykernel_57922/4018334785.py:9: FutureWarning: suggest_int() got {'step'} as positional arguments but they were expected to be given as keyword arguments.\n",
      "Positional arguments ['self', 'name', 'low', 'high', 'step', 'log'] in suggest_int() have been deprecated since v3.5.0. They will be replaced with the corresponding keyword arguments in v5.0.0, so please use the keyword specification instead. See https://github.com/optuna/optuna/releases/tag/v3.5.0 for details.\n",
      "  'max_depth': trial.suggest_int('max_depth', 1, 20, 1),\n",
      "/var/folders/dp/2nhmtbqj49v3st8xl2stwglw0000gn/T/ipykernel_57922/4018334785.py:10: FutureWarning: suggest_int() got {'step'} as positional arguments but they were expected to be given as keyword arguments.\n",
      "Positional arguments ['self', 'name', 'low', 'high', 'step', 'log'] in suggest_int() have been deprecated since v3.5.0. They will be replaced with the corresponding keyword arguments in v5.0.0, so please use the keyword specification instead. See https://github.com/optuna/optuna/releases/tag/v3.5.0 for details.\n",
      "  'min_samples_split': trial.suggest_int('min_samples_split', 2, 6, 1),\n",
      "/var/folders/dp/2nhmtbqj49v3st8xl2stwglw0000gn/T/ipykernel_57922/4018334785.py:11: FutureWarning: suggest_int() got {'step'} as positional arguments but they were expected to be given as keyword arguments.\n",
      "Positional arguments ['self', 'name', 'low', 'high', 'step', 'log'] in suggest_int() have been deprecated since v3.5.0. They will be replaced with the corresponding keyword arguments in v5.0.0, so please use the keyword specification instead. See https://github.com/optuna/optuna/releases/tag/v3.5.0 for details.\n",
      "  'min_samples_leaf': trial.suggest_int('min_samples_leaf', 1, 4, 1),\n",
      "2025/10/29 20:33:30 WARNING mlflow.utils.environment: Failed to resolve installed pip version. ``pip`` will be added to conda.yaml environment spec without a version specifier.\n",
      "[I 2025-10-29 20:33:30,967] Trial 85 finished with value: 5.028323238697333 and parameters: {'n_estimators': 47, 'max_depth': 15, 'min_samples_split': 6, 'min_samples_leaf': 2}. Best is trial 82 with value: 5.028323238697333.\n"
     ]
    },
    {
     "name": "stdout",
     "output_type": "stream",
     "text": [
      "🏃 View run puzzled-skink-641 at: http://127.0.0.1:5000/#/experiments/3/runs/147d04fe304f46718b6d6bb50f6f52c0\n",
      "🧪 View experiment at: http://127.0.0.1:5000/#/experiments/3\n"
     ]
    },
    {
     "name": "stderr",
     "output_type": "stream",
     "text": [
      "/var/folders/dp/2nhmtbqj49v3st8xl2stwglw0000gn/T/ipykernel_57922/4018334785.py:8: FutureWarning: suggest_int() got {'step'} as positional arguments but they were expected to be given as keyword arguments.\n",
      "Positional arguments ['self', 'name', 'low', 'high', 'step', 'log'] in suggest_int() have been deprecated since v3.5.0. They will be replaced with the corresponding keyword arguments in v5.0.0, so please use the keyword specification instead. See https://github.com/optuna/optuna/releases/tag/v3.5.0 for details.\n",
      "  'n_estimators': trial.suggest_int('n_estimators', 10, 50, 1),\n",
      "/var/folders/dp/2nhmtbqj49v3st8xl2stwglw0000gn/T/ipykernel_57922/4018334785.py:9: FutureWarning: suggest_int() got {'step'} as positional arguments but they were expected to be given as keyword arguments.\n",
      "Positional arguments ['self', 'name', 'low', 'high', 'step', 'log'] in suggest_int() have been deprecated since v3.5.0. They will be replaced with the corresponding keyword arguments in v5.0.0, so please use the keyword specification instead. See https://github.com/optuna/optuna/releases/tag/v3.5.0 for details.\n",
      "  'max_depth': trial.suggest_int('max_depth', 1, 20, 1),\n",
      "/var/folders/dp/2nhmtbqj49v3st8xl2stwglw0000gn/T/ipykernel_57922/4018334785.py:10: FutureWarning: suggest_int() got {'step'} as positional arguments but they were expected to be given as keyword arguments.\n",
      "Positional arguments ['self', 'name', 'low', 'high', 'step', 'log'] in suggest_int() have been deprecated since v3.5.0. They will be replaced with the corresponding keyword arguments in v5.0.0, so please use the keyword specification instead. See https://github.com/optuna/optuna/releases/tag/v3.5.0 for details.\n",
      "  'min_samples_split': trial.suggest_int('min_samples_split', 2, 6, 1),\n",
      "/var/folders/dp/2nhmtbqj49v3st8xl2stwglw0000gn/T/ipykernel_57922/4018334785.py:11: FutureWarning: suggest_int() got {'step'} as positional arguments but they were expected to be given as keyword arguments.\n",
      "Positional arguments ['self', 'name', 'low', 'high', 'step', 'log'] in suggest_int() have been deprecated since v3.5.0. They will be replaced with the corresponding keyword arguments in v5.0.0, so please use the keyword specification instead. See https://github.com/optuna/optuna/releases/tag/v3.5.0 for details.\n",
      "  'min_samples_leaf': trial.suggest_int('min_samples_leaf', 1, 4, 1),\n",
      "2025/10/29 20:33:32 WARNING mlflow.utils.environment: Failed to resolve installed pip version. ``pip`` will be added to conda.yaml environment spec without a version specifier.\n",
      "[I 2025-10-29 20:33:33,261] Trial 86 finished with value: 5.033849572577241 and parameters: {'n_estimators': 47, 'max_depth': 16, 'min_samples_split': 6, 'min_samples_leaf': 2}. Best is trial 82 with value: 5.028323238697333.\n"
     ]
    },
    {
     "name": "stdout",
     "output_type": "stream",
     "text": [
      "🏃 View run silent-wasp-602 at: http://127.0.0.1:5000/#/experiments/3/runs/4e6ac1bfec134f81aff1bbd5aadb083a\n",
      "🧪 View experiment at: http://127.0.0.1:5000/#/experiments/3\n"
     ]
    },
    {
     "name": "stderr",
     "output_type": "stream",
     "text": [
      "/var/folders/dp/2nhmtbqj49v3st8xl2stwglw0000gn/T/ipykernel_57922/4018334785.py:8: FutureWarning: suggest_int() got {'step'} as positional arguments but they were expected to be given as keyword arguments.\n",
      "Positional arguments ['self', 'name', 'low', 'high', 'step', 'log'] in suggest_int() have been deprecated since v3.5.0. They will be replaced with the corresponding keyword arguments in v5.0.0, so please use the keyword specification instead. See https://github.com/optuna/optuna/releases/tag/v3.5.0 for details.\n",
      "  'n_estimators': trial.suggest_int('n_estimators', 10, 50, 1),\n",
      "/var/folders/dp/2nhmtbqj49v3st8xl2stwglw0000gn/T/ipykernel_57922/4018334785.py:9: FutureWarning: suggest_int() got {'step'} as positional arguments but they were expected to be given as keyword arguments.\n",
      "Positional arguments ['self', 'name', 'low', 'high', 'step', 'log'] in suggest_int() have been deprecated since v3.5.0. They will be replaced with the corresponding keyword arguments in v5.0.0, so please use the keyword specification instead. See https://github.com/optuna/optuna/releases/tag/v3.5.0 for details.\n",
      "  'max_depth': trial.suggest_int('max_depth', 1, 20, 1),\n",
      "/var/folders/dp/2nhmtbqj49v3st8xl2stwglw0000gn/T/ipykernel_57922/4018334785.py:10: FutureWarning: suggest_int() got {'step'} as positional arguments but they were expected to be given as keyword arguments.\n",
      "Positional arguments ['self', 'name', 'low', 'high', 'step', 'log'] in suggest_int() have been deprecated since v3.5.0. They will be replaced with the corresponding keyword arguments in v5.0.0, so please use the keyword specification instead. See https://github.com/optuna/optuna/releases/tag/v3.5.0 for details.\n",
      "  'min_samples_split': trial.suggest_int('min_samples_split', 2, 6, 1),\n",
      "/var/folders/dp/2nhmtbqj49v3st8xl2stwglw0000gn/T/ipykernel_57922/4018334785.py:11: FutureWarning: suggest_int() got {'step'} as positional arguments but they were expected to be given as keyword arguments.\n",
      "Positional arguments ['self', 'name', 'low', 'high', 'step', 'log'] in suggest_int() have been deprecated since v3.5.0. They will be replaced with the corresponding keyword arguments in v5.0.0, so please use the keyword specification instead. See https://github.com/optuna/optuna/releases/tag/v3.5.0 for details.\n",
      "  'min_samples_leaf': trial.suggest_int('min_samples_leaf', 1, 4, 1),\n",
      "2025/10/29 20:33:34 WARNING mlflow.utils.environment: Failed to resolve installed pip version. ``pip`` will be added to conda.yaml environment spec without a version specifier.\n",
      "[I 2025-10-29 20:33:35,195] Trial 87 finished with value: 5.038737331733798 and parameters: {'n_estimators': 47, 'max_depth': 13, 'min_samples_split': 5, 'min_samples_leaf': 2}. Best is trial 82 with value: 5.028323238697333.\n"
     ]
    },
    {
     "name": "stdout",
     "output_type": "stream",
     "text": [
      "🏃 View run bustling-worm-54 at: http://127.0.0.1:5000/#/experiments/3/runs/750ebd9432d64417bc845b87cef074de\n",
      "🧪 View experiment at: http://127.0.0.1:5000/#/experiments/3\n"
     ]
    },
    {
     "name": "stderr",
     "output_type": "stream",
     "text": [
      "/var/folders/dp/2nhmtbqj49v3st8xl2stwglw0000gn/T/ipykernel_57922/4018334785.py:8: FutureWarning: suggest_int() got {'step'} as positional arguments but they were expected to be given as keyword arguments.\n",
      "Positional arguments ['self', 'name', 'low', 'high', 'step', 'log'] in suggest_int() have been deprecated since v3.5.0. They will be replaced with the corresponding keyword arguments in v5.0.0, so please use the keyword specification instead. See https://github.com/optuna/optuna/releases/tag/v3.5.0 for details.\n",
      "  'n_estimators': trial.suggest_int('n_estimators', 10, 50, 1),\n",
      "/var/folders/dp/2nhmtbqj49v3st8xl2stwglw0000gn/T/ipykernel_57922/4018334785.py:9: FutureWarning: suggest_int() got {'step'} as positional arguments but they were expected to be given as keyword arguments.\n",
      "Positional arguments ['self', 'name', 'low', 'high', 'step', 'log'] in suggest_int() have been deprecated since v3.5.0. They will be replaced with the corresponding keyword arguments in v5.0.0, so please use the keyword specification instead. See https://github.com/optuna/optuna/releases/tag/v3.5.0 for details.\n",
      "  'max_depth': trial.suggest_int('max_depth', 1, 20, 1),\n",
      "/var/folders/dp/2nhmtbqj49v3st8xl2stwglw0000gn/T/ipykernel_57922/4018334785.py:10: FutureWarning: suggest_int() got {'step'} as positional arguments but they were expected to be given as keyword arguments.\n",
      "Positional arguments ['self', 'name', 'low', 'high', 'step', 'log'] in suggest_int() have been deprecated since v3.5.0. They will be replaced with the corresponding keyword arguments in v5.0.0, so please use the keyword specification instead. See https://github.com/optuna/optuna/releases/tag/v3.5.0 for details.\n",
      "  'min_samples_split': trial.suggest_int('min_samples_split', 2, 6, 1),\n",
      "/var/folders/dp/2nhmtbqj49v3st8xl2stwglw0000gn/T/ipykernel_57922/4018334785.py:11: FutureWarning: suggest_int() got {'step'} as positional arguments but they were expected to be given as keyword arguments.\n",
      "Positional arguments ['self', 'name', 'low', 'high', 'step', 'log'] in suggest_int() have been deprecated since v3.5.0. They will be replaced with the corresponding keyword arguments in v5.0.0, so please use the keyword specification instead. See https://github.com/optuna/optuna/releases/tag/v3.5.0 for details.\n",
      "  'min_samples_leaf': trial.suggest_int('min_samples_leaf', 1, 4, 1),\n",
      "2025/10/29 20:33:36 WARNING mlflow.utils.environment: Failed to resolve installed pip version. ``pip`` will be added to conda.yaml environment spec without a version specifier.\n",
      "[I 2025-10-29 20:33:37,338] Trial 88 finished with value: 5.027414256600556 and parameters: {'n_estimators': 49, 'max_depth': 15, 'min_samples_split': 6, 'min_samples_leaf': 2}. Best is trial 88 with value: 5.027414256600556.\n"
     ]
    },
    {
     "name": "stdout",
     "output_type": "stream",
     "text": [
      "🏃 View run abrasive-snake-569 at: http://127.0.0.1:5000/#/experiments/3/runs/5fc42d802e3c420b9b2fc106d50781b8\n",
      "🧪 View experiment at: http://127.0.0.1:5000/#/experiments/3\n"
     ]
    },
    {
     "name": "stderr",
     "output_type": "stream",
     "text": [
      "/var/folders/dp/2nhmtbqj49v3st8xl2stwglw0000gn/T/ipykernel_57922/4018334785.py:8: FutureWarning: suggest_int() got {'step'} as positional arguments but they were expected to be given as keyword arguments.\n",
      "Positional arguments ['self', 'name', 'low', 'high', 'step', 'log'] in suggest_int() have been deprecated since v3.5.0. They will be replaced with the corresponding keyword arguments in v5.0.0, so please use the keyword specification instead. See https://github.com/optuna/optuna/releases/tag/v3.5.0 for details.\n",
      "  'n_estimators': trial.suggest_int('n_estimators', 10, 50, 1),\n",
      "/var/folders/dp/2nhmtbqj49v3st8xl2stwglw0000gn/T/ipykernel_57922/4018334785.py:9: FutureWarning: suggest_int() got {'step'} as positional arguments but they were expected to be given as keyword arguments.\n",
      "Positional arguments ['self', 'name', 'low', 'high', 'step', 'log'] in suggest_int() have been deprecated since v3.5.0. They will be replaced with the corresponding keyword arguments in v5.0.0, so please use the keyword specification instead. See https://github.com/optuna/optuna/releases/tag/v3.5.0 for details.\n",
      "  'max_depth': trial.suggest_int('max_depth', 1, 20, 1),\n",
      "/var/folders/dp/2nhmtbqj49v3st8xl2stwglw0000gn/T/ipykernel_57922/4018334785.py:10: FutureWarning: suggest_int() got {'step'} as positional arguments but they were expected to be given as keyword arguments.\n",
      "Positional arguments ['self', 'name', 'low', 'high', 'step', 'log'] in suggest_int() have been deprecated since v3.5.0. They will be replaced with the corresponding keyword arguments in v5.0.0, so please use the keyword specification instead. See https://github.com/optuna/optuna/releases/tag/v3.5.0 for details.\n",
      "  'min_samples_split': trial.suggest_int('min_samples_split', 2, 6, 1),\n",
      "/var/folders/dp/2nhmtbqj49v3st8xl2stwglw0000gn/T/ipykernel_57922/4018334785.py:11: FutureWarning: suggest_int() got {'step'} as positional arguments but they were expected to be given as keyword arguments.\n",
      "Positional arguments ['self', 'name', 'low', 'high', 'step', 'log'] in suggest_int() have been deprecated since v3.5.0. They will be replaced with the corresponding keyword arguments in v5.0.0, so please use the keyword specification instead. See https://github.com/optuna/optuna/releases/tag/v3.5.0 for details.\n",
      "  'min_samples_leaf': trial.suggest_int('min_samples_leaf', 1, 4, 1),\n",
      "2025/10/29 20:33:39 WARNING mlflow.utils.environment: Failed to resolve installed pip version. ``pip`` will be added to conda.yaml environment spec without a version specifier.\n",
      "[I 2025-10-29 20:33:40,423] Trial 89 finished with value: 5.061328295049112 and parameters: {'n_estimators': 49, 'max_depth': 19, 'min_samples_split': 6, 'min_samples_leaf': 2}. Best is trial 88 with value: 5.027414256600556.\n"
     ]
    },
    {
     "name": "stdout",
     "output_type": "stream",
     "text": [
      "🏃 View run receptive-ram-656 at: http://127.0.0.1:5000/#/experiments/3/runs/029e196980fa47a88d2c480666621c05\n",
      "🧪 View experiment at: http://127.0.0.1:5000/#/experiments/3\n"
     ]
    },
    {
     "name": "stderr",
     "output_type": "stream",
     "text": [
      "/var/folders/dp/2nhmtbqj49v3st8xl2stwglw0000gn/T/ipykernel_57922/4018334785.py:8: FutureWarning: suggest_int() got {'step'} as positional arguments but they were expected to be given as keyword arguments.\n",
      "Positional arguments ['self', 'name', 'low', 'high', 'step', 'log'] in suggest_int() have been deprecated since v3.5.0. They will be replaced with the corresponding keyword arguments in v5.0.0, so please use the keyword specification instead. See https://github.com/optuna/optuna/releases/tag/v3.5.0 for details.\n",
      "  'n_estimators': trial.suggest_int('n_estimators', 10, 50, 1),\n",
      "/var/folders/dp/2nhmtbqj49v3st8xl2stwglw0000gn/T/ipykernel_57922/4018334785.py:9: FutureWarning: suggest_int() got {'step'} as positional arguments but they were expected to be given as keyword arguments.\n",
      "Positional arguments ['self', 'name', 'low', 'high', 'step', 'log'] in suggest_int() have been deprecated since v3.5.0. They will be replaced with the corresponding keyword arguments in v5.0.0, so please use the keyword specification instead. See https://github.com/optuna/optuna/releases/tag/v3.5.0 for details.\n",
      "  'max_depth': trial.suggest_int('max_depth', 1, 20, 1),\n",
      "/var/folders/dp/2nhmtbqj49v3st8xl2stwglw0000gn/T/ipykernel_57922/4018334785.py:10: FutureWarning: suggest_int() got {'step'} as positional arguments but they were expected to be given as keyword arguments.\n",
      "Positional arguments ['self', 'name', 'low', 'high', 'step', 'log'] in suggest_int() have been deprecated since v3.5.0. They will be replaced with the corresponding keyword arguments in v5.0.0, so please use the keyword specification instead. See https://github.com/optuna/optuna/releases/tag/v3.5.0 for details.\n",
      "  'min_samples_split': trial.suggest_int('min_samples_split', 2, 6, 1),\n",
      "/var/folders/dp/2nhmtbqj49v3st8xl2stwglw0000gn/T/ipykernel_57922/4018334785.py:11: FutureWarning: suggest_int() got {'step'} as positional arguments but they were expected to be given as keyword arguments.\n",
      "Positional arguments ['self', 'name', 'low', 'high', 'step', 'log'] in suggest_int() have been deprecated since v3.5.0. They will be replaced with the corresponding keyword arguments in v5.0.0, so please use the keyword specification instead. See https://github.com/optuna/optuna/releases/tag/v3.5.0 for details.\n",
      "  'min_samples_leaf': trial.suggest_int('min_samples_leaf', 1, 4, 1),\n",
      "2025/10/29 20:33:41 WARNING mlflow.utils.environment: Failed to resolve installed pip version. ``pip`` will be added to conda.yaml environment spec without a version specifier.\n",
      "[I 2025-10-29 20:33:42,216] Trial 90 finished with value: 5.039680186316405 and parameters: {'n_estimators': 28, 'max_depth': 15, 'min_samples_split': 6, 'min_samples_leaf': 2}. Best is trial 88 with value: 5.027414256600556.\n"
     ]
    },
    {
     "name": "stdout",
     "output_type": "stream",
     "text": [
      "🏃 View run beautiful-bee-557 at: http://127.0.0.1:5000/#/experiments/3/runs/c0b8e5878e1d4baa87320023bee66ca0\n",
      "🧪 View experiment at: http://127.0.0.1:5000/#/experiments/3\n"
     ]
    },
    {
     "name": "stderr",
     "output_type": "stream",
     "text": [
      "/var/folders/dp/2nhmtbqj49v3st8xl2stwglw0000gn/T/ipykernel_57922/4018334785.py:8: FutureWarning: suggest_int() got {'step'} as positional arguments but they were expected to be given as keyword arguments.\n",
      "Positional arguments ['self', 'name', 'low', 'high', 'step', 'log'] in suggest_int() have been deprecated since v3.5.0. They will be replaced with the corresponding keyword arguments in v5.0.0, so please use the keyword specification instead. See https://github.com/optuna/optuna/releases/tag/v3.5.0 for details.\n",
      "  'n_estimators': trial.suggest_int('n_estimators', 10, 50, 1),\n",
      "/var/folders/dp/2nhmtbqj49v3st8xl2stwglw0000gn/T/ipykernel_57922/4018334785.py:9: FutureWarning: suggest_int() got {'step'} as positional arguments but they were expected to be given as keyword arguments.\n",
      "Positional arguments ['self', 'name', 'low', 'high', 'step', 'log'] in suggest_int() have been deprecated since v3.5.0. They will be replaced with the corresponding keyword arguments in v5.0.0, so please use the keyword specification instead. See https://github.com/optuna/optuna/releases/tag/v3.5.0 for details.\n",
      "  'max_depth': trial.suggest_int('max_depth', 1, 20, 1),\n",
      "/var/folders/dp/2nhmtbqj49v3st8xl2stwglw0000gn/T/ipykernel_57922/4018334785.py:10: FutureWarning: suggest_int() got {'step'} as positional arguments but they were expected to be given as keyword arguments.\n",
      "Positional arguments ['self', 'name', 'low', 'high', 'step', 'log'] in suggest_int() have been deprecated since v3.5.0. They will be replaced with the corresponding keyword arguments in v5.0.0, so please use the keyword specification instead. See https://github.com/optuna/optuna/releases/tag/v3.5.0 for details.\n",
      "  'min_samples_split': trial.suggest_int('min_samples_split', 2, 6, 1),\n",
      "/var/folders/dp/2nhmtbqj49v3st8xl2stwglw0000gn/T/ipykernel_57922/4018334785.py:11: FutureWarning: suggest_int() got {'step'} as positional arguments but they were expected to be given as keyword arguments.\n",
      "Positional arguments ['self', 'name', 'low', 'high', 'step', 'log'] in suggest_int() have been deprecated since v3.5.0. They will be replaced with the corresponding keyword arguments in v5.0.0, so please use the keyword specification instead. See https://github.com/optuna/optuna/releases/tag/v3.5.0 for details.\n",
      "  'min_samples_leaf': trial.suggest_int('min_samples_leaf', 1, 4, 1),\n",
      "2025/10/29 20:33:43 WARNING mlflow.utils.environment: Failed to resolve installed pip version. ``pip`` will be added to conda.yaml environment spec without a version specifier.\n",
      "[I 2025-10-29 20:33:44,779] Trial 91 finished with value: 5.041852399006986 and parameters: {'n_estimators': 49, 'max_depth': 17, 'min_samples_split': 6, 'min_samples_leaf': 2}. Best is trial 88 with value: 5.027414256600556.\n"
     ]
    },
    {
     "name": "stdout",
     "output_type": "stream",
     "text": [
      "🏃 View run big-stag-390 at: http://127.0.0.1:5000/#/experiments/3/runs/933d4c2b058144e4bd2862e821e3d010\n",
      "🧪 View experiment at: http://127.0.0.1:5000/#/experiments/3\n"
     ]
    },
    {
     "name": "stderr",
     "output_type": "stream",
     "text": [
      "/var/folders/dp/2nhmtbqj49v3st8xl2stwglw0000gn/T/ipykernel_57922/4018334785.py:8: FutureWarning: suggest_int() got {'step'} as positional arguments but they were expected to be given as keyword arguments.\n",
      "Positional arguments ['self', 'name', 'low', 'high', 'step', 'log'] in suggest_int() have been deprecated since v3.5.0. They will be replaced with the corresponding keyword arguments in v5.0.0, so please use the keyword specification instead. See https://github.com/optuna/optuna/releases/tag/v3.5.0 for details.\n",
      "  'n_estimators': trial.suggest_int('n_estimators', 10, 50, 1),\n",
      "/var/folders/dp/2nhmtbqj49v3st8xl2stwglw0000gn/T/ipykernel_57922/4018334785.py:9: FutureWarning: suggest_int() got {'step'} as positional arguments but they were expected to be given as keyword arguments.\n",
      "Positional arguments ['self', 'name', 'low', 'high', 'step', 'log'] in suggest_int() have been deprecated since v3.5.0. They will be replaced with the corresponding keyword arguments in v5.0.0, so please use the keyword specification instead. See https://github.com/optuna/optuna/releases/tag/v3.5.0 for details.\n",
      "  'max_depth': trial.suggest_int('max_depth', 1, 20, 1),\n",
      "/var/folders/dp/2nhmtbqj49v3st8xl2stwglw0000gn/T/ipykernel_57922/4018334785.py:10: FutureWarning: suggest_int() got {'step'} as positional arguments but they were expected to be given as keyword arguments.\n",
      "Positional arguments ['self', 'name', 'low', 'high', 'step', 'log'] in suggest_int() have been deprecated since v3.5.0. They will be replaced with the corresponding keyword arguments in v5.0.0, so please use the keyword specification instead. See https://github.com/optuna/optuna/releases/tag/v3.5.0 for details.\n",
      "  'min_samples_split': trial.suggest_int('min_samples_split', 2, 6, 1),\n",
      "/var/folders/dp/2nhmtbqj49v3st8xl2stwglw0000gn/T/ipykernel_57922/4018334785.py:11: FutureWarning: suggest_int() got {'step'} as positional arguments but they were expected to be given as keyword arguments.\n",
      "Positional arguments ['self', 'name', 'low', 'high', 'step', 'log'] in suggest_int() have been deprecated since v3.5.0. They will be replaced with the corresponding keyword arguments in v5.0.0, so please use the keyword specification instead. See https://github.com/optuna/optuna/releases/tag/v3.5.0 for details.\n",
      "  'min_samples_leaf': trial.suggest_int('min_samples_leaf', 1, 4, 1),\n",
      "2025/10/29 20:33:46 WARNING mlflow.utils.environment: Failed to resolve installed pip version. ``pip`` will be added to conda.yaml environment spec without a version specifier.\n",
      "[I 2025-10-29 20:33:46,885] Trial 92 finished with value: 5.028577104592165 and parameters: {'n_estimators': 46, 'max_depth': 15, 'min_samples_split': 6, 'min_samples_leaf': 2}. Best is trial 88 with value: 5.027414256600556.\n"
     ]
    },
    {
     "name": "stdout",
     "output_type": "stream",
     "text": [
      "🏃 View run burly-dolphin-130 at: http://127.0.0.1:5000/#/experiments/3/runs/2ef2188cfb3743228a43ecefed0dc534\n",
      "🧪 View experiment at: http://127.0.0.1:5000/#/experiments/3\n"
     ]
    },
    {
     "name": "stderr",
     "output_type": "stream",
     "text": [
      "/var/folders/dp/2nhmtbqj49v3st8xl2stwglw0000gn/T/ipykernel_57922/4018334785.py:8: FutureWarning: suggest_int() got {'step'} as positional arguments but they were expected to be given as keyword arguments.\n",
      "Positional arguments ['self', 'name', 'low', 'high', 'step', 'log'] in suggest_int() have been deprecated since v3.5.0. They will be replaced with the corresponding keyword arguments in v5.0.0, so please use the keyword specification instead. See https://github.com/optuna/optuna/releases/tag/v3.5.0 for details.\n",
      "  'n_estimators': trial.suggest_int('n_estimators', 10, 50, 1),\n",
      "/var/folders/dp/2nhmtbqj49v3st8xl2stwglw0000gn/T/ipykernel_57922/4018334785.py:9: FutureWarning: suggest_int() got {'step'} as positional arguments but they were expected to be given as keyword arguments.\n",
      "Positional arguments ['self', 'name', 'low', 'high', 'step', 'log'] in suggest_int() have been deprecated since v3.5.0. They will be replaced with the corresponding keyword arguments in v5.0.0, so please use the keyword specification instead. See https://github.com/optuna/optuna/releases/tag/v3.5.0 for details.\n",
      "  'max_depth': trial.suggest_int('max_depth', 1, 20, 1),\n",
      "/var/folders/dp/2nhmtbqj49v3st8xl2stwglw0000gn/T/ipykernel_57922/4018334785.py:10: FutureWarning: suggest_int() got {'step'} as positional arguments but they were expected to be given as keyword arguments.\n",
      "Positional arguments ['self', 'name', 'low', 'high', 'step', 'log'] in suggest_int() have been deprecated since v3.5.0. They will be replaced with the corresponding keyword arguments in v5.0.0, so please use the keyword specification instead. See https://github.com/optuna/optuna/releases/tag/v3.5.0 for details.\n",
      "  'min_samples_split': trial.suggest_int('min_samples_split', 2, 6, 1),\n",
      "/var/folders/dp/2nhmtbqj49v3st8xl2stwglw0000gn/T/ipykernel_57922/4018334785.py:11: FutureWarning: suggest_int() got {'step'} as positional arguments but they were expected to be given as keyword arguments.\n",
      "Positional arguments ['self', 'name', 'low', 'high', 'step', 'log'] in suggest_int() have been deprecated since v3.5.0. They will be replaced with the corresponding keyword arguments in v5.0.0, so please use the keyword specification instead. See https://github.com/optuna/optuna/releases/tag/v3.5.0 for details.\n",
      "  'min_samples_leaf': trial.suggest_int('min_samples_leaf', 1, 4, 1),\n",
      "2025/10/29 20:33:48 WARNING mlflow.utils.environment: Failed to resolve installed pip version. ``pip`` will be added to conda.yaml environment spec without a version specifier.\n",
      "[I 2025-10-29 20:33:49,192] Trial 93 finished with value: 5.034270400571215 and parameters: {'n_estimators': 46, 'max_depth': 16, 'min_samples_split': 6, 'min_samples_leaf': 2}. Best is trial 88 with value: 5.027414256600556.\n"
     ]
    },
    {
     "name": "stdout",
     "output_type": "stream",
     "text": [
      "🏃 View run illustrious-lamb-140 at: http://127.0.0.1:5000/#/experiments/3/runs/129ce1982e90477986451a76ac57b695\n",
      "🧪 View experiment at: http://127.0.0.1:5000/#/experiments/3\n"
     ]
    },
    {
     "name": "stderr",
     "output_type": "stream",
     "text": [
      "/var/folders/dp/2nhmtbqj49v3st8xl2stwglw0000gn/T/ipykernel_57922/4018334785.py:8: FutureWarning: suggest_int() got {'step'} as positional arguments but they were expected to be given as keyword arguments.\n",
      "Positional arguments ['self', 'name', 'low', 'high', 'step', 'log'] in suggest_int() have been deprecated since v3.5.0. They will be replaced with the corresponding keyword arguments in v5.0.0, so please use the keyword specification instead. See https://github.com/optuna/optuna/releases/tag/v3.5.0 for details.\n",
      "  'n_estimators': trial.suggest_int('n_estimators', 10, 50, 1),\n",
      "/var/folders/dp/2nhmtbqj49v3st8xl2stwglw0000gn/T/ipykernel_57922/4018334785.py:9: FutureWarning: suggest_int() got {'step'} as positional arguments but they were expected to be given as keyword arguments.\n",
      "Positional arguments ['self', 'name', 'low', 'high', 'step', 'log'] in suggest_int() have been deprecated since v3.5.0. They will be replaced with the corresponding keyword arguments in v5.0.0, so please use the keyword specification instead. See https://github.com/optuna/optuna/releases/tag/v3.5.0 for details.\n",
      "  'max_depth': trial.suggest_int('max_depth', 1, 20, 1),\n",
      "/var/folders/dp/2nhmtbqj49v3st8xl2stwglw0000gn/T/ipykernel_57922/4018334785.py:10: FutureWarning: suggest_int() got {'step'} as positional arguments but they were expected to be given as keyword arguments.\n",
      "Positional arguments ['self', 'name', 'low', 'high', 'step', 'log'] in suggest_int() have been deprecated since v3.5.0. They will be replaced with the corresponding keyword arguments in v5.0.0, so please use the keyword specification instead. See https://github.com/optuna/optuna/releases/tag/v3.5.0 for details.\n",
      "  'min_samples_split': trial.suggest_int('min_samples_split', 2, 6, 1),\n",
      "/var/folders/dp/2nhmtbqj49v3st8xl2stwglw0000gn/T/ipykernel_57922/4018334785.py:11: FutureWarning: suggest_int() got {'step'} as positional arguments but they were expected to be given as keyword arguments.\n",
      "Positional arguments ['self', 'name', 'low', 'high', 'step', 'log'] in suggest_int() have been deprecated since v3.5.0. They will be replaced with the corresponding keyword arguments in v5.0.0, so please use the keyword specification instead. See https://github.com/optuna/optuna/releases/tag/v3.5.0 for details.\n",
      "  'min_samples_leaf': trial.suggest_int('min_samples_leaf', 1, 4, 1),\n",
      "2025/10/29 20:33:50 WARNING mlflow.utils.environment: Failed to resolve installed pip version. ``pip`` will be added to conda.yaml environment spec without a version specifier.\n",
      "[I 2025-10-29 20:33:51,353] Trial 94 finished with value: 5.027414256600556 and parameters: {'n_estimators': 49, 'max_depth': 15, 'min_samples_split': 6, 'min_samples_leaf': 2}. Best is trial 88 with value: 5.027414256600556.\n"
     ]
    },
    {
     "name": "stdout",
     "output_type": "stream",
     "text": [
      "🏃 View run flawless-moose-391 at: http://127.0.0.1:5000/#/experiments/3/runs/7e4dab43e9764ac9836801b9d5431d00\n",
      "🧪 View experiment at: http://127.0.0.1:5000/#/experiments/3\n"
     ]
    },
    {
     "name": "stderr",
     "output_type": "stream",
     "text": [
      "/var/folders/dp/2nhmtbqj49v3st8xl2stwglw0000gn/T/ipykernel_57922/4018334785.py:8: FutureWarning: suggest_int() got {'step'} as positional arguments but they were expected to be given as keyword arguments.\n",
      "Positional arguments ['self', 'name', 'low', 'high', 'step', 'log'] in suggest_int() have been deprecated since v3.5.0. They will be replaced with the corresponding keyword arguments in v5.0.0, so please use the keyword specification instead. See https://github.com/optuna/optuna/releases/tag/v3.5.0 for details.\n",
      "  'n_estimators': trial.suggest_int('n_estimators', 10, 50, 1),\n",
      "/var/folders/dp/2nhmtbqj49v3st8xl2stwglw0000gn/T/ipykernel_57922/4018334785.py:9: FutureWarning: suggest_int() got {'step'} as positional arguments but they were expected to be given as keyword arguments.\n",
      "Positional arguments ['self', 'name', 'low', 'high', 'step', 'log'] in suggest_int() have been deprecated since v3.5.0. They will be replaced with the corresponding keyword arguments in v5.0.0, so please use the keyword specification instead. See https://github.com/optuna/optuna/releases/tag/v3.5.0 for details.\n",
      "  'max_depth': trial.suggest_int('max_depth', 1, 20, 1),\n",
      "/var/folders/dp/2nhmtbqj49v3st8xl2stwglw0000gn/T/ipykernel_57922/4018334785.py:10: FutureWarning: suggest_int() got {'step'} as positional arguments but they were expected to be given as keyword arguments.\n",
      "Positional arguments ['self', 'name', 'low', 'high', 'step', 'log'] in suggest_int() have been deprecated since v3.5.0. They will be replaced with the corresponding keyword arguments in v5.0.0, so please use the keyword specification instead. See https://github.com/optuna/optuna/releases/tag/v3.5.0 for details.\n",
      "  'min_samples_split': trial.suggest_int('min_samples_split', 2, 6, 1),\n",
      "/var/folders/dp/2nhmtbqj49v3st8xl2stwglw0000gn/T/ipykernel_57922/4018334785.py:11: FutureWarning: suggest_int() got {'step'} as positional arguments but they were expected to be given as keyword arguments.\n",
      "Positional arguments ['self', 'name', 'low', 'high', 'step', 'log'] in suggest_int() have been deprecated since v3.5.0. They will be replaced with the corresponding keyword arguments in v5.0.0, so please use the keyword specification instead. See https://github.com/optuna/optuna/releases/tag/v3.5.0 for details.\n",
      "  'min_samples_leaf': trial.suggest_int('min_samples_leaf', 1, 4, 1),\n",
      "2025/10/29 20:33:53 WARNING mlflow.utils.environment: Failed to resolve installed pip version. ``pip`` will be added to conda.yaml environment spec without a version specifier.\n",
      "[I 2025-10-29 20:33:53,723] Trial 95 finished with value: 5.032612559949258 and parameters: {'n_estimators': 49, 'max_depth': 16, 'min_samples_split': 6, 'min_samples_leaf': 2}. Best is trial 88 with value: 5.027414256600556.\n"
     ]
    },
    {
     "name": "stdout",
     "output_type": "stream",
     "text": [
      "🏃 View run enchanting-duck-344 at: http://127.0.0.1:5000/#/experiments/3/runs/728bfb1c3a4042bea8a55e9b1ad0c6ed\n",
      "🧪 View experiment at: http://127.0.0.1:5000/#/experiments/3\n"
     ]
    },
    {
     "name": "stderr",
     "output_type": "stream",
     "text": [
      "/var/folders/dp/2nhmtbqj49v3st8xl2stwglw0000gn/T/ipykernel_57922/4018334785.py:8: FutureWarning: suggest_int() got {'step'} as positional arguments but they were expected to be given as keyword arguments.\n",
      "Positional arguments ['self', 'name', 'low', 'high', 'step', 'log'] in suggest_int() have been deprecated since v3.5.0. They will be replaced with the corresponding keyword arguments in v5.0.0, so please use the keyword specification instead. See https://github.com/optuna/optuna/releases/tag/v3.5.0 for details.\n",
      "  'n_estimators': trial.suggest_int('n_estimators', 10, 50, 1),\n",
      "/var/folders/dp/2nhmtbqj49v3st8xl2stwglw0000gn/T/ipykernel_57922/4018334785.py:9: FutureWarning: suggest_int() got {'step'} as positional arguments but they were expected to be given as keyword arguments.\n",
      "Positional arguments ['self', 'name', 'low', 'high', 'step', 'log'] in suggest_int() have been deprecated since v3.5.0. They will be replaced with the corresponding keyword arguments in v5.0.0, so please use the keyword specification instead. See https://github.com/optuna/optuna/releases/tag/v3.5.0 for details.\n",
      "  'max_depth': trial.suggest_int('max_depth', 1, 20, 1),\n",
      "/var/folders/dp/2nhmtbqj49v3st8xl2stwglw0000gn/T/ipykernel_57922/4018334785.py:10: FutureWarning: suggest_int() got {'step'} as positional arguments but they were expected to be given as keyword arguments.\n",
      "Positional arguments ['self', 'name', 'low', 'high', 'step', 'log'] in suggest_int() have been deprecated since v3.5.0. They will be replaced with the corresponding keyword arguments in v5.0.0, so please use the keyword specification instead. See https://github.com/optuna/optuna/releases/tag/v3.5.0 for details.\n",
      "  'min_samples_split': trial.suggest_int('min_samples_split', 2, 6, 1),\n",
      "/var/folders/dp/2nhmtbqj49v3st8xl2stwglw0000gn/T/ipykernel_57922/4018334785.py:11: FutureWarning: suggest_int() got {'step'} as positional arguments but they were expected to be given as keyword arguments.\n",
      "Positional arguments ['self', 'name', 'low', 'high', 'step', 'log'] in suggest_int() have been deprecated since v3.5.0. They will be replaced with the corresponding keyword arguments in v5.0.0, so please use the keyword specification instead. See https://github.com/optuna/optuna/releases/tag/v3.5.0 for details.\n",
      "  'min_samples_leaf': trial.suggest_int('min_samples_leaf', 1, 4, 1),\n",
      "2025/10/29 20:33:55 WARNING mlflow.utils.environment: Failed to resolve installed pip version. ``pip`` will be added to conda.yaml environment spec without a version specifier.\n",
      "[I 2025-10-29 20:33:55,941] Trial 96 finished with value: 5.027414256600556 and parameters: {'n_estimators': 49, 'max_depth': 15, 'min_samples_split': 6, 'min_samples_leaf': 2}. Best is trial 88 with value: 5.027414256600556.\n"
     ]
    },
    {
     "name": "stdout",
     "output_type": "stream",
     "text": [
      "🏃 View run powerful-croc-535 at: http://127.0.0.1:5000/#/experiments/3/runs/58c4fff33353461db9ff4d406d3f9992\n",
      "🧪 View experiment at: http://127.0.0.1:5000/#/experiments/3\n"
     ]
    },
    {
     "name": "stderr",
     "output_type": "stream",
     "text": [
      "/var/folders/dp/2nhmtbqj49v3st8xl2stwglw0000gn/T/ipykernel_57922/4018334785.py:8: FutureWarning: suggest_int() got {'step'} as positional arguments but they were expected to be given as keyword arguments.\n",
      "Positional arguments ['self', 'name', 'low', 'high', 'step', 'log'] in suggest_int() have been deprecated since v3.5.0. They will be replaced with the corresponding keyword arguments in v5.0.0, so please use the keyword specification instead. See https://github.com/optuna/optuna/releases/tag/v3.5.0 for details.\n",
      "  'n_estimators': trial.suggest_int('n_estimators', 10, 50, 1),\n",
      "/var/folders/dp/2nhmtbqj49v3st8xl2stwglw0000gn/T/ipykernel_57922/4018334785.py:9: FutureWarning: suggest_int() got {'step'} as positional arguments but they were expected to be given as keyword arguments.\n",
      "Positional arguments ['self', 'name', 'low', 'high', 'step', 'log'] in suggest_int() have been deprecated since v3.5.0. They will be replaced with the corresponding keyword arguments in v5.0.0, so please use the keyword specification instead. See https://github.com/optuna/optuna/releases/tag/v3.5.0 for details.\n",
      "  'max_depth': trial.suggest_int('max_depth', 1, 20, 1),\n",
      "/var/folders/dp/2nhmtbqj49v3st8xl2stwglw0000gn/T/ipykernel_57922/4018334785.py:10: FutureWarning: suggest_int() got {'step'} as positional arguments but they were expected to be given as keyword arguments.\n",
      "Positional arguments ['self', 'name', 'low', 'high', 'step', 'log'] in suggest_int() have been deprecated since v3.5.0. They will be replaced with the corresponding keyword arguments in v5.0.0, so please use the keyword specification instead. See https://github.com/optuna/optuna/releases/tag/v3.5.0 for details.\n",
      "  'min_samples_split': trial.suggest_int('min_samples_split', 2, 6, 1),\n",
      "/var/folders/dp/2nhmtbqj49v3st8xl2stwglw0000gn/T/ipykernel_57922/4018334785.py:11: FutureWarning: suggest_int() got {'step'} as positional arguments but they were expected to be given as keyword arguments.\n",
      "Positional arguments ['self', 'name', 'low', 'high', 'step', 'log'] in suggest_int() have been deprecated since v3.5.0. They will be replaced with the corresponding keyword arguments in v5.0.0, so please use the keyword specification instead. See https://github.com/optuna/optuna/releases/tag/v3.5.0 for details.\n",
      "  'min_samples_leaf': trial.suggest_int('min_samples_leaf', 1, 4, 1),\n",
      "2025/10/29 20:33:57 WARNING mlflow.utils.environment: Failed to resolve installed pip version. ``pip`` will be added to conda.yaml environment spec without a version specifier.\n",
      "[I 2025-10-29 20:33:58,149] Trial 97 finished with value: 5.027318916544711 and parameters: {'n_estimators': 50, 'max_depth': 15, 'min_samples_split': 6, 'min_samples_leaf': 2}. Best is trial 97 with value: 5.027318916544711.\n"
     ]
    },
    {
     "name": "stdout",
     "output_type": "stream",
     "text": [
      "🏃 View run angry-bear-584 at: http://127.0.0.1:5000/#/experiments/3/runs/276fd58a6fa94ff3b5ec1be00a0d4735\n",
      "🧪 View experiment at: http://127.0.0.1:5000/#/experiments/3\n"
     ]
    },
    {
     "name": "stderr",
     "output_type": "stream",
     "text": [
      "/var/folders/dp/2nhmtbqj49v3st8xl2stwglw0000gn/T/ipykernel_57922/4018334785.py:8: FutureWarning: suggest_int() got {'step'} as positional arguments but they were expected to be given as keyword arguments.\n",
      "Positional arguments ['self', 'name', 'low', 'high', 'step', 'log'] in suggest_int() have been deprecated since v3.5.0. They will be replaced with the corresponding keyword arguments in v5.0.0, so please use the keyword specification instead. See https://github.com/optuna/optuna/releases/tag/v3.5.0 for details.\n",
      "  'n_estimators': trial.suggest_int('n_estimators', 10, 50, 1),\n",
      "/var/folders/dp/2nhmtbqj49v3st8xl2stwglw0000gn/T/ipykernel_57922/4018334785.py:9: FutureWarning: suggest_int() got {'step'} as positional arguments but they were expected to be given as keyword arguments.\n",
      "Positional arguments ['self', 'name', 'low', 'high', 'step', 'log'] in suggest_int() have been deprecated since v3.5.0. They will be replaced with the corresponding keyword arguments in v5.0.0, so please use the keyword specification instead. See https://github.com/optuna/optuna/releases/tag/v3.5.0 for details.\n",
      "  'max_depth': trial.suggest_int('max_depth', 1, 20, 1),\n",
      "/var/folders/dp/2nhmtbqj49v3st8xl2stwglw0000gn/T/ipykernel_57922/4018334785.py:10: FutureWarning: suggest_int() got {'step'} as positional arguments but they were expected to be given as keyword arguments.\n",
      "Positional arguments ['self', 'name', 'low', 'high', 'step', 'log'] in suggest_int() have been deprecated since v3.5.0. They will be replaced with the corresponding keyword arguments in v5.0.0, so please use the keyword specification instead. See https://github.com/optuna/optuna/releases/tag/v3.5.0 for details.\n",
      "  'min_samples_split': trial.suggest_int('min_samples_split', 2, 6, 1),\n",
      "/var/folders/dp/2nhmtbqj49v3st8xl2stwglw0000gn/T/ipykernel_57922/4018334785.py:11: FutureWarning: suggest_int() got {'step'} as positional arguments but they were expected to be given as keyword arguments.\n",
      "Positional arguments ['self', 'name', 'low', 'high', 'step', 'log'] in suggest_int() have been deprecated since v3.5.0. They will be replaced with the corresponding keyword arguments in v5.0.0, so please use the keyword specification instead. See https://github.com/optuna/optuna/releases/tag/v3.5.0 for details.\n",
      "  'min_samples_leaf': trial.suggest_int('min_samples_leaf', 1, 4, 1),\n",
      "2025/10/29 20:33:59 WARNING mlflow.utils.environment: Failed to resolve installed pip version. ``pip`` will be added to conda.yaml environment spec without a version specifier.\n",
      "[I 2025-10-29 20:34:01,295] Trial 98 finished with value: 5.056419531294807 and parameters: {'n_estimators': 50, 'max_depth': 18, 'min_samples_split': 5, 'min_samples_leaf': 2}. Best is trial 97 with value: 5.027318916544711.\n"
     ]
    },
    {
     "name": "stdout",
     "output_type": "stream",
     "text": [
      "🏃 View run tasteful-skink-44 at: http://127.0.0.1:5000/#/experiments/3/runs/a5563eddf8ca4f378cb75e456c342ead\n",
      "🧪 View experiment at: http://127.0.0.1:5000/#/experiments/3\n"
     ]
    },
    {
     "name": "stderr",
     "output_type": "stream",
     "text": [
      "/var/folders/dp/2nhmtbqj49v3st8xl2stwglw0000gn/T/ipykernel_57922/4018334785.py:8: FutureWarning: suggest_int() got {'step'} as positional arguments but they were expected to be given as keyword arguments.\n",
      "Positional arguments ['self', 'name', 'low', 'high', 'step', 'log'] in suggest_int() have been deprecated since v3.5.0. They will be replaced with the corresponding keyword arguments in v5.0.0, so please use the keyword specification instead. See https://github.com/optuna/optuna/releases/tag/v3.5.0 for details.\n",
      "  'n_estimators': trial.suggest_int('n_estimators', 10, 50, 1),\n",
      "/var/folders/dp/2nhmtbqj49v3st8xl2stwglw0000gn/T/ipykernel_57922/4018334785.py:9: FutureWarning: suggest_int() got {'step'} as positional arguments but they were expected to be given as keyword arguments.\n",
      "Positional arguments ['self', 'name', 'low', 'high', 'step', 'log'] in suggest_int() have been deprecated since v3.5.0. They will be replaced with the corresponding keyword arguments in v5.0.0, so please use the keyword specification instead. See https://github.com/optuna/optuna/releases/tag/v3.5.0 for details.\n",
      "  'max_depth': trial.suggest_int('max_depth', 1, 20, 1),\n",
      "/var/folders/dp/2nhmtbqj49v3st8xl2stwglw0000gn/T/ipykernel_57922/4018334785.py:10: FutureWarning: suggest_int() got {'step'} as positional arguments but they were expected to be given as keyword arguments.\n",
      "Positional arguments ['self', 'name', 'low', 'high', 'step', 'log'] in suggest_int() have been deprecated since v3.5.0. They will be replaced with the corresponding keyword arguments in v5.0.0, so please use the keyword specification instead. See https://github.com/optuna/optuna/releases/tag/v3.5.0 for details.\n",
      "  'min_samples_split': trial.suggest_int('min_samples_split', 2, 6, 1),\n",
      "/var/folders/dp/2nhmtbqj49v3st8xl2stwglw0000gn/T/ipykernel_57922/4018334785.py:11: FutureWarning: suggest_int() got {'step'} as positional arguments but they were expected to be given as keyword arguments.\n",
      "Positional arguments ['self', 'name', 'low', 'high', 'step', 'log'] in suggest_int() have been deprecated since v3.5.0. They will be replaced with the corresponding keyword arguments in v5.0.0, so please use the keyword specification instead. See https://github.com/optuna/optuna/releases/tag/v3.5.0 for details.\n",
      "  'min_samples_leaf': trial.suggest_int('min_samples_leaf', 1, 4, 1),\n",
      "2025/10/29 20:34:02 WARNING mlflow.utils.environment: Failed to resolve installed pip version. ``pip`` will be added to conda.yaml environment spec without a version specifier.\n",
      "[I 2025-10-29 20:34:03,865] Trial 99 finished with value: 5.041852399006986 and parameters: {'n_estimators': 49, 'max_depth': 17, 'min_samples_split': 6, 'min_samples_leaf': 2}. Best is trial 97 with value: 5.027318916544711.\n"
     ]
    },
    {
     "name": "stdout",
     "output_type": "stream",
     "text": [
      "🏃 View run caring-koi-886 at: http://127.0.0.1:5000/#/experiments/3/runs/fc4e33acdc664eb5bd682bc66ed1397c\n",
      "🧪 View experiment at: http://127.0.0.1:5000/#/experiments/3\n"
     ]
    }
   ],
   "source": [
    "import optuna\n",
    "\n",
    "mlflow.set_experiment(\"nyc-taxi-experiment-optuna\")\n",
    "\n",
    "def objective(trial):\n",
    "    with mlflow.start_run():\n",
    "        params = {\n",
    "            'n_estimators': trial.suggest_int('n_estimators', 10, 50, 1),\n",
    "            'max_depth': trial.suggest_int('max_depth', 1, 20, 1),\n",
    "            'min_samples_split': trial.suggest_int('min_samples_split', 2, 6, 1),\n",
    "            'min_samples_leaf': trial.suggest_int('min_samples_leaf', 1, 4, 1),\n",
    "            'random_state': 42,\n",
    "            'n_jobs': -1\n",
    "        }\n",
    "        mlflow.log_params(params)\n",
    "\n",
    "        rf = RandomForestRegressor(**params)\n",
    "        rf.fit(X_train, y_train)\n",
    "        y_pred = rf.predict(X_val)\n",
    "        rmse = np.sqrt(mean_squared_error(y_val, y_pred))\n",
    "        mlflow.log_metric(\"rmse\", rmse)\n",
    "\n",
    "    return rmse\n",
    "\n",
    "sampler = optuna.samplers.TPESampler(seed=42)\n",
    "study = optuna.create_study(direction=\"minimize\", sampler=sampler)\n",
    "study.optimize(objective, n_trials=100)"
   ]
  },
  {
   "cell_type": "markdown",
   "metadata": {},
   "source": [
    "## **Explorando la MLflow UI**\n",
    "\n",
    "Ahora que hemos ejecutado la optimización, vamos a explorar la interfaz de MLflow:\n",
    "\n",
    "1. **Experimentos**: Ve a la pestaña \"Experiments\" para ver todos los experimentos\n",
    "2. **Runs**: Cada trial de Optuna aparece como un run individual\n",
    "3. **Métricas**: Compara el RMSE de todos los trials\n",
    "4. **Parámetros**: Ve cómo varían los hiperparámetros\n",
    "5. **Model Registry**: Encuentra el modelo registrado en \"Models\"\n",
    "\n",
    "### **Qué buscar en la UI:**\n",
    "- El run con el menor RMSE (mejor modelo)\n",
    "- La evolución de las métricas a lo largo de los trials\n",
    "- La importancia de cada hiperparámetro\n",
    "- Los artefactos del modelo registrado"
   ]
  },
  {
   "cell_type": "markdown",
   "metadata": {},
   "source": [
    "## **Mejor modelo**"
   ]
  },
  {
   "cell_type": "markdown",
   "metadata": {},
   "source": [
    "Cuando tenemos el mejor modelo, lo entrenamos de nuevo para despues usarlo."
   ]
  },
  {
   "cell_type": "code",
   "execution_count": 13,
   "metadata": {},
   "outputs": [
    {
     "name": "stderr",
     "output_type": "stream",
     "text": [
      "2025/10/29 20:34:03 INFO mlflow.utils.autologging_utils: Created MLflow autologging run with ID '575e133ab7c44c2485492b0fe5956fbd', which will track hyperparameters, performance metrics, model artifacts, and lineage information for the current sklearn workflow\n"
     ]
    },
    {
     "name": "stdout",
     "output_type": "stream",
     "text": [
      "Best trial: 97\n",
      "Best value (RMSE): 5.0273\n",
      "Best params:\n",
      "  n_estimators: 50\n",
      "  max_depth: 15\n",
      "  min_samples_split: 6\n",
      "  min_samples_leaf: 2\n"
     ]
    },
    {
     "name": "stderr",
     "output_type": "stream",
     "text": [
      "2025/10/29 20:34:07 WARNING mlflow.utils.environment: Failed to resolve installed pip version. ``pip`` will be added to conda.yaml environment spec without a version specifier.\n"
     ]
    },
    {
     "name": "stdout",
     "output_type": "stream",
     "text": [
      "🏃 View run stylish-goat-870 at: http://127.0.0.1:5000/#/experiments/3/runs/575e133ab7c44c2485492b0fe5956fbd\n",
      "🧪 View experiment at: http://127.0.0.1:5000/#/experiments/3\n",
      "\n",
      "Best model RMSE: 5.0356\n"
     ]
    }
   ],
   "source": [
    "# Analyze the best trial\n",
    "print(f\"Best trial: {study.best_trial.number}\")\n",
    "print(f\"Best value (RMSE): {study.best_value:.4f}\")\n",
    "print(\"Best params:\")\n",
    "for key, value in study.best_params.items():\n",
    "    print(f\"  {key}: {value}\")\n",
    "\n",
    "# Train the best model\n",
    "best_params = study.best_params\n",
    "best_model = RandomForestRegressor(**best_params)\n",
    "best_model.fit(X_train, y_train)\n",
    "y_pred_best = best_model.predict(X_val)\n",
    "rmse_best = np.sqrt(mean_squared_error(y_val, y_pred_best))\n",
    "\n",
    "print(f\"\\nBest model RMSE: {rmse_best:.4f}\")"
   ]
  },
  {
   "cell_type": "markdown",
   "metadata": {},
   "source": [
    "## **Visualizando la optimización de optuna**"
   ]
  },
  {
   "cell_type": "code",
   "execution_count": 14,
   "metadata": {},
   "outputs": [
    {
     "name": "stderr",
     "output_type": "stream",
     "text": [
      "/var/folders/dp/2nhmtbqj49v3st8xl2stwglw0000gn/T/ipykernel_57922/602149405.py:6: ExperimentalWarning: optuna.visualization.matplotlib._optimization_history.plot_optimization_history is experimental (supported from v2.2.0). The interface can change in the future.\n",
      "  optuna.visualization.matplotlib.plot_optimization_history(study)\n"
     ]
    },
    {
     "data": {
      "text/plain": [
       "<Axes: title={'center': 'Optimization History Plot'}, xlabel='Trial', ylabel='Objective Value'>"
      ]
     },
     "execution_count": 14,
     "metadata": {},
     "output_type": "execute_result"
    },
    {
     "data": {
      "image/png": "[encoded data removed]",
      "text/plain": [
       "<Figure size 640x480 with 1 Axes>"
      ]
     },
     "metadata": {},
     "output_type": "display_data"
    }
   ],
   "source": [
    "# Visualize optimization history\n",
    "import matplotlib.pyplot as plt\n",
    "\n",
    "\n",
    "# Optimization history\n",
    "optuna.visualization.matplotlib.plot_optimization_history(study)\n",
    "\n"
   ]
  },
  {
   "cell_type": "code",
   "execution_count": 15,
   "metadata": {},
   "outputs": [
    {
     "name": "stderr",
     "output_type": "stream",
     "text": [
      "/var/folders/dp/2nhmtbqj49v3st8xl2stwglw0000gn/T/ipykernel_57922/82623574.py:1: ExperimentalWarning: optuna.visualization.matplotlib._param_importances.plot_param_importances is experimental (supported from v2.2.0). The interface can change in the future.\n",
      "  optuna.visualization.matplotlib.plot_param_importances(study)\n",
      "2025/10/29 20:34:11 INFO mlflow.utils.autologging_utils: Created MLflow autologging run with ID '2615d3e9058c4ed7a11adb12e2169aee', which will track hyperparameters, performance metrics, model artifacts, and lineage information for the current sklearn workflow\n",
      "2025/10/29 20:34:12 WARNING mlflow.utils.environment: Failed to resolve installed pip version. ``pip`` will be added to conda.yaml environment spec without a version specifier.\n"
     ]
    },
    {
     "name": "stdout",
     "output_type": "stream",
     "text": [
      "🏃 View run enthused-bee-252 at: http://127.0.0.1:5000/#/experiments/3/runs/2615d3e9058c4ed7a11adb12e2169aee\n",
      "🧪 View experiment at: http://127.0.0.1:5000/#/experiments/3\n"
     ]
    },
    {
     "data": {
      "text/plain": [
       "<Axes: title={'left': 'Hyperparameter Importances'}, xlabel='Hyperparameter Importance', ylabel='Hyperparameter'>"
      ]
     },
     "execution_count": 15,
     "metadata": {},
     "output_type": "execute_result"
    },
    {
     "data": {
      "image/png": "[encoded data removed]",
      "text/plain": [
       "<Figure size 640x480 with 1 Axes>"
      ]
     },
     "metadata": {},
     "output_type": "display_data"
    }
   ],
   "source": [
    "optuna.visualization.matplotlib.plot_param_importances(study)\n"
   ]
  },
  {
   "cell_type": "markdown",
   "metadata": {},
   "source": [
    "# **Usando el model registry para guardar el mejor modelo y \"ponerlo\" en producción**"
   ]
  },
  {
   "cell_type": "markdown",
   "metadata": {},
   "source": []
  },
  {
   "cell_type": "markdown",
   "metadata": {},
   "source": [
    "Podemos usar autlog de sklearn para captar la mayor cantidad de parametros y asi tener un modelo altamente replicable"
   ]
  },
  {
   "cell_type": "markdown",
   "metadata": {},
   "source": [
    "La importancia del model registry es ya no solamente pensar en la experimentación, sino que al final, después de haber encontrado el mejor modelo pushearlo a nuestro model registry y poder usarlo en producción."
   ]
  },
  {
   "cell_type": "code",
   "execution_count": 16,
   "metadata": {},
   "outputs": [
    {
     "name": "stderr",
     "output_type": "stream",
     "text": [
      "2025/10/29 20:34:12 WARNING mlflow.models.model: `artifact_path` is deprecated. Please use `name` instead.\n",
      "2025/10/29 20:34:13 WARNING mlflow.utils.environment: Failed to resolve installed pip version. ``pip`` will be added to conda.yaml environment spec without a version specifier.\n",
      "\u001b[31m2025/10/29 20:34:13 WARNING mlflow.models.model: Model logged without a signature and input example. Please set `input_example` parameter when logging the model to auto infer the model signature.\u001b[0m\n",
      "Successfully registered model 'nyc-taxi-rf-optimized'.\n",
      "2025/10/29 20:34:14 INFO mlflow.store.model_registry.abstract_store: Waiting up to 300 seconds for model version to finish creation. Model name: nyc-taxi-rf-optimized, version 1\n",
      "Created version '1' of model 'nyc-taxi-rf-optimized'.\n",
      "2025/10/29 20:34:14 WARNING mlflow.models.model: `artifact_path` is deprecated. Please use `name` instead.\n",
      "2025/10/29 20:34:14 WARNING mlflow.sklearn: Model was missing function: predict. Not logging python_function flavor!\n",
      "2025/10/29 20:34:15 WARNING mlflow.utils.environment: Failed to resolve installed pip version. ``pip`` will be added to conda.yaml environment spec without a version specifier.\n",
      "\u001b[31m2025/10/29 20:34:15 WARNING mlflow.models.model: Model logged without a signature and input example. Please set `input_example` parameter when logging the model to auto infer the model signature.\u001b[0m\n",
      "Successfully registered model 'nyc-taxi-preprocessor'.\n",
      "2025/10/29 20:34:15 INFO mlflow.store.model_registry.abstract_store: Waiting up to 300 seconds for model version to finish creation. Model name: nyc-taxi-preprocessor, version 1\n"
     ]
    },
    {
     "name": "stdout",
     "output_type": "stream",
     "text": [
      "🏃 View run honorable-foal-30 at: http://127.0.0.1:5000/#/experiments/3/runs/f05952dcac12444dbb0a811aca987d49\n",
      "🧪 View experiment at: http://127.0.0.1:5000/#/experiments/3\n"
     ]
    },
    {
     "name": "stderr",
     "output_type": "stream",
     "text": [
      "Created version '1' of model 'nyc-taxi-preprocessor'.\n"
     ]
    }
   ],
   "source": [
    "# Register the best model\n",
    "with mlflow.start_run(run_id=study.best_trial.user_attrs.get('mlflow_run_id')):\n",
    "    # Log the model\n",
    "    mlflow.sklearn.log_model(\n",
    "        best_model, \n",
    "        \"model\",\n",
    "        registered_model_name=\"nyc-taxi-rf-optimized\"\n",
    "    )\n",
    "    \n",
    "    # Log preprocessing pipeline\n",
    "    mlflow.sklearn.log_model(\n",
    "        preprocessor, \n",
    "        \"preprocessor\",\n",
    "        registered_model_name=\"nyc-taxi-preprocessor\"\n",
    "    )"
   ]
  }
 ],
 "metadata": {
  "kernelspec": {
   "display_name": ".venv",
   "language": "python",
   "name": "python3"
  },
  "language_info": {
   "codemirror_mode": {
    "name": "ipython",
    "version": 3
   },
   "file_extension": ".py",
   "mimetype": "text/x-python",
   "name": "python",
   "nbconvert_exporter": "python",
   "pygments_lexer": "ipython3",
   "version": "3.11.14"
  }
 },
 "nbformat": 4,
 "nbformat_minor": 4
}
