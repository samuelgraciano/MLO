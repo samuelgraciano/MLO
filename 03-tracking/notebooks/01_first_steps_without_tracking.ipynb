{
 "cells": [
  {
   "cell_type": "code",
   "execution_count": 1,
   "id": "a28377ec",
   "metadata": {},
   "outputs": [],
   "source": [
    "import os\n",
    "import pandas as pd\n",
    "from sklearn.feature_extraction import DictVectorizer\n",
    "import pickle"
   ]
  },
  {
   "cell_type": "markdown",
   "id": "8121d357",
   "metadata": {},
   "source": [
    "## **Cargamos datos \"procesados\"**"
   ]
  },
  {
   "cell_type": "code",
   "execution_count": 2,
   "id": "99543959",
   "metadata": {},
   "outputs": [],
   "source": [
    "df_jan = pd.read_parquet(\"data/processed/jan.parquet\")\n",
    "df_feb = pd.read_parquet(\"data/processed/feb.parquet\")\n"
   ]
  },
  {
   "cell_type": "markdown",
   "id": "7dfbadb4",
   "metadata": {},
   "source": [
    "## **EDA**"
   ]
  },
  {
   "cell_type": "markdown",
   "id": "77f690c8",
   "metadata": {},
   "source": [
    "-------\n",
    "\n",
    "ACA DEBERIA HABER UN EDA\n",
    "\n",
    "-------\n",
    "\n"
   ]
  },
  {
   "cell_type": "markdown",
   "id": "4a0624a0",
   "metadata": {},
   "source": [
    "## **Definir columnas a modelar**"
   ]
  },
  {
   "cell_type": "code",
   "execution_count": 3,
   "id": "e7d0c0fa",
   "metadata": {},
   "outputs": [],
   "source": [
    "categorical = ['PULocationID', 'DOLocationID']\n",
    "numerical = [\"trip_distance\"]"
   ]
  },
  {
   "cell_type": "markdown",
   "id": "a9b2964e",
   "metadata": {},
   "source": [
    "## Definir set de train y test"
   ]
  },
  {
   "cell_type": "code",
   "execution_count": 4,
   "id": "f20ea95a",
   "metadata": {},
   "outputs": [],
   "source": [
    "df_train = df_jan\n",
    "df_val = df_feb"
   ]
  },
  {
   "cell_type": "markdown",
   "id": "7d7298af",
   "metadata": {},
   "source": [
    "## **Preprocesar**"
   ]
  },
  {
   "cell_type": "code",
   "execution_count": null,
   "id": "702e7c02",
   "metadata": {},
   "outputs": [],
   "source": [
    "from sklearn.feature_extraction import DictVectorizer\n",
    "from sklearn.compose import ColumnTransformer\n",
    "from sklearn.preprocessing import StandardScaler\n",
    "from sklearn.impute import SimpleImputer\n",
    "from sklearn.pipeline import Pipeline\n",
    "\n",
    "df_train = df_train.copy()\n",
    "df_val   = df_val.copy()\n",
    "df_train[\"categorical_dict\"] = df_train[categorical].to_dict(orient=\"records\")\n",
    "df_val[\"categorical_dict\"]   = df_val[categorical].to_dict(orient=\"records\")\n",
    "\n",
    "preprocessor = ColumnTransformer(\n",
    "    transformers=[\n",
    "        (\"cat\", DictVectorizer(), \"categorical_dict\"),\n",
    "        (\"num\", Pipeline([(\"imputer\", SimpleImputer(strategy=\"median\")),\n",
    "                          (\"scaler\", StandardScaler())]), numerical),\n",
    "    ]\n",
    ")\n",
    "\n",
    "X_train = preprocessor.fit_transform(df_train)\n",
    "y_train = df_train[\"duration\"].values\n",
    "X_val   = preprocessor.transform(df_val)\n",
    "y_val   = df_val[\"duration\"].values\n",
    "\n"
   ]
  },
  {
   "cell_type": "markdown",
   "id": "723afe33",
   "metadata": {},
   "source": [
    "## **Entrenar**"
   ]
  },
  {
   "cell_type": "code",
   "execution_count": 6,
   "id": "ab60d3e6",
   "metadata": {},
   "outputs": [],
   "source": [
    "from sklearn.ensemble import RandomForestRegressor\n",
    "\n",
    "rf = RandomForestRegressor(n_estimators=100, random_state=0, max_depth=10)\n",
    "\n",
    "rf.fit(X_train, y_train)\n",
    "\n",
    "y_pred = rf.predict(X_val)\n"
   ]
  },
  {
   "cell_type": "markdown",
   "id": "e097b06f",
   "metadata": {},
   "source": [
    "## **Metricas de modelado**"
   ]
  },
  {
   "cell_type": "code",
   "execution_count": 7,
   "id": "06c7cbb3",
   "metadata": {},
   "outputs": [],
   "source": [
    "from sklearn.metrics import root_mean_squared_error\n",
    "\n",
    "\n",
    "rmse = root_mean_squared_error(y_val, y_pred)"
   ]
  },
  {
   "cell_type": "code",
   "execution_count": 8,
   "id": "a470580e",
   "metadata": {},
   "outputs": [
    {
     "data": {
      "text/plain": [
       "5.137713717868471"
      ]
     },
     "execution_count": 8,
     "metadata": {},
     "output_type": "execute_result"
    }
   ],
   "source": [
    "rmse"
   ]
  },
  {
   "cell_type": "markdown",
   "id": "9cbee21f",
   "metadata": {},
   "source": [
    "## **Next Steps**"
   ]
  },
  {
   "cell_type": "markdown",
   "id": "29c1a933",
   "metadata": {},
   "source": [
    "1. Probar más variables? \n",
    "2. Crear features a partir de otras\n",
    "3. Probar otros modelos\n",
    "4. Por cada experimento guardar en un notebook y guardar todo en excel\n"
   ]
  }
 ],
 "metadata": {
  "kernelspec": {
   "display_name": ".venv",
   "language": "python",
   "name": "python3"
  },
  "language_info": {
   "codemirror_mode": {
    "name": "ipython",
    "version": 3
   },
   "file_extension": ".py",
   "mimetype": "text/x-python",
   "name": "python",
   "nbconvert_exporter": "python",
   "pygments_lexer": "ipython3",
   "version": "3.11.14"
  }
 },
 "nbformat": 4,
 "nbformat_minor": 5
}
