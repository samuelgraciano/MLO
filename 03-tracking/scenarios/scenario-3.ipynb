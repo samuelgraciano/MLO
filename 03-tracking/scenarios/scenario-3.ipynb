{
 "cells": [
  {
   "cell_type": "markdown",
   "metadata": {},
   "source": [
    "## **Escenario 3: Equipo de ML Distribuido con Infraestructura en la Nube**\n",
    "\n",
    "### **Contexto del Escenario**\n",
    "Este notebook simula un entorno de producción donde múltiples científicos de datos trabajan en múltiples modelos de ML desde diferentes ubicaciones, utilizando una infraestructura completamente distribuida en la nube.\n",
    "\n",
    "### **Configuración de MLflow Enterprise**\n",
    "- **Tracking server**: Servidor remoto en EC2 (AWS)\n",
    "- **Backend store**: Base de datos PostgreSQL\n",
    "- **Artifacts store**: Bucket S3 de AWS\n",
    "- **Model Registry**: Completamente funcional para gestión de modelos\n"
   ]
  },
  {
   "cell_type": "markdown",
   "metadata": {},
   "source": [
    "## **Requisitos Previos**\n",
    "\n",
    "### **Infraestructura AWS**\n",
    "Para ejecutar este ejemplo necesitarás:\n",
    "- Una cuenta de AWS activa\n",
    "- Configuración de credenciales AWS\n",
    "- Instancia EC2 ejecutando el servidor MLflow\n",
    "- Base de datos PostgreSQL configurada\n",
    "- Bucket S3 para almacenamiento de artifacts"
   ]
  },
  {
   "cell_type": "markdown",
   "metadata": {},
   "source": [
    "## **Configuración de cliente**"
   ]
  },
  {
   "cell_type": "code",
   "execution_count": null,
   "metadata": {},
   "outputs": [],
   "source": [
    "import mlflow\n",
    "import os\n",
    "\n",
    "os.environ[\"AWS_PROFILE\"] = \"\" # fill in with your AWS profile. More info: https://docs.aws.amazon.com/sdk-for-java/latest/developer-guide/setup.html#setup-credentials\n",
    "\n",
    "TRACKING_SERVER_HOST = \"\" # fill in with the public DNS of the EC2 instance\n",
    "mlflow.set_tracking_uri(f\"http://{TRACKING_SERVER_HOST}:5000\")"
   ]
  },
  {
   "cell_type": "code",
   "execution_count": null,
   "metadata": {},
   "outputs": [],
   "source": [
    "print(f\"tracking URI: '{mlflow.get_tracking_uri()}'\")"
   ]
  },
  {
   "cell_type": "code",
   "execution_count": null,
   "metadata": {},
   "outputs": [],
   "source": [
    "mlflow.search_experiments() # list_experiments API has been removed, you can use search_experiments instead.()"
   ]
  },
  {
   "cell_type": "code",
   "execution_count": null,
   "metadata": {},
   "outputs": [],
   "source": [
    "from sklearn.linear_model import LogisticRegression\n",
    "from sklearn.datasets import load_iris\n",
    "from sklearn.metrics import accuracy_score\n",
    "\n",
    "mlflow.set_experiment(\"my-experiment-1\")\n",
    "\n",
    "with mlflow.start_run():\n",
    "\n",
    "    X, y = load_iris(return_X_y=True)\n",
    "\n",
    "    params = {\"C\": 0.1, \"random_state\": 42}\n",
    "    mlflow.log_params(params)\n",
    "\n",
    "    lr = LogisticRegression(**params).fit(X, y)\n",
    "    y_pred = lr.predict(X)\n",
    "    mlflow.log_metric(\"accuracy\", accuracy_score(y, y_pred))\n",
    "\n",
    "    mlflow.sklearn.log_model(lr, artifact_path=\"models\")\n",
    "    print(f\"default artifacts URI: '{mlflow.get_artifact_uri()}'\")"
   ]
  },
  {
   "cell_type": "code",
   "execution_count": null,
   "metadata": {},
   "outputs": [],
   "source": [
    "mlflow.search_experiments()"
   ]
  },
  {
   "cell_type": "markdown",
   "metadata": {},
   "source": [
    "Interacción con el Model Registry"
   ]
  },
  {
   "cell_type": "code",
   "execution_count": null,
   "metadata": {},
   "outputs": [],
   "source": [
    "from mlflow.tracking import MlflowClient\n",
    "\n",
    "\n",
    "client = MlflowClient(f\"http://{TRACKING_SERVER_HOST}:5000\")"
   ]
  },
  {
   "cell_type": "code",
   "execution_count": null,
   "metadata": {},
   "outputs": [],
   "source": [
    "client.search_registered_models()"
   ]
  },
  {
   "cell_type": "code",
   "execution_count": null,
   "metadata": {},
   "outputs": [],
   "source": [
    "run_id = client.search_runs(experiment_ids=['1'])[0].info.run_id\n",
    "mlflow.register_model(\n",
    "    model_uri=f\"runs:/{run_id}/models\",\n",
    "    name='iris-classifier'\n",
    ")"
   ]
  },
  {
   "cell_type": "markdown",
   "metadata": {},
   "source": [
    "## **Diferencias con Escenarios Anteriores**\n",
    "\n",
    "### **Escenario 1 (Local)**\n",
    "- Archivos locales, sin servidor\n",
    "- Sin colaboración, uso individual\n",
    "\n",
    "### **Escenario 2 (Servidor Local)**\n",
    "- Servidor local con SQLite\n",
    "- Colaboración limitada a red local\n",
    "\n",
    "### **Escenario 3 (Nube)**\n",
    "- Servidor remoto en EC2\n",
    "- Colaboración global, acceso desde cualquier lugar\n",
    "- Infraestructura escalable y robusta\n",
    "\n",
    "---\n",
    "\n",
    "## **Ventajas del Escenario 3**\n",
    "\n",
    "1. **Colaboración Global**: Equipos distribuidos pueden trabajar desde cualquier ubicación\n",
    "2. **Escalabilidad**: Infraestructura que crece con las necesidades del equipo\n",
    "3. **Confiabilidad**: Base de datos PostgreSQL robusta y almacenamiento S3 duradero\n",
    "4. **Seguridad**: Control de acceso a nivel de AWS IAM\n",
    "5. **Integración**: Fácil integración con pipelines de CI/CD y herramientas de DevOps\n",
    "6. **Monitoreo**: Logs y métricas de infraestructura disponibles en CloudWatch"
   ]
  },
  {
   "cell_type": "markdown",
   "metadata": {},
   "source": []
  }
 ],
 "metadata": {
  "interpreter": {
   "hash": "0848c9d6c7d415ad6c477ff7ff8e98694d1a4aa96d0deee89244642e6b630036"
  },
  "kernelspec": {
   "display_name": "Python 3.9.12 ('exp-tracking-env')",
   "language": "python",
   "name": "python3"
  },
  "language_info": {
   "codemirror_mode": {
    "name": "ipython",
    "version": 3
   },
   "file_extension": ".py",
   "mimetype": "text/x-python",
   "name": "python",
   "nbconvert_exporter": "python",
   "pygments_lexer": "ipython3",
   "version": "3.9.12"
  },
  "orig_nbformat": 4
 },
 "nbformat": 4,
 "nbformat_minor": 2
}
