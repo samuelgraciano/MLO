{
 "cells": [
  {
   "cell_type": "markdown",
   "metadata": {},
   "source": [
    "## Escenario 2: Este notebook simula un entorno de trabajo colaborativo donde un equipo de machine learning utiliza un servidor MLflow compartido para experimentar y registrar modelos.\n",
    "\n",
    "MLflow setup:\n",
    "- tracking server: con server local\n",
    "- backend store: sqlite database\n",
    "- artifacts store: sistema de archivos local\n",
    "- Model Registry: Habilitado para gestión de modelos\n",
    "\n",
    "Los experimentos pueden ser explorados usando el tracking server.\n",
    "\n",
    "Antes de ejecutar este notebook, es necesario iniciar el servidor MLflow:\n",
    "\n",
    "`mlflow server --backend-store-uri sqlite:///backend.db`"
   ]
  },
  {
   "cell_type": "markdown",
   "metadata": {},
   "source": [
    "## Configuracion del tracking URI"
   ]
  },
  {
   "cell_type": "markdown",
   "metadata": {},
   "source": [
    "Conecta el cliente MLflow al servidor local en el puerto 5000.\n"
   ]
  },
  {
   "cell_type": "code",
   "execution_count": null,
   "metadata": {},
   "outputs": [],
   "source": [
    "import mlflow\n",
    "\n",
    "mlflow.set_tracking_uri(\"http://127.0.0.1:5000\")"
   ]
  },
  {
   "cell_type": "markdown",
   "metadata": {},
   "source": [
    "Confirma que la conexión al servidor se estableció correctamente."
   ]
  },
  {
   "cell_type": "code",
   "execution_count": 2,
   "metadata": {},
   "outputs": [
    {
     "name": "stdout",
     "output_type": "stream",
     "text": [
      "tracking URI: 'http://127.0.0.1:5000'\n"
     ]
    }
   ],
   "source": [
    "print(f\"tracking URI: '{mlflow.get_tracking_uri()}'\")"
   ]
  },
  {
   "cell_type": "markdown",
   "metadata": {},
   "source": [
    "## Listado de Experimentos Disponibles"
   ]
  },
  {
   "cell_type": "code",
   "execution_count": 3,
   "metadata": {},
   "outputs": [
    {
     "data": {
      "text/plain": [
       "[<Experiment: artifact_location='mlflow-artifacts:/0', creation_time=1758647875569, experiment_id='0', last_update_time=1758647875569, lifecycle_stage='active', name='Default', tags={}>]"
      ]
     },
     "execution_count": 3,
     "metadata": {},
     "output_type": "execute_result"
    }
   ],
   "source": [
    "mlflow.search_experiments()"
   ]
  },
  {
   "cell_type": "markdown",
   "metadata": {},
   "source": [
    "## Ejecución del Experimento"
   ]
  },
  {
   "cell_type": "code",
   "execution_count": null,
   "metadata": {},
   "outputs": [
    {
     "name": "stderr",
     "output_type": "stream",
     "text": [
      "2025/09/23 12:22:04 WARNING mlflow.models.model: `artifact_path` is deprecated. Please use `name` instead.\n",
      "2025/09/23 12:22:06 WARNING mlflow.utils.environment: Failed to resolve installed pip version. ``pip`` will be added to conda.yaml environment spec without a version specifier.\n"
     ]
    },
    {
     "name": "stdout",
     "output_type": "stream",
     "text": [
      "default artifacts URI: 'mlflow-artifacts:/1/302f649e6f4d4844a4df182aa5eaef94/artifacts'\n",
      "🏃 View run iris_classifier at: http://127.0.0.1:5000/#/experiments/1/runs/302f649e6f4d4844a4df182aa5eaef94\n",
      "🧪 View experiment at: http://127.0.0.1:5000/#/experiments/1\n"
     ]
    }
   ],
   "source": [
    "from sklearn.linear_model import LogisticRegression\n",
    "from sklearn.datasets import load_iris\n",
    "from sklearn.metrics import accuracy_score\n",
    "\n",
    "mlflow.set_experiment(\"iris-classifier\")\n",
    "\n",
    "with mlflow.start_run(run_name=\"iris_classifier\", tags={\"version\": \"1.0.0\"}):\n",
    "\n",
    "    X, y = load_iris(return_X_y=True)\n",
    "\n",
    "    params = {\"C\": 0.1, \"random_state\": 42}\n",
    "    mlflow.log_params(params)\n",
    "\n",
    "    lr = LogisticRegression(**params).fit(X, y)\n",
    "    y_pred = lr.predict(X)\n",
    "    mlflow.log_metric(\"accuracy\", accuracy_score(y, y_pred))\n",
    "\n",
    "    mlflow.sklearn.log_model(lr, artifact_path=\"models\", input_example=X[[0]])\n",
    "    mlflow.set_tags({\"version\": \"1.0.0\",\n",
    "                     \"developer\": \"Maria Durango\",\n",
    "                     \"model\": \"LogisticRegression\",\n",
    "                     \"dataset\": \"iris\"})\n",
    "\n",
    "    print(f\"default artifacts URI: '{mlflow.get_artifact_uri()}'\")"
   ]
  },
  {
   "cell_type": "markdown",
   "metadata": {},
   "source": [
    "## Resultados de la Ejecución\n",
    "\n",
    "La ejecución genera:\n",
    "- Un URI único para los artifacts\n",
    "- Enlaces directos al servidor MLflow para visualizar:\n",
    "    - La ejecución específica\n",
    "    - El experimento completo"
   ]
  },
  {
   "cell_type": "markdown",
   "metadata": {},
   "source": [
    "Ahora muestra dos experimentos:\n",
    "- \"Default\" (creado automáticamente)\n",
    "- \"my-experiment-1\" (nuestro experimento"
   ]
  },
  {
   "cell_type": "code",
   "execution_count": 7,
   "metadata": {},
   "outputs": [
    {
     "data": {
      "text/plain": [
       "[<Experiment: artifact_location='mlflow-artifacts:/1', creation_time=1758648004468, experiment_id='1', last_update_time=1758648004468, lifecycle_stage='active', name='iris-classifier', tags={}>,\n",
       " <Experiment: artifact_location='mlflow-artifacts:/0', creation_time=1758647875569, experiment_id='0', last_update_time=1758647875569, lifecycle_stage='active', name='Default', tags={}>]"
      ]
     },
     "execution_count": 7,
     "metadata": {},
     "output_type": "execute_result"
    }
   ],
   "source": [
    "mlflow.search_experiments()"
   ]
  },
  {
   "cell_type": "markdown",
   "metadata": {},
   "source": [
    "### Interactuando con el model registry"
   ]
  },
  {
   "cell_type": "markdown",
   "metadata": {},
   "source": [
    "Crea un cliente para interactuar con el servidor MLflow."
   ]
  },
  {
   "cell_type": "code",
   "execution_count": 8,
   "metadata": {},
   "outputs": [],
   "source": [
    "from mlflow.tracking import MlflowClient\n",
    "\n",
    "\n",
    "client = MlflowClient(\"http://127.0.0.1:5000\")"
   ]
  },
  {
   "cell_type": "markdown",
   "metadata": {},
   "source": [
    "Inicialmente retorna una lista vacía, indicando que no hay modelos registrados."
   ]
  },
  {
   "cell_type": "code",
   "execution_count": 9,
   "metadata": {},
   "outputs": [
    {
     "data": {
      "text/plain": [
       "[]"
      ]
     },
     "execution_count": 9,
     "metadata": {},
     "output_type": "execute_result"
    }
   ],
   "source": [
    "client.search_registered_models()"
   ]
  },
  {
   "cell_type": "markdown",
   "metadata": {},
   "source": [
    "## Model Registry"
   ]
  },
  {
   "cell_type": "markdown",
   "metadata": {},
   "source": [
    "1. Obtención del Run ID: Extrae el identificador de la ejecución más reciente\n",
    "2. Registro del modelo: Crea una entrada en el model registry con el nombre 'iris-classifier'\n",
    "3. Versionado: Automáticamente asigna la versión 1 al modelo"
   ]
  },
  {
   "cell_type": "code",
   "execution_count": 10,
   "metadata": {},
   "outputs": [
    {
     "data": {
      "text/plain": [
       "<RunInfo: artifact_uri='mlflow-artifacts:/1/302f649e6f4d4844a4df182aa5eaef94/artifacts', end_time=1758648126929, experiment_id='1', lifecycle_stage='active', run_id='302f649e6f4d4844a4df182aa5eaef94', run_name='iris_classifier', start_time=1758648124664, status='FINISHED', user_id='mdurango'>"
      ]
     },
     "execution_count": 10,
     "metadata": {},
     "output_type": "execute_result"
    }
   ],
   "source": [
    "client.search_runs(experiment_ids='1')[0].info"
   ]
  },
  {
   "cell_type": "code",
   "execution_count": 12,
   "metadata": {},
   "outputs": [
    {
     "name": "stderr",
     "output_type": "stream",
     "text": [
      "Registered model 'iris-classifier' already exists. Creating a new version of this model...\n",
      "2025/09/23 12:30:30 WARNING mlflow.tracking._model_registry.fluent: Run with id 302f649e6f4d4844a4df182aa5eaef94 has no artifacts at artifact path 'models', registering model based on models:/m-c88109816e9c49b79924c19ba3f957e7 instead\n",
      "2025/09/23 12:30:30 INFO mlflow.store.model_registry.abstract_store: Waiting up to 300 seconds for model version to finish creation. Model name: iris-classifier, version 2\n",
      "Created version '2' of model 'iris-classifier'.\n"
     ]
    },
    {
     "data": {
      "text/plain": [
       "<ModelVersion: aliases=[], creation_timestamp=1758648630081, current_stage='None', deployment_job_state=<ModelVersionDeploymentJobState: current_task_name='', job_id='', job_state='DEPLOYMENT_JOB_CONNECTION_STATE_UNSPECIFIED', run_id='', run_state='DEPLOYMENT_JOB_RUN_STATE_UNSPECIFIED'>, description='', last_updated_timestamp=1758648630081, metrics=None, model_id=None, name='iris-classifier', params=None, run_id='302f649e6f4d4844a4df182aa5eaef94', run_link='', source='models:/m-c88109816e9c49b79924c19ba3f957e7', status='READY', status_message=None, tags={}, user_id='', version='2'>"
      ]
     },
     "execution_count": 12,
     "metadata": {},
     "output_type": "execute_result"
    }
   ],
   "source": [
    "run_id = client.search_runs(experiment_ids='1')[0].info.run_id\n",
    "mlflow.register_model(\n",
    "    model_uri=f\"runs:/{run_id}/models\",\n",
    "    name='iris-classifier'\n",
    ")"
   ]
  },
  {
   "cell_type": "markdown",
   "metadata": {},
   "source": [
    "## **Model Registry vs Tracking: Diferencias Clave**\n",
    "\n",
    "### **MLflow Tracking**\n",
    "- **Propósito**: Seguimiento de experimentos y ejecuciones individuales\n",
    "- **Almacena**: Parámetros, métricas, artifacts y metadatos de cada run\n",
    "- **Uso**: Durante el desarrollo y experimentación\n",
    "- **Organización**: Por experimentos y ejecuciones\n",
    "- **Acceso**: A través de la API de MLflow o interfaz web\n",
    "\n",
    "### **Model Registry**\n",
    "- **Propósito**: Gestión del ciclo de vida completo de modelos en producción\n",
    "- **Almacena**: Versiones de modelos, stages (Staging, Production), transiciones\n",
    "- **Uso**: Para despliegue, versionado y gestión operacional\n",
    "- **Organización**: Por nombre de modelo y versiones\n",
    "- **Acceso**: A través del Model Registry API\n",
    "\n",
    "\n",
    "## **Ventaja Principal del Model Registry**\n",
    "\n",
    "**El Model Registry va más allá del tracking al proporcionar:**\n",
    "\n",
    "1. **Versionado de Modelos**: Mantiene un historial completo de todas las versiones\n",
    "2. **Stages de Despliegue**: Controla qué versión está en Staging vs Production\n",
    "3. **Aprobaciones**: Permite flujos de trabajo para promocionar modelos\n",
    "4. **Trazabilidad**: Conecta cada versión con su experimento original\n",
    "5. **Operaciones**: Facilita rollbacks, comparaciones y auditorías\n",
    "\n",
    "**En resumen**: Tracking es para experimentar, Registry es para producir y mantener modelos en el mundo real."
   ]
  },
  {
   "cell_type": "markdown",
   "metadata": {},
   "source": [
    "-----------"
   ]
  },
  {
   "cell_type": "markdown",
   "metadata": {},
   "source": [
    "## **Diferencias Clave con el Escenario 1**\n",
    "\n",
    "### **Arquitectura**\n",
    "- **Escenario 1**: MLflow local con archivos\n",
    "- **Escenario 2**: Servidor MLflow con base de datos SQLite\n",
    "\n",
    "### **Colaboración**\n",
    "- **Escenario 1**: Uso individual\n",
    "- **Escenario 2**: Múltiples usuarios pueden acceder al mismo servidor\n",
    "\n",
    "### **Persistencia**\n",
    "- **Escenario 1**: Datos almacenados en archivos locales\n",
    "- **Escenario 2**: Metadatos en base de datos SQLite, artifacts en sistema de archivos\n",
    "\n",
    "### **Model Registry**\n",
    "- **Escenario 1**: No disponible\n",
    "- **Escenario 2**: Completamente funcional para gestión de modelos\n",
    "\n",
    "---\n",
    "\n",
    "## **Ventajas del Escenario 2**\n",
    "\n",
    "1. **Colaboración**: Múltiples científicos de datos pueden trabajar en el mismo servidor\n",
    "2. **Persistencia**: Los metadatos se mantienen en una base de datos estructurada\n",
    "3. **Escalabilidad**: Fácil de migrar a bases de datos más robustas (PostgreSQL, MySQL)\n",
    "4. **Model Registry**: Gestión completa del ciclo de vida de los modelos\n",
    "5. **Acceso Web**: Interfaz web disponible en http://127.0.0.1:5000\n",
    "\n",
    "---\n",
    "\n",
    "## **Casos de Uso Apropiados**\n",
    "\n",
    "- **Equipos pequeños**: 2-10 científicos de datos\n",
    "- **Desarrollo local**: Entorno de desarrollo y testing\n",
    "- **Prototipado**: Validación de conceptos antes de producción\n",
    "- **Educación**: Cursos y talleres de MLOps\n",
    "- **Investigación**: Experimentos colaborativos en academia"
   ]
  }
 ],
 "metadata": {
  "kernelspec": {
   "display_name": "mlops udm",
   "language": "python",
   "name": "mlops-udm"
  },
  "language_info": {
   "codemirror_mode": {
    "name": "ipython",
    "version": 3
   },
   "file_extension": ".py",
   "mimetype": "text/x-python",
   "name": "python",
   "nbconvert_exporter": "python",
   "pygments_lexer": "ipython3",
   "version": "3.11.9"
  },
  "orig_nbformat": 4
 },
 "nbformat": 4,
 "nbformat_minor": 2
}
